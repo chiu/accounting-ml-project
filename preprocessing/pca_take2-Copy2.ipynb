{
 "cells": [
  {
   "cell_type": "code",
   "execution_count": 1,
   "metadata": {
    "collapsed": true
   },
   "outputs": [],
   "source": [
    "import os\n",
    "os.environ['SPARK_HOME']='/home/envmodules/lib/spark-2.2.0-bin-hadoop2.7/'\n",
    "\n",
    "import findspark\n",
    "findspark.init()"
   ]
  },
  {
   "cell_type": "code",
   "execution_count": 2,
   "metadata": {
    "collapsed": true
   },
   "outputs": [],
   "source": [
    "# Imports\n",
    "from pyspark.sql import SparkSession\n",
    "from pyspark.sql.functions import isnan, when, count, col\n",
    "\n",
    "from pyspark.ml.feature import VectorAssembler\n",
    "from pyspark.ml.feature import StringIndexer\n",
    "from pyspark.ml.classification import RandomForestClassifier, LogisticRegression\n",
    "from pyspark.ml.evaluation import MulticlassClassificationEvaluator, BinaryClassificationEvaluator\n",
    "from pyspark.mllib.evaluation import MulticlassMetrics"
   ]
  },
  {
   "cell_type": "code",
   "execution_count": 3,
   "metadata": {
    "collapsed": true
   },
   "outputs": [],
   "source": [
    "spark = SparkSession.builder.appName('733').getOrCreate()"
   ]
  },
  {
   "cell_type": "code",
   "execution_count": 4,
   "metadata": {
    "collapsed": true
   },
   "outputs": [],
   "source": [
    "# Using the integrated file to start working on\n",
    "integrated_df = spark.read.csv('/user/vcs/annual_compustat.csv',header=True,inferSchema=True)"
   ]
  },
  {
   "cell_type": "code",
   "execution_count": 5,
   "metadata": {},
   "outputs": [
    {
     "data": {
      "text/plain": [
       "Row(gvkey=1000, datadate=19611231, fyear=1961, indfmt='INDL', consol='C', popsrc='D', datafmt='STD', tic='AE.2', cusip='000032102', conm='A & E PLASTIK PAK INC', acctchg=None, acctstd=None, acqmeth=None, adrr=None, ajex=3.3418, ajp=1.0, bspr=None, compst=None, curcd='USD', curncd='USD', currtr=1.0, curuscn=None, final='Y', fyr=12, ismod=None, ltcm=None, ogm=None, pddur=12, scf=None, src=None, stalt=None, udpl=None, upd=3, apdedate=None, fdate=None, pdate=None, acchg=None, acco=None, acdo=None, aco=None, acodo=None, acominc=None, acox=None, acoxar=None, acqao=None, acqcshi=None, acqgdwl=None, acqic=None, acqintan=None, acqinvt=None, acqlntal=None, acqniintc=None, acqppe=None, acqsc=None, act=None, adpac=None, aedi=None, afudcc=None, afudci=None, aldo=None, am=None, amc=None, amdc=None, amgw=None, ano=None, ao=None, aocidergl=None, aociother=None, aocipen=None, aocisecgl=None, aodo=None, aol2=None, aoloch=None, aox=None, ap=None, apalch=None, apb=None, apc=None, apofs=None, aqa=None, aqc=None, aqd=None, aqeps=None, aqi=None, aqp=None, aqpl1=None, aqs=None, arb=None, arc=None, arce=None, arced=None, arceeps=None, artfs=None, at=None, aul3=None, autxr=None, balr=None, banlr=None, bast=None, bastr=None, batr=None, bcef=None, bclr=None, bcltbl=None, bcnlr=None, bcrbl=None, bct=None, bctbl=None, bctr=None, bkvlps=2.4342, bltbl=None, ca=None, capr1=None, capr2=None, capr3=None, caps=None, capx=None, capxv=None, cb=None, cbi=None, cdpac=None, cdvc=None, ceq=None, ceql=0.37, ceqt=0.37, cfbd=None, cfere=None, cfo=None, cfpdo=None, cga=None, cgri=None, cgti=None, cgui=None, ch=None, che=None, chech=None, chs=None, ci=None, cibegni=None, cicurr=None, cidergl=None, cimii=None, ciother=None, cipen=None, cisecgl=None, citotal=None, cld2=None, cld3=None, cld4=None, cld5=None, clfc=None, clfx=None, clg=None, clis=None, cll=None, cllc=None, clo=None, clrll=None, clt=None, cmp=None, cnltbl=None, cogs=None, cpcbl=None, cpdoi=None, cpnli=None, cppbl=None, cprei=None, crv=None, crvnli=None, cshfd=None, cshi=None, csho=0.152, cshpri=0.152, cshr=None, cshrc=None, cshrp=None, cshrso=None, cshrt=None, cshrw=None, cstk=None, cstkcv=None, cstke=0.0, dbi=None, dc=None, dclo=None, dcom=None, dcpstk=None, dcs=None, dcvsr=None, dcvsub=None, dcvt=None, dd=None, dd1=None, dd2=None, dd3=None, dd4=None, dd5=None, depc=None, dfpac=None, dfs=None, dfxa=None, diladj=None, dilavx=None, dlc=None, dlcch=None, dltis=None, dlto=None, dltp=None, dltr=None, dltsub=None, dltt=0.1, dm=None, dn=None, do=None, donr=None, dp=None, dpacb=None, dpacc=None, dpacli=None, dpacls=None, dpacme=None, dpacnr=None, dpaco=None, dpacre=None, dpact=None, dpc=None, dpdc=None, dpltb=None, dpret=None, dpsc=None, dpstb=None, dptb=None, dptc=None, dptic=None, dpvieb=None, dpvio=None, dpvir=None, drc=None, drci=None, drlt=None, ds=None, dtea=None, dted=None, dteeps=None, dtep=None, dudd=None, dv=None, dvc=0.0, dvdnp=None, dvp=0.0, dvpa=None, dvpd=None, dvpdp=None, dvpibb=None, dvrpiv=None, dvrre=None, dvsco=None, dvt=0.0, dxd2=None, dxd3=None, dxd4=None, dxd5=None, ea=None, ebit=None, ebitda=None, eiea=None, emol=None, emp=None, epsfi=None, epsfx=None, epspi=None, epspx=0.37, esopct=None, esopdlt=None, esopnr=None, esopr=None, esopt=None, esub=None, esubc=None, excadj=None, exre=None, fatb=None, fatc=None, fatd=None, fate=None, fatl=None, fatn=None, fato=None, fatp=None, fca=None, fdfr=None, fea=None, fel=None, ffo=None, ffs=None, fiao=None, fincf=None, fopo=None, fopox=None, fopt=None, fsrco=None, fsrct=None, fuseo=None, fuset=None, gbbl=None, gdwl=None, gdwlam=None, gdwlia=None, gdwlid=None, gdwlieps=None, gdwlip=None, geqrv=None, gla=None, glcea=None, glced=None, glceeps=None, glcep=None, gld=None, gleps=None, glp=None, govgr=None, govtown=None, gp=None, gphbl=None, gplbl=None, gpobl=None, gprbl=None, gptbl=None, gwo=None, hedgegl=None, iaeq=None, iaeqci=None, iaeqmi=None, iafici=None, iafxi=None, iafxmi=None, iali=None, ialoi=None, ialti=None, iamli=None, iaoi=None, iapli=None, iarei=None, iasci=None, iasmi=None, iassi=None, iasti=None, iatci=None, iati=None, iatmi=None, iaui=None, ib=0.05, ibadj=0.053, ibbl=None, ibc=None, ibcom=0.053, ibki=None, ibmii=None, icapt=0.413, idiis=None, idilb=None, idilc=None, idis=None, idist=None, idit=None, idits=None, iire=None, initb=None, intan=0.0, intano=None, intc=None, intpn=None, invch=None, invfg=None, invo=None, invofs=None, invreh=None, invrei=None, invres=None, invrm=None, invt=None, invwip=None, iobd=None, ioi=None, iore=None, ip=None, ipabl=None, ipc=None, iphbl=None, iplbl=None, ipobl=None, iptbl=None, ipti=None, ipv=None, irei=None, irent=None, irii=None, irli=None, irnli=None, irsi=None, iseq=None, iseqc=None, iseqm=None, isfi=None, isfxc=None, isfxm=None, isgr=None, isgt=None, isgu=None, islg=None, islgc=None, islgm=None, islt=None, isng=None, isngc=None, isngm=None, isotc=None, isoth=None, isotm=None, issc=None, issm=None, issu=None, ist=None, istc=None, istm=None, isut=None, itcb=0.0, itcc=None, itci=None, ivaco=None, ivaeq=None, ivao=None, ivch=None, ivgod=None, ivi=None, ivncf=None, ivpt=None, ivst=None, ivstch=None, lcabg=None, lcacl=None, lcacr=None, lcag=None, lcal=None, lcalt=None, lcam=None, lcao=None, lcast=None, lcat=None, lco=None, lcox=None, lcoxar=None, lcoxdr=None, lct=None, lcuacu=None, li=None, lif=None, lifr=None, lloml=None, lloo=None, llot=None, llrci=None, llrcr=None, llwoci=None, llwocr=None, lno=None, lo=None, lol2=None, loxdr=None, lqpl1=None, lrv=None, ls=None, lse=None, lst=None, lt=None, lul3=None, mib=0.0, mibn=None, mibt=0.0, mii=0.0, mrc1=None, mrc2=None, mrc3=None, mrc4=None, mrc5=None, mrct=None, mrcta=None, msa=None, msvrv=None, mtl=None, nat=None, nco=None, nfsr=None, ni=None, niadj=None, nieci=None, niint=None, niintpfc=None, niintpfp=None, niit=None, nim=None, nio=None, nipfc=None, nipfp=None, nit=None, nits=None, nopi=None, nopio=None, np=None, npanl=None, npaore=None, nparl=None, npat=None, nrtxt=None, nrtxtd=None, nrtxteps=None, oancf=None, ob=None, oiadp=None, oibdp=None, opeps=None, opili=None, opincar=None, opini=None, opioi=None, opiri=None, opiti=None, oprepsx=None, optca=None, optdr=None, optex=None, optexd=None, optfvgr=None, optgr=None, optlife=None, optosby=None, optosey=None, optprcby=None, optprcca=None, optprcex=None, optprcey=None, optprcgr=None, optprcwa=None, optrfr=None, optvol=None, palr=None, panlr=None, patr=None, pcl=None, pclr=None, pcnlr=None, pctr=None, pdvc=None, pi=0.1, pidom=None, pifo=None, pll=None, pltbl=None, pnca=None, pncad=None, pncaeps=None, pncia=None, pncid=None, pncieps=None, pncip=None, pncwia=None, pncwid=None, pncwieps=None, pncwip=None, pnlbl=None, pnli=None, pnrsho=None, pobl=None, ppcbl=None, ppegt=None, ppenb=None, ppenc=None, ppenli=None, ppenls=None, ppenme=None, ppennr=None, ppeno=None, ppent=None, ppevbb=None, ppeveb=None, ppevo=None, ppevr=None, pppabl=None, ppphbl=None, pppobl=None, ppptbl=None, prc=None, prca=None, prcad=None, prcaeps=None, prebl=None, pri=None, prodv=None, prsho=None, prstkc=None, prstkcc=None, prstkpc=None, prvt=None, pstk=None, pstkc=None, pstkl=0.0, pstkn=None, pstkr=None, pstkrv=None, ptbl=None, ptran=None, pvcl=None, pvo=None, pvon=None, pvpl=None, pvt=None, pwoi=None, radp=None, ragr=None, rari=None, rati=None, rca=None, rcd=None, rceps=None, rcl=None, rcp=None, rdip=None, rdipa=None, rdipd=None, rdipeps=None, rdp=None, re=None, rea=None, reajo=None, recch=None, recco=None, recd=None, rect=None, recta=None, rectr=None, recub=None, ret=None, reuna=None, reunr=None, revt=0.9, ris=None, rll=None, rlo=None, rlp=None, rlri=None, rlt=None, rmum=None, rpag=None, rra=None, rrd=None, rreps=None, rrp=None, rvbci=None, rvbpi=None, rvbti=None, rvdo=None, rvdt=None, rveqt=None, rvlrv=None, rvno=None, rvnt=None, rvri=None, rvsi=None, rvti=None, rvtxr=None, rvupi=None, rvutx=None, saa=None, sal=None, sale=0.9, salepfc=None, salepfp=None, sbdc=None, sc=None, sco=None, scstkc=None, secu=None, seq=None, seqo=None, seta=None, setd=None, seteps=None, setp=None, siv=None, spce=None, spced=None, spceeps=None, spi=None, spid=None, spieps=None, spioa=None, spiop=None, sppe=None, sppiv=None, spstkc=None, sret=None, srt=None, ssnp=None, sstk=None, stbo=None, stio=None, stkco=None, stkcpa=None, tdc=None, tdscd=None, tdsce=None, tdsg=None, tdslg=None, tdsmm=None, tdsng=None, tdso=None, tdss=None, tdst=None, teq=None, tf=None, tfva=None, tfvce=None, tfvl=None, tie=None, tii=None, tlcf=None, transa=None, tsa=None, tsafc=None, tso=None, tstk=None, tstkc=None, tstkme=None, tstkn=None, tstkp=None, txach=None, txbco=None, txbcof=None, txc=None, txdb=0.0, txdba=None, txdbca=None, txdbcl=None, txdc=None, txdfed=None, txdfo=None, txdi=0.0, txditc=0.0, txds=None, txeqa=None, txeqii=None, txfed=None, txfo=None, txndb=None, txndba=None, txndbl=None, txndbr=None, txo=None, txp=None, txpd=None, txr=None, txs=None, txt=0.05, txtubadjust=None, txtubbegin=None, txtubend=None, txtubmax=None, txtubmin=None, txtubposdec=None, txtubposinc=None, txtubpospdec=None, txtubpospinc=None, txtubsettle=None, txtubsoflimit=None, txtubtxtr=None, txtubxintbs=None, txtubxintis=None, txva=None, txw=None, uaoloch=None, uaox=None, uapt=None, ucaps=None, uccons=None, uceq=None, ucustad=None, udcopres=None, udd=None, udfcc=None, udmb=None, udolt=None, udpco=None, udpfa=None, udvp=None, ufretsd=None, ugi=None, ui=None, uinvt=None, ulcm=None, ulco=None, uniami=None, unl=None, unnp=None, unnpl=None, unopinc=None, unwcc=None, uois=None, uopi=None, uopres=None, updvp=None, upmcstk=None, upmpf=None, upmpfs=None, upmsubp=None, upstk=None, upstkc=None, upstksf=None, urect=None, urectr=None, urevub=None, uspi=None, ustdnc=None, usubdvp=None, usubpstk=None, utfdoc=None, utfosc=None, utme=None, utxfed=None, uwkcapc=None, uxinst=None, uxintd=None, vpac=None, vpo=None, wcap=None, wcapc=None, wcapch=None, wda=None, wdd=None, wdeps=None, wdp=None, xacc=None, xad=None, xago=None, xagt=None, xcom=None, xcomi=None, xdepl=None, xdp=None, xdvre=None, xeqo=None, xi=None, xido=None, xidoc=None, xindb=None, xindc=None, xins=None, xinst=None, xint=None, xintd=None, xintopt=None, xivi=None, xivre=None, xlr=None, xnbi=None, xnf=None, xnins=None, xnitb=None, xobd=None, xoi=None, xopr=None, xoprar=None, xoptd=None, xopteps=None, xore=None, xpp=None, xpr=None, xrd=None, xrent=None, xs=None, xsga=None, xstf=None, xstfo=None, xstfws=None, xt=None, xuw=None, xuwli=None, xuwnli=None, xuwoi=None, xuwrei=None, xuwti=None, exchg=12, cik=None, costat='I', fic='USA', naicsh=None, sich=None, cshtr_c=None, dvpsp_c=None, dvpsx_c=None, prcc_c=None, prch_c=None, prcl_c=None, adjex_c=None, cshtr_f=None, dvpsp_f=None, dvpsx_f=0.0, mkvalt=None, prcc_f=None, prch_f=None, prcl_f=None, adjex_f=3.3418, rank=None, au=None, auop=None, auopic=None, ceoso=None, cfoso=None, acchg_fn=None, afudcc_fn=None, amc_fn=None, am_fn=None, aocidergl_fn=None, aocipen_fn=None, aocisecgl_fn=None, ap_fn=None, aqa_fn=None, aqd_fn=None, aqeps_fn=None, aqp_fn=None, aqs_fn=None, arced_fn=None, arceeps_fn=None, arce_fn=None, artfs_fn=None, at_fn=None, capr1_fn=None, capr3_fn=None, caps_fn=None, capx_fn=None, cdvc_fn=None, clg_fn=None, cogs_fn=None, cshfd_fn=None, csho_fn=None, cshpri_fn=None, cstk_fn=None, dclo_fn=None, dcs_fn=None, dcvsr_fn=None, dcvsub_fn=None, dcvt_fn=None, dd1_fn=None, dd2_fn=None, dd3_fn=None, dd4_fn=None, dd5_fn=None, dd_fn=None, depc_fn=None, dfs_fn=None, dlto_fn=None, dltp_fn=None, dltt_fn=None, dn_fn=None, dpact_fn=None, dpc_fn=None, dptc_fn=None, dptic_fn=None, dp_fn=None, ds_fn=None, dtea_fn=None, dted_fn=None, dteeps_fn=None, dtep_fn=None, dvc_fn=None, dvp_fn=None, dvrre_fn=None, emp_fn=None, epspi_fn=None, epspx_fn=None, esopt_fn=None, esub_fn=None, fca_fn=None, gdwlam_fn=None, gdwlia_fn=None, gdwlid_fn=None, gdwlieps_fn=None, gdwlip_fn=None, gla_fn=None, glcea_fn=None, glced_fn=None, glceeps_fn=None, glcep_fn=None, gld_fn=None, gleps_fn=None, glp_fn=None, hedgegl_fn=None, iarei_fn=None, iati_fn=None, ibadj_fn=None, ib_fn=None, icapt_fn=None, idiis_fn=None, idilc_fn=None, idist_fn=None, idits_fn=None, idit_fn=None, iire_fn=None, invt_fn=None, ip_fn=None, ist_fn=None, itcc_fn=None, itci_fn=None, ivi_fn=None, lcao_fn=None, lcuacu_fn=None, lse_fn=None, mib_fn=None, mrc1_fn=None, mrc2_fn=None, mrc3_fn=None, mrc4_fn=None, mrc5_fn=None, msa_fn=None, ni_fn=None, nrtxtd_fn=None, nrtxteps_fn=None, nrtxt_fn=None, oancf_fn=None, opeps_fn=None, oprepsx_fn=None, optdr_fn=None, optfvgr_fn=None, optlife_fn=None, optprcby_fn=None, optprcca_fn=None, optprcex_fn=None, optprcey_fn=None, optprcgr_fn=None, optprcwa_fn=None, optrfr_fn=None, optvol_fn=None, pcl_fn=None, pdvc_fn=None, pidom_fn=None, pifo_fn=None, pncad_fn=None, pncaeps_fn=None, pnca_fn=None, pncia_fn=None, pncid_fn=None, pncieps_fn=None, pncwia_fn=None, pncwid_fn=None, pncwieps_fn=None, ppegt_fn=None, ppent_fn=None, ppeveb_fn=None, prcad_fn=None, prcaeps_fn=None, prca_fn=None, pstkl_fn=None, pstkrv_fn=None, pvcl_fn=None, ragr_fn=None, rca_fn=None, rcd_fn=None, rceps_fn=None, rcl_fn=None, rcp_fn=None, rdipa_fn=None, rdipd_fn=None, rdipeps_fn=None, rdip_fn=None, recta_fn=None, reuna_fn=None, revt_fn=None, re_fn=None, rra_fn=None, rrd_fn=None, rreps_fn=None, rrp_fn=None, sale_fn=None, secu_fn=None, seta_fn=None, setd_fn=None, seteps_fn=None, setp_fn=None, spced_fn=None, spceeps_fn=None, spce_fn=None, spid_fn=None, spieps_fn=None, spioa_fn=None, spiop_fn=None, stkco_fn=None, stkcpa_fn=None, tdc_fn=None, tdst_fn=None, tie_fn=None, transa_fn=None, tstkc_fn=None, tstk_fn=None, txeqii_fn=None, txfed_fn=None, txfo_fn=None, txo_fn=None, txp_fn=None, txs_fn=None, txt_fn=None, uapt_fn=None, ucaps_fn=None, ui_fn=None, unwcc_fn=None, vpac_fn=None, vpo_fn=None, wda_fn=None, wdd_fn=None, wdeps_fn=None, wdp_fn=None, xintopt_fn=None, xint_fn=None, xlr_fn=None, xoptd_fn=None, xopteps_fn=None, xpr_fn=None, xrd_fn=None, xrent_fn=None, xsga_fn=None, xt_fn=None, acchg_dc=None, acco_dc=None, acdo_dc=None, aco_dc=None, acominc_dc=None, acox_dc=None, acqao_dc=None, acqgdwl_dc=None, acqic_dc=None, acqintan_dc=None, acqinvt_dc=None, acqlntal_dc=None, acqniintc_dc=None, acqppe_dc=None, acqsc_dc=None, adpac_dc=None, aedi_dc=None, aldo_dc=None, am_dc=None, amc_dc=None, amgw_dc=None, ano_dc=None, ao_dc=None, aocidergl_dc=None, aocipen_dc=None, aocisecgl_dc=None, aol2_dc=None, aoloch_dc=None, aox_dc=None, ap_dc=None, apalch_dc=None, apofs_dc=None, aqa_dc=None, aqc_dc=None, aqd_dc=None, aqeps_dc=None, aqi_dc=None, aqp_dc=None, aqpl1_dc=None, aqs_dc=None, arc_dc=None, artfs_dc=None, aul3_dc=None, balr_dc=None, banlr_dc=None, bast_dc=None, bastr_dc=None, batr_dc=None, bcef_dc=None, bclr_dc=None, bcnlr_dc=None, bcrbl_dc=None, bct_dc=None, bctbl_dc=None, bctr_dc=None, bkvlps_dc=None, bltbl_dc=None, ca_dc=None, caps_dc=None, capx_dc=None, capxv_dc=None, cb_dc=None, cbi_dc=None, cdvc_dc=None, ceq_dc=None, ceql_dc=None, ceqt_dc=None, cfbd_dc=None, cfere_dc=None, cfo_dc=None, cfpdo_dc=None, cgri_dc=None, cgti_dc=None, ch_dc=None, che_dc=None, chech_dc=None, chs_dc=None, cicurr_dc=None, cidergl_dc=None, cipen_dc=None, cisecgl_dc=None, cld2_dc=None, cld3_dc=None, cld4_dc=None, cld5_dc=None, clfc_dc=None, clfx_dc=None, clg_dc=None, clis_dc=None, cll_dc=None, cllc_dc=None, cmp_dc=None, cnltbl_dc=None, cpnli_dc=None, cprei_dc=None, crvnli_dc=None, cshfd_dc=None, cshi_dc=None, csho_dc=None, cshpri_dc=None, cshr_dc=None, cshrc_dc=None, cshrt_dc=None, cshrw_dc=None, cstk_dc=None, cstkcv_dc=None, dbi_dc=None, dc_dc=None, dclo_dc=None, dcom_dc=None, dcpstk_dc=None, dcs_dc=None, dcvsr_dc=None, dcvsub_dc=None, dcvt_dc=None, dd_dc=None, dd1_dc=None, dd2_dc=None, dd3_dc=None, dd4_dc=None, dd5_dc=None, depc_dc=None, dfpac_dc=None, dfs_dc=None, dfxa_dc=None, dlc_dc=None, dlcch_dc=None, dltis_dc=None, dlto_dc=None, dltp_dc=None, dltr_dc=None, dltsub_dc=None, dltt_dc=None, dm_dc=None, dn_dc=None, do_dc=None, donr_dc=None, dp_dc=None, dpacb_dc=None, dpacc_dc=None, dpacls_dc=None, dpacme_dc=None, dpacnr_dc=None, dpact_dc=None, dpc_dc=None, dpdc_dc=None, dpsc_dc=None, dptb_dc=None, dptc_dc=None, dptic_dc=None, dpvieb_dc=None, dpvio_dc=None, dpvir_dc=None, drc_dc=None, drlt_dc=None, ds_dc=None, dtea_dc=None, dted_dc=None, dteeps_dc=None, dtep_dc=None, dudd_dc=None, dv_dc=None, dvc_dc=None, dvp_dc=None, dvpa_dc=None, dvpdp_dc=None, dvpibb_dc=None, dvrre_dc=None, dxd2_dc=None, dxd3_dc=None, dxd4_dc=None, dxd5_dc=None, ea_dc=None, ebitda_dc=None, eiea_dc=None, emp_dc=None, epsfi_dc=None, epsfx_dc=None, epspi_dc=None, epspx_dc=None, esopct_dc=None, esub_dc=None, esubc_dc=None, excadj_dc=None, exre_dc=None, fatb_dc=None, fatc_dc=None, fate_dc=None, fatl_dc=None, fatn_dc=None, fato_dc=None, fatp_dc=None, fca_dc=None, fdfr_dc=None, ffs_dc=None, fopo_dc=None, fsrco_dc=None, fuseo_dc=None, gdwl_dc=None, gdwlia_dc=None, gdwlid_dc=None, gdwlieps_dc=None, gdwlip_dc=None, gla_dc=None, glcea_dc=None, glcep_dc=None, gld_dc=None, gleps_dc=None, glp_dc=None, govgr_dc=None, gphbl_dc=None, gplbl_dc=None, gprbl_dc=None, hedgegl_dc=None, iaeq_dc=None, iaeqci_dc=None, iaeqmi_dc=None, iafxi_dc=None, ialti_dc=None, iamli_dc=None, iapli_dc=None, iarei_dc=None, iasci_dc=None, iasti_dc=None, iati_dc=None, ib_dc=None, ibadj_dc=None, ibcom_dc=None, ibki_dc=None, icapt_dc=None, idiis_dc=None, idilb_dc=None, idilc_dc=None, idis_dc=None, idist_dc=None, idit_dc=None, idits_dc=None, iire_dc=None, initb_dc=None, intan_dc=None, intano_dc=None, intc_dc=None, intpn_dc=None, invch_dc=None, invfg_dc=None, invreh_dc=None, invrei_dc=None, invres_dc=None, invrm_dc=None, invt_dc=None, invwip_dc=None, iobd_dc=None, ioi_dc=None, iore_dc=None, ip_dc=None, ipabl_dc=None, ipc_dc=None, iphbl_dc=None, iplbl_dc=None, ipti_dc=None, ipv_dc=None, irei_dc=None, irent_dc=None, irli_dc=None, irnli_dc=None, irsi_dc=None, iseq_dc=None, iseqc_dc=None, iseqm_dc=None, isfi_dc=None, isfxc_dc=None, isfxm_dc=None, isgt_dc=None, islg_dc=None, islgc_dc=None, islgm_dc=None, isng_dc=None, isngc_dc=None, isngm_dc=None, issc_dc=None, issm_dc=None, issu_dc=None, ist_dc=None, itcb_dc=None, itcc_dc=None, itci_dc=None, ivaeq_dc=None, ivao_dc=None, ivch_dc=None, ivi_dc=None, ivpt_dc=None, ivst_dc=None, ivstch_dc=None, lcabg_dc=None, lcacl_dc=None, lcacr_dc=None, lcag_dc=None, lcal_dc=None, lcam_dc=None, lcat_dc=None, lco_dc=None, lcox_dc=None, lct_dc=None, lcuacu_dc=None, lifr_dc=None, llrcr_dc=None, llwocr_dc=None, lno_dc=None, lo_dc=None, lol2_dc=None, lqpl1_dc=None, lt_dc=None, lul3_dc=None, mib_dc=None, mibn_dc=None, mibt_dc=None, mii_dc=None, mrc1_dc=None, mrc2_dc=None, mrc3_dc=None, mrc4_dc=None, mrc5_dc=None, mrct_dc=None, mrcta_dc=None, msa_dc=None, nat_dc=None, nco_dc=None, ni_dc=None, nieci_dc=None, niintpfc_dc=None, niintpfp_dc=None, nio_dc=None, nipfc_dc=None, nipfp_dc=None, nit_dc=None, nopi_dc=None, nopio_dc=None, np_dc=None, npaore_dc=None, nparl_dc=None, nrtxt_dc=None, nrtxtd_dc=None, nrtxteps_dc=None, ob_dc=None, oiadp_dc=None, oibdp_dc=None, opili_dc=None, opini_dc=None, opioi_dc=None, opiri_dc=None, optca_dc=None, optexd_dc=None, optgr_dc=None, optosey_dc=None, optprcca_dc=None, optprcex_dc=None, optprcgr_dc=None, palr_dc=None, panlr_dc=None, patr_dc=None, pcl_dc=None, pclr_dc=None, pcnlr_dc=None, pctr_dc=None, pdvc_dc=None, pi_dc=None, pidom_dc=None, pifo_dc=None, pll_dc=None, pltbl_dc=None, pnlbl_dc=None, pnrsho_dc=None, pobl_dc=None, ppegt_dc=None, ppenb_dc=None, ppenc_dc=None, ppenli_dc=None, ppenls_dc=None, ppenme_dc=None, ppennr_dc=None, ppeno_dc=None, ppent_dc=None, ppevbb_dc=None, ppeveb_dc=None, ppevo_dc=None, ppevr_dc=None, ppphbl_dc=None, prebl_dc=None, pri_dc=None, prodv_dc=None, prsho_dc=None, prstkc_dc=None, prstkcc_dc=None, prstkpc_dc=None, pstk_dc=None, pstkc_dc=None, pstkl_dc=None, pstkn_dc=None, pstkr_dc=None, pstkrv_dc=None, ptran_dc=None, pvon_dc=None, pvpl_dc=None, pvt_dc=None, pwoi_dc=None, ragr_dc=None, rari_dc=None, rati_dc=None, rca_dc=None, rcd_dc=None, rceps_dc=None, rcl_dc=None, rcp_dc=None, rdip_dc=None, rdipa_dc=None, rdipd_dc=None, re_dc=None, rea_dc=None, reajo_dc=None, recch_dc=None, recco_dc=None, recd_dc=None, rect_dc=None, recta_dc=None, rectr_dc=None, reunr_dc=None, ris_dc=None, rll_dc=None, rlp_dc=None, rlri_dc=None, rlt_dc=None, rpag_dc=None, rvbci_dc=None, rvbti_dc=None, rvdt_dc=None, rveqt_dc=None, rvri_dc=None, rvsi_dc=None, rvti_dc=None, rvupi_dc=None, saa_dc=None, sal_dc=None, salepfc_dc=None, salepfp_dc=None, sbdc_dc=None, sc_dc=None, scstkc_dc=None, secu_dc=None, seq_dc=None, seta_dc=None, setd_dc=None, seteps_dc=None, setp_dc=None, siv_dc=None, spi_dc=None, spid_dc=None, spieps_dc=None, spioa_dc=None, spiop_dc=None, sppe_dc=None, sppiv_dc=None, spstkc_dc=None, ssnp_dc=None, sstk_dc=None, stbo_dc=None, stio_dc=None, stkco_dc=None, stkcpa_dc=None, tdc_dc=None, tdscd_dc=None, tdsce_dc=None, tdsg_dc=None, tdslg_dc=None, tdsmm_dc=None, tdsng_dc=None, tdst_dc=None, tf_dc=None, tfva_dc=None, tfvce_dc=None, tfvl_dc=None, tlcf_dc=None, transa_dc=None, tstk_dc=None, tstkc_dc=None, tstkme_dc=None, tstkn_dc=None, tstkp_dc=None, txach_dc=None, txbco_dc=None, txbcof_dc=None, txc_dc=None, txdb_dc=None, txdba_dc=None, txdbca_dc=None, txdbcl_dc=None, txdc_dc=None, txdfed_dc=None, txdfo_dc=None, txdi_dc=None, txditc_dc=None, txds_dc=None, txeqa_dc=None, txfed_dc=None, txfo_dc=None, txndb_dc=None, txndba_dc=None, txndbl_dc=None, txndbr_dc=None, txp_dc=None, txpd_dc=None, txr_dc=None, txs_dc=None, txt_dc=None, txtubadjust_dc=None, txtubbegin_dc=None, txtubend_dc=None, txtubmax_dc=None, txtubmin_dc=None, txtubposdec_dc=None, txtubposinc_dc=None, txtubpospdec_dc=None, txtubpospinc_dc=None, txtubsettle_dc=None, txtubsoflimit_dc=None, txtubtxtr_dc=None, txtubxintbs_dc=None, txtubxintis_dc=None, txw_dc=None, uaoloch_dc=None, uaox_dc=None, uapt_dc=None, ucaps_dc=None, uccons_dc=None, ucustad_dc=None, udd_dc=None, udfcc_dc=None, udmb_dc=None, udpco_dc=None, udvp_dc=None, ui_dc=None, uinvt_dc=None, unopinc_dc=None, unwcc_dc=None, uopi_dc=None, uopres_dc=None, updvp_dc=None, upmcstk_dc=None, upmpf_dc=None, upmpfs_dc=None, upmsubp_dc=None, upstk_dc=None, upstkc_dc=None, upstksf_dc=None, urect_dc=None, urectr_dc=None, urevub_dc=None, uspi_dc=None, ustdnc_dc=None, usubdvp_dc=None, usubpstk_dc=None, utme_dc=None, utxfed_dc=None, uwkcapc_dc=None, uxinst_dc=None, uxintd_dc=None, vpac_dc=None, vpo_dc=None, wcapc_dc=None, wda_dc=None, wdd_dc=None, wdeps_dc=None, wdp_dc=None, xacc_dc=None, xad_dc=None, xago_dc=None, xagt_dc=None, xcom_dc=None, xcomi_dc=None, xdepl_dc=None, xdp_dc=None, xdvre_dc=None, xeqo_dc=None, xi_dc=None, xido_dc=None, xidoc_dc=None, xindb_dc=None, xindc_dc=None, xins_dc=None, xinst_dc=None, xint_dc=None, xintd_dc=None, xintopt_dc=None, xivi_dc=None, xivre_dc=None, xlr_dc=None, xnins_dc=None, xnitb_dc=None, xobd_dc=None, xoi_dc=None, xoptd_dc=None, xopteps_dc=None, xore_dc=None, xpp_dc=None, xpr_dc=None, xrd_dc=None, xrent_dc=None, xs_dc=None, xsga_dc=None, xstf_dc=None, xstfo_dc=None, xuw_dc=None, xuwli_dc=None, xuwnli_dc=None, xuwoi_dc=None, xuwrei_dc=None, add1=None, add2=None, add3=None, add4=None, addzip=None, busdesc=None, city=None, conml='A & E Plastik Pak Inc', county=None, dlrsn='09', ein=None, fax=None, fyrc='12', ggroup=None, gind=None, gsector=None, gsubind=None, idbflag='D', incorp=None, loc='USA', naics=None, phone=None, prican=None, prirow=None, priusa='01', sic='3089', spcindcd=325, spcseccd=978, spcsrc=None, state=None, stko='0', weburl=None, dldte='19780630', ipodate=None)"
      ]
     },
     "execution_count": 5,
     "metadata": {},
     "output_type": "execute_result"
    }
   ],
   "source": [
    "integrated_df.first()"
   ]
  },
  {
   "cell_type": "code",
   "execution_count": null,
   "metadata": {
    "collapsed": true
   },
   "outputs": [],
   "source": [
    "# integrated_df.count()"
   ]
  },
  {
   "cell_type": "code",
   "execution_count": null,
   "metadata": {
    "collapsed": true
   },
   "outputs": [],
   "source": [
    "ls = ['ACQ', 'CONM', 'ACCHG', 'ACO', 'ACOMINC', 'ACQCSHI', 'ACQGDWL', 'ACQINTAN', 'ACQLNTAL', 'ACT', 'AMGW','AQ','AP','AQC','ARC','AT','AU','AUOP','AUOPIC','BKVLPS','CAPX','CDVC','CEQ','CGA','CHE','CHECH','CI','CIMII','CLD2','CLD3','CLD4','CLD5','CLT','COGS','CSHI','CURNCD','DCOM','DCPSTK','DCVT','DEPC','DLTT','DM','DO','DP','DPACLS','DRC','DRLT','DV','DVC','DVPA','DVPDP','DVPSP_F','EBIT','EBITDA','EMOL','EMP','EPSFI','EPSPI','ESOPCT','ESOPDLT','EXCHG','EXRE','FATB','FATE','FATN','FATL','FATO','FCA','FEL','FIC','FINCF','FOPT','FYEAR','FYR','GDWL','GDWLAM','GDWLIA','GLA','GP','GWO','HEDGEGL','ICAPT','IDBFLAG','IDIIS','IDILC','IDIT','INTAN','INTC','INVCH','INCFG','INVOFS','INVRM','INVT','INVWIP','IPODATE','ISEQ','ISEQC','ISEQM','ISFI','ISGR','ISGU','ITCB','IVCH','IVNCF','LCT','LCUACU','LIFR','LLRCI','LLWOCI','LT','MIB','MIBT','MII','MKVALT','NAICS','NI','NIINT','NIINTPFC','NIINTPFP','NOPIO','NP','NPANL','NPAT','NRTXT','OANCF','OB','OIADP','OIBDP','OPEPS','OPINI','OPITI','OPREPSX','OPTCA','OPTEX','OPTEXD','OPTFVGR','OPTGR','OPTPRCCA','OPTPRCEX','OPTPRCEY','OPTPRCGR','OPTPRCWA','OPTVOL','PCL','PI','PIFO','PLL','PNCA','PNCIA','PPEGT','PPENB','PPENC','PPENLS','PPENNR','PPENT','PPEVO','PPEVR','PRCC_F','PRCH_F','PRICAN','PRIROW','PRIUSA','PRODV','PRSTKCC','PRSTKPC','PSTKC','PVCL','PVO','PVPL','PVT','RANK','RCA','RDIP','RE','REA','REAJO','RECCH','RECT','RECTA','REUNA','REVT','RLL','RMUM','RPAG','RVLRV','RVTI','SALE','SALEPFC','SALEPFP','SCO','SCSTKC','SEQ','SIC','SIV','SPCE','SPCINDCD','SPCSECCD','SPCSRC','SPI','SPPE','SPPIV','SPSTKC','SRET','SSNP','STBO','STIO','STKCO','STKO','TDC','TEQ','TFVA','TFVCE','TFVL','TIC','TLCF','TRANSA','TSA','TSTKC','TSTKP','TXC','TXDB','TXDBA','TXDBCA','TXDBCL','TXFED','TXFO','TXPD','TXR','TXT','TXTUBXINTBS','TXTUBXINTIS','VPAC','VPO','WCAP','WCAPC','WCAPCH','WDA','XACC','XAD','XAGO','XAGT','XCOM','XDP','XEQO','XI','XIDO','XINST','XINT','XINTD','XINTOPT','XLR','XOPR','XOPRAR','XPP','XPR','XRD','XRENT','XS','XSGA','XSTF','XSTFO','XSTFWS','XT']\n",
    "ls = [x.lower() for x in ls]\n",
    "annual_filtered = integrated_df.select([c for c in integrated_df.columns if c in ls])"
   ]
  },
  {
   "cell_type": "code",
   "execution_count": null,
   "metadata": {},
   "outputs": [],
   "source": [
    "integrated_df.columns"
   ]
  },
  {
   "cell_type": "code",
   "execution_count": null,
   "metadata": {},
   "outputs": [],
   "source": [
    "annual_filtered.select('acq').distinct().show()"
   ]
  },
  {
   "cell_type": "code",
   "execution_count": null,
   "metadata": {},
   "outputs": [],
   "source": [
    "# Using nullcounts to filter columns to keep\n",
    "nullcounts = annual_filtered.select([count(when(isnan(c) | col(c).isNull(), c)).alias(c) for c in annual_filtered.columns])\n",
    "nc = list(nullcounts.first())\n",
    "# Extracting out an industrial segment and modelling on it instead of the whole dataset\n",
    "\n",
    "# Services-packaged software category selection (from EDA)\n",
    "services_prepacked_software = annual_filtered.filter(annual_filtered.sic == '7372')\n",
    "print('Total records in integrated file: ', annual_filtered.count())\n",
    "print(services_prepacked_software.show())\n",
    "print('Number of records in Services-packaged software industrial category: ', services_prepacked_software.count())\n",
    "# Reusing preprocessing steps implemented by Vincent\n",
    "some_dict = {}\n",
    "for x in services_prepacked_software.columns:\n",
    "    some_dict[x] = 0\n",
    "nwdf = services_prepacked_software.fillna(some_dict)\n",
    "good_columns = []\n",
    "for i in range(0, len(nc)):\n",
    "    if nc[i] == 0:\n",
    "        good_columns.append(i)\n",
    "great_columns = [nwdf.columns[i] for i in good_columns]\n",
    "great_columns.append('rea')\n",
    "nwdf = nwdf.fillna(some_dict)\n",
    "non_string_columns = [k for (k,v) in nwdf.dtypes if v != 'string']\n",
    "nwdf_no_strings = nwdf.select(*non_string_columns)\n",
    "feature_columns = [item for item in nwdf_no_strings.columns if item not in ['acq', 'acchg', 'rea', 'features']]"
   ]
  },
  {
   "cell_type": "code",
   "execution_count": null,
   "metadata": {},
   "outputs": [],
   "source": [
    "nwdf_no_strings.limit(10).show()"
   ]
  },
  {
   "cell_type": "code",
   "execution_count": null,
   "metadata": {
    "collapsed": true
   },
   "outputs": [],
   "source": [
    "nwdf_no_strings.select('')"
   ]
  },
  {
   "cell_type": "code",
   "execution_count": null,
   "metadata": {
    "collapsed": true
   },
   "outputs": [],
   "source": [
    "assembler = VectorAssembler(inputCols=feature_columns, outputCol=\"features\")\n",
    "final_df = assembler.transform(nwdf_no_strings)\n",
    "final_final_df = final_df.drop(*feature_columns)\n",
    "final_final_df = final_final_df.withColumn('boolean_label', final_final_df.rea != 0 & final_final_df.acchg == 0 & final_final_df.acq == 0 )\n",
    "print('Class distribution: ', final_final_df.groupBy('boolean_label').count().show())\n",
    "final_final_df = final_final_df.withColumn('label', final_final_df.boolean_label.cast('float'))\n",
    "final_final_df = final_final_df.drop('rea').drop('boolean_label')\n",
    "final_final_df = final_final_df.cache()\n",
    "print(final_final_df.show())"
   ]
  },
  {
   "cell_type": "code",
   "execution_count": null,
   "metadata": {
    "collapsed": true
   },
   "outputs": [],
   "source": [
    "# Evaluators\n",
    "evaluator = MulticlassClassificationEvaluator(metricName = 'accuracy')\n",
    "eval = BinaryClassificationEvaluator()"
   ]
  },
  {
   "cell_type": "code",
   "execution_count": null,
   "metadata": {
    "collapsed": true
   },
   "outputs": [],
   "source": [
    "from pyspark.sql.functions import udf\n",
    "from pyspark.sql.types import FloatType"
   ]
  },
  {
   "cell_type": "code",
   "execution_count": null,
   "metadata": {
    "collapsed": true
   },
   "outputs": [],
   "source": [
    "def balanceweights(df):\n",
    "    minoritynum=df.filter(df['label']==1).count()\n",
    "    datasetcount=df.count()\n",
    "    balancingratio=(datasetcount-minoritynum)/datasetcount\n",
    "    def weights(k):\n",
    "        if(k==1):\n",
    "            minweights=1.0*balancingratio\n",
    "            return minweights\n",
    "        else:\n",
    "            majorityweigths = (1.0*(1-balancingratio))\n",
    "            return majorityweigths\n",
    "    awesome = udf(weights, FloatType())\n",
    "    df = df.withColumn('weights', awesome(df['label']))\n",
    "    print(df.show())\n",
    "    return df\n",
    "    "
   ]
  },
  {
   "cell_type": "code",
   "execution_count": null,
   "metadata": {
    "collapsed": true
   },
   "outputs": [],
   "source": [
    "from pyspark.ml.feature import PCA\n",
    "from pyspark.ml.linalg import Vectors\n",
    "final_final_df = final_final_df.drop('pcaFeatures')\n",
    "pca = PCA(k=8, inputCol=\"features\", outputCol=\"pcaFeatures\")\n",
    "model = pca.fit(final_final_df)\n",
    "final_final_df = model.transform(final_final_df) #.select(\"pcaFeatures\")\n",
    "final_final_df.show(truncate=True)"
   ]
  },
  {
   "cell_type": "code",
   "execution_count": null,
   "metadata": {
    "collapsed": true
   },
   "outputs": [],
   "source": [
    "model.explainedVariance"
   ]
  },
  {
   "cell_type": "code",
   "execution_count": null,
   "metadata": {
    "collapsed": true
   },
   "outputs": [],
   "source": [
    "len(model.explainedVariance)"
   ]
  },
  {
   "cell_type": "code",
   "execution_count": null,
   "metadata": {
    "collapsed": true
   },
   "outputs": [],
   "source": [
    "len([x for x in list(model.explainedVariance) if x > 0.001])"
   ]
  },
  {
   "cell_type": "code",
   "execution_count": null,
   "metadata": {
    "collapsed": true
   },
   "outputs": [],
   "source": [
    "final_final_df.first()"
   ]
  },
  {
   "cell_type": "code",
   "execution_count": null,
   "metadata": {
    "collapsed": true
   },
   "outputs": [],
   "source": [
    "new_final_df = balanceweights(final_final_df)  "
   ]
  },
  {
   "cell_type": "code",
   "execution_count": null,
   "metadata": {
    "collapsed": true
   },
   "outputs": [],
   "source": [
    "train, test = new_final_df.randomSplit([0.7, 0.3], seed=12345)"
   ]
  },
  {
   "cell_type": "code",
   "execution_count": null,
   "metadata": {
    "collapsed": true
   },
   "outputs": [],
   "source": [
    "logistic = LogisticRegression(regParam=0.1, labelCol=\"label\", featuresCol='pcaFeatures', weightCol='weights')"
   ]
  },
  {
   "cell_type": "code",
   "execution_count": null,
   "metadata": {
    "collapsed": true
   },
   "outputs": [],
   "source": [
    "trained_model = logistic.fit(train)\n",
    "res = trained_model.transform(test)\n",
    "metrics = MulticlassMetrics(res.select(['label', 'prediction']).rdd)"
   ]
  },
  {
   "cell_type": "code",
   "execution_count": null,
   "metadata": {
    "collapsed": true
   },
   "outputs": [],
   "source": [
    "print('Accuracy on test set: ', evaluator.evaluate(res))\n",
    "print('Precision on test data: ', metrics.precision())\n",
    "print('Recall on test data: ', metrics.recall())\n",
    "print('F1 Score on test data: ', metrics.fMeasure())\n",
    "print('Area under ROC curve: ', eval.evaluate(res))"
   ]
  },
  {
   "cell_type": "code",
   "execution_count": null,
   "metadata": {
    "collapsed": true
   },
   "outputs": [],
   "source": [
    "res.show()"
   ]
  },
  {
   "cell_type": "code",
   "execution_count": null,
   "metadata": {
    "collapsed": true
   },
   "outputs": [],
   "source": [
    "res.groupby('prediction').count().show()"
   ]
  },
  {
   "cell_type": "code",
   "execution_count": null,
   "metadata": {
    "collapsed": true
   },
   "outputs": [],
   "source": [
    "res = res.withColumn('correct', res.label == res.prediction)\n",
    "\n",
    "#positive class (misstatements)\n",
    "true_positives_df = res.filter(res.prediction == 1.0).filter(res.label == 1.0)\n",
    "ground_truth_positives_df = res.filter(res.label == 1.0)\n",
    "misstatement_recall = true_positives_df.count()/ground_truth_positives_df.count()\n",
    "\n",
    "new_all_predicted_positive_df = res.filter(res.prediction == 1.0)\n",
    "misstatement_precision = true_positives_df.count()/new_all_predicted_positive_df.count()\n",
    "\n",
    "#negative class (non misstatements)\n",
    "true_negative_df = res.filter(res.prediction == 0.0).filter(res.label == 0.0)\n",
    "ground_truth_negative_df = res.filter(res.label == 0.0)\n",
    "non_misstatement_recall = true_negative_df.count()/ground_truth_negative_df.count()\n",
    "\n",
    "new_all_predicted_negative_df = res.filter(res.prediction == 0.0)\n",
    "non_misstatement_precision = true_negative_df.count()/new_all_predicted_negative_df.count()"
   ]
  },
  {
   "cell_type": "code",
   "execution_count": null,
   "metadata": {
    "collapsed": true
   },
   "outputs": [],
   "source": [
    "print('misstatement precision is {}, misstatement recall is {}'.format(misstatement_precision, misstatement_recall))\n",
    "print('non-misstatement precision is {}, non-misstatement recall is {}'.format(non_misstatement_precision, non_misstatement_recall))"
   ]
  },
  {
   "cell_type": "code",
   "execution_count": null,
   "metadata": {
    "collapsed": true
   },
   "outputs": [],
   "source": []
  },
  {
   "cell_type": "code",
   "execution_count": null,
   "metadata": {
    "collapsed": true
   },
   "outputs": [],
   "source": []
  },
  {
   "cell_type": "code",
   "execution_count": null,
   "metadata": {
    "collapsed": true
   },
   "outputs": [],
   "source": []
  }
 ],
 "metadata": {
  "kernelspec": {
   "display_name": "Python 3",
   "language": "python",
   "name": "python3"
  },
  "language_info": {
   "codemirror_mode": {
    "name": "ipython",
    "version": 3
   },
   "file_extension": ".py",
   "mimetype": "text/x-python",
   "name": "python",
   "nbconvert_exporter": "python",
   "pygments_lexer": "ipython3",
   "version": "3.5.2"
  }
 },
 "nbformat": 4,
 "nbformat_minor": 2
}
