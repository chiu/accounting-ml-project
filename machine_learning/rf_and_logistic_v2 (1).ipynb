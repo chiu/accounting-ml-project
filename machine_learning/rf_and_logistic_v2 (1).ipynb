{
 "cells": [
  {
   "cell_type": "code",
   "execution_count": 14,
   "metadata": {},
   "outputs": [
    {
     "name": "stdout",
     "output_type": "stream",
     "text": [
      "Total records in integrated file:  505848\n",
      "+-----+-----+--------------------+------+-----+-------+-------+-------+-------+--------+--------+--------+----+-------+------+----+--------+-------+-------+-------+--------+----+-------+-------+------+-----+-----+-----+-----+----+----+-------+----+------+------+-------+--------+-------+-----+-------+------+-----+----+-------+-------+----+-----+--------+--------+----+------+-----+-----+------+-------+------+--------+--------+------+----+------+------+----+--------+-------+-------+------+------+-----+--------+----+-------+--------+-----+-----+-----+-------+------+--------+------+-------+-------+------+----+-----+-----+----+----+----+-------+-------+--------+-------+------+-----+-----+------+---------+-----+-----+------+-------+-----+--------+--------+------+-------+-----+----+-----+--------+----+--------+--------+-----+-----+-----+-------+-----+-----+------+-------+-----+--------+--------+--------+--------+--------+------+----+--------+------+----+-------+------+--------+-------+-------+------+------+--------+------+------+-----+-------+-------+-----+----+----+----+----+------+----+--------+------+-------+--------+-------+-------+--------+--------+----+----+----+-----+----+--------+-------+-------+----+------+--------+-----+-------+-------+------+------+------+----+----+----+----+-----+-------+------+----+-----+----+-------+------+----+------+-----+-------+--------+------+------+------+-------+------+-------+-----+-------+-----------+-----------+----+----+---------+-------+------+------+-------+-------+----+----+----+-------+----+-----+-----+-----+-------+-----+-------+-------+--------+------+------+------+------+------+----+-------+----+-----+------+----+-----+---+-------+-------+------+-------+----+----+----+------+-------+------+------+------+------+----+--------+--------+------+----+-------+------------+-----+\n",
      "|fyear|  tic|                conm|curncd|acchg|    aco|acominc|acqcshi|acqgdwl|acqintan|acqlntal|     act|amgw|     ap|   aqc| arc|      at| bkvlps|   capx|   cdvc|     ceq| cga|    che|  chech|    ci|cimii| cld2| cld3| cld4|cld5| clt|   cshi|dcom|dcpstk|  dcvt|   depc|    dltt|     dm|   do|     dp|dpacls|  drc|drlt|     dv|    dvc|dvpa|dvpdp|    ebit|  ebitda|emol|   emp|epsfi|epspi|esopct|esopdlt|  exre|    fatb|    fate|  fatl|fatn|  fato|   fca| fel|   fincf|   fopt|   gdwl|gdwlam|gdwlia|  gla|      gp| gwo|hedgegl|   icapt|idiis|idilc| idit|  intan|  intc|   invch|invofs|  invrm|   invt|invwip|iseq|iseqc|iseqm|isfi|isgr|isgu|   itcb|   ivch|   ivncf|    lct|lcuacu| lifr|llrci|llwoci|       lt|  mib| mibt|   mii|     ni|niint|niintpfc|niintpfp| nopio|     np|npanl|npat|nrtxt|   oancf|  ob|   oiadp|   oibdp|opeps|opini|opiti|oprepsx|optca|optex|optexd|optfvgr|optgr|optprcca|optprcex|optprcey|optprcgr|optprcwa|optvol| pcl|      pi|  pifo| pll|   pnca| pncia|   ppegt|  ppenb|  ppenc|ppenls|ppennr|   ppent| ppevo| ppevr|prodv|prstkcc|prstkpc|pstkc|pvcl| pvo|pvpl| pvt|   rca|rdip|      re|   rea|  reajo|   recch|   rect|  recta|   reuna|    revt| rll|rmum|rpag|rvlrv|rvti|    sale|salepfc|salepfp| sco|scstkc|     seq|  siv|   spce|    spi|  sppe| sppiv|spstkc|sret|ssnp|stbo|stio|stkco|    tdc|   teq|tfva|tfvce|tfvl|   tlcf|transa| tsa| tstkc|tstkp|    txc|    txdb| txdba|txdbca|txdbcl|  txfed|  txfo|   txpd|  txr|    txt|txtubxintbs|txtubxintis|vpac| vpo|     wcap|  wcapc|wcapch|   wda|   xacc|    xad|xago|xagt|xcom|    xdp|xeqo|   xi| xido|xinst|   xint|xintd|xintopt|    xlr|    xopr|xoprar|   xpp|   xpr|   xrd| xrent|  xs|   xsga|xstf|xstfo|xstfws|  xt|exchg|fic|dvpsp_f| mkvalt|prcc_f| prch_f|rank|  au|auop|auopic|idbflag| naics|prican|prirow|priusa| sic|spcindcd|spcseccd|spcsrc|stko|ipodate|eps_avg_ibes|label|\n",
      "+-----+-----+--------------------+------+-----+-------+-------+-------+-------+--------+--------+--------+----+-------+------+----+--------+-------+-------+-------+--------+----+-------+-------+------+-----+-----+-----+-----+----+----+-------+----+------+------+-------+--------+-------+-----+-------+------+-----+----+-------+-------+----+-----+--------+--------+----+------+-----+-----+------+-------+------+--------+--------+------+----+------+------+----+--------+-------+-------+------+------+-----+--------+----+-------+--------+-----+-----+-----+-------+------+--------+------+-------+-------+------+----+-----+-----+----+----+----+-------+-------+--------+-------+------+-----+-----+------+---------+-----+-----+------+-------+-----+--------+--------+------+-------+-----+----+-----+--------+----+--------+--------+-----+-----+-----+-------+-----+-----+------+-------+-----+--------+--------+--------+--------+--------+------+----+--------+------+----+-------+------+--------+-------+-------+------+------+--------+------+------+-----+-------+-------+-----+----+----+----+----+------+----+--------+------+-------+--------+-------+-------+--------+--------+----+----+----+-----+----+--------+-------+-------+----+------+--------+-----+-------+-------+------+------+------+----+----+----+----+-----+-------+------+----+-----+----+-------+------+----+------+-----+-------+--------+------+------+------+-------+------+-------+-----+-------+-----------+-----------+----+----+---------+-------+------+------+-------+-------+----+----+----+-------+----+-----+-----+-----+-------+-----+-------+-------+--------+------+------+------+------+------+----+-------+----+-----+------+----+-----+---+-------+-------+------+-------+----+----+----+------+-------+------+------+------+------+----+--------+--------+------+----+-------+------------+-----+\n",
      "| 2005| null|  THISTLE MINING INC|   USD|  0.0|  2.381|    0.0|   null|   null|    null|    null|   13.99|null|   6.35|   0.0|null|  93.062|-0.2531| 11.808|   null|  -11.68|null|  5.771|  2.691|  null| null|  0.0|  0.0|  0.0| 0.0|null| 46.152| 0.0|   0.0|   0.0|   null|  69.246|   null|  0.0|  7.296|  null|  0.0| 0.0|    0.0|    0.0| 0.0| null| -27.079| -19.783|null|  null|-0.78|-0.78|   0.0|    0.0|   0.0|    null|    null|  null|null|  null|-0.467|null|  41.643|   null|    0.0|  null|  null| null| -16.307|null|   null|  57.566| null| null| 0.19|    0.0|   0.0|  -0.742|  null|  1.301|  4.567| 3.266|null| null| null|null|null|null|    0.0|    0.0|  -13.67| 23.909|  null|  0.0| null|  null|  104.742|  0.0|  0.0|   0.0|-36.171| null|    null|    null|-1.272|    0.0| null|null| null| -25.282|null| -27.079| -19.783|-0.76| null| null|  -0.76|  0.0|  0.0|   0.0|   null|2.882|    null|    null|     0.2|     0.2|    null|  19.0|null| -36.502|  null|null|    0.0|  null|  90.696|   null|   null|  null|  null|  78.722|  null|  null| null|   null|   null|  0.0|null|null|null|null|-1.548| 0.0| -19.408|38.485|    0.0|   0.441|  1.271|    0.0| -19.408|  93.349|null|null|null| null|null|  93.349|   null|   null|null|  null|  -11.68|0.343| -36.17| -2.381| 0.237|   0.0|  null|null|null|null|null|0.003|   null|  null|null| null|null|157.424|  null|null|   0.0|  0.0|   null|   0.836|   0.0|   0.0|   0.0|   null|  null|  1.121|  0.0| -0.331|       null|       null|null|null|   -9.919|   null|  null|  null| 12.146|   null|null|null|null|   null|null|  0.0|  0.0| null|   5.96| null|   null|   null| 113.132|  null|  null|  null|  null| 0.242|null|  3.476|null| null|  null|null|   19|CAN|    0.0|   null|  null|   null|   1|   6|   1|     0|      D|212221|   01C|  null|    01|1040|     265|     970|  null|   0|   null|        null|  0.0|\n",
      "| 2005| null| LEADER CAPITAL CORP|   CAD| null|   null|   null|   null|   null|    null|    null|    null|null|   null|  null|null|    null|   null|   null|   null|    null|null|   null|   null|  null| null| null| null| null|null|null|   null|null|  null|  null|   null|    null|   null| null|   null|  null| null|null|   null|   null|null| null|    null|    null|null|  null| null| null|  null|   null|  null|    null|    null|  null|null|  null|  null|null|    null|   null|   null|  null|  null| null|    null|null|   null|    null| null| null| null|   null|  null|    null|  null|   null|   null|  null|null| null| null|null|null|null|   null|   null|    null|   null|  null| null| null|  null|     null| null| null|  null|   null| null|    null|    null|  null|   null| null|null| null|    null|null|    null|    null| null| null| null|   null| null| null|  null|   null| null|    null|    null|    null|    null|    null|  null|null|    null|  null|null|   null|  null|    null|   null|   null|  null|  null|    null|  null|  null| null|   null|   null| null|null|null|null|null|  null|null|    null|  null|   null|    null|   null|   null|    null|    null|null|null|null| null|null|    null|   null|   null|null|  null|    null| null|   null|   null|  null|  null|  null|null|null|null|null| null|   null|  null|null| null|null|   null|  null|null|  null| null|   null|    null|  null|  null|  null|   null|  null|   null| null|   null|       null|       null|null|null|     null|   null|  null|  null|   null|   null|null|null|null|   null|null| null| null| null|   null| null|   null|   null|    null|  null|  null|  null|  null|  null|null|   null|null| null|  null|null|   20|CAN|    0.0|   null|  0.55|    1.8|null|null|null|  null|      D|237210|   01C|  null|    01|6552|    null|    null|  null|null|   null|        null|  0.0|\n",
      "| 2005| null|CANADEX RESOURCES...|   CAD|  0.0|  0.287|    0.0|   null|   null|    null|    null|   2.912|null|  1.024|   0.0|null|  37.952|  2.752| 10.344|   null|   14.57|null|  0.379| -0.079|  null| null|  0.0|  0.0|  0.0| 0.0|null|  4.931| 0.0|   0.0|   0.0|   null|    4.48|   4.48|  0.0|  4.948|  null|0.092| 0.0|    0.0|    0.0| 0.0| null|   5.753|  10.701|null|  null|-0.39|-0.39|   0.0|    0.0|   0.0|    null|    null|  null|null|  null|-0.882|null|  -2.155|   null|  3.061|  null|  null| null|  12.263|null|   null|  25.579| null| null| null|  3.061|   0.0|     0.0|  null|    0.0|    0.0|   0.0|null| null| null|null|null|null|    0.0|    0.0|  -2.003|  4.961|  null|  0.0| null|  null|   16.853|  0.0|  0.0|   0.0| -1.922| null|    null|    null| 0.317|  1.806| null|null| null|   4.079|null|   5.753|  10.701| 0.12| null| null|   0.12|  0.0| null|   0.0|   null|  0.0|    null|    null|    null|    null|    null|  null|null|   1.023|  null|null|    0.0|  null|  60.274|   null|   null|  null|  null|  31.803|  null|  null| null|   null|   null|  0.0|null|null|null|null|  null| 0.0|  12.573|   0.0|    0.0|  -0.009|  2.246|    0.0|  12.573|  24.147|null|null|null| null|null|  24.147|   null|   null|null|  null|  21.099|0.047| -0.652| -4.489| 8.294|-2.551|  null|null|null|null|null| null|   null|  null|null| null|null|   null|  null|null|   0.0|  0.0|   null|   7.412|   0.0|   0.0|   0.0|   null|  null|  1.375|  0.0|  2.945|       null|       null|null|null|   -2.049|   null|  null|-2.918|   null|   null|null|null|null|   null|null|  0.0|  0.0| null|  0.558|0.251|    0.0|   null|  13.446|  null| 0.287|  null|  null|  null|null|  1.562|null| null|  null|null|   19|CAN|    0.0|19.7733|  4.01|   4.25|   1|   5|   1|     0|      D|485410|   01C|  null|    01|4100|     620|     600|    B-|   0|   null|        null|  0.0|\n",
      "| 2005| null|MCWATTERS MINING INC|   CAD|  0.0|    0.0|    0.0|   null|   null|    null|    null|   0.991|null|  0.657|   0.0|null|   0.991|-0.0418|    0.0|   null| -23.436|null|  0.568|    0.0|  null| null|  0.0|  0.0|  0.0| 0.0|null|560.652| 0.0|   0.0|   0.0|   null|     0.0|    0.0|  0.0|    0.0|  null|  0.0| 0.0|    0.0|    0.0| 0.0| null|  -0.165|  -0.165|null|  null|  0.0|  0.0|   0.0|    0.0|   0.0|     0.0|     0.0|   0.0| 0.0|   0.0|  null|null|   -0.82|   null|    0.0|  null|  null| null|     0.0|null|   null| -23.436| null| null|0.013|    0.0|   0.0|    null|  null|    0.0|    0.0|   0.0|null| null| null|null|null|null|    0.0|    0.0|   0.373| 24.427|  null|  0.0| null|  null|   24.427|  0.0|  0.0|   0.0| -0.219| null|    null|    null|-0.003|    0.0| null|null| null|   0.447|null|  -0.165|  -0.165|  0.0| null| null|    0.0|  0.0|  0.0|   0.0|   null|  0.0|    null|    null|    null|    null|    null|  null|null|  -0.219|  null|null|    0.0|  null|     0.0|   null|   null|  null|  null|     0.0|  null|  null| null|   null|   null|  0.0|null|null|null|null|  null| 0.0|-104.279|  null|  2.431|    null|  0.423|    0.0| -106.71|     0.0|null|null|null| null|null|     0.0|   null|   null|null|  null| -23.436|  0.0| -0.216|    0.0| 0.075|   0.0|  null|null|null|null|null| null|   null|  null|null| null|null|206.452|  null|null|   0.0|  0.0|    0.0|     0.0|   0.0|   0.0|   0.0|    0.0|   0.0|   null|0.013|    0.0|       null|       null|null|null|  -23.436|   null|  null|  null|   null|   null|null|null|null|   null|null|  0.0|  0.0| null|  0.064|0.064|   null|   null|   0.165|  null|   0.0|  null|  null|  null|null|  0.165|null| null|  null|null|   19|CAN|   null|   null|  null|   null|   1|   9|   1|     0|      D|212221|   03C|  null|    01|1040|     265|     970|  null|   2|   null|        null|  0.0|\n",
      "| 2005| null|STERLING CENTRECO...|   CAD|  0.0|  1.703|  1.486|   null|   null|    null|    null|    null|null| 10.362|   0.0|null| 282.336| 0.1215| 36.542|   null|   4.331|null| 16.707|  3.419|  null| null|  0.0|  0.0|  0.0| 0.0|null|  35.65| 0.0|19.798|19.798|   null| 128.169|175.977|4.315|  4.063|  null| null| 0.0|    0.0|    0.0| 0.0| null|  25.304|  29.367|null|  null| 0.11| 0.12|   0.0|    0.0|-0.968|  93.225|   2.373| 0.588| 0.0|42.591|  null|null|   8.468|   null|    0.0|  null|  null|0.008|  29.367|null|   null|  181.61| null| null|  0.0| 13.696| 1.082|   6.837|  null|   null| 36.681|  null|null| null| null|null|null|null|    0.0|  2.206| -34.244|   null|  null|  0.0| null|  null|  228.895|49.11|49.11|15.182|   4.19| null|    null|    null| 3.405|    0.0| null|null| null|  30.163|null|  25.304|  29.367|  0.0| null| null|    0.0|1.772| 3.01|   0.0|   3.13| 0.36|    1.72|    null|    1.47|    1.42|    1.45|  50.0|null|  15.119|  null|null|    0.0|  null|   197.3|   null|   null|  null|  null| 188.621|  null|  null| null|   null|   null|  0.0|null|null|null|null|  null| 0.0| -78.768|  -1.4|  2.669|  -0.623|  7.653|  1.486| -82.923|  75.642|null|null|null| null|null|  75.642|   null|   null|null|  null|   4.331|3.779| -0.133|  0.013| 0.033|-0.267|  null|null|null|null|null|1.234|   null|  null|null| null|null|   null|  null|null|   0.0|  0.0|   null|    null|  null|  null|  null|   null|  null|  0.719|  0.0|  0.062|       null|       null|null|null|     null|   null|  null|  null|   null|   null|null|null|null|   null|null|  0.0|4.315| null| 13.603| null|   null|   null|  46.275|  null| 1.703|  null|  null|  0.44|null|   null|null| null|  null|null|   19|CAN|    0.0|44.5625|  1.25|   1.69|   1|   4|   4|     0|      D|531120|   01C|  null|    01|6512|     850|     800|    B-|   0|   null|        null|  0.0|\n",
      "| 1990|0015B|BURLINGTON COAT F...|   USD|  0.0|  4.974|   null|   null|   null|    null|    null| 313.437|null| 73.796| 2.279|null| 418.508|12.3004| 18.407|   null|  218.91|null| 26.612| 22.723|  null| null|  0.0|  0.0|  0.0| 0.0|null|   null|null|   0.0|   0.0|   null|  95.838| 16.033|  0.0|  9.809| 5.347| null|null|    0.0|    0.0| 0.0| null|  30.089|  39.898|null|  10.2| 1.35| 1.35|   0.0|    0.0|   0.0|  46.542|  68.852|14.187| 0.0|   0.0|  null|null|   35.05|   null|    0.0|  null|  null| null|  269.47|null|   null| 314.748| null| null| null|    0.0|   0.0| -53.683|  null|   null|275.807|  null|null| null| null|null|null|null|    0.0|    0.0|  -19.11| 98.917|  null|  0.0| null|  null|  199.598|  0.0|  0.0|   0.0| 24.035| null|    null|    null|13.247|    0.0| null|null| null|   6.783| 0.0|  30.089|  39.898| 1.35| null| null|   null| null| null|  null|   null| null|    null|    null|    null|    null|    null|  null|null|  37.682|  null|null|   null|  null| 138.543| 38.539|    0.0|  8.84|   0.0| 100.096|   0.0|   0.0| null|   null|   null|  0.0|null|null|null|null|  null|null| 161.333|   0.0|    0.0|  -3.615|  6.044|    0.0| 161.333| 789.989|null|null|null| null|null| 789.989|   null|   null|null|  null|  218.91|  0.0|   null|    0.0| 1.607|   0.0|  null|null|null|null|null| null|   null|  null|null| null|null|    0.0|  null|null|   0.0|  0.0| 13.615|     2.7|  null|  null|  null| 11.934|   0.0| 15.462|  0.0| 13.647|       null|       null|null|null|   214.52|   null|  null|  null|    0.0| 25.959|null|null|null|  9.809|null|  0.0|  0.0| null|  5.654| null|   null|   null| 750.091|  null|  null| 2.117|   0.0|29.543|null|229.572|null| null|  null|null|    1|USA|    0.0|   null|  13.0|  16.75|   1|   5|   1|  null|      D|448140|  null|  null|    04|5651|     452|     976|    B+|   3|   null|        null|  0.0|\n",
      "| 1997|0033A|ENERGY FUTURE HOL...|   USD|  0.0|521.394|   null|   null|   null|    null|    null|1994.848|null|879.593|-4.777|null| 24874.1|27.8936|657.666|478.592|6843.062|null| 44.435|  28.59|  null| null| null| null| null|null|null|   null|null| 90.75| 90.75|838.606|9634.525|   null|  0.0|666.448|  null| null|null|478.592|496.244|null| null|1906.671|2573.119|null|14.751| 2.85| 2.86|  null|    0.0| 2.294|    null|    null|  null|null|  null|  null|null|-919.492|   null|   null|  null|  null| null|2573.119|null|   null| 16802.4| null| null| null|1423.42|14.126| -13.891|  null|   null|447.952|  null|null| null| null|null|null|null|570.283| 58.753| -713.33| 3522.0|  null| null| null|  null|17706.273| null| null|  null|688.437| null|    null|    null|-8.698|614.442| null|null| null|1659.118|null|1906.671|2573.119| 3.31| null| null|   3.31| null| null|  null|   null| null|    null|    null|    null|    null|    null|  null|null|1065.335|  null|null|-11.359|   0.0| 25743.2|   null|330.184|  null|  null| 18571.0|  null|  null| null| 148.78|553.093|  0.0|null|null|null|null|  null|null|1255.862|  null|   null|-441.964|981.067|   null|    null|7945.608|null|null|null| null|null|7945.608|   null|   null|null|   0.0|7167.875|  0.0|664.674|    0.0|   0.0|   0.0|   0.0|null|null|null|null| null|167.705|  null|null| null|null|   null|  null|null|   0.0|  0.0|221.532|2989.254|  null|  null|  null|181.632|  null|174.908| null|376.898|       null|       null|null|null|-1527.152|   null|  null|  null|193.125|   null|null|null|null|   null|null|  0.0|  0.0| null|832.638| null|   null|   null|5372.489|  null|59.809|19.236|  null|156.71|null|   null|null| null|  null|null|    0|USA|    2.1|   null|  41.5|   42.0|   1|   5|   1|  null|      D|  2211|  null|  null|    09|4911|     705|     700|     B|   2|   null|        null|  0.0|\n",
      "| 1987|0065A|ESSAR STEEL ALGOM...|   CAD| null|  5.443|   null|   null|   null|    null|    null| 541.549|null|195.662|   0.0|null| 1571.51|  27.87| 45.358|   null|  481.65|null|   0.26|-30.676|  null| null|  0.0|  0.0|  0.0| 0.0|null|   null|null|  95.0|   0.0|   null| 561.674|503.406|  0.0| 56.635|  null| null|null| 14.192|  0.041| 0.0| null| 100.278| 156.913|null|   9.3| 1.53| 1.53|  null|   null|  null|    null|    null|  null|null|  null|-4.811|null|    null|167.662|   null|  null|  null| null| 156.913|null|   null|1175.894| null| null| null|    0.0| 3.884|    null|  null|172.931|321.126|84.117|null| null| null|null|null|null|    0.0|101.226|    null|241.028|  null| null| null|  null|   957.29|  0.0|  0.0|   0.0| 40.251| null|    null|    null| 3.695| 16.862| null|null| null|    null|null| 100.278| 156.913| null| null| null|   null| null| null|  null|   null| null|    null|    null|    null|    null|    null|  null|null|  48.808|  null|null|   null|  null|1832.951|   null|   null|  null|  null| 858.793|  null|  null| null|   null|   null| 95.0|null|null|null|null|  null|null| 346.963|   0.0|    0.0|    null| 214.72|    0.0| 346.963|1227.952|null|null|null| null|null|1227.952|   null|   null|null|  null|  614.22|  0.0|   null|    0.0|14.816|   0.0|  null|null|null|null|null| null|   null|  null|null| null|null|   10.0|  null|null|   0.0|  0.0|    0.0| 124.238|  null|  null|  null|    0.0|   0.0|   null|  0.0| 18.151|       null|       null|null|null|  300.521|-34.376|  null|  null|   null|   null|null|null|null|   null|null|9.594|9.594| null| 55.165|54.54|   null|  424.0|1071.039|  null| 5.443|  28.2|  null|  10.6|null|   null|null| null|  null|null|    0|CAN|    0.0|   null| 15.25|21.9428|   1|   6|   1|  null|      D|331110|   06C|  null|    06|3312|     460|     970|  null|   2|   null|        null|  0.0|\n",
      "| 2009|0123A|  UNITED REFINING CO|   USD|  0.0| 14.561|-45.549|   null|   null|    null|    null| 369.355|null| 83.497|   0.0|null| 670.854|   null|  23.97|   null|  70.814|null| 31.062| -1.385|15.423|  0.0| null| null| null|null|null|   null| 0.0|   0.0|   0.0|   null| 329.249|  1.282|  0.0| 16.311|  null|  0.0| 0.0|    0.0|    0.0| 0.0| null|  91.468| 107.779|null| 4.469| null| null|   0.0|    0.0|   0.0|    null|    null|  null|null|  null|  null|null|  -28.56|   null|  1.349|  null|  null| null| 252.722|null|   null| 400.063| null| null|0.134| 13.332|   0.0|-142.832|  null|   null|237.541|  null|null| null| null|null|null|null|    0.0|    0.0| -25.199|139.728|  null|5.278| null|  null|   600.04|  0.0|  0.0|   0.0| 38.027| null|    null|    null| -1.43|    0.0| null|null| null|  52.374|null|  91.468| 107.779| null| null| null|   null| null| null|  null|   null| null|    null|    null|    null|    null|    null|  null|null|  64.262|  null|null| -2.116|-3.383| 413.422|   null|   null|  null|  null| 252.048|  null|  null| null|   null|   null|  0.0|null|null|null|null|  null| 0.0|  48.816|   0.0|-45.549|   35.24| 86.191|    0.0|  94.365|2387.171|null|null|null| null|null|2387.171|   null|   null|null|  null|  70.814|  0.0| 36.935| 10.096|  null| 1.012|  null|null|null|null|null| null|   null|70.814|null| null|null|   null|  null|null|   0.0|  0.0| 17.455|     0.0|25.413|   0.0| 9.604| 14.393|   0.0| 12.339|  0.0| 26.235|       null|       null|null|null|  229.627|   null|  null|  null| 39.151|   null|null|null|null|   null|null|  0.0|  0.0| null| 36.006| null|   null|   null|2279.392|  null|  null| 4.687|  null|11.342|null|144.943|null| null|  null|null|    0|USA|    0.0|   null|  null|   null|   1|  11|   4|     0|      D|324110|  null|  null|    01|2911|     390|     935|  null|   2|   null|        null|  0.0|\n",
      "| 2003|0140A|TRUMP ATLANTIC CI...|   USD|  0.0|  8.187|    0.0|   null|   null|    null|    null| 101.541|null| 33.147|   0.0|null|1396.507|   null| 18.991|   null| -86.394|null| 59.727| -19.28|  null| null| null| null| null|null|null|   null| 0.0|   0.0|   0.0|   null|1317.243|1336.37|  0.0| 64.555|  null|  0.0| 0.0|    0.0|    0.0| 0.0| null| 107.541| 172.096|null|   5.7| null| null|   0.0|    0.0|   0.0|1311.237| 310.211|13.256| 0.0|   0.0|  null|null| -21.574|   null|    0.0|  null|  null| null| 342.795|null|   null|1230.849| null| null| null|    0.0|   0.0|   0.313|  null|   null|  8.427|  null|null| null| null|null|null|null|    0.0|  9.797| -28.788| 142.58|  null|  0.0| null|  null| 1482.901|  0.0|  0.0|   0.0|-53.896| null|    null|    null| 0.819|    0.0| null|null| null|  31.082| 0.0| 107.541| 172.096| null| null| null|   null| null| null|  null|   null| null|    null|    null|    null|    null|    null|  null|null| -49.966|  null|null|    0.0|  null|1813.501|   null|   null|  null|  null|1247.472|  null|  null| null|   null|   null|  0.0|null|null|null|null|  null| 0.0|-306.802|   0.0|    0.0|  -5.248|   25.2|    0.0|-306.802| 778.679|null|null|null| null|null| 778.679|   null|   null|null|  null| -86.394|  0.0|-53.896|   -0.3|   0.0|-0.045|  null|null|null|null|null| null|   null|  null|null| null|null|375.394|  null|null|   0.0|  0.0|   null|     0.0|  null|  null|  null|   null|  null|  0.557|  0.0|   3.93|       null|       null|null|null|  -41.039|   null|  null|  null| 41.403|   null|null|null|null|   null|null|  0.0|  0.0| null|158.026| null|   null|   null| 606.583|  null|  null| 7.494|   0.0| 7.513|null|170.699|null| null|  null|null|    0|USA|    0.0|   null|  null|   null|   1|   4|   4|  null|      D|721120|  null|  null|    01|7990|     262|     976|  null|   2|   null|        null|  0.0|\n",
      "| 1985|0141A|          HEXION INC|   USD| null| 88.386|   null|   null|   null|    null|    null|1318.734|null|350.168|66.044|null|2932.246|27.4093|193.602|   null|1407.724|null|141.069| 18.734|  null| null|  0.0|  0.0|  0.0| 0.0|null|   null|null| 0.071|   0.0|   null| 526.563|    0.0|  0.0|122.587|   0.0| null|null| 76.501| 76.477| 0.0| null| 373.298| 495.885|null|  32.7| 3.75| 3.75|  null|   null|  null| 399.391|1819.891|   0.0|null|   0.0| -20.0|null|    null|504.164|   null|  null|  null| null|1223.199|null|   null|1938.348| null| null| null|220.957| 5.405|    null|  null|159.256|423.046|  null|null| null| null|null|null|null|    0.0|    0.0|    null|705.182|  null|  0.0| null|  null|  1520.46|3.991|3.991|  null|193.804| null|    null|    null|30.968|144.528| null|null| null|    null|null| 373.298| 495.885| null| null| null|   null| null| null|  null|   null| null|    null|    null|    null|    null|    null|  null|null| 324.504|63.967|null|   null|  null|2277.222|253.136|    0.0|   0.0|  null| 1296.46|-9.166|35.523| null|   null|   null|0.071|null|null|null|null|  null|null|1367.107|-58.34|    0.0|    null|666.233|-94.018|1461.125|4716.172|null|null|null| null|null|4716.172|   null|   null|null|  null|1407.795|  0.0|   null|   null|   0.0|  null|  null|null|null|null|null| null|   null|  null|null| null|null|    0.0|  null|null|349.16|  0.0|   73.7| 281.951|  null|  null|  null|   43.7|  18.5|   null|  0.0|  130.7|       null|       null|null|null|  613.552| 16.117|  null|  null|    0.0|267.625|null|null|null|118.204|null|  0.0|  0.0| null| 79.762| null|   null|  637.3|4220.287|  null|   0.0|  22.8|23.829|34.097|null|727.314|null| null|  null|null|    0|USA|   1.48|   null|51.625|   53.5|   1|   7|   1|  null|      D|325199|  null|  null|    02|2860|     167|     970|  null|   2|   null|        null|  0.0|\n",
      "| 1997|0162B|          AEARO CORP|   USD| null|   null|   null|   null|   null|    null|    null|    null|null|   null|  null|null|    null|   null|   null|   null|    null|null|   null|   null|  null| null| null| null| null|null|null|   null|null|  null|  null|   null|    null|   null| null|   null|  null| null|null|   null|   null|null| null|    null|    null|null|  null| null| null|  null|   null|  null|    null|    null|  null|null|  null|  null|null|    null|   null|   null|  null|  null| null|    null|null|   null|    null| null| null| null|   null|  null|    null|  null|   null|   null|  null|null| null| null|null|null|null|   null|   null|    null|   null|  null| null| null|  null|     null| null| null|  null|   null| null|    null|    null|  null|   null| null|null| null|    null|null|    null|    null| null| null| null|   null| null| null|  null|   null| null|    null|    null|    null|    null|    null|  null|null|    null|  null|null|   null|  null|    null|   null|   null|  null|  null|    null|  null|  null| null|   null|   null| null|null|null|null|null|  null|null|    null|  null|   null|    null|   null|   null|    null|    null|null|null|null| null|null|    null|   null|   null|null|  null|    null| null|   null|   null|  null|  null|  null|null|null|null|null| null|   null|  null|null| null|null|   null|  null|null|  null| null|   null|    null|  null|  null|  null|   null|  null|   null| null|   null|       null|       null|null|null|     null|   null|  null|  null|   null|   null|null|null|null|   null|null| null| null| null|   null| null|   null|   null|    null|  null|  null|  null|  null|  null|null|   null|null| null|  null|null|    1|USA|   null|   null|  null|   null|null|null|null|  null|      D|339113|  null|  null|    01|3842|     300|     905|  null|   3|   null|        null|  0.0|\n",
      "| 1996|0173A|SMITHFIELD FOODS INC|   USD|  0.0| 43.217|   null|   null|   null|    null|    null| 488.378|null|132.268|34.835|null| 995.254|16.3905| 69.147|   null| 307.486|null| 25.791| -2.738|  null| null|3.991|4.046|3.672|3.19|null|   null|null|   0.0|   0.0|   null| 288.486|288.486|  0.0| 35.825|  null| null|null|  1.238|    0.0| 0.0| null|  93.888| 129.713|null|  17.5| 2.34| 2.34|   0.0|    0.0|   0.0| 205.523| 344.328|  null| 0.0|   0.0|  null|null|  61.245|   null|   null|  null|  null| null| 320.938|null|   null| 595.972| null| null|  0.0|   null|  2.64| -30.008|  null|   null|253.276|  null|null| null| null|null|null|null|    0.0|  7.293|-107.247|324.066|  null|  0.0| null|  null|  687.768|  0.0|  0.0|   0.0| 44.937| null|    null|    null|  2.64|   77.5| null|null| null|  43.264|null|  93.888| 129.713| 2.34| null| null|   null| null| null|  null|   null| null|    null|    null|   17.81|    null|    null|  null|null|  67.677|  null|null|  0.571|-0.483| 614.393|   null|   null|  null|  null| 426.875|  null|  null| null|   null|   null|  0.0|null|null|null|null|  null| 0.0|  191.87|   0.0|    0.0| -12.606|166.094|    0.0|  191.87|3870.611|null|null|null| null|null|3870.611|   null|   null|null|  null| 307.486|  0.0|  44.27|    0.0| 4.141|-3.288|  null|null|null|null|null| null|   null|  null|null| null|null|   null|  null|null| 7.643|  0.0|  15.57|    7.26|   0.0|33.901|   0.0| 12.765|   0.0| 15.043|  0.0|  22.74|       null|       null|null|null|  164.312|   null|  null|  null| 61.241|   null|null|null|null|   null|null|  0.0|  0.0| null| 28.851| null|   null|   null|3740.898|  null|  null| 5.675|  null| 24.27|null|191.225|null| null|  null|null|    0|USA|    0.0|   null|46.125|   49.5|   1|   1|   1|  null|      D|311612|  null|  null|    03|2013|     250|     978|     C|   2|   null|        null|  0.0|\n",
      "| 1997|0183B|ACORN HOLDING COR...|   USD| null|   null|   null|   null|   null|    null|    null|    null|null|   null|  null|null|    null|   null|   null|   null|    null|null|   null|   null|  null| null| null| null| null|null|null|   null|null|  null|  null|   null|    null|   null| null|   null|  null| null|null|   null|   null|null| null|    null|    null|null|  null| null| null|  null|   null|  null|    null|    null|  null|null|  null|  null|null|    null|   null|   null|  null|  null| null|    null|null|   null|    null| null| null| null|   null|  null|    null|  null|   null|   null|  null|null| null| null|null|null|null|   null|   null|    null|   null|  null| null| null|  null|     null| null| null|  null|   null| null|    null|    null|  null|   null| null|null| null|    null|null|    null|    null| null| null| null|   null| null| null|  null|   null| null|    null|    null|    null|    null|    null|  null|null|    null|  null|null|   null|  null|    null|   null|   null|  null|  null|    null|  null|  null| null|   null|   null| null|null|null|null|null|  null|null|    null|  null|   null|    null|   null|   null|    null|    null|null|null|null| null|null|    null|   null|   null|null|  null|    null| null|   null|   null|  null|  null|  null|null|null|null|null| null|   null|  null|null| null|null|   null|  null|null|  null| null|   null|    null|  null|  null|  null|   null|  null|   null| null|   null|       null|       null|null|null|     null|   null|  null|  null|   null|   null|null|null|null|   null|null| null| null| null|   null| null|   null|   null|    null|  null|  null|  null|  null|  null|null|   null|null| null|  null|null|    1|USA|    0.0|   null| 1.437|  2.187|null|null|null|  null|      D|525990|  null|  null|    01|6726|     850|     800|  null|null|   null|        null|  0.0|\n",
      "| 1999|0243B|CONSOLIDATED CONT...|   USD| null|   null|   null|   null|   null|    null|    null|    null|null|   null|  null|null|    null|   null|   null|   null|    null|null|   null|   null|  null| null| null| null| null|null|null|   null|null|  null|  null|   null|    null|   null| null|   null|  null| null|null|   null|   null|null| null|    null|    null|null|  null| null| null|  null|   null|  null|    null|    null|  null|null|  null|  null|null|    null|   null|   null|  null|  null| null|    null|null|   null|    null| null| null| null|   null|  null|    null|  null|   null|   null|  null|null| null| null|null|null|null|   null|   null|    null|   null|  null| null| null|  null|     null| null| null|  null|   null| null|    null|    null|  null|   null| null|null| null|    null|null|    null|    null| null| null| null|   null| null| null|  null|   null| null|    null|    null|    null|    null|    null|  null|null|    null|  null|null|   null|  null|    null|   null|   null|  null|  null|    null|  null|  null| null|   null|   null| null|null|null|null|null|  null|null|    null|  null|   null|    null|   null|   null|    null|    null|null|null|null| null|null|    null|   null|   null|null|  null|    null| null|   null|   null|  null|  null|  null|null|null|null|null| null|   null|  null|null| null|null|   null|  null|null|  null| null|   null|    null|  null|  null|  null|   null|  null|   null| null|   null|       null|       null|null|null|     null|   null|  null|  null|   null|   null|null|null|null|   null|null| null| null| null|   null| null|   null|   null|    null|  null|  null|  null|  null|  null|null|   null|null| null|  null|null|    1|USA|   null|   null|  null|   null|null|null|null|  null|      D|326121|  null|  null|    01|3089|     325|     978|  null|   3|   null|        null|  0.0|\n",
      "| 2006|0243B|CONSOLIDATED CONT...|   USD|  0.0| 14.974| -23.55|   null|   null|    null|    null| 158.416|null| 57.454|  null|null| 665.201|   null|   null|   null| -88.932|null|  0.433|   null|  null| null| null| null| null|null|null|   null|null|  null|  null|   null| 598.923|   null|  0.0|   null|  null|  0.0|null|   null|   null|null| null|  61.036|    null|null|  null| null| null|  null|   null|  null|    null|    null|  null|null|  null|  null|null|    null|   null|223.769|  null|  null| null| 107.131|null|   null| 509.991| null| null|  0.0|223.769|  null|    null|  null|   null| 44.065|  null|null| null| null|null|null|null|    0.0|   null|    null|117.958|  null| null| null|  null|  754.133|  0.0|  0.0|   0.0| 13.227| null|    null|    null|-1.967|    3.7| null|null| null|    null|null|  61.036|    null| null| null| null|   null| null| null|  null|   null| null|    null|    null|    null|    null|    null|  null|null|  13.608|  null|null|   null|  null|    null|   null|   null|  null|  null| 261.995|  null|  null| null|   null|   null| null|null|null|null|null|  null| 0.0|    null|  null|   null|    null| 98.944|  0.069|    null| 857.617|null|null|null| null|null| 857.617|   null|   null|null|  null| -88.932| null|   null| 16.404|  null|  null|  null|null|null|null|null| null|   null|  null|null| null|null|   null|  null|null|  null| null|   null|     0.0|  null|  null|  null|   null|  null|   null|  0.0|  0.381|       null|       null|null|null|   40.458|   null|  null|-0.715| 48.302|   null|null|null|null|   null|null|  0.0|  0.0| null| 61.865| null|   null|   null| 796.581|  null|   0.0|  null|  null|  null|null| 46.095|null| null|  null|null|    1|USA|    0.0|   null|  null|   null|   1|null|null|  null|      D|326121|  null|  null|    01|3089|     325|     978|  null|   3|   null|        null|  0.0|\n",
      "| 1999|0263B|JAMES CABLE PARTN...|   USD| null|   null|   null|   null|   null|    null|    null|    null|null|   null|  null|null|    null|   null|   null|   null|    null|null|   null|   null|  null| null| null| null| null|null|null|   null|null|  null|  null|   null|    null|   null| null|   null|  null| null|null|   null|   null|null| null|    null|    null|null|  null| null| null|  null|   null|  null|    null|    null|  null|null|  null|  null|null|    null|   null|   null|  null|  null| null|    null|null|   null|    null| null| null| null|   null|  null|    null|  null|   null|   null|  null|null| null| null|null|null|null|   null|   null|    null|   null|  null| null| null|  null|     null| null| null|  null|   null| null|    null|    null|  null|   null| null|null| null|    null|null|    null|    null| null| null| null|   null| null| null|  null|   null| null|    null|    null|    null|    null|    null|  null|null|    null|  null|null|   null|  null|    null|   null|   null|  null|  null|    null|  null|  null| null|   null|   null| null|null|null|null|null|  null|null|    null|  null|   null|    null|   null|   null|    null|    null|null|null|null| null|null|    null|   null|   null|null|  null|    null| null|   null|   null|  null|  null|  null|null|null|null|null| null|   null|  null|null| null|null|   null|  null|null|  null| null|   null|    null|  null|  null|  null|   null|  null|   null| null|   null|       null|       null|null|null|     null|   null|  null|  null|   null|   null|null|null|null|   null|null| null| null| null|   null| null|   null|   null|    null|  null|  null|  null|  null|  null|null|   null|null| null|  null|null|    1|USA|   null|   null|  null|   null|null|null|null|  null|      D|515120|  null|  null|    01|4841|     150|     978|  null|   3|   null|        null|  0.0|\n",
      "| 1996|0296B|             MTS INC|   USD| null|   null|   null|   null|   null|    null|    null|    null|null|   null|  null|null|    null|   null|   null|   null|    null|null|   null|   null|  null| null| null| null| null|null|null|   null|null|  null|  null|   null|    null|   null| null|   null|  null| null|null|   null|   null|null| null|    null|    null|null|  null| null| null|  null|   null|  null|    null|    null|  null|null|  null|  null|null|    null|   null|   null|  null|  null| null|    null|null|   null|    null| null| null| null|   null|  null|    null|  null|   null|   null|  null|null| null| null|null|null|null|   null|   null|    null|   null|  null| null| null|  null|     null| null| null|  null|   null| null|    null|    null|  null|   null| null|null| null|    null|null|    null|    null| null| null| null|   null| null| null|  null|   null| null|    null|    null|    null|    null|    null|  null|null|    null|  null|null|   null|  null|    null|   null|   null|  null|  null|    null|  null|  null| null|   null|   null| null|null|null|null|null|  null|null|    null|  null|   null|    null|   null|   null|    null|    null|null|null|null| null|null|    null|   null|   null|null|  null|    null| null|   null|   null|  null|  null|  null|null|null|null|null| null|   null|  null|null| null|null|   null|  null|null|  null| null|   null|    null|  null|  null|  null|   null|  null|   null| null|   null|       null|       null|null|null|     null|   null|  null|  null|   null|   null|null|null|null|   null|null| null| null| null|   null| null|   null|   null|    null|  null|  null|  null|  null|  null|null|   null|null| null|  null|null|    1|USA|   null|   null|  null|   null|null|null|null|  null|      D|451220|  null|  null|    01|5735|     449|     976|  null|   3|   null|        null|  0.0|\n",
      "| 2001|0317B|WORLDWIDE FLIGHT ...|   USD|  0.0| 17.029| -0.007|   null|   null|    null|    null|  87.322|null| 19.937|   2.7|null| 307.168|29895.0| 16.039|   null|  29.895|null|   6.03|  3.851|  null| null| null| null| null|null|null|  0.001| 0.0|   0.0|   0.0|   null| 129.746|129.746|  0.0| 18.127|  null|  0.0| 0.0|    0.0|    0.0| 0.0| null|   -12.0|   6.127|null|  10.4| null| null|   0.0|    0.0|   0.0|   9.785|    null|  null| 0.0|  null|  null|null|  39.643|   null|   null|  null| -26.0| null|   6.127|null|   null| 159.641| null| null| null|170.912|   0.0|     0.0|  null|    0.0|    0.0|   0.0|null| null| null|null|null|null|    0.0|    0.0| -18.739| 136.77|  null|  0.0| null|  null|  277.273|  0.0|  0.0|   0.0|-72.196| null|    null|    null|  -1.9|    0.0| null|null| null| -17.053|null|   -12.0|   6.127| null| null| null|   null| null| null|  null|   null| null|    null|    null|    null|    null|    null|  null|null| -74.786|  null|null|    0.0|  null|  49.868|   null|   null|  null|  null|   47.01|  null|  null| null|   null|   null|  0.0|null|null|null|null| 0.288| 0.0| -45.632|   0.0|    0.0|  -1.374| 64.263| -0.007| -45.625| 344.005|null|null|null| null|null| 344.005|   null|   null|null|  null|  29.895|  0.0|-46.484|-39.557|   0.0|   0.0|  null|null|null|null|null|1.866|   null|  null|null| null|null|    1.3|  null|null|   0.0|  0.0| -0.028|  10.757|  null|  null|  null|  -0.33|-0.145|  0.608|  0.0|  -2.59|       null|       null|null|null|  -49.448|   null|  null|  null| 43.416|   null|null|null|null|   null|null|  0.0|  0.0| null| 21.329| null|   null|227.727| 337.878|  null|  null|  null|  null|  null|null|   null|null| null|  null|null|    1|USA|   null|   null|  null|   null|   1|   5|   1|  null|      D|488119|  null|  null|    01|4581|     620|     600|  null|   3|   null|        null|  0.0|\n",
      "| 2001|0345B|NORTHEAST MORTGAG...|   USD|  0.0|  0.083|    0.0|   null|   null|    null|    null|  27.657|null|  0.318|   0.0|null|  28.506|   null|    0.0|   null|   1.153|null|  0.106| -0.015|  null| null| null| null| null|null|null|   null| 0.0|  null|  null|   null|   0.557|   null|  0.0|  0.129|  null|  0.0| 0.0|  0.279|   null|null| null|   1.195|   1.324|null|  null| null| null|   0.0|   null|   0.0|    null|    null|  null|null|  null|  null|null|   13.72|   null|    0.0|  null|  null| null|   1.324|null|   null|    1.71| null| null|0.013|  0.431|  null|     0.0|  null|   null|    0.0|  null|null| null| null|null|null|null|    0.0| 13.319| -13.354| 26.796|  null| null| null|  null|   27.353|  0.0|  0.0|   0.0|  0.783| null|    null|    null|   0.0| 26.411| null|null| null|  -0.381|null|   1.195|   1.324| null| null| null|   null| null| null|  null|   null| null|    null|    null|    null|    null|    null|  null|null|   0.783|  null|null|   null|  null|   0.704|   null|   null|  null|  null|   0.212|  null|  null| null|   null|   null| null|null|null|null|null|  null| 0.0|    null|  null|    0.0|  -0.277| 27.468|    0.0|    null|   8.935|null|null|null| null|null|   8.935|   null|   null|null|  null|   1.153| null|   null|    0.0|   0.0|   0.0|  null|null|null|null|null| null|   null|  null|null| null|null|   null|  null|null|  null| null|   null|     0.0|  null|  null|  null|   null|  null|   null|  0.0|    0.0|       null|       null|null|null|    0.861|   null|  null|  null|   null|   null|null|null|null|   null|null|  0.0|  0.0| null|  0.425| null|   null|   null|   7.611|  null|  0.01|  null|  null|  null|null|   null|null| null|  null|null|    1|USA|   null|   null|  null|   null|null|null|null|  null|      D|522292|  null|  null|    01|6162|     850|     800|  null|   3|   null|        null|  0.0|\n",
      "+-----+-----+--------------------+------+-----+-------+-------+-------+-------+--------+--------+--------+----+-------+------+----+--------+-------+-------+-------+--------+----+-------+-------+------+-----+-----+-----+-----+----+----+-------+----+------+------+-------+--------+-------+-----+-------+------+-----+----+-------+-------+----+-----+--------+--------+----+------+-----+-----+------+-------+------+--------+--------+------+----+------+------+----+--------+-------+-------+------+------+-----+--------+----+-------+--------+-----+-----+-----+-------+------+--------+------+-------+-------+------+----+-----+-----+----+----+----+-------+-------+--------+-------+------+-----+-----+------+---------+-----+-----+------+-------+-----+--------+--------+------+-------+-----+----+-----+--------+----+--------+--------+-----+-----+-----+-------+-----+-----+------+-------+-----+--------+--------+--------+--------+--------+------+----+--------+------+----+-------+------+--------+-------+-------+------+------+--------+------+------+-----+-------+-------+-----+----+----+----+----+------+----+--------+------+-------+--------+-------+-------+--------+--------+----+----+----+-----+----+--------+-------+-------+----+------+--------+-----+-------+-------+------+------+------+----+----+----+----+-----+-------+------+----+-----+----+-------+------+----+------+-----+-------+--------+------+------+------+-------+------+-------+-----+-------+-----------+-----------+----+----+---------+-------+------+------+-------+-------+----+----+----+-------+----+-----+-----+-----+-------+-----+-------+-------+--------+------+------+------+------+------+----+-------+----+-----+------+----+-----+---+-------+-------+------+-------+----+----+----+------+-------+------+------+------+------+----+--------+--------+------+----+-------+------------+-----+\n",
      "only showing top 20 rows\n",
      "\n",
      "None\n"
     ]
    },
    {
     "name": "stdout",
     "output_type": "stream",
     "text": [
      "Number of records in Services-packaged software industrial category:  505848\n"
     ]
    }
   ],
   "source": [
    "import os\n",
    "os.environ['SPARK_HOME']='/home/envmodules/lib/spark-2.2.0-bin-hadoop2.7/'\n",
    "import findspark\n",
    "findspark.init()\n",
    "\n",
    "# Imports\n",
    "from pyspark.sql import SparkSession\n",
    "from pyspark.sql.functions import isnan, when, count, col\n",
    "\n",
    "from pyspark.ml.feature import VectorAssembler\n",
    "from pyspark.ml.feature import StringIndexer\n",
    "from pyspark.ml.classification import RandomForestClassifier, LogisticRegression\n",
    "from pyspark.ml.evaluation import MulticlassClassificationEvaluator, BinaryClassificationEvaluator\n",
    "from pyspark.mllib.evaluation import MulticlassMetrics\n",
    "\n",
    "spark = SparkSession.builder.appName('733').getOrCreate()\n",
    "\n",
    "# Using the integrated file to start working on\n",
    "integrated_df = spark.read.parquet('/user/vcs/annual_integrated_dataset_with_labels_ibes_fix_v2.parquet')\n",
    "#spark.read.parquet('/user/vcs/annual_integrated_dataset_v2.parquet')\n",
    "\n",
    "\n",
    "# Using nullcounts to filter columns to keep\n",
    "nullcounts = integrated_df.select([count(when(isnan(c) | col(c).isNull(), c)).alias(c) for c in integrated_df.columns])\n",
    "nc = list(nullcounts.first())\n",
    "\n",
    "# Extracting out an industrial segment and modelling on it instead of the whole dataset\n",
    "# Services-packaged software category selection (from EDA)\n",
    "services_prepacked_software = integrated_df #.filter(integrated_df.sic == '7372')\n",
    "print('Total records in integrated file: ', integrated_df.count())\n",
    "print(services_prepacked_software.show())\n",
    "print('Number of records in Services-packaged software industrial category: ', services_prepacked_software.count())\n",
    "\n",
    "# Reusing preprocessing steps implemented by Vincent\n",
    "some_dict = {}\n",
    "for x in services_prepacked_software.columns:\n",
    "\tsome_dict[x] = 0\n",
    "\n",
    "nwdf = services_prepacked_software.fillna(some_dict)\n",
    "\n",
    "good_columns = []\n",
    "for i in range(0, len(nc)):\n",
    "\tif nc[i] == 0:\n",
    "\t\tgood_columns.append(i)\n",
    "\n",
    "great_columns = [nwdf.columns[i] for i in good_columns]\n",
    "great_columns.append('rea')\n",
    "nwdf = nwdf.fillna(some_dict)\n",
    "\n",
    "non_string_columns = [k for (k,v) in nwdf.dtypes if v != 'string']\n",
    "nwdf_no_strings = nwdf.select(*non_string_columns)\n",
    "feature_columns = [item for item in nwdf_no_strings.columns if item not in ['rea', 'features', 'label', 'rea_label']]\n",
    "\n",
    "assembler = VectorAssembler(inputCols=feature_columns, outputCol=\"features\")\n",
    "final_df = assembler.transform(nwdf_no_strings)\n",
    "final_final_df = final_df.drop(*feature_columns).cache()"
   ]
  },
  {
   "cell_type": "code",
   "execution_count": null,
   "metadata": {},
   "outputs": [
    {
     "data": {
      "text/plain": [
       "['rea', 'label', 'features']"
      ]
     },
     "execution_count": 15,
     "metadata": {},
     "output_type": "execute_result"
    }
   ],
   "source": [
    "final_final_df.columns"
   ]
  },
  {
   "cell_type": "code",
   "execution_count": null,
   "metadata": {},
   "outputs": [],
   "source": [
    "# String indexing not required\n",
    "stringIndexer = StringIndexer(inputCol=\"label\", outputCol=\"indexed\")\n",
    "si_model = stringIndexer.fit(final_final_df)\n",
    "td = si_model.transform(final_final_df)\n",
    "\n",
    "# Evaluators\n",
    "evaluator = MulticlassClassificationEvaluator(metricName = 'accuracy')\n",
    "eval = BinaryClassificationEvaluator()\n",
    "\n",
    "# RandomForest classifier\n",
    "rf = RandomForestClassifier(numTrees=100, maxDepth=16, labelCol=\"indexed\", seed=42)\n",
    "model = rf.fit(td)\n",
    "result = model.transform(final_final_df)\n",
    "print('Accuracy on training data: ', evaluator.evaluate(result))\n",
    "\n",
    "# Train test split for model evaluation\n",
    "train, test = final_final_df.randomSplit([0.7, 0.3], seed=12345)\n",
    "\n",
    "rf = RandomForestClassifier(numTrees=100, maxDepth=16, labelCol=\"label\", seed=42)\n",
    "print('Training RandomForest model on training set. \\n Model parameters: {}'.format(rf._paramMap))\n",
    "trained_model = rf.fit(train)\n",
    "res = trained_model.transform(test)\n",
    "metrics = MulticlassMetrics(res.select(['label', 'prediction']).rdd)\n",
    "print('Accuracy on test set: ', evaluator.evaluate(res))\n",
    "print('Precision on test data: ', metrics.precision())\n",
    "print('Recall on test data: ', metrics.recall())\n",
    "print('F1 Score on test data: ', metrics.fMeasure())\n",
    "print('Area under ROC curve: ', eval.evaluate(res))"
   ]
  },
  {
   "cell_type": "code",
   "execution_count": null,
   "metadata": {},
   "outputs": [],
   "source": [
    "# Logistic regression\n",
    "print('Training LogisticRegression model on training set.')\n",
    "logistic = LogisticRegression(regParam=0.1, labelCol=\"label\")#, thresholds = [0.2, 0.5])\n",
    "trained_model = logistic.fit(train)\n",
    "res = trained_model.transform(test)\n",
    "metrics = MulticlassMetrics(res.select(['label', 'prediction']).rdd)\n",
    "print('Accuracy on test set: ', evaluator.evaluate(res))\n",
    "print('Precision on test data: ', metrics.precision())\n",
    "print('Recall on test data: ', metrics.recall())\n",
    "print('F1 Score on test data: ', metrics.fMeasure())\n",
    "print('Area under ROC curve: ', eval.evaluate(res))\n",
    "\n",
    "\n",
    "from pyspark.ml.classification import LogisticRegression\n",
    "\n",
    "# Extract the summary from the returned LogisticRegressionModel instance trained\n",
    "# in the earlier example\n",
    "trainingSummary = trained_model.summary\n",
    "\n",
    "# Obtain the objective per iteration\n",
    "objectiveHistory = trainingSummary.objectiveHistory\n",
    "print(\"objectiveHistory:\")\n",
    "for objective in objectiveHistory:\n",
    "    print(objective)\n",
    "\n",
    "# Obtain the receiver-operating characteristic as a dataframe and areaUnderROC.\n",
    "trainingSummary.roc.show()\n",
    "print(\"areaUnderROC: \" + str(trainingSummary.areaUnderROC))\n",
    "\n",
    "# Set the model threshold to maximize F-Measure\n",
    "fMeasure = trainingSummary.fMeasureByThreshold\n",
    "maxFMeasure = fMeasure.groupBy().max('F-Measure').select('max(F-Measure)').head()\n",
    "bestThreshold = fMeasure.where(fMeasure['F-Measure'] == maxFMeasure['max(F-Measure)']) \\\n",
    "    .select('threshold').head()['threshold']\n",
    "logistic.setThreshold(bestThreshold)\n",
    "\n",
    "res = trained_model.transform(test)\n",
    "\n",
    "print('best threshold is:' + str(bestThreshold))"
   ]
  },
  {
   "cell_type": "code",
   "execution_count": null,
   "metadata": {},
   "outputs": [],
   "source": [
    "test.groupby('label').count().show()"
   ]
  },
  {
   "cell_type": "code",
   "execution_count": null,
   "metadata": {},
   "outputs": [],
   "source": [
    "res = res.withColumn('correct', res.label == res.prediction)\n",
    "\n",
    "#positive class (misstatements)\n",
    "true_positives_df = res.filter(res.prediction == 1.0).filter(res.label == 1.0)\n",
    "ground_truth_positives_df = res.filter(res.label == 1.0)\n",
    "misstatement_recall = true_positives_df.count()/ground_truth_positives_df.count()\n",
    "\n",
    "new_all_predicted_positive_df = res.filter(res.prediction == 1.0)\n",
    "misstatement_precision = true_positives_df.count()/new_all_predicted_positive_df.count()\n",
    "\n",
    "#negative class (non misstatements)\n",
    "true_negative_df = res.filter(res.prediction == 0.0).filter(res.label == 0.0)\n",
    "ground_truth_negative_df = res.filter(res.label == 0.0)\n",
    "non_misstatement_recall = true_negative_df.count()/ground_truth_negative_df.count()\n",
    "\n",
    "new_all_predicted_negative_df = res.filter(res.prediction == 0.0)\n",
    "non_misstatement_precision = true_negative_df.count()/new_all_predicted_negative_df.count()\n",
    "\n",
    "print('misstatement_precision is {}, misstatement recall is {}'.format(misstatement_precision, misstatement_recall))\n",
    "print('non_misstatement_precision is {}, non_misstatement recall is {}'.format(non_misstatement_precision, non_misstatement_recall))\n"
   ]
  },
  {
   "cell_type": "code",
   "execution_count": null,
   "metadata": {},
   "outputs": [],
   "source": [
    "new_all_predicted_positive_df.count()"
   ]
  },
  {
   "cell_type": "code",
   "execution_count": null,
   "metadata": {},
   "outputs": [],
   "source": [
    "res.count()"
   ]
  },
  {
   "cell_type": "code",
   "execution_count": null,
   "metadata": {
    "collapsed": true
   },
   "outputs": [],
   "source": [
    "true_positives_df = res.filter(res.prediction == 1.0).filter(res.label == 1.0)"
   ]
  },
  {
   "cell_type": "code",
   "execution_count": null,
   "metadata": {},
   "outputs": [],
   "source": [
    "true_positives_df.count()"
   ]
  },
  {
   "cell_type": "code",
   "execution_count": null,
   "metadata": {},
   "outputs": [],
   "source": [
    "res.groupBy('prediction').count().show()"
   ]
  },
  {
   "cell_type": "code",
   "execution_count": null,
   "metadata": {},
   "outputs": [],
   "source": [
    "res.groupBy('label').count().show()"
   ]
  },
  {
   "cell_type": "code",
   "execution_count": null,
   "metadata": {
    "collapsed": true
   },
   "outputs": [],
   "source": []
  },
  {
   "cell_type": "code",
   "execution_count": null,
   "metadata": {
    "collapsed": true
   },
   "outputs": [],
   "source": []
  },
  {
   "cell_type": "code",
   "execution_count": null,
   "metadata": {
    "collapsed": true
   },
   "outputs": [],
   "source": []
  }
 ],
 "metadata": {
  "kernelspec": {
   "display_name": "Python 3",
   "language": "python",
   "name": "python3"
  },
  "language_info": {
   "codemirror_mode": {
    "name": "ipython",
    "version": 3
   },
   "file_extension": ".py",
   "mimetype": "text/x-python",
   "name": "python",
   "nbconvert_exporter": "python",
   "pygments_lexer": "ipython3",
   "version": "3.5.2"
  }
 },
 "nbformat": 4,
 "nbformat_minor": 2
}
