{
 "cells": [
  {
   "cell_type": "code",
   "execution_count": 2,
   "metadata": {
    "collapsed": true
   },
   "outputs": [],
   "source": [
    "from pyspark.sql import SparkSession\n",
    "from pyspark.sql.functions import isnan, when, count, col\n",
    "spark = SparkSession.builder.appName('733').getOrCreate()\n",
    "sc = spark.sparkContext"
   ]
  },
  {
   "cell_type": "code",
   "execution_count": 3,
   "metadata": {
    "collapsed": true
   },
   "outputs": [],
   "source": [
    "annual_df = spark.read.csv('../annual_compustat.csv', header=True, inferSchema=True).limit(1000).cache()"
   ]
  },
  {
   "cell_type": "code",
   "execution_count": 5,
   "metadata": {},
   "outputs": [
    {
     "data": {
      "text/plain": [
       "Row(gvkey=1000, datadate=19611231, fyear=1961, indfmt='INDL', consol='C', popsrc='D', datafmt='STD', tic='AE.2', cusip='000032102', conm='A & E PLASTIK PAK INC', acctchg=None, acctstd=None, acqmeth=None, adrr=None, ajex=3.3418, ajp=1.0, bspr=None, compst=None, curcd='USD', curncd='USD', currtr=1.0, curuscn=None, final='Y', fyr=12, ismod=None, ltcm=None, ogm=None, pddur=12, scf=None, src=None, stalt=None, udpl=None, upd=3, apdedate=None, fdate=None, pdate=None, acchg=None, acco=None, acdo=None, aco=None, acodo=None, acominc=None, acox=None, acoxar=None, acqao=None, acqcshi=None, acqgdwl=None, acqic=None, acqintan=None, acqinvt=None, acqlntal=None, acqniintc=None, acqppe=None, acqsc=None, act=None, adpac=None, aedi=None, afudcc=None, afudci=None, aldo=None, am=None, amc=None, amdc=None, amgw=None, ano=None, ao=None, aocidergl=None, aociother=None, aocipen=None, aocisecgl=None, aodo=None, aol2=None, aoloch=None, aox=None, ap=None, apalch=None, apb=None, apc=None, apofs=None, aqa=None, aqc=None, aqd=None, aqeps=None, aqi=None, aqp=None, aqpl1=None, aqs=None, arb=None, arc=None, arce=None, arced=None, arceeps=None, artfs=None, at=None, aul3=None, autxr=None, balr=None, banlr=None, bast=None, bastr=None, batr=None, bcef=None, bclr=None, bcltbl=None, bcnlr=None, bcrbl=None, bct=None, bctbl=None, bctr=None, bkvlps=2.4342, bltbl=None, ca=None, capr1=None, capr2=None, capr3=None, caps=None, capx=None, capxv=None, cb=None, cbi=None, cdpac=None, cdvc=None, ceq=None, ceql=0.37, ceqt=0.37, cfbd=None, cfere=None, cfo=None, cfpdo=None, cga=None, cgri=None, cgti=None, cgui=None, ch=None, che=None, chech=None, chs=None, ci=None, cibegni=None, cicurr=None, cidergl=None, cimii=None, ciother=None, cipen=None, cisecgl=None, citotal=None, cld2=None, cld3=None, cld4=None, cld5=None, clfc=None, clfx=None, clg=None, clis=None, cll=None, cllc=None, clo=None, clrll=None, clt=None, cmp=None, cnltbl=None, cogs=None, cpcbl=None, cpdoi=None, cpnli=None, cppbl=None, cprei=None, crv=None, crvnli=None, cshfd=None, cshi=None, csho=0.152, cshpri=0.152, cshr=None, cshrc=None, cshrp=None, cshrso=None, cshrt=None, cshrw=None, cstk=None, cstkcv=None, cstke=0.0, dbi=None, dc=None, dclo=None, dcom=None, dcpstk=None, dcs=None, dcvsr=None, dcvsub=None, dcvt=None, dd=None, dd1=None, dd2=None, dd3=None, dd4=None, dd5=None, depc=None, dfpac=None, dfs=None, dfxa=None, diladj=None, dilavx=None, dlc=None, dlcch=None, dltis=None, dlto=None, dltp=None, dltr=None, dltsub=None, dltt=0.1, dm=None, dn=None, do=None, donr=None, dp=None, dpacb=None, dpacc=None, dpacli=None, dpacls=None, dpacme=None, dpacnr=None, dpaco=None, dpacre=None, dpact=None, dpc=None, dpdc=None, dpltb=None, dpret=None, dpsc=None, dpstb=None, dptb=None, dptc=None, dptic=None, dpvieb=None, dpvio=None, dpvir=None, drc=None, drci=None, drlt=None, ds=None, dtea=None, dted=None, dteeps=None, dtep=None, dudd=None, dv=None, dvc=0.0, dvdnp=None, dvp=0.0, dvpa=None, dvpd=None, dvpdp=None, dvpibb=None, dvrpiv=None, dvrre=None, dvsco=None, dvt=0.0, dxd2=None, dxd3=None, dxd4=None, dxd5=None, ea=None, ebit=None, ebitda=None, eiea=None, emol=None, emp=None, epsfi=None, epsfx=None, epspi=None, epspx=0.37, esopct=None, esopdlt=None, esopnr=None, esopr=None, esopt=None, esub=None, esubc=None, excadj=None, exre=None, fatb=None, fatc=None, fatd=None, fate=None, fatl=None, fatn=None, fato=None, fatp=None, fca=None, fdfr=None, fea=None, fel=None, ffo=None, ffs=None, fiao=None, fincf=None, fopo=None, fopox=None, fopt=None, fsrco=None, fsrct=None, fuseo=None, fuset=None, gbbl=None, gdwl=None, gdwlam=None, gdwlia=None, gdwlid=None, gdwlieps=None, gdwlip=None, geqrv=None, gla=None, glcea=None, glced=None, glceeps=None, glcep=None, gld=None, gleps=None, glp=None, govgr=None, govtown=None, gp=None, gphbl=None, gplbl=None, gpobl=None, gprbl=None, gptbl=None, gwo=None, hedgegl=None, iaeq=None, iaeqci=None, iaeqmi=None, iafici=None, iafxi=None, iafxmi=None, iali=None, ialoi=None, ialti=None, iamli=None, iaoi=None, iapli=None, iarei=None, iasci=None, iasmi=None, iassi=None, iasti=None, iatci=None, iati=None, iatmi=None, iaui=None, ib=0.05, ibadj=0.053, ibbl=None, ibc=None, ibcom=0.053, ibki=None, ibmii=None, icapt=0.413, idiis=None, idilb=None, idilc=None, idis=None, idist=None, idit=None, idits=None, iire=None, initb=None, intan=0.0, intano=None, intc=None, intpn=None, invch=None, invfg=None, invo=None, invofs=None, invreh=None, invrei=None, invres=None, invrm=None, invt=None, invwip=None, iobd=None, ioi=None, iore=None, ip=None, ipabl=None, ipc=None, iphbl=None, iplbl=None, ipobl=None, iptbl=None, ipti=None, ipv=None, irei=None, irent=None, irii=None, irli=None, irnli=None, irsi=None, iseq=None, iseqc=None, iseqm=None, isfi=None, isfxc=None, isfxm=None, isgr=None, isgt=None, isgu=None, islg=None, islgc=None, islgm=None, islt=None, isng=None, isngc=None, isngm=None, isotc=None, isoth=None, isotm=None, issc=None, issm=None, issu=None, ist=None, istc=None, istm=None, isut=None, itcb=0.0, itcc=None, itci=None, ivaco=None, ivaeq=None, ivao=None, ivch=None, ivgod=None, ivi=None, ivncf=None, ivpt=None, ivst=None, ivstch=None, lcabg=None, lcacl=None, lcacr=None, lcag=None, lcal=None, lcalt=None, lcam=None, lcao=None, lcast=None, lcat=None, lco=None, lcox=None, lcoxar=None, lcoxdr=None, lct=None, lcuacu=None, li=None, lif=None, lifr=None, lloml=None, lloo=None, llot=None, llrci=None, llrcr=None, llwoci=None, llwocr=None, lno=None, lo=None, lol2=None, loxdr=None, lqpl1=None, lrv=None, ls=None, lse=None, lst=None, lt=None, lul3=None, mib=0.0, mibn=None, mibt=0.0, mii=0.0, mrc1=None, mrc2=None, mrc3=None, mrc4=None, mrc5=None, mrct=None, mrcta=None, msa=None, msvrv=None, mtl=None, nat=None, nco=None, nfsr=None, ni=None, niadj=None, nieci=None, niint=None, niintpfc=None, niintpfp=None, niit=None, nim=None, nio=None, nipfc=None, nipfp=None, nit=None, nits=None, nopi=None, nopio=None, np=None, npanl=None, npaore=None, nparl=None, npat=None, nrtxt=None, nrtxtd=None, nrtxteps=None, oancf=None, ob=None, oiadp=None, oibdp=None, opeps=None, opili=None, opincar=None, opini=None, opioi=None, opiri=None, opiti=None, oprepsx=None, optca=None, optdr=None, optex=None, optexd=None, optfvgr=None, optgr=None, optlife=None, optosby=None, optosey=None, optprcby=None, optprcca=None, optprcex=None, optprcey=None, optprcgr=None, optprcwa=None, optrfr=None, optvol=None, palr=None, panlr=None, patr=None, pcl=None, pclr=None, pcnlr=None, pctr=None, pdvc=None, pi=0.1, pidom=None, pifo=None, pll=None, pltbl=None, pnca=None, pncad=None, pncaeps=None, pncia=None, pncid=None, pncieps=None, pncip=None, pncwia=None, pncwid=None, pncwieps=None, pncwip=None, pnlbl=None, pnli=None, pnrsho=None, pobl=None, ppcbl=None, ppegt=None, ppenb=None, ppenc=None, ppenli=None, ppenls=None, ppenme=None, ppennr=None, ppeno=None, ppent=None, ppevbb=None, ppeveb=None, ppevo=None, ppevr=None, pppabl=None, ppphbl=None, pppobl=None, ppptbl=None, prc=None, prca=None, prcad=None, prcaeps=None, prebl=None, pri=None, prodv=None, prsho=None, prstkc=None, prstkcc=None, prstkpc=None, prvt=None, pstk=None, pstkc=None, pstkl=0.0, pstkn=None, pstkr=None, pstkrv=None, ptbl=None, ptran=None, pvcl=None, pvo=None, pvon=None, pvpl=None, pvt=None, pwoi=None, radp=None, ragr=None, rari=None, rati=None, rca=None, rcd=None, rceps=None, rcl=None, rcp=None, rdip=None, rdipa=None, rdipd=None, rdipeps=None, rdp=None, re=None, rea=None, reajo=None, recch=None, recco=None, recd=None, rect=None, recta=None, rectr=None, recub=None, ret=None, reuna=None, reunr=None, revt=0.9, ris=None, rll=None, rlo=None, rlp=None, rlri=None, rlt=None, rmum=None, rpag=None, rra=None, rrd=None, rreps=None, rrp=None, rvbci=None, rvbpi=None, rvbti=None, rvdo=None, rvdt=None, rveqt=None, rvlrv=None, rvno=None, rvnt=None, rvri=None, rvsi=None, rvti=None, rvtxr=None, rvupi=None, rvutx=None, saa=None, sal=None, sale=0.9, salepfc=None, salepfp=None, sbdc=None, sc=None, sco=None, scstkc=None, secu=None, seq=None, seqo=None, seta=None, setd=None, seteps=None, setp=None, siv=None, spce=None, spced=None, spceeps=None, spi=None, spid=None, spieps=None, spioa=None, spiop=None, sppe=None, sppiv=None, spstkc=None, sret=None, srt=None, ssnp=None, sstk=None, stbo=None, stio=None, stkco=None, stkcpa=None, tdc=None, tdscd=None, tdsce=None, tdsg=None, tdslg=None, tdsmm=None, tdsng=None, tdso=None, tdss=None, tdst=None, teq=None, tf=None, tfva=None, tfvce=None, tfvl=None, tie=None, tii=None, tlcf=None, transa=None, tsa=None, tsafc=None, tso=None, tstk=None, tstkc=None, tstkme=None, tstkn=None, tstkp=None, txach=None, txbco=None, txbcof=None, txc=None, txdb=0.0, txdba=None, txdbca=None, txdbcl=None, txdc=None, txdfed=None, txdfo=None, txdi=0.0, txditc=0.0, txds=None, txeqa=None, txeqii=None, txfed=None, txfo=None, txndb=None, txndba=None, txndbl=None, txndbr=None, txo=None, txp=None, txpd=None, txr=None, txs=None, txt=0.05, txtubadjust=None, txtubbegin=None, txtubend=None, txtubmax=None, txtubmin=None, txtubposdec=None, txtubposinc=None, txtubpospdec=None, txtubpospinc=None, txtubsettle=None, txtubsoflimit=None, txtubtxtr=None, txtubxintbs=None, txtubxintis=None, txva=None, txw=None, uaoloch=None, uaox=None, uapt=None, ucaps=None, uccons=None, uceq=None, ucustad=None, udcopres=None, udd=None, udfcc=None, udmb=None, udolt=None, udpco=None, udpfa=None, udvp=None, ufretsd=None, ugi=None, ui=None, uinvt=None, ulcm=None, ulco=None, uniami=None, unl=None, unnp=None, unnpl=None, unopinc=None, unwcc=None, uois=None, uopi=None, uopres=None, updvp=None, upmcstk=None, upmpf=None, upmpfs=None, upmsubp=None, upstk=None, upstkc=None, upstksf=None, urect=None, urectr=None, urevub=None, uspi=None, ustdnc=None, usubdvp=None, usubpstk=None, utfdoc=None, utfosc=None, utme=None, utxfed=None, uwkcapc=None, uxinst=None, uxintd=None, vpac=None, vpo=None, wcap=None, wcapc=None, wcapch=None, wda=None, wdd=None, wdeps=None, wdp=None, xacc=None, xad=None, xago=None, xagt=None, xcom=None, xcomi=None, xdepl=None, xdp=None, xdvre=None, xeqo=None, xi=None, xido=None, xidoc=None, xindb=None, xindc=None, xins=None, xinst=None, xint=None, xintd=None, xintopt=None, xivi=None, xivre=None, xlr=None, xnbi=None, xnf=None, xnins=None, xnitb=None, xobd=None, xoi=None, xopr=None, xoprar=None, xoptd=None, xopteps=None, xore=None, xpp=None, xpr=None, xrd=None, xrent=None, xs=None, xsga=None, xstf=None, xstfo=None, xstfws=None, xt=None, xuw=None, xuwli=None, xuwnli=None, xuwoi=None, xuwrei=None, xuwti=None, exchg=12, cik=None, costat='I', fic='USA', naicsh=None, sich=None, cshtr_c=None, dvpsp_c=None, dvpsx_c=None, prcc_c=None, prch_c=None, prcl_c=None, adjex_c=None, cshtr_f=None, dvpsp_f=None, dvpsx_f=0.0, mkvalt=None, prcc_f=None, prch_f=None, prcl_f=None, adjex_f=3.3418, rank=None, au=None, auop=None, auopic=None, ceoso=None, cfoso=None, acchg_fn=None, afudcc_fn=None, amc_fn=None, am_fn=None, aocidergl_fn=None, aocipen_fn=None, aocisecgl_fn=None, ap_fn=None, aqa_fn=None, aqd_fn=None, aqeps_fn=None, aqp_fn=None, aqs_fn=None, arced_fn=None, arceeps_fn=None, arce_fn=None, artfs_fn=None, at_fn=None, capr1_fn=None, capr3_fn=None, caps_fn=None, capx_fn=None, cdvc_fn=None, clg_fn=None, cogs_fn=None, cshfd_fn=None, csho_fn=None, cshpri_fn=None, cstk_fn=None, dclo_fn=None, dcs_fn=None, dcvsr_fn=None, dcvsub_fn=None, dcvt_fn=None, dd1_fn=None, dd2_fn=None, dd3_fn=None, dd4_fn=None, dd5_fn=None, dd_fn=None, depc_fn=None, dfs_fn=None, dlto_fn=None, dltp_fn=None, dltt_fn=None, dn_fn=None, dpact_fn=None, dpc_fn=None, dptc_fn=None, dptic_fn=None, dp_fn=None, ds_fn=None, dtea_fn=None, dted_fn=None, dteeps_fn=None, dtep_fn=None, dvc_fn=None, dvp_fn=None, dvrre_fn=None, emp_fn=None, epspi_fn=None, epspx_fn=None, esopt_fn=None, esub_fn=None, fca_fn=None, gdwlam_fn=None, gdwlia_fn=None, gdwlid_fn=None, gdwlieps_fn=None, gdwlip_fn=None, gla_fn=None, glcea_fn=None, glced_fn=None, glceeps_fn=None, glcep_fn=None, gld_fn=None, gleps_fn=None, glp_fn=None, hedgegl_fn=None, iarei_fn=None, iati_fn=None, ibadj_fn=None, ib_fn=None, icapt_fn=None, idiis_fn=None, idilc_fn=None, idist_fn=None, idits_fn=None, idit_fn=None, iire_fn=None, invt_fn=None, ip_fn=None, ist_fn=None, itcc_fn=None, itci_fn=None, ivi_fn=None, lcao_fn=None, lcuacu_fn=None, lse_fn=None, mib_fn=None, mrc1_fn=None, mrc2_fn=None, mrc3_fn=None, mrc4_fn=None, mrc5_fn=None, msa_fn=None, ni_fn=None, nrtxtd_fn=None, nrtxteps_fn=None, nrtxt_fn=None, oancf_fn=None, opeps_fn=None, oprepsx_fn=None, optdr_fn=None, optfvgr_fn=None, optlife_fn=None, optprcby_fn=None, optprcca_fn=None, optprcex_fn=None, optprcey_fn=None, optprcgr_fn=None, optprcwa_fn=None, optrfr_fn=None, optvol_fn=None, pcl_fn=None, pdvc_fn=None, pidom_fn=None, pifo_fn=None, pncad_fn=None, pncaeps_fn=None, pnca_fn=None, pncia_fn=None, pncid_fn=None, pncieps_fn=None, pncwia_fn=None, pncwid_fn=None, pncwieps_fn=None, ppegt_fn=None, ppent_fn=None, ppeveb_fn=None, prcad_fn=None, prcaeps_fn=None, prca_fn=None, pstkl_fn=None, pstkrv_fn=None, pvcl_fn=None, ragr_fn=None, rca_fn=None, rcd_fn=None, rceps_fn=None, rcl_fn=None, rcp_fn=None, rdipa_fn=None, rdipd_fn=None, rdipeps_fn=None, rdip_fn=None, recta_fn=None, reuna_fn=None, revt_fn=None, re_fn=None, rra_fn=None, rrd_fn=None, rreps_fn=None, rrp_fn=None, sale_fn=None, secu_fn=None, seta_fn=None, setd_fn=None, seteps_fn=None, setp_fn=None, spced_fn=None, spceeps_fn=None, spce_fn=None, spid_fn=None, spieps_fn=None, spioa_fn=None, spiop_fn=None, stkco_fn=None, stkcpa_fn=None, tdc_fn=None, tdst_fn=None, tie_fn=None, transa_fn=None, tstkc_fn=None, tstk_fn=None, txeqii_fn=None, txfed_fn=None, txfo_fn=None, txo_fn=None, txp_fn=None, txs_fn=None, txt_fn=None, uapt_fn=None, ucaps_fn=None, ui_fn=None, unwcc_fn=None, vpac_fn=None, vpo_fn=None, wda_fn=None, wdd_fn=None, wdeps_fn=None, wdp_fn=None, xintopt_fn=None, xint_fn=None, xlr_fn=None, xoptd_fn=None, xopteps_fn=None, xpr_fn=None, xrd_fn=None, xrent_fn=None, xsga_fn=None, xt_fn=None, acchg_dc=None, acco_dc=None, acdo_dc=None, aco_dc=None, acominc_dc=None, acox_dc=None, acqao_dc=None, acqgdwl_dc=None, acqic_dc=None, acqintan_dc=None, acqinvt_dc=None, acqlntal_dc=None, acqniintc_dc=None, acqppe_dc=None, acqsc_dc=None, adpac_dc=None, aedi_dc=None, aldo_dc=None, am_dc=None, amc_dc=None, amgw_dc=None, ano_dc=None, ao_dc=None, aocidergl_dc=None, aocipen_dc=None, aocisecgl_dc=None, aol2_dc=None, aoloch_dc=None, aox_dc=None, ap_dc=None, apalch_dc=None, apofs_dc=None, aqa_dc=None, aqc_dc=None, aqd_dc=None, aqeps_dc=None, aqi_dc=None, aqp_dc=None, aqpl1_dc=None, aqs_dc=None, arc_dc=None, artfs_dc=None, aul3_dc=None, balr_dc=None, banlr_dc=None, bast_dc=None, bastr_dc=None, batr_dc=None, bcef_dc=None, bclr_dc=None, bcnlr_dc=None, bcrbl_dc=None, bct_dc=None, bctbl_dc=None, bctr_dc=None, bkvlps_dc=None, bltbl_dc=None, ca_dc=None, caps_dc=None, capx_dc=None, capxv_dc=None, cb_dc=None, cbi_dc=None, cdvc_dc=None, ceq_dc=None, ceql_dc=None, ceqt_dc=None, cfbd_dc=None, cfere_dc=None, cfo_dc=None, cfpdo_dc=None, cgri_dc=None, cgti_dc=None, ch_dc=None, che_dc=None, chech_dc=None, chs_dc=None, cicurr_dc=None, cidergl_dc=None, cipen_dc=None, cisecgl_dc=None, cld2_dc=None, cld3_dc=None, cld4_dc=None, cld5_dc=None, clfc_dc=None, clfx_dc=None, clg_dc=None, clis_dc=None, cll_dc=None, cllc_dc=None, cmp_dc=None, cnltbl_dc=None, cpnli_dc=None, cprei_dc=None, crvnli_dc=None, cshfd_dc=None, cshi_dc=None, csho_dc=None, cshpri_dc=None, cshr_dc=None, cshrc_dc=None, cshrt_dc=None, cshrw_dc=None, cstk_dc=None, cstkcv_dc=None, dbi_dc=None, dc_dc=None, dclo_dc=None, dcom_dc=None, dcpstk_dc=None, dcs_dc=None, dcvsr_dc=None, dcvsub_dc=None, dcvt_dc=None, dd_dc=None, dd1_dc=None, dd2_dc=None, dd3_dc=None, dd4_dc=None, dd5_dc=None, depc_dc=None, dfpac_dc=None, dfs_dc=None, dfxa_dc=None, dlc_dc=None, dlcch_dc=None, dltis_dc=None, dlto_dc=None, dltp_dc=None, dltr_dc=None, dltsub_dc=None, dltt_dc=None, dm_dc=None, dn_dc=None, do_dc=None, donr_dc=None, dp_dc=None, dpacb_dc=None, dpacc_dc=None, dpacls_dc=None, dpacme_dc=None, dpacnr_dc=None, dpact_dc=None, dpc_dc=None, dpdc_dc=None, dpsc_dc=None, dptb_dc=None, dptc_dc=None, dptic_dc=None, dpvieb_dc=None, dpvio_dc=None, dpvir_dc=None, drc_dc=None, drlt_dc=None, ds_dc=None, dtea_dc=None, dted_dc=None, dteeps_dc=None, dtep_dc=None, dudd_dc=None, dv_dc=None, dvc_dc=None, dvp_dc=None, dvpa_dc=None, dvpdp_dc=None, dvpibb_dc=None, dvrre_dc=None, dxd2_dc=None, dxd3_dc=None, dxd4_dc=None, dxd5_dc=None, ea_dc=None, ebitda_dc=None, eiea_dc=None, emp_dc=None, epsfi_dc=None, epsfx_dc=None, epspi_dc=None, epspx_dc=None, esopct_dc=None, esub_dc=None, esubc_dc=None, excadj_dc=None, exre_dc=None, fatb_dc=None, fatc_dc=None, fate_dc=None, fatl_dc=None, fatn_dc=None, fato_dc=None, fatp_dc=None, fca_dc=None, fdfr_dc=None, ffs_dc=None, fopo_dc=None, fsrco_dc=None, fuseo_dc=None, gdwl_dc=None, gdwlia_dc=None, gdwlid_dc=None, gdwlieps_dc=None, gdwlip_dc=None, gla_dc=None, glcea_dc=None, glcep_dc=None, gld_dc=None, gleps_dc=None, glp_dc=None, govgr_dc=None, gphbl_dc=None, gplbl_dc=None, gprbl_dc=None, hedgegl_dc=None, iaeq_dc=None, iaeqci_dc=None, iaeqmi_dc=None, iafxi_dc=None, ialti_dc=None, iamli_dc=None, iapli_dc=None, iarei_dc=None, iasci_dc=None, iasti_dc=None, iati_dc=None, ib_dc=None, ibadj_dc=None, ibcom_dc=None, ibki_dc=None, icapt_dc=None, idiis_dc=None, idilb_dc=None, idilc_dc=None, idis_dc=None, idist_dc=None, idit_dc=None, idits_dc=None, iire_dc=None, initb_dc=None, intan_dc=None, intano_dc=None, intc_dc=None, intpn_dc=None, invch_dc=None, invfg_dc=None, invreh_dc=None, invrei_dc=None, invres_dc=None, invrm_dc=None, invt_dc=None, invwip_dc=None, iobd_dc=None, ioi_dc=None, iore_dc=None, ip_dc=None, ipabl_dc=None, ipc_dc=None, iphbl_dc=None, iplbl_dc=None, ipti_dc=None, ipv_dc=None, irei_dc=None, irent_dc=None, irli_dc=None, irnli_dc=None, irsi_dc=None, iseq_dc=None, iseqc_dc=None, iseqm_dc=None, isfi_dc=None, isfxc_dc=None, isfxm_dc=None, isgt_dc=None, islg_dc=None, islgc_dc=None, islgm_dc=None, isng_dc=None, isngc_dc=None, isngm_dc=None, issc_dc=None, issm_dc=None, issu_dc=None, ist_dc=None, itcb_dc=None, itcc_dc=None, itci_dc=None, ivaeq_dc=None, ivao_dc=None, ivch_dc=None, ivi_dc=None, ivpt_dc=None, ivst_dc=None, ivstch_dc=None, lcabg_dc=None, lcacl_dc=None, lcacr_dc=None, lcag_dc=None, lcal_dc=None, lcam_dc=None, lcat_dc=None, lco_dc=None, lcox_dc=None, lct_dc=None, lcuacu_dc=None, lifr_dc=None, llrcr_dc=None, llwocr_dc=None, lno_dc=None, lo_dc=None, lol2_dc=None, lqpl1_dc=None, lt_dc=None, lul3_dc=None, mib_dc=None, mibn_dc=None, mibt_dc=None, mii_dc=None, mrc1_dc=None, mrc2_dc=None, mrc3_dc=None, mrc4_dc=None, mrc5_dc=None, mrct_dc=None, mrcta_dc=None, msa_dc=None, nat_dc=None, nco_dc=None, ni_dc=None, nieci_dc=None, niintpfc_dc=None, niintpfp_dc=None, nio_dc=None, nipfc_dc=None, nipfp_dc=None, nit_dc=None, nopi_dc=None, nopio_dc=None, np_dc=None, npaore_dc=None, nparl_dc=None, nrtxt_dc=None, nrtxtd_dc=None, nrtxteps_dc=None, ob_dc=None, oiadp_dc=None, oibdp_dc=None, opili_dc=None, opini_dc=None, opioi_dc=None, opiri_dc=None, optca_dc=None, optexd_dc=None, optgr_dc=None, optosey_dc=None, optprcca_dc=None, optprcex_dc=None, optprcgr_dc=None, palr_dc=None, panlr_dc=None, patr_dc=None, pcl_dc=None, pclr_dc=None, pcnlr_dc=None, pctr_dc=None, pdvc_dc=None, pi_dc=None, pidom_dc=None, pifo_dc=None, pll_dc=None, pltbl_dc=None, pnlbl_dc=None, pnrsho_dc=None, pobl_dc=None, ppegt_dc=None, ppenb_dc=None, ppenc_dc=None, ppenli_dc=None, ppenls_dc=None, ppenme_dc=None, ppennr_dc=None, ppeno_dc=None, ppent_dc=None, ppevbb_dc=None, ppeveb_dc=None, ppevo_dc=None, ppevr_dc=None, ppphbl_dc=None, prebl_dc=None, pri_dc=None, prodv_dc=None, prsho_dc=None, prstkc_dc=None, prstkcc_dc=None, prstkpc_dc=None, pstk_dc=None, pstkc_dc=None, pstkl_dc=None, pstkn_dc=None, pstkr_dc=None, pstkrv_dc=None, ptran_dc=None, pvon_dc=None, pvpl_dc=None, pvt_dc=None, pwoi_dc=None, ragr_dc=None, rari_dc=None, rati_dc=None, rca_dc=None, rcd_dc=None, rceps_dc=None, rcl_dc=None, rcp_dc=None, rdip_dc=None, rdipa_dc=None, rdipd_dc=None, re_dc=None, rea_dc=None, reajo_dc=None, recch_dc=None, recco_dc=None, recd_dc=None, rect_dc=None, recta_dc=None, rectr_dc=None, reunr_dc=None, ris_dc=None, rll_dc=None, rlp_dc=None, rlri_dc=None, rlt_dc=None, rpag_dc=None, rvbci_dc=None, rvbti_dc=None, rvdt_dc=None, rveqt_dc=None, rvri_dc=None, rvsi_dc=None, rvti_dc=None, rvupi_dc=None, saa_dc=None, sal_dc=None, salepfc_dc=None, salepfp_dc=None, sbdc_dc=None, sc_dc=None, scstkc_dc=None, secu_dc=None, seq_dc=None, seta_dc=None, setd_dc=None, seteps_dc=None, setp_dc=None, siv_dc=None, spi_dc=None, spid_dc=None, spieps_dc=None, spioa_dc=None, spiop_dc=None, sppe_dc=None, sppiv_dc=None, spstkc_dc=None, ssnp_dc=None, sstk_dc=None, stbo_dc=None, stio_dc=None, stkco_dc=None, stkcpa_dc=None, tdc_dc=None, tdscd_dc=None, tdsce_dc=None, tdsg_dc=None, tdslg_dc=None, tdsmm_dc=None, tdsng_dc=None, tdst_dc=None, tf_dc=None, tfva_dc=None, tfvce_dc=None, tfvl_dc=None, tlcf_dc=None, transa_dc=None, tstk_dc=None, tstkc_dc=None, tstkme_dc=None, tstkn_dc=None, tstkp_dc=None, txach_dc=None, txbco_dc=None, txbcof_dc=None, txc_dc=None, txdb_dc=None, txdba_dc=None, txdbca_dc=None, txdbcl_dc=None, txdc_dc=None, txdfed_dc=None, txdfo_dc=None, txdi_dc=None, txditc_dc=None, txds_dc=None, txeqa_dc=None, txfed_dc=None, txfo_dc=None, txndb_dc=None, txndba_dc=None, txndbl_dc=None, txndbr_dc=None, txp_dc=None, txpd_dc=None, txr_dc=None, txs_dc=None, txt_dc=None, txtubadjust_dc=None, txtubbegin_dc=None, txtubend_dc=None, txtubmax_dc=None, txtubmin_dc=None, txtubposdec_dc=None, txtubposinc_dc=None, txtubpospdec_dc=None, txtubpospinc_dc=None, txtubsettle_dc=None, txtubsoflimit_dc=None, txtubtxtr_dc=None, txtubxintbs_dc=None, txtubxintis_dc=None, txw_dc=None, uaoloch_dc=None, uaox_dc=None, uapt_dc=None, ucaps_dc=None, uccons_dc=None, ucustad_dc=None, udd_dc=None, udfcc_dc=None, udmb_dc=None, udpco_dc=None, udvp_dc=None, ui_dc=None, uinvt_dc=None, unopinc_dc=None, unwcc_dc=None, uopi_dc=None, uopres_dc=None, updvp_dc=None, upmcstk_dc=None, upmpf_dc=None, upmpfs_dc=None, upmsubp_dc=None, upstk_dc=None, upstkc_dc=None, upstksf_dc=None, urect_dc=None, urectr_dc=None, urevub_dc=None, uspi_dc=None, ustdnc_dc=None, usubdvp_dc=None, usubpstk_dc=None, utme_dc=None, utxfed_dc=None, uwkcapc_dc=None, uxinst_dc=None, uxintd_dc=None, vpac_dc=None, vpo_dc=None, wcapc_dc=None, wda_dc=None, wdd_dc=None, wdeps_dc=None, wdp_dc=None, xacc_dc=None, xad_dc=None, xago_dc=None, xagt_dc=None, xcom_dc=None, xcomi_dc=None, xdepl_dc=None, xdp_dc=None, xdvre_dc=None, xeqo_dc=None, xi_dc=None, xido_dc=None, xidoc_dc=None, xindb_dc=None, xindc_dc=None, xins_dc=None, xinst_dc=None, xint_dc=None, xintd_dc=None, xintopt_dc=None, xivi_dc=None, xivre_dc=None, xlr_dc=None, xnins_dc=None, xnitb_dc=None, xobd_dc=None, xoi_dc=None, xoptd_dc=None, xopteps_dc=None, xore_dc=None, xpp_dc=None, xpr_dc=None, xrd_dc=None, xrent_dc=None, xs_dc=None, xsga_dc=None, xstf_dc=None, xstfo_dc=None, xuw_dc=None, xuwli_dc=None, xuwnli_dc=None, xuwoi_dc=None, xuwrei_dc=None, add1=None, add2=None, add3=None, add4=None, addzip=None, busdesc=None, city=None, conml='A & E Plastik Pak Inc', county=None, dlrsn='09', ein=None, fax=None, fyrc='12', ggroup=None, gind=None, gsector=None, gsubind=None, idbflag='D', incorp=None, loc='USA', naics=None, phone=None, prican=None, prirow=None, priusa='01', sic='3089', spcindcd=325, spcseccd=978, spcsrc=None, state=None, stko='0', weburl=None, dldte='19780630', ipodate=None)"
      ]
     },
     "execution_count": 5,
     "metadata": {},
     "output_type": "execute_result"
    }
   ],
   "source": [
    "annual_df.head()"
   ]
  },
  {
   "cell_type": "code",
   "execution_count": 3,
   "metadata": {
    "collapsed": true
   },
   "outputs": [],
   "source": [
    "nullcounts = spark.read.csv('annual_compustat_null_count.csv', header=False)"
   ]
  },
  {
   "cell_type": "code",
   "execution_count": 4,
   "metadata": {
    "collapsed": true
   },
   "outputs": [],
   "source": [
    "import csv\n",
    "\n",
    "with open('annual_compustat_null_count.csv', 'r') as f:\n",
    "  reader = csv.reader(f)\n",
    "  your_list = list(reader)\n",
    "\n"
   ]
  },
  {
   "cell_type": "code",
   "execution_count": 5,
   "metadata": {
    "collapsed": true
   },
   "outputs": [],
   "source": [
    "null_count_list = your_list[0]"
   ]
  },
  {
   "cell_type": "code",
   "execution_count": 6,
   "metadata": {
    "collapsed": true
   },
   "outputs": [],
   "source": [
    "null_count_list = [float(x) for x in null_count_list]"
   ]
  },
  {
   "cell_type": "code",
   "execution_count": 7,
   "metadata": {
    "collapsed": true
   },
   "outputs": [],
   "source": [
    "good_columns = []\n",
    "for i in range(0, len(null_count_list)):\n",
    "    if null_count_list[i]==0:\n",
    "        good_columns.append(i)"
   ]
  },
  {
   "cell_type": "code",
   "execution_count": 8,
   "metadata": {
    "collapsed": true
   },
   "outputs": [],
   "source": [
    "great_columns = [annual_df.columns[i] for i in good_columns]"
   ]
  },
  {
   "cell_type": "code",
   "execution_count": 9,
   "metadata": {
    "collapsed": true
   },
   "outputs": [],
   "source": [
    "great_columns.append('rea')"
   ]
  },
  {
   "cell_type": "code",
   "execution_count": 10,
   "metadata": {
    "collapsed": true
   },
   "outputs": [],
   "source": [
    "columns_num = [3, 10, 14]\n",
    "annual_df = annual_df.select(*great_columns)\n"
   ]
  },
  {
   "cell_type": "code",
   "execution_count": 11,
   "metadata": {
    "collapsed": true
   },
   "outputs": [],
   "source": [
    "some_dict = {}\n",
    "for x in annual_df.columns:\n",
    "    some_dict[x] = 0\n"
   ]
  },
  {
   "cell_type": "code",
   "execution_count": 12,
   "metadata": {
    "collapsed": true
   },
   "outputs": [],
   "source": [
    "permuted_annual_df = annual_df.fillna(some_dict)"
   ]
  },
  {
   "cell_type": "code",
   "execution_count": 13,
   "metadata": {
    "collapsed": true
   },
   "outputs": [],
   "source": [
    "permuted_annual_dtypes = permuted_annual_df.dtypes"
   ]
  },
  {
   "cell_type": "code",
   "execution_count": 14,
   "metadata": {
    "collapsed": true
   },
   "outputs": [],
   "source": [
    "non_string_columns = [k for (k,v) in permuted_annual_dtypes if v != 'string']"
   ]
  },
  {
   "cell_type": "code",
   "execution_count": 15,
   "metadata": {
    "collapsed": true
   },
   "outputs": [],
   "source": [
    "permuted_annual_df_no_strings = permuted_annual_df.select(*non_string_columns)"
   ]
  },
  {
   "cell_type": "code",
   "execution_count": 16,
   "metadata": {
    "collapsed": true
   },
   "outputs": [],
   "source": [
    "feature_columns = [item for item in permuted_annual_df_no_strings.columns if item not in ['rea', 'features']]"
   ]
  },
  {
   "cell_type": "code",
   "execution_count": 17,
   "metadata": {
    "collapsed": true
   },
   "outputs": [],
   "source": [
    "from pyspark.ml.classification import MultilayerPerceptronClassifier\n",
    "from pyspark.ml.evaluation import MulticlassClassificationEvaluator\n",
    "\n",
    "from pyspark.ml.feature import VectorAssembler\n",
    "\n",
    "assembler = VectorAssembler(\n",
    "    inputCols=feature_columns, outputCol=\"features\")\n",
    "\n",
    "final_df = assembler.transform(permuted_annual_df_no_strings\n",
    ")"
   ]
  },
  {
   "cell_type": "code",
   "execution_count": 18,
   "metadata": {
    "collapsed": true
   },
   "outputs": [],
   "source": [
    "final_final_df = final_df.drop(*feature_columns)"
   ]
  },
  {
   "cell_type": "code",
   "execution_count": 19,
   "metadata": {},
   "outputs": [
    {
     "name": "stdout",
     "output_type": "stream",
     "text": [
      "+------+--------------------+\n",
      "|   rea|            features|\n",
      "+------+--------------------+\n",
      "|   0.0|[1000.0,1.9611231...|\n",
      "|   0.0|[1000.0,1.9621231...|\n",
      "|   0.0|[1000.0,1.9631231...|\n",
      "|   0.0|[1000.0,1.9641231...|\n",
      "|   0.0|[1000.0,1.9651231...|\n",
      "|   0.0|[1000.0,1.9661231...|\n",
      "|   0.0|[1000.0,1.9671231...|\n",
      "|   0.0|[1000.0,1.9681231...|\n",
      "| 2.772|[1000.0,1.9691231...|\n",
      "|   0.0|[1000.0,1.9701231...|\n",
      "|   0.0|[1000.0,1.9711231...|\n",
      "|   0.0|[1000.0,1.9721231...|\n",
      "|   0.0|[1000.0,1.9731231...|\n",
      "|   0.0|[1000.0,1.9741231...|\n",
      "|-1.656|[1000.0,1.9751231...|\n",
      "|   0.0|[1000.0,1.9761231...|\n",
      "|   0.0|[1000.0,1.9771231...|\n",
      "|   0.0|[1001.0,1.9781231...|\n",
      "|   0.0|[1001.0,1.9791231...|\n",
      "|   0.0|[1001.0,1.9801231...|\n",
      "+------+--------------------+\n",
      "only showing top 20 rows\n",
      "\n"
     ]
    }
   ],
   "source": [
    "final_final_df.show()"
   ]
  },
  {
   "cell_type": "code",
   "execution_count": 20,
   "metadata": {
    "collapsed": true
   },
   "outputs": [],
   "source": [
    "final_final_df = final_final_df.withColumn('label', final_final_df.rea)"
   ]
  },
  {
   "cell_type": "code",
   "execution_count": 21,
   "metadata": {},
   "outputs": [
    {
     "name": "stdout",
     "output_type": "stream",
     "text": [
      "+------+--------------------+------+\n",
      "|   rea|            features| label|\n",
      "+------+--------------------+------+\n",
      "|   0.0|[1000.0,1.9611231...|   0.0|\n",
      "|   0.0|[1000.0,1.9621231...|   0.0|\n",
      "|   0.0|[1000.0,1.9631231...|   0.0|\n",
      "|   0.0|[1000.0,1.9641231...|   0.0|\n",
      "|   0.0|[1000.0,1.9651231...|   0.0|\n",
      "|   0.0|[1000.0,1.9661231...|   0.0|\n",
      "|   0.0|[1000.0,1.9671231...|   0.0|\n",
      "|   0.0|[1000.0,1.9681231...|   0.0|\n",
      "| 2.772|[1000.0,1.9691231...| 2.772|\n",
      "|   0.0|[1000.0,1.9701231...|   0.0|\n",
      "|   0.0|[1000.0,1.9711231...|   0.0|\n",
      "|   0.0|[1000.0,1.9721231...|   0.0|\n",
      "|   0.0|[1000.0,1.9731231...|   0.0|\n",
      "|   0.0|[1000.0,1.9741231...|   0.0|\n",
      "|-1.656|[1000.0,1.9751231...|-1.656|\n",
      "|   0.0|[1000.0,1.9761231...|   0.0|\n",
      "|   0.0|[1000.0,1.9771231...|   0.0|\n",
      "|   0.0|[1001.0,1.9781231...|   0.0|\n",
      "|   0.0|[1001.0,1.9791231...|   0.0|\n",
      "|   0.0|[1001.0,1.9801231...|   0.0|\n",
      "+------+--------------------+------+\n",
      "only showing top 20 rows\n",
      "\n"
     ]
    }
   ],
   "source": [
    "final_final_df.show()"
   ]
  },
  {
   "cell_type": "code",
   "execution_count": 22,
   "metadata": {
    "collapsed": true
   },
   "outputs": [],
   "source": [
    "# final_final_df.write.parquet(\"final_final_df2.parquet\")"
   ]
  },
  {
   "cell_type": "code",
   "execution_count": 23,
   "metadata": {
    "collapsed": true
   },
   "outputs": [],
   "source": [
    "from pyspark.sql import SQLContext\n",
    "sqlContext = SQLContext(sc)\n",
    "ml_df = sqlContext.read.parquet(\"final_final_df2.parquet\")"
   ]
  },
  {
   "cell_type": "code",
   "execution_count": 24,
   "metadata": {},
   "outputs": [
    {
     "name": "stdout",
     "output_type": "stream",
     "text": [
      "+------+--------------------+------+\n",
      "|   rea|            features| label|\n",
      "+------+--------------------+------+\n",
      "|   0.0|[1000.0,1.9611231...|   0.0|\n",
      "|   0.0|[1000.0,1.9621231...|   0.0|\n",
      "|   0.0|[1000.0,1.9631231...|   0.0|\n",
      "|   0.0|[1000.0,1.9641231...|   0.0|\n",
      "|   0.0|[1000.0,1.9651231...|   0.0|\n",
      "|   0.0|[1000.0,1.9661231...|   0.0|\n",
      "|   0.0|[1000.0,1.9671231...|   0.0|\n",
      "|   0.0|[1000.0,1.9681231...|   0.0|\n",
      "| 2.772|[1000.0,1.9691231...| 2.772|\n",
      "|   0.0|[1000.0,1.9701231...|   0.0|\n",
      "|   0.0|[1000.0,1.9711231...|   0.0|\n",
      "|   0.0|[1000.0,1.9721231...|   0.0|\n",
      "|   0.0|[1000.0,1.9731231...|   0.0|\n",
      "|   0.0|[1000.0,1.9741231...|   0.0|\n",
      "|-1.656|[1000.0,1.9751231...|-1.656|\n",
      "|   0.0|[1000.0,1.9761231...|   0.0|\n",
      "|   0.0|[1000.0,1.9771231...|   0.0|\n",
      "|   0.0|[1001.0,1.9781231...|   0.0|\n",
      "|   0.0|[1001.0,1.9791231...|   0.0|\n",
      "|   0.0|[1001.0,1.9801231...|   0.0|\n",
      "+------+--------------------+------+\n",
      "only showing top 20 rows\n",
      "\n"
     ]
    }
   ],
   "source": [
    "ml_df.show()"
   ]
  },
  {
   "cell_type": "code",
   "execution_count": 25,
   "metadata": {},
   "outputs": [
    {
     "name": "stdout",
     "output_type": "stream",
     "text": [
      "Coefficients: [0.0,-1.06449397447e-06,-0.00244103246633,0.0,0.0,0.0,0.0,0.0,0.0]\n",
      "Intercept: 25.74190069013414\n",
      "numIterations: 11\n",
      "objectiveHistory: [0.5000000000000001, 0.4999142911765882, 0.4998611581179943, 0.4998610757468472, 0.49986107450295986, 0.4998610630318895, 0.4998610567796463, 0.499861007730838, 0.49986088950678204, 0.4998608886775636, 0.4998608885466327]\n",
      "+--------------------+\n",
      "|           residuals|\n",
      "+--------------------+\n",
      "|-0.07899879220746797|\n",
      "|-0.06591281999643073|\n",
      "|-0.05282684778539348|\n",
      "|-0.03974087557435624|\n",
      "|-0.02665490336331...|\n",
      "|-0.01356893115227...|\n",
      "|-4.82958941244504...|\n",
      "| 0.01260301326979274|\n",
      "|    2.79768898548083|\n",
      "| 0.03877495769186723|\n",
      "| 0.05186092990290447|\n",
      "| 0.06494690211394172|\n",
      "| 0.07803287432498252|\n",
      "| 0.09111884653601621|\n",
      "| -1.5517951812529465|\n",
      "|  0.1172907909580907|\n",
      "| 0.13037676316912794|\n",
      "| 0.14346273538016519|\n",
      "| 0.15654870759120243|\n",
      "| 0.16963467980224323|\n",
      "+--------------------+\n",
      "only showing top 20 rows\n",
      "\n",
      "RMSE: 10.106638\n",
      "r2: 0.001070\n"
     ]
    }
   ],
   "source": [
    "from pyspark.ml.regression import LinearRegression\n",
    "lr = LinearRegression(maxIter=10, regParam=0.3, elasticNetParam=0.8)\n",
    "\n",
    "# Fit the model\n",
    "train = final_final_df\n",
    "lrModel = lr.fit(train)\n",
    "\n",
    "# Print the coefficients and intercept for linear regression\n",
    "print(\"Coefficients: %s\" % str(lrModel.coefficients))\n",
    "print(\"Intercept: %s\" % str(lrModel.intercept))\n",
    "\n",
    "# Summarize the model over the training set and print out some metrics\n",
    "trainingSummary = lrModel.summary\n",
    "print(\"numIterations: %d\" % trainingSummary.totalIterations)\n",
    "print(\"objectiveHistory: %s\" % str(trainingSummary.objectiveHistory))\n",
    "trainingSummary.residuals.show()\n",
    "print(\"RMSE: %f\" % trainingSummary.rootMeanSquaredError)\n",
    "print(\"r2: %f\" % trainingSummary.r2)"
   ]
  },
  {
   "cell_type": "code",
   "execution_count": 26,
   "metadata": {},
   "outputs": [
    {
     "name": "stdout",
     "output_type": "stream",
     "text": [
      "+------+--------------------+------+\n",
      "|   rea|            features| label|\n",
      "+------+--------------------+------+\n",
      "|   0.0|[1000.0,1.9611231...|   0.0|\n",
      "|   0.0|[1000.0,1.9621231...|   0.0|\n",
      "|   0.0|[1000.0,1.9631231...|   0.0|\n",
      "|   0.0|[1000.0,1.9641231...|   0.0|\n",
      "|   0.0|[1000.0,1.9651231...|   0.0|\n",
      "|   0.0|[1000.0,1.9661231...|   0.0|\n",
      "|   0.0|[1000.0,1.9671231...|   0.0|\n",
      "|   0.0|[1000.0,1.9681231...|   0.0|\n",
      "| 2.772|[1000.0,1.9691231...| 2.772|\n",
      "|   0.0|[1000.0,1.9701231...|   0.0|\n",
      "|   0.0|[1000.0,1.9711231...|   0.0|\n",
      "|   0.0|[1000.0,1.9721231...|   0.0|\n",
      "|   0.0|[1000.0,1.9731231...|   0.0|\n",
      "|   0.0|[1000.0,1.9741231...|   0.0|\n",
      "|-1.656|[1000.0,1.9751231...|-1.656|\n",
      "|   0.0|[1000.0,1.9761231...|   0.0|\n",
      "|   0.0|[1000.0,1.9771231...|   0.0|\n",
      "|   0.0|[1001.0,1.9781231...|   0.0|\n",
      "|   0.0|[1001.0,1.9791231...|   0.0|\n",
      "|   0.0|[1001.0,1.9801231...|   0.0|\n",
      "+------+--------------------+------+\n",
      "only showing top 20 rows\n",
      "\n"
     ]
    }
   ],
   "source": [
    "ml_df.show()"
   ]
  },
  {
   "cell_type": "code",
   "execution_count": 27,
   "metadata": {
    "collapsed": true
   },
   "outputs": [],
   "source": [
    "ml_df = ml_df.withColumn('boolean_label', ml_df.rea != 0)"
   ]
  },
  {
   "cell_type": "code",
   "execution_count": 28,
   "metadata": {
    "collapsed": true
   },
   "outputs": [],
   "source": [
    "ml_df = ml_df.withColumn('label', ml_df.boolean_label.cast('float'))"
   ]
  },
  {
   "cell_type": "code",
   "execution_count": 29,
   "metadata": {},
   "outputs": [
    {
     "name": "stdout",
     "output_type": "stream",
     "text": [
      "+------+--------------------+-----+-------------+\n",
      "|   rea|            features|label|boolean_label|\n",
      "+------+--------------------+-----+-------------+\n",
      "|   0.0|[1000.0,1.9611231...|  0.0|        false|\n",
      "|   0.0|[1000.0,1.9621231...|  0.0|        false|\n",
      "|   0.0|[1000.0,1.9631231...|  0.0|        false|\n",
      "|   0.0|[1000.0,1.9641231...|  0.0|        false|\n",
      "|   0.0|[1000.0,1.9651231...|  0.0|        false|\n",
      "|   0.0|[1000.0,1.9661231...|  0.0|        false|\n",
      "|   0.0|[1000.0,1.9671231...|  0.0|        false|\n",
      "|   0.0|[1000.0,1.9681231...|  0.0|        false|\n",
      "| 2.772|[1000.0,1.9691231...|  1.0|         true|\n",
      "|   0.0|[1000.0,1.9701231...|  0.0|        false|\n",
      "|   0.0|[1000.0,1.9711231...|  0.0|        false|\n",
      "|   0.0|[1000.0,1.9721231...|  0.0|        false|\n",
      "|   0.0|[1000.0,1.9731231...|  0.0|        false|\n",
      "|   0.0|[1000.0,1.9741231...|  0.0|        false|\n",
      "|-1.656|[1000.0,1.9751231...|  1.0|         true|\n",
      "|   0.0|[1000.0,1.9761231...|  0.0|        false|\n",
      "|   0.0|[1000.0,1.9771231...|  0.0|        false|\n",
      "|   0.0|[1001.0,1.9781231...|  0.0|        false|\n",
      "|   0.0|[1001.0,1.9791231...|  0.0|        false|\n",
      "|   0.0|[1001.0,1.9801231...|  0.0|        false|\n",
      "+------+--------------------+-----+-------------+\n",
      "only showing top 20 rows\n",
      "\n"
     ]
    }
   ],
   "source": [
    "ml_df.show()"
   ]
  },
  {
   "cell_type": "code",
   "execution_count": 30,
   "metadata": {
    "collapsed": true
   },
   "outputs": [],
   "source": [
    "ml_df = ml_df.drop('rea').drop('boolean_label')\n"
   ]
  },
  {
   "cell_type": "code",
   "execution_count": 31,
   "metadata": {
    "collapsed": true
   },
   "outputs": [],
   "source": [
    "# Split the data into train and test\n",
    "splits = ml_df.randomSplit([0.6, 0.4], 12)\n",
    "train = splits[0]\n",
    "test = splits[1]\n",
    "\n",
    "# specify layers for the neural network:\n",
    "# input layer of size 4 (features), two intermediate of size 5 and 4\n",
    "# and output of size 3 (classes)\n",
    "layers = [1514, 1514, 1514, 2]\n",
    "\n",
    "# create the trainer and set its parameters\n",
    "trainer = MultilayerPerceptronClassifier(maxIter=10, layers=layers, blockSize=128, seed=1234)"
   ]
  },
  {
   "cell_type": "code",
   "execution_count": 32,
   "metadata": {
    "collapsed": true
   },
   "outputs": [],
   "source": [
    "# train the model\n",
    "# model = trainer.fit(train)"
   ]
  },
  {
   "cell_type": "code",
   "execution_count": 33,
   "metadata": {
    "collapsed": true
   },
   "outputs": [],
   "source": [
    "# # compute accuracy on the test set\n",
    "# result = model.transform(test)\n",
    "# predictionAndLabels = result.select(\"prediction\", \"label\")\n",
    "# evaluator = MulticlassClassificationEvaluator(metricName=\"accuracy\")\n",
    "# print(\"Test set accuracy = \" + str(evaluator.evaluate(predictionAndLabels)))"
   ]
  },
  {
   "cell_type": "code",
   "execution_count": 34,
   "metadata": {
    "collapsed": true
   },
   "outputs": [],
   "source": [
    "import numpy as np\n",
    "label_np = np.array(train.select('label').collect())"
   ]
  },
  {
   "cell_type": "code",
   "execution_count": 35,
   "metadata": {
    "collapsed": true
   },
   "outputs": [],
   "source": [
    "features_np = np.array(train.select('features').collect())"
   ]
  },
  {
   "cell_type": "code",
   "execution_count": 36,
   "metadata": {
    "collapsed": true
   },
   "outputs": [],
   "source": [
    "features_np_flat = [x[0] for x in features_np]"
   ]
  },
  {
   "cell_type": "code",
   "execution_count": 37,
   "metadata": {
    "collapsed": true
   },
   "outputs": [],
   "source": [
    "result = np.vstack(features_np_flat)"
   ]
  },
  {
   "cell_type": "code",
   "execution_count": 38,
   "metadata": {},
   "outputs": [
    {
     "name": "stderr",
     "output_type": "stream",
     "text": [
      "Using TensorFlow backend.\n"
     ]
    },
    {
     "name": "stdout",
     "output_type": "stream",
     "text": [
      "Epoch 1/100\n",
      "596/596 [==============================] - 0s - loss: 14.6317 - acc: 0.0822     \n",
      "Epoch 2/100\n",
      "596/596 [==============================] - 0s - loss: 14.6317 - acc: 0.0822     \n",
      "Epoch 3/100\n",
      "596/596 [==============================] - 0s - loss: 14.6317 - acc: 0.0822     \n",
      "Epoch 4/100\n",
      "596/596 [==============================] - 0s - loss: 14.6317 - acc: 0.0822         \n",
      "Epoch 5/100\n",
      "596/596 [==============================] - 0s - loss: 14.6317 - acc: 0.0822     \n",
      "Epoch 6/100\n",
      "596/596 [==============================] - 0s - loss: 14.6317 - acc: 0.0822     \n",
      "Epoch 7/100\n",
      "596/596 [==============================] - 0s - loss: 14.6317 - acc: 0.0822     \n",
      "Epoch 8/100\n",
      "596/596 [==============================] - 0s - loss: 14.6317 - acc: 0.0822     \n",
      "Epoch 9/100\n",
      "596/596 [==============================] - 0s - loss: 14.6317 - acc: 0.0822     \n",
      "Epoch 10/100\n",
      "596/596 [==============================] - 0s - loss: 14.6317 - acc: 0.0822     \n",
      "Epoch 11/100\n",
      "596/596 [==============================] - 0s - loss: 14.6317 - acc: 0.0822     \n",
      "Epoch 12/100\n",
      "596/596 [==============================] - 0s - loss: 14.6317 - acc: 0.0822     \n",
      "Epoch 13/100\n",
      "596/596 [==============================] - 0s - loss: 14.6317 - acc: 0.0822     \n",
      "Epoch 14/100\n",
      "596/596 [==============================] - 0s - loss: 14.6317 - acc: 0.0822     \n",
      "Epoch 15/100\n",
      "596/596 [==============================] - 0s - loss: 14.6317 - acc: 0.0822     \n",
      "Epoch 16/100\n",
      "596/596 [==============================] - 0s - loss: 14.6317 - acc: 0.0822     \n",
      "Epoch 17/100\n",
      "596/596 [==============================] - 0s - loss: 14.6317 - acc: 0.0822     \n",
      "Epoch 18/100\n",
      "596/596 [==============================] - 0s - loss: 14.6317 - acc: 0.0822     \n",
      "Epoch 19/100\n",
      "596/596 [==============================] - 0s - loss: 14.6317 - acc: 0.0822         \n",
      "Epoch 20/100\n",
      "596/596 [==============================] - 0s - loss: 14.6317 - acc: 0.0822     \n",
      "Epoch 21/100\n",
      "596/596 [==============================] - 0s - loss: 14.6317 - acc: 0.0822     \n",
      "Epoch 22/100\n",
      "596/596 [==============================] - 0s - loss: 14.6317 - acc: 0.0822     \n",
      "Epoch 23/100\n",
      "596/596 [==============================] - 0s - loss: 14.6317 - acc: 0.0822     \n",
      "Epoch 24/100\n",
      "596/596 [==============================] - 0s - loss: 14.6317 - acc: 0.0822     \n",
      "Epoch 25/100\n",
      "596/596 [==============================] - 0s - loss: 14.6317 - acc: 0.0822     \n",
      "Epoch 26/100\n",
      "596/596 [==============================] - 0s - loss: 14.6317 - acc: 0.0822         \n",
      "Epoch 27/100\n",
      "596/596 [==============================] - 0s - loss: 14.6317 - acc: 0.0822         \n",
      "Epoch 28/100\n",
      "596/596 [==============================] - 0s - loss: 14.6317 - acc: 0.0822     \n",
      "Epoch 29/100\n",
      "596/596 [==============================] - 0s - loss: 14.6317 - acc: 0.0822     \n",
      "Epoch 30/100\n",
      "596/596 [==============================] - 0s - loss: 14.6317 - acc: 0.0822     \n",
      "Epoch 31/100\n",
      "596/596 [==============================] - 0s - loss: 14.6317 - acc: 0.0822     \n",
      "Epoch 32/100\n",
      "596/596 [==============================] - 0s - loss: 14.6317 - acc: 0.0822     \n",
      "Epoch 33/100\n",
      "596/596 [==============================] - 0s - loss: 14.6317 - acc: 0.0822     \n",
      "Epoch 34/100\n",
      "596/596 [==============================] - 0s - loss: 14.6317 - acc: 0.0822     \n",
      "Epoch 35/100\n",
      "596/596 [==============================] - 0s - loss: 14.6317 - acc: 0.0822     \n",
      "Epoch 36/100\n",
      "596/596 [==============================] - 0s - loss: 14.6317 - acc: 0.0822     \n",
      "Epoch 37/100\n",
      "596/596 [==============================] - 0s - loss: 14.6317 - acc: 0.0822     \n",
      "Epoch 38/100\n",
      "596/596 [==============================] - 0s - loss: 14.6317 - acc: 0.0822     \n",
      "Epoch 39/100\n",
      "596/596 [==============================] - 0s - loss: 14.6317 - acc: 0.0822     \n",
      "Epoch 40/100\n",
      "596/596 [==============================] - 0s - loss: 14.6317 - acc: 0.0822     \n",
      "Epoch 41/100\n",
      "596/596 [==============================] - 0s - loss: 14.6317 - acc: 0.0822     \n",
      "Epoch 42/100\n",
      "596/596 [==============================] - 0s - loss: 14.6317 - acc: 0.0822     \n",
      "Epoch 43/100\n",
      "596/596 [==============================] - 0s - loss: 14.6317 - acc: 0.0822     \n",
      "Epoch 44/100\n",
      "596/596 [==============================] - 0s - loss: 14.6317 - acc: 0.0822     \n",
      "Epoch 45/100\n",
      "596/596 [==============================] - 0s - loss: 14.6317 - acc: 0.0822     \n",
      "Epoch 46/100\n",
      "596/596 [==============================] - 0s - loss: 14.6317 - acc: 0.0822     \n",
      "Epoch 47/100\n",
      "596/596 [==============================] - 0s - loss: 14.6317 - acc: 0.0822     \n",
      "Epoch 48/100\n",
      "596/596 [==============================] - 0s - loss: 14.6317 - acc: 0.0822     \n",
      "Epoch 49/100\n",
      "596/596 [==============================] - 0s - loss: 14.6317 - acc: 0.0822     \n",
      "Epoch 50/100\n",
      "596/596 [==============================] - 0s - loss: 14.6317 - acc: 0.0822     \n",
      "Epoch 51/100\n",
      "596/596 [==============================] - 0s - loss: 14.6317 - acc: 0.0822     \n",
      "Epoch 52/100\n",
      "596/596 [==============================] - 0s - loss: 14.6317 - acc: 0.0822     \n",
      "Epoch 53/100\n",
      "596/596 [==============================] - 0s - loss: 14.6317 - acc: 0.0822         \n",
      "Epoch 54/100\n",
      "596/596 [==============================] - 0s - loss: 14.6317 - acc: 0.0822     \n",
      "Epoch 55/100\n",
      "596/596 [==============================] - 0s - loss: 14.6317 - acc: 0.0822     \n",
      "Epoch 56/100\n",
      "596/596 [==============================] - 0s - loss: 14.6317 - acc: 0.0822     \n",
      "Epoch 57/100\n",
      "596/596 [==============================] - 0s - loss: 14.6317 - acc: 0.0822     \n",
      "Epoch 58/100\n",
      "596/596 [==============================] - 0s - loss: 14.6317 - acc: 0.0822     \n",
      "Epoch 59/100\n",
      "596/596 [==============================] - 0s - loss: 14.6317 - acc: 0.0822     \n",
      "Epoch 60/100\n",
      "596/596 [==============================] - 0s - loss: 14.6317 - acc: 0.0822     \n",
      "Epoch 61/100\n",
      "596/596 [==============================] - 0s - loss: 14.6317 - acc: 0.0822     \n",
      "Epoch 62/100\n",
      "596/596 [==============================] - 0s - loss: 14.6317 - acc: 0.0822     \n",
      "Epoch 63/100\n",
      "596/596 [==============================] - 0s - loss: 14.6317 - acc: 0.0822     \n",
      "Epoch 64/100\n",
      "596/596 [==============================] - 0s - loss: 14.6317 - acc: 0.0822     \n",
      "Epoch 65/100\n",
      "596/596 [==============================] - 0s - loss: 14.6317 - acc: 0.0822     \n",
      "Epoch 66/100\n",
      "596/596 [==============================] - 0s - loss: 14.6317 - acc: 0.0822     \n",
      "Epoch 67/100\n",
      "596/596 [==============================] - 0s - loss: 14.6317 - acc: 0.0822     \n",
      "Epoch 68/100\n",
      "596/596 [==============================] - 0s - loss: 14.6317 - acc: 0.0822     \n",
      "Epoch 69/100\n",
      "596/596 [==============================] - 0s - loss: 14.6317 - acc: 0.0822         \n",
      "Epoch 70/100\n",
      "596/596 [==============================] - ETA: 0s - loss: 15.4442 - acc: 0.03 - 0s - loss: 14.6317 - acc: 0.0822     \n",
      "Epoch 71/100\n",
      "596/596 [==============================] - 0s - loss: 14.6317 - acc: 0.0822     \n",
      "Epoch 72/100\n",
      "596/596 [==============================] - 0s - loss: 14.6317 - acc: 0.0822     \n",
      "Epoch 73/100\n",
      "596/596 [==============================] - 0s - loss: 14.6317 - acc: 0.0822     \n",
      "Epoch 74/100\n",
      "596/596 [==============================] - 0s - loss: 14.6317 - acc: 0.0822     \n",
      "Epoch 75/100\n",
      "596/596 [==============================] - 0s - loss: 14.6317 - acc: 0.0822     \n",
      "Epoch 76/100\n",
      "596/596 [==============================] - 0s - loss: 14.6317 - acc: 0.0822     \n",
      "Epoch 77/100\n",
      "596/596 [==============================] - 0s - loss: 14.6317 - acc: 0.0822     \n",
      "Epoch 78/100\n",
      "596/596 [==============================] - 0s - loss: 14.6317 - acc: 0.0822     \n",
      "Epoch 79/100\n",
      "596/596 [==============================] - 0s - loss: 14.6317 - acc: 0.0822     \n",
      "Epoch 80/100\n",
      "596/596 [==============================] - 0s - loss: 14.6317 - acc: 0.0822     \n",
      "Epoch 81/100\n",
      "596/596 [==============================] - 0s - loss: 14.6317 - acc: 0.0822     \n",
      "Epoch 82/100\n",
      "596/596 [==============================] - 0s - loss: 14.6317 - acc: 0.0822     \n",
      "Epoch 83/100\n",
      "596/596 [==============================] - 0s - loss: 14.6317 - acc: 0.0822     \n",
      "Epoch 84/100\n",
      "596/596 [==============================] - 0s - loss: 14.6317 - acc: 0.0822     \n",
      "Epoch 85/100\n",
      "596/596 [==============================] - 0s - loss: 14.6317 - acc: 0.0822     \n",
      "Epoch 86/100\n",
      "596/596 [==============================] - 0s - loss: 14.6317 - acc: 0.0822     \n",
      "Epoch 87/100\n",
      "596/596 [==============================] - 0s - loss: 14.6317 - acc: 0.0822     \n",
      "Epoch 88/100\n",
      "596/596 [==============================] - 0s - loss: 14.6317 - acc: 0.0822     \n",
      "Epoch 89/100\n",
      "596/596 [==============================] - 0s - loss: 14.6317 - acc: 0.0822     \n",
      "Epoch 90/100\n",
      "596/596 [==============================] - 0s - loss: 14.6317 - acc: 0.0822     \n",
      "Epoch 91/100\n",
      "596/596 [==============================] - 0s - loss: 14.6317 - acc: 0.0822     \n",
      "Epoch 92/100\n",
      "596/596 [==============================] - 0s - loss: 14.6317 - acc: 0.0822     \n",
      "Epoch 93/100\n",
      "596/596 [==============================] - 0s - loss: 14.6317 - acc: 0.0822     \n",
      "Epoch 94/100\n",
      "596/596 [==============================] - 0s - loss: 14.6317 - acc: 0.0822     \n",
      "Epoch 95/100\n",
      "596/596 [==============================] - 0s - loss: 14.6317 - acc: 0.0822     \n",
      "Epoch 96/100\n",
      "596/596 [==============================] - 0s - loss: 14.6317 - acc: 0.0822         \n",
      "Epoch 97/100\n",
      "596/596 [==============================] - 0s - loss: 14.6317 - acc: 0.0822     \n",
      "Epoch 98/100\n",
      "596/596 [==============================] - 0s - loss: 14.6317 - acc: 0.0822     \n",
      "Epoch 99/100\n",
      "596/596 [==============================] - 0s - loss: 14.6317 - acc: 0.0822     \n",
      "Epoch 100/100\n",
      "596/596 [==============================] - 0s - loss: 14.6317 - acc: 0.0822     \n"
     ]
    },
    {
     "data": {
      "text/plain": [
       "<keras.callbacks.History at 0x31ba45da0>"
      ]
     },
     "execution_count": 38,
     "metadata": {},
     "output_type": "execute_result"
    }
   ],
   "source": [
    "# For a single-input model with 2 classes (binary classification):\n",
    "from keras.models import Model\n",
    "from keras.layers import Input, Dense\n",
    "from keras.models import Sequential\n",
    "model = Sequential()\n",
    "model.add(Dense(18, activation='relu', input_dim=9))\n",
    "# model.add(Dense(18, activation='relu', input_dim=18))\n",
    "model.add(Dense(1, input_dim = 18,  activation='sigmoid'))\n",
    "model.compile(optimizer='rmsprop',\n",
    "              loss='binary_crossentropy',\n",
    "              metrics=['accuracy'])\n",
    "\n",
    "# Generate dummy data\n",
    "# import numpy as np\n",
    "# data = np.random.random((1000, 100))\n",
    "# labels = np.random.randint(2, size=(1000, 1))\n",
    "\n",
    "# Train the model, iterating on the data in batches of 32 samples\n",
    "model.fit(result, label_np, epochs=100, batch_size=32)"
   ]
  },
  {
   "cell_type": "code",
   "execution_count": 39,
   "metadata": {
    "collapsed": true
   },
   "outputs": [],
   "source": [
    "unique, counts = np.unique(label_np, return_counts=True)"
   ]
  },
  {
   "cell_type": "code",
   "execution_count": 40,
   "metadata": {},
   "outputs": [
    {
     "data": {
      "text/plain": [
       "array([ 0.,  1.])"
      ]
     },
     "execution_count": 40,
     "metadata": {},
     "output_type": "execute_result"
    }
   ],
   "source": [
    "unique"
   ]
  },
  {
   "cell_type": "code",
   "execution_count": 41,
   "metadata": {},
   "outputs": [
    {
     "data": {
      "text/plain": [
       "array([547,  49])"
      ]
     },
     "execution_count": 41,
     "metadata": {},
     "output_type": "execute_result"
    }
   ],
   "source": [
    "counts"
   ]
  },
  {
   "cell_type": "code",
   "execution_count": 42,
   "metadata": {},
   "outputs": [
    {
     "data": {
      "text/plain": [
       "0.9177852348993288"
      ]
     },
     "execution_count": 42,
     "metadata": {},
     "output_type": "execute_result"
    }
   ],
   "source": [
    "547/(49+547)"
   ]
  }
 ],
 "metadata": {
  "kernelspec": {
   "display_name": "Python 3",
   "language": "python",
   "name": "python3"
  },
  "language_info": {
   "codemirror_mode": {
    "name": "ipython",
    "version": 3
   },
   "file_extension": ".py",
   "mimetype": "text/x-python",
   "name": "python",
   "nbconvert_exporter": "python",
   "pygments_lexer": "ipython3",
   "version": "3.5.2"
  }
 },
 "nbformat": 4,
 "nbformat_minor": 2
}
