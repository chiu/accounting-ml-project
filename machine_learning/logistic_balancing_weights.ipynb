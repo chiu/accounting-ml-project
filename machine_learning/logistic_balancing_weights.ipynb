{
 "cells": [
  {
   "cell_type": "code",
   "execution_count": 1,
   "metadata": {},
   "outputs": [],
   "source": [
    "# Imports\n",
    "from pyspark.sql import SparkSession\n",
    "from pyspark.sql.functions import isnan, when, count, col\n",
    "\n",
    "from pyspark.ml.feature import VectorAssembler\n",
    "from pyspark.ml.feature import StringIndexer\n",
    "from pyspark.ml.classification import RandomForestClassifier, LogisticRegression\n",
    "from pyspark.ml.evaluation import MulticlassClassificationEvaluator, BinaryClassificationEvaluator\n",
    "from pyspark.mllib.evaluation import MulticlassMetrics\n",
    "\n",
    "# spark = SparkSession.builder.appName('733').getOrCreate()\n",
    "\n",
    "# # Using the integrated file to start working on\n",
    "# integrated_df = spark.read.parquet('/user/vcs/annual_integrated_dataset_v2.parquet')\n",
    "\n",
    "# # Using nullcounts to filter columns to keep\n",
    "# nullcounts = integrated_df.select([count(when(isnan(c) | col(c).isNull(), c)).alias(c) for c in integrated_df.columns])\n",
    "# nc = list(nullcounts.first())\n",
    "\n",
    "# # Extracting out an industrial segment and modelling on it instead of the whole dataset\n",
    "# # Services-packaged software category selection (from EDA)\n",
    "# services_prepacked_software = integrated_df.filter(integrated_df.sic == '7372')\n",
    "# print('Total records in integrated file: ', integrated_df.count())\n",
    "# print(services_prepacked_software.show())\n",
    "# print('Number of records in Services-packaged software industrial category: ', services_prepacked_software.count())\n",
    "\n",
    "# # Reusing preprocessing steps implemented by Vincent\n",
    "# some_dict = {}\n",
    "# for x in services_prepacked_software.columns:\n",
    "# \tsome_dict[x] = 0\n",
    "\n",
    "# nwdf = services_prepacked_software.fillna(some_dict)\n",
    "\n",
    "# good_columns = []\n",
    "# for i in range(0, len(nc)):\n",
    "# \tif nc[i] == 0:\n",
    "# \t\tgood_columns.append(i)\n",
    "\n",
    "# great_columns = [nwdf.columns[i] for i in good_columns]\n",
    "# great_columns.append('rea')\n",
    "# nwdf = nwdf.fillna(some_dict)\n",
    "\n",
    "# non_string_columns = [k for (k,v) in nwdf.dtypes if v != 'string']\n",
    "# nwdf_no_strings = nwdf.select(*non_string_columns)\n",
    "# feature_columns = [item for item in nwdf_no_strings.columns if item not in ['rea', 'features']]\n",
    "\n",
    "# assembler = VectorAssembler(inputCols=feature_columns, outputCol=\"features\")\n",
    "# final_df = assembler.transform(nwdf_no_strings)\n",
    "# final_final_df = final_df.drop(*feature_columns)\n",
    "\n",
    "# final_final_df = final_final_df.withColumn('boolean_label', final_final_df.rea != 0)\n",
    "\n",
    "# print('Class distribution: ', final_final_df.groupBy('boolean_label').count().show())\n",
    "\n",
    "# final_final_df = final_final_df.withColumn('label', final_final_df.boolean_label.cast('float'))\n",
    "# final_final_df = final_final_df.drop('rea').drop('boolean_label')\n",
    "# print(final_final_df.show())\n",
    "\n",
    "# # String indexing not required\n",
    "# stringIndexer = StringIndexer(inputCol=\"label\", outputCol=\"indexed\")\n",
    "# si_model = stringIndexer.fit(final_final_df)\n",
    "# td = si_model.transform(final_final_df)\n",
    "\n",
    "# # Evaluators\n",
    "# evaluator = MulticlassClassificationEvaluator(metricName = 'accuracy')\n",
    "# eval = BinaryClassificationEvaluator()\n",
    "\n",
    "# # RandomForest classifier\n",
    "# rf = RandomForestClassifier(numTrees=100, maxDepth=16, labelCol=\"indexed\", seed=42)\n",
    "# model = rf.fit(td)\n",
    "# result = model.transform(final_final_df)\n",
    "# print('Accuracy on training data: ', evaluator.evaluate(result))\n",
    "\n",
    "# # Train test split for model evaluation\n",
    "# train, test = final_final_df.randomSplit([0.7, 0.3], seed=12345)\n",
    "\n",
    "# rf = RandomForestClassifier(numTrees=100, maxDepth=16, labelCol=\"label\", seed=42)\n",
    "# print('Training RandomForest model on training set. \\n Model parameters: {}'.format(rf._paramMap))\n",
    "# trained_model = rf.fit(train)\n",
    "# res = trained_model.transform(test)\n",
    "# metrics = MulticlassMetrics(res.select(['label', 'prediction']).rdd)\n",
    "# print('Accuracy on test set: ', evaluator.evaluate(res))\n",
    "# print('Precision on test data: ', metrics.precision())\n",
    "# print('Recall on test data: ', metrics.recall())\n",
    "# print('F1 Score on test data: ', metrics.fMeasure())\n",
    "# print('Area under ROC curve: ', eval.evaluate(res))\n",
    "\n",
    "# # Logistic regression\n",
    "# print('Training LogisticRegression model on training set.')\n",
    "# logistic = LogisticRegression(regParam=0.1, labelCol=\"label\")\n",
    "# trained_model = logistic.fit(train)\n",
    "# res = trained_model.transform(test)\n",
    "# metrics = MulticlassMetrics(res.select(['label', 'prediction']).rdd)\n",
    "# print('Accuracy on test set: ', evaluator.evaluate(res))\n",
    "# print('Precision on test data: ', metrics.precision())\n",
    "# print('Recall on test data: ', metrics.recall())\n",
    "# print('F1 Score on test data: ', metrics.fMeasure())\n",
    "# print('Area under ROC curve: ', eval.evaluate(res))"
   ]
  },
  {
   "cell_type": "code",
   "execution_count": 2,
   "metadata": {},
   "outputs": [],
   "source": [
    "spark = SparkSession.builder.appName('733').getOrCreate()"
   ]
  },
  {
   "cell_type": "code",
   "execution_count": 11,
   "metadata": {},
   "outputs": [],
   "source": [
    "# Using the integrated file to start working on\n",
    "integrated_df = spark.read.csv('/home/kanika/accounting-ml-project/AIprojectcopy/annual_compustat.csv',header=True,inferSchema=True)"
   ]
  },
  {
   "cell_type": "code",
   "execution_count": 15,
   "metadata": {},
   "outputs": [],
   "source": [
    "ls = ['CONM', 'ACCHG', 'ACO', 'ACOMINC', 'ACQCSHI', 'ACQGDWL', 'ACQINTAN', 'ACQLNTAL', 'ACT', 'AMGW','AQ','AP','AQC','ARC','AT','AU','AUOP','AUOPIC','BKVLPS','CAPX','CDVC','CEQ','CGA','CHE','CHECH','CI','CIMII','CLD2','CLD3','CLD4','CLD5','CLT','COGS','CSHI','CURNCD','DCOM','DCPSTK','DCVT','DEPC','DLTT','DM','DO','DP','DPACLS','DRC','DRLT','DV','DVC','DVPA','DVPDP','DVPSP_F','EBIT','EBITDA','EMOL','EMP','EPSFI','EPSPI','ESOPCT','ESOPDLT','EXCHG','EXRE','FATB','FATE','FATN','FATL','FATO','FCA','FEL','FIC','FINCF','FOPT','FYEAR','FYR','GDWL','GDWLAM','GDWLIA','GLA','GP','GWO','HEDGEGL','ICAPT','IDBFLAG','IDIIS','IDILC','IDIT','INTAN','INTC','INVCH','INCFG','INVOFS','INVRM','INVT','INVWIP','IPODATE','ISEQ','ISEQC','ISEQM','ISFI','ISGR','ISGU','ITCB','IVCH','IVNCF','LCT','LCUACU','LIFR','LLRCI','LLWOCI','LT','MIB','MIBT','MII','MKVALT','NAICS','NI','NIINT','NIINTPFC','NIINTPFP','NOPIO','NP','NPANL','NPAT','NRTXT','OANCF','OB','OIADP','OIBDP','OPEPS','OPINI','OPITI','OPREPSX','OPTCA','OPTEX','OPTEXD','OPTFVGR','OPTGR','OPTPRCCA','OPTPRCEX','OPTPRCEY','OPTPRCGR','OPTPRCWA','OPTVOL','PCL','PI','PIFO','PLL','PNCA','PNCIA','PPEGT','PPENB','PPENC','PPENLS','PPENNR','PPENT','PPEVO','PPEVR','PRCC_F','PRCH_F','PRICAN','PRIROW','PRIUSA','PRODV','PRSTKCC','PRSTKPC','PSTKC','PVCL','PVO','PVPL','PVT','RANK','RCA','RDIP','RE','REA','REAJO','RECCH','RECT','RECTA','REUNA','REVT','RLL','RMUM','RPAG','RVLRV','RVTI','SALE','SALEPFC','SALEPFP','SCO','SCSTKC','SEQ','SIC','SIV','SPCE','SPCINDCD','SPCSECCD','SPCSRC','SPI','SPPE','SPPIV','SPSTKC','SRET','SSNP','STBO','STIO','STKCO','STKO','TDC','TEQ','TFVA','TFVCE','TFVL','TIC','TLCF','TRANSA','TSA','TSTKC','TSTKP','TXC','TXDB','TXDBA','TXDBCA','TXDBCL','TXFED','TXFO','TXPD','TXR','TXT','TXTUBXINTBS','TXTUBXINTIS','VPAC','VPO','WCAP','WCAPC','WCAPCH','WDA','XACC','XAD','XAGO','XAGT','XCOM','XDP','XEQO','XI','XIDO','XINST','XINT','XINTD','XINTOPT','XLR','XOPR','XOPRAR','XPP','XPR','XRD','XRENT','XS','XSGA','XSTF','XSTFO','XSTFWS','XT']\n",
    "ls = [x.lower() for x in ls]\n",
    "annual_filtered = integrated_df.select([c for c in integrated_df.columns if c in ls])"
   ]
  },
  {
   "cell_type": "code",
   "execution_count": 20,
   "metadata": {},
   "outputs": [
    {
     "name": "stdout",
     "output_type": "stream",
     "text": [
      "Total records in integrated file:  505781\n",
      "+-----+------+----------------+------+---+-----+-----+-------+-------+-------+--------+--------+------+----+-----+------+----+------+-------+-----+----+-------+----+------+-------+----+-----+----+----+----+----+----+------+----+----+------+----+----+-----+-----+----+-----+------+----+----+----+----+----+-----+-------+-------+----+-----+-----+-----+------+-------+------+----+-----+----+----+----+----+----+------+-------+------+------+------+----+-------+----+-------+-------+-----+-----+-----+------+----+------+------+------+------+------+----+-----+-----+----+----+----+----+------+------+------+------+----+-----+------+------+----+----+----+-------+-----+--------+--------+-----+-----+-----+----+-----+------+-----+-------+-------+-----+-----+-----+-------+-----+-----+------+-------+-----+--------+--------+--------+--------+--------+------+----+-------+------+----+----+-----+-----+-----+-----+------+------+-----+-----+-----+-----+-------+-------+-----+----+----+----+----+----+----+-------+----+-----+------+------+------+-------+-------+----+----+----+-----+----+-------+-------+-------+----+------+-------+----+----+-------+-----+------+------+----+----+----+----+-----+----+----+----+-----+----+----+------+----+-----+-----+-------+-----+-----+------+------+-------+-----+-----+-----+------+-----------+-----------+----+----+-------+-------+-------+----+-----+------+----+----+----+-----+----+-----+-----+-----+-----+-----+-------+-----+-------+------+-----+----+-----+-----+----+------+----+-----+------+----+-----+---+-------+------+------+------+----+----+----+------+-------+------+------+------+------+----+--------+--------+------+----+-------+\n",
      "|fyear|   tic|            conm|curncd|fyr|acchg|  aco|acominc|acqcshi|acqgdwl|acqintan|acqlntal|   act|amgw|   ap|   aqc| arc|    at| bkvlps| capx|cdvc|    ceq| cga|   che|  chech|  ci|cimii|cld2|cld3|cld4|cld5| clt|  cogs|cshi|dcom|dcpstk|dcvt|depc| dltt|   dm|  do|   dp|dpacls| drc|drlt|  dv| dvc|dvpa|dvpdp|   ebit| ebitda|emol|  emp|epsfi|epspi|esopct|esopdlt|  exre|fatb| fate|fatl|fatn|fato| fca| fel| fincf|   fopt|  gdwl|gdwlam|gdwlia| gla|     gp| gwo|hedgegl|  icapt|idiis|idilc| idit| intan|intc| invch|invofs| invrm|  invt|invwip|iseq|iseqc|iseqm|isfi|isgr|isgu|itcb|  ivch| ivncf|   lct|lcuacu|lifr|llrci|llwoci|    lt| mib|mibt| mii|     ni|niint|niintpfc|niintpfp|nopio|   np|npanl|npat|nrtxt| oancf|   ob|  oiadp|  oibdp|opeps|opini|opiti|oprepsx|optca|optex|optexd|optfvgr|optgr|optprcca|optprcex|optprcey|optprcgr|optprcwa|optvol| pcl|     pi|  pifo| pll|pnca|pncia|ppegt|ppenb|ppenc|ppenls|ppennr|ppent|ppevo|ppevr|prodv|prstkcc|prstkpc|pstkc|pvcl| pvo|pvpl| pvt| rca|rdip|     re| rea|reajo| recch|  rect| recta|  reuna|   revt| rll|rmum|rpag|rvlrv|rvti|   sale|salepfc|salepfp| sco|scstkc|    seq| siv|spce|    spi| sppe| sppiv|spstkc|sret|ssnp|stbo|stio|stkco| tdc| teq|tfva|tfvce|tfvl|tlcf|transa| tsa|tstkc|tstkp|    txc| txdb|txdba|txdbca|txdbcl|  txfed| txfo| txpd|  txr|   txt|txtubxintbs|txtubxintis|vpac| vpo|   wcap|  wcapc| wcapch| wda| xacc|   xad|xago|xagt|xcom|  xdp|xeqo|   xi| xido|xinst| xint|xintd|xintopt|  xlr|   xopr|xoprar|  xpp| xpr|  xrd|xrent|  xs|  xsga|xstf|xstfo|xstfws|  xt|exchg|fic|dvpsp_f|mkvalt|prcc_f|prch_f|rank|  au|auop|auopic|idbflag| naics|prican|prirow|priusa| sic|spcindcd|spcseccd|spcsrc|stko|ipodate|\n",
      "+-----+------+----------------+------+---+-----+-----+-------+-------+-------+--------+--------+------+----+-----+------+----+------+-------+-----+----+-------+----+------+-------+----+-----+----+----+----+----+----+------+----+----+------+----+----+-----+-----+----+-----+------+----+----+----+----+----+-----+-------+-------+----+-----+-----+-----+------+-------+------+----+-----+----+----+----+----+----+------+-------+------+------+------+----+-------+----+-------+-------+-----+-----+-----+------+----+------+------+------+------+------+----+-----+-----+----+----+----+----+------+------+------+------+----+-----+------+------+----+----+----+-------+-----+--------+--------+-----+-----+-----+----+-----+------+-----+-------+-------+-----+-----+-----+-------+-----+-----+------+-------+-----+--------+--------+--------+--------+--------+------+----+-------+------+----+----+-----+-----+-----+-----+------+------+-----+-----+-----+-----+-------+-------+-----+----+----+----+----+----+----+-------+----+-----+------+------+------+-------+-------+----+----+----+-----+----+-------+-------+-------+----+------+-------+----+----+-------+-----+------+------+----+----+----+----+-----+----+----+----+-----+----+----+------+----+-----+-----+-------+-----+-----+------+------+-------+-----+-----+-----+------+-----------+-----------+----+----+-------+-------+-------+----+-----+------+----+----+----+-----+----+-----+-----+-----+-----+-----+-------+-----+-------+------+-----+----+-----+-----+----+------+----+-----+------+----+-----+---+-------+------+------+------+----+----+----+------+-------+------+------+------+------+----+--------+--------+------+----+-------+\n",
      "| 1979| 4303B|AMS/REALSTAR INC|   USD| 12| null| null|   null|   null|   null|    null|    null|  null|null| null|  null|null|  null|   null| null|null|   null|null|  null|   null|null| null|null|null|null|null|null|  null|null|null|  null|null|null| null| null|null| null|  null|null|null|null|null|null| null|   null|   null|null| null| null| null|  null|   null|  null|null| null|null|null|null|null|null|  null|   null|  null|  null|  null|null|   null|null|   null|   null| null| null| null|  null|null|  null|  null|  null|  null|  null|null| null| null|null|null|null|null|  null|  null|  null|  null|null| null|  null|  null|null|null|null|   null| null|    null|    null| null| null| null|null| null|  null| null|   null|   null| null| null| null|   null| null| null|  null|   null| null|    null|    null|    null|    null|    null|  null|null|   null|  null|null|null| null| null| null| null|  null|  null| null| null| null| null|   null|   null| null|null|null|null|null|null|null|   null|null| null|  null|  null|  null|   null|   null|null|null|null| null|null|   null|   null|   null|null|  null|   null|null|null|   null| null|  null|  null|null|null|null|null| null|null|null|null| null|null|null|  null|null| null| null|   null| null| null|  null|  null|   null| null| null| null|  null|       null|       null|null|null|   null|   null|   null|null| null|  null|null|null|null| null|null| null| null| null| null| null|   null| null|   null|  null| null|null| null| null|null|  null|null| null|  null|null|    1|USA|   null|  null|  null|  null|null|null|null|  null|      D|511210|  null|  null|    01|7372|     185|     940|  null|   3|   null|\n",
      "| 1980| 4303B|AMS/REALSTAR INC|   USD| 12| null| null|   null|   null|   null|    null|    null|  null|null| null|  null|null|  null|   null| null|null|   null|null|  null|   null|null| null|null|null|null|null|null|  null|null|null|  null|null|null| null| null|null| null|  null|null|null|null|null|null| null|   null|   null|null| null| null| null|  null|   null|  null|null| null|null|null|null|null|null|  null|   null|  null|  null|  null|null|   null|null|   null|   null| null| null| null|  null|null|  null|  null|  null|  null|  null|null| null| null|null|null|null|null|  null|  null|  null|  null|null| null|  null|  null|null|null|null|   null| null|    null|    null| null| null| null|null| null|  null| null|   null|   null| null| null| null|   null| null| null|  null|   null| null|    null|    null|    null|    null|    null|  null|null|   null|  null|null|null| null| null| null| null|  null|  null| null| null| null| null|   null|   null| null|null|null|null|null|null|null|   null|null| null|  null|  null|  null|   null|   null|null|null|null| null|null|   null|   null|   null|null|  null|   null|null|null|   null| null|  null|  null|null|null|null|null| null|null|null|null| null|null|null|  null|null| null| null|   null| null| null|  null|  null|   null| null| null| null|  null|       null|       null|null|null|   null|   null|   null|null| null|  null|null|null|null| null|null| null| null| null| null| null|   null| null|   null|  null| null|null| null| null|null|  null|null| null|  null|null|    1|USA|   null|  null|  null|  null|null|null|null|  null|      D|511210|  null|  null|    01|7372|     185|     940|  null|   3|   null|\n",
      "| 1981| 4303B|AMS/REALSTAR INC|   USD| 12| null| null|   null|   null|   null|    null|    null|  null|null| null|  null|null|  null|   null| null|null|   null|null|  null|   null|null| null|null|null|null|null|null|  null|null|null|  null|null|null| null| null|null| null|  null|null|null|null|null|null| null|   null|   null|null| null| null| null|  null|   null|  null|null| null|null|null|null|null|null|  null|   null|  null|  null|  null|null|   null|null|   null|   null| null| null| null|  null|null|  null|  null|  null|  null|  null|null| null| null|null|null|null|null|  null|  null|  null|  null|null| null|  null|  null|null|null|null|   null| null|    null|    null| null| null| null|null| null|  null| null|   null|   null| null| null| null|   null| null| null|  null|   null| null|    null|    null|    null|    null|    null|  null|null|   null|  null|null|null| null| null| null| null|  null|  null| null| null| null| null|   null|   null| null|null|null|null|null|null|null|   null|null| null|  null|  null|  null|   null|   null|null|null|null| null|null|   null|   null|   null|null|  null|   null|null|null|   null| null|  null|  null|null|null|null|null| null|null|null|null| null|null|null|  null|null| null| null|   null| null| null|  null|  null|   null| null| null| null|  null|       null|       null|null|null|   null|   null|   null|null| null|  null|null|null|null| null|null| null| null| null| null| null|   null| null|   null|  null| null|null| null| null|null|  null|null| null|  null|null|    1|USA|   null|  null|  null|  null|null|null|null|  null|      D|511210|  null|  null|    01|7372|     185|     940|  null|   3|   null|\n",
      "| 1982| 4303B|AMS/REALSTAR INC|   USD| 12| null|0.015|   null|   null|   null|    null|    null|  0.54|null| 0.04|   0.0|null| 0.579| 0.0242|0.001|null|  0.382|null| 0.397|  0.396|null| null|null|null|null|null|null| 0.122|null|null|   0.0| 0.0|null|0.054|  0.0| 0.0|0.005|  null|null|null| 0.0| 0.0| 0.0| null| -0.097| -0.092|null|0.016|-0.02|-0.02|  null|   null|  null|null| null|null|null|null|null|null|  null|  -0.13|  null|  null|  null|null|  0.134|null|   null|  0.436| null| null|  0.0|   0.0| 0.0|  null|  null|  null|  0.04|  null|null| null| null|null|null|null| 0.0|   0.0|  null| 0.143|  null| 0.0| null|  null| 0.197| 0.0| 0.0| 0.0| -0.135| null|    null|    null|  0.0|0.051| null|null| null|  null|  0.0| -0.097| -0.092| null| null| null|   null| null| null|  null|   null| null|    null|    null|    null|    null|    null|  null|null| -0.135|  null|null|null| null| 0.02|  0.0|  0.0| 0.004|   0.0|0.011|  0.0|  0.0| null|   null|   null|  0.0|null|null|null|null|null|null| -0.463|null|  0.0|  null| 0.088|   0.0| -0.463|  0.256|null|null|null| null|null|  0.256|   null|   null|null|  null|  0.382| 0.0|null|    0.0|  0.0|  null|  null|null|null|null|null| null|null|null|null| null|null|null|  null|null|  0.0|  0.0|    0.0|  0.0| null|  null|  null|    0.0|  0.0| null|  0.0|   0.0|       null|       null|null|null|  0.397|   null|   null|null|0.044|  0.05|null|null|null|0.005|null|  0.0|  0.0| null|0.038| null|   null|0.066|  0.348|  null| null|null|0.033| null|null| 0.226|null| null|  null|null|    1|USA|    0.0|  null|  null|  null|   1|   1|   1|  null|      D|511210|  null|  null|    01|7372|     185|     940|  null|   3|   null|\n",
      "| 1983| 4303B|AMS/REALSTAR INC|   USD| 12| null|0.044|   null|   null|   null|    null|    null| 0.859|null|0.295| 1.248|null|  2.41|  0.066| 0.24|null|  1.148|null| 0.536| -0.715|null| null|null|null|null|null|null| 0.522|null|null|   0.0| 0.0|null|0.085| null| 0.0|0.023|  null|null|null| 0.0| 0.0| 0.0| null| -0.916| -0.893|null|0.037|-0.06|-0.06|  null|   null|  null|null| null|null|null|null|null|null|  null| -0.877|  null|  null|  null|null|  0.209|null|   null|  1.233| null| null|0.019| 0.545| 0.0|  null|  null|  null|   0.1|  null|null| null| null|null|null|null| 0.0| 0.063|  null| 1.177|  null| 0.0| null|  null| 1.262| 0.0| 0.0| 0.0| -0.908| null|    null|    null|  0.0|0.648| null|null| null|  null|0.101| -0.916| -0.893| null| null| null|   null| null| null|  null|   null| null|    null|    null|    null|    null|    null|  null|null| -0.908|  null|null|null| null| 0.25|  0.0|  0.0| 0.002|   0.0|0.221|  0.0| 0.01| null|   null|   null|  0.0|null|null|null|null|null|null| -1.371| 0.0|  0.0|  null| 0.179|   0.0| -1.371|  0.731|null|null|null| null|null|  0.731|   null|   null|null|  null|  1.148|null|null|    0.0|0.008|  null|  null|null|null|null|null| null|null|null|null| null|null|null|  null|null|  0.0|  0.0|    0.0|  0.0| null|  null|  null|    0.0|  0.0| null|  0.0|   0.0|       null|       null|null|null| -0.318|   null|   null|null|0.082| 0.283|null|null|null| 0.02|null|  0.0|  0.0| null|0.011| null|   null|0.381|  1.624|  null| null|null|0.089|0.069|null| 1.102|null| null|  null|null|    1|USA|    0.0|  null|  null|  null|   1|   1|   2|  null|      D|511210|  null|  null|    01|7372|     185|     940|  null|   3|   null|\n",
      "| 1984| 4303B|AMS/REALSTAR INC|   USD| 12| null|0.015|   null|   null|   null|    null|    null| 0.188|null| 0.42|   0.0|null| 0.651|-0.0417|0.032|null| -0.725|null| 0.022| -0.064|null| null|null|null|null|null|null| 0.373|null|null|  null|null|null|0.016| null| 0.0|0.064|   0.0|null|null| 0.0| 0.0| 0.0| null| -1.387| -1.323|null| 0.02|-0.11|-0.11|  null|   null|  null| 0.0| 0.26| 0.0| 0.0| 0.0|null|null|  null| -0.647|  null|  null|  null|null|  0.578|null|   null| -0.709| null| null|0.003|   0.0| 0.0|  null|  null|  null| 0.047|  null|null| null| null|null|null|null| 0.0|-0.026|  null| 1.222|  null| 0.0| null|  null| 1.376| 0.0| 0.0| 0.0| -1.873| null|    null|    null|0.069|0.488| null|null| null|  null|  0.0| -1.387| -1.323| null| null| null|   null| null| null|  null|   null| null|    null|    null|    null|    null|    null|  null|null| -2.147|  null|null|null| null|0.261|  0.0|  0.0|   0.0|   0.0|0.181|  0.0|0.021| null|   null|   null|  0.0|null|null|null|null|null|null| -3.244| 0.0|  0.0|  null| 0.104|   0.0| -3.244|  0.951|null|null|null| null|null|  0.951|   null|   null|null|  null| -0.725|null|null| -0.785|0.004|  null|  null|null|null|null|null| null|null|null|null| null|null|null|  null|null|  0.0|  0.0|    0.0|  0.0| null|  null|  null|    0.0|  0.0| null|  0.0|   0.0|       null|       null|null|null| -1.034| -0.585| -0.716|null|0.158| 0.336|null|null|null|0.064|null|0.274|0.274| null|0.047| null|   null|0.719|  2.274|  null| null|null|0.104|0.084|null| 1.901|null| null|  null|null|    1|USA|    0.0|  null| 0.031| 0.375|   1|   1|   2|  null|      D|511210|  null|  null|    01|7372|     185|     940|  null|   3|   null|\n",
      "| 1985| 4303B|AMS/REALSTAR INC|   USD| 12| null| 0.01|   null|   null|   null|    null|    null| 0.124|null|0.119|   0.0|null| 0.263|-0.0353|0.045|null| -0.615|null| 0.024|  0.002|null| null|null|null|null|null|null| 0.373|null|null|  null|null|null|0.003| null| 0.0|0.045|  null|null|null| 0.0| 0.0| 0.0| null| -0.354| -0.309|null|0.014|  0.0|  0.0|  null|   null|  null| 0.0|0.244|null| 0.0| 0.0|null|null|  null|  0.181|  null|  null|  null|null|  0.216|null|   null| -0.612| null| null| null|   0.0| 0.0|  null|  null|  null|  0.02|  null|null| null| null|null|null|null| 0.0|   0.0|  null| 0.579|  null| 0.0| null|  null| 0.878| 0.0| 0.0| 0.0|  0.028| null|    null|    null|0.253|0.265| null|null| null|  null|  0.0| -0.354| -0.309| null| null| null|   null| null| null|  null|   null| null|    null|    null|    null|    null|    null|  null|null| -0.136|  null|null|null| null|0.244|  0.0|  0.0|  null|   0.0|0.139|  0.0|0.062| null|   null|   null|  0.0|null|null|null|null|null|null| -3.216| 0.0|  0.0|  null|  0.07|   0.0| -3.216|  0.589|null|null|null| null|null|  0.589|   null|   null|null|  null| -0.615|null|null|    0.0| null|  null|  null|null|null|null|null| null|null|null|null| null|null|null|  null|null|  0.0|  0.0|    0.0|  0.0| null|  null|  null|    0.0|  0.0| null|  0.0|   0.0|       null|       null|null|null| -0.455|  0.304|   0.58|null|0.067| 0.079|null|null|null|0.045|null|0.164|0.164| null|0.035|0.035|   null|0.229|  0.898|  null| null|null|0.111| null|null| 0.525|null| null|  null|null|    1|USA|    0.0|  null| 0.031| 0.062|   1|   1|   2|  null|      D|511210|  null|  null|    01|7372|     185|     940|  null|   3|   null|\n",
      "| 1986| 4303B|AMS/REALSTAR INC|   USD| 12| null|0.011|   null|   null|   null|    null|    null| 0.023|null|0.127|   0.0|null|  0.07|-0.0495|  0.0|null| -0.861|null| 0.002| -0.022|null| null|null|null|null|null|null| 0.294|null|null|  null|null|null|0.007| null| 0.0|0.047|   0.0|null|null| 0.0| 0.0| 0.0| null| -0.354| -0.307|null|  0.0|-0.02|-0.02|  null|   null|  null| 0.0|0.228| 0.0| 0.0| 0.0|null|null|  null| -0.146|  null|  null|  null|null|  0.103|null|   null| -0.854| null| null| null|   0.0| 0.0|  null|  null|   0.0|   0.0|   0.0|null| null| null|null|null|null| 0.0|   0.0|  null| 0.498|  null| 0.0| null|  null| 0.931| 0.0| 0.0| 0.0| -0.312| null|    null|    null|0.047| 0.21| null|null| null|  null|  0.0| -0.354| -0.307| null| null| null|   null| null| null|  null|   null| null|    null|    null|    null|    null|    null|  null|null| -0.329|  null|null|null| null|0.228|  0.0|  0.0|   0.0|   0.0|0.047|  0.0|0.017| null|   null|   null|  0.0|null|null|null|null|null|null| -3.527| 0.0|  0.0|  null|  0.01|   0.0| -3.527|  0.397|null|null|null| null|null|  0.397|   null|   null|null|  null| -0.861|null|null|    0.0| null|  null|  null|null|null|null|null| null|null|null|null| null|null|null|  null|null|  0.0|  0.0|    0.0|  0.0| null|  null|  null|    0.0|  0.0| null|  0.0|   0.0|       null|       null|null|null| -0.475| -0.086| -0.021|null|0.161|  0.04|null|null|null|0.047|null|0.017|0.017| null|0.022|0.022|   null| 0.16|  0.704|  null| null|null| 0.06| null|null|  0.41|null| null|  null|null|    1|USA|    0.0|  null|  null|  null|   1|   0|   0|  null|      D|511210|  null|  null|    01|7372|     185|     940|  null|   3|   null|\n",
      "| 1982|ATVI.1|  ACTIVISION INC|   USD|  3| null|4.511|   null|   null|   null|    null|    null|51.074|null|9.265|   0.0|null|56.459| 2.2248|4.751|null| 33.034|null| 2.403|   null|null| null|null|null|null|null|null|42.026|null|null|   0.0| 0.0|null| 0.55|  0.0| 0.0|0.794|  null|null|null| 0.0| 0.0| 0.0| null| 37.128| 37.922|null|0.288| 1.28| 1.28|  null|   null|  null|null| null|null|null|null|null|null|  null| 20.143|  null|  null|  null|null|115.607|null|   null| 33.584| null| null|0.575|   0.0| 0.0|  null|  null|15.722|21.186|   0.0|null| null| null|null|null|null| 0.0|   0.0|  null|22.636|  null| 0.0| null|  null|23.425| 0.0| 0.0| 0.0| 19.183| null|    null|    null|  0.0|  0.0| null|null| null|  null| null| 37.128| 37.922| null| null| null|   null| null| null|  null|   null| null|    null|    null|    null|    null|    null|  null|null| 37.551|  null|null|null| null|6.147| null| null|  null|  null|5.204| null| null| null|   null|   null|  0.0|null|null|null|null|null|null| 32.672|null|  0.0|  null|22.974|   0.0| 32.672|157.633|null|null|null| null|null|157.633|   null|   null|null|  null| 33.034| 0.0|null|    0.0|  0.0|  null|  null|null|null|null|null| null|null|null|null| null|null| 0.0|  null|null|  0.0|  0.0| 23.929|0.239| null|  null|  null| 19.379|  0.0| null|  0.0|18.368|       null|       null|null|null| 28.438| 15.529| 15.529|null|5.878|  38.3|null|null|null| null|null|  0.0|  0.0| null|0.152| null|   null| null|119.711|  null|  0.0|null|  4.8|  1.3|null|77.685|null| null|  null|null|   14|USA|   null|  null|  null|  null|   1|   3|   1|  null|      D|511210|  null|  null|    02|7372|     185|     940|    B-|   0|   null|\n",
      "| 1983|ATVI.1|  ACTIVISION INC|   USD|  3| null|7.417|   null|   null|   null|    null|    null|50.015|null|4.592|   0.0|null|56.721| 1.4781|5.218|null| 48.322|null| 7.605|   null|null| null|null|null|null|null|null|38.354|null|null|   0.0| 0.0|null|  0.0|  0.0| 0.0|2.365|  null|null|null| 0.0| 0.0| 0.0| null|-34.951|-32.586|null|0.242|-0.56|-0.56|  null|   null|  null|null| null|null|null|null|null|null|  null|-14.896|  null|  null|  null|null| 31.627|null|   null| 48.322| null| null|1.407|   0.0| 0.0|  null|  null| 4.496|10.278|   0.0|null| null| null|null|null|null| 0.0|   0.0|  null| 8.271|  null| 0.0| null|  null| 8.399| 0.0| 0.0| 0.0| -18.01| null|    null|    null|  0.0|  0.0| null|null| null|  null| null|-34.951|-32.586| null| null| null|   null| null| null|  null|   null| null|    null|    null|    null|    null|    null|  null|null| -33.61|  null|null|null| null|9.149| null| null|  null|  null|6.495| null| null| null|   null|   null|  0.0|null|null|null|null|null|null| 14.662| 0.0|  0.0|  null|24.715|   0.0| 14.662| 69.981|null|null|null| null|null| 69.981|   null|   null|null|  null| 48.322| 0.0|null|    0.0|0.702|  null|  null|null|null|null|null| null|null|null|null| null|null| 0.0|  null|null|  0.0|  0.0|-13.472|0.128| null|  null|  null|-13.507|  0.0| null| 11.9| -15.6|       null|       null|null|null| 41.744| 13.306| 13.306|null|3.129|18.912|null|null|null| null|null|  0.0|  0.0| null|0.066|0.066|   null| null|102.567|  null|  0.0|null|  6.8|  2.5|null|64.213|null| null|  null|null|   14|USA|    0.0|  null| 1.875| 4.625|   1|   3|   1|  null|      D|511210|  null|  null|    02|7372|     185|     940|    B-|   0|   null|\n",
      "| 1984|ATVI.1|  ACTIVISION INC|   USD|  3| null|5.959|   null|   null|   null|    null|    null|40.471|null|2.641|   0.0|null|43.691|  1.159|0.623|null| 37.881|null|13.164|  5.559|null| null| 0.0| 0.0| 0.0| 0.0|null| 18.53|null|null|   0.0| 0.0|null|  0.0|  0.0| 0.0|2.118|  null|null|null| 0.0| 0.0| 0.0| null|-19.925|-17.807|null|0.101|-0.32|-0.32|  null|   null|  null| 0.0|6.845|null| 0.0| 0.0|null|null|  null| -6.568|  null|  null|  null|null|  8.662|null|   null| 37.881| null| null|1.294|   0.0| 0.0|  null|  null| 2.559| 4.142|   0.0|null| null| null|null|null|null| 0.0|   0.0|  null| 5.745|  null| 0.0| null|  null|  5.81| 0.0| 0.0| 0.0|-10.349| null|    null|    null|  0.0|  0.0| null|null| null|  null| null|-19.925|-17.807| null| null| null|   null| null| null|  null|   null| null|    null|    null|    null|    null|    null|  null|null|-18.699|  null|null|null| null|6.845|  0.0|  0.0|  null|   0.0|2.719| null| null| null|   null|   null|  0.0|null|null|null|null|null|null|  4.139| 0.0|  0.0|  null|17.206|-0.174|  4.313| 27.192|null|null|null| null|null| 27.192|   null|   null|null|  null| 37.881| 0.0|null|    0.0|0.555|  null|  null|null|null|null|null| null|null|null|null| null|null| 0.0|  null|null|  0.0|  0.0| -9.268|0.065| null|  null|  null| -9.504| 0.23| null|8.329| -8.35|       null|       null|null|null| 34.726|-12.577| -7.018|null|2.554| 2.345|null|null|null| null|null|  0.0|  0.0| null|0.068|0.068|   null| null| 44.999|  null|  0.0|null|  3.3|  1.7|null|26.469|null| null|  null|null|   14|USA|    0.0|  null|  0.75|  2.75|   1|   3|   1|  null|      D|511210|  null|  null|    02|7372|     185|     940|    B-|   0|   null|\n",
      "| 1985|ATVI.1|  ACTIVISION INC|   USD|  3| null|2.217|   null|   null|   null|    null|    null|35.503|null|2.189|   0.0|null| 37.86|  0.987|0.505|null| 32.538|null|21.459|  8.295|null| null| 0.0| 0.0| 0.0| 0.0|null| 6.351|null|null|   0.0| 0.0|null|  0.0|  0.0| 0.0|1.156|  null|null|null| 0.0| 0.0| 0.0| null| -6.519| -5.363|null|0.117|-0.17|-0.17|  null|   null|  null| 0.0| 5.54|null| 0.0| 0.0|null|null|  null| -4.533|  null|  null|  null|null| 10.544|null|   null| 32.538| null| null|1.643|   0.0| 0.0|  null|  null| 1.778| 3.093|   0.0|null| null| null|null|null|null| 0.0|   0.0|  null| 5.322|  null| 0.0| null|  null| 5.322| 0.0| 0.0| 0.0| -5.624| null|    null|    null|  0.0|  0.0| null|null| null|  null| null| -6.519| -5.363| null| null| null|   null| null| null|  null|   null| null|    null|    null|    null|    null|    null|  null|null| -6.076|  null|null|null| null| 5.54|  0.0|  0.0|  null|   0.0|1.825| null| null| null|   null|   null|  0.0|null|null|null|null|null|null| -1.224| 0.0|  0.0|  null| 8.734| 0.087| -1.311| 16.895|null|null|null| null|null| 16.895|   null|   null|null|  null| 32.538| 0.0|null|   -1.2|0.243|  null|  null|null|null|null|null| null|null|null|null| null|null| 1.6|  null|null|  0.0|  0.0| -4.907|  0.0| null|  null|  null| -4.992|0.078| null|2.875|-0.452|       null|       null|null|null| 30.181| -13.39| -4.545|null|3.133| 0.816|null|null|null| null|null|  0.0|  0.0| null|  0.0|  0.0|   null| null| 22.258|  null|  0.0|null|  2.7|  1.9|null|15.907|null| null|  null|null|   14|USA|    0.0|  null|1.5625|  1.75|   1|   3|   1|  null|      D|511210|  null|  null|    02|7372|     185|     940|    B-|   0|   null|\n",
      "| 1986|ATVI.1|  ACTIVISION INC|   USD|  3| null|2.012|   null|   null|   null|    null|    null|23.279|null|3.255| 7.919|null|32.837| 0.5805|0.819|null| 20.232|null|10.355|-11.104|null| null|null|null|null|null|null|13.075|null|null|   0.0| 0.0|null| 1.89| 1.89| 0.0|1.644|  null|null|null| 0.0| 0.0| 0.0| null|-13.004| -11.36|null|0.154|-0.42|-0.42|  null|   null|  null| 0.0| 7.22|null| 0.0| 0.0|null|null|  null| -9.227|  null|  null|  null|null| 13.546|null|   null| 22.122| null| null|0.943|  null| 0.0|  null|  null| 1.977| 4.819|   0.0|null| null| null|null|null|null| 0.0|   0.0|  null| 8.171|  null| 0.0| null|  null|12.605| 0.0| 0.0| 0.0|-14.634| null|    null|    null|  0.0|  0.0| null|null| null|  null| null|-13.004| -11.36|-0.38| null| null|   null| null| null|  null|   null| null|    null|    null|    null|    null|    null|  null|null|-14.661|  null|null|null| null| 7.22|  0.0|  0.0|  null|   0.0|1.938| null| null| null|   null|   null|  0.0|null|null|null|null|null|null|-15.654| 0.0|  0.0|  null| 6.093| 0.291|-15.945| 26.621|null|null|null| null|null| 26.621|   null|   null|null|  null| 20.232| 0.0|null|   -2.4|0.105|  null|  null|null|null|null|null| null|null|null|null| null|null|11.0|  null|null|  0.0|  0.0| -0.027|  0.0| null|  null|  null| -0.058|0.051| null|  0.0|-0.027|       null|       null|null|null| 15.108| -3.783|-15.073|null| 4.73| 1.672|null|null|null| null|null|  0.0|  0.0| null|  0.2|  0.2|   null| null| 37.981|  null| null|null| 5.14|  1.4|null|24.906|null| null|  null|null|   14|USA|    0.0|  null|   1.0|  1.75|   1|   3|   1|  null|      D|511210|  null|  null|    02|7372|     185|     940|    B-|   0|   null|\n",
      "| 1987|ATVI.1|  ACTIVISION INC|   USD|  3| null|3.815|   null|   null|   null|    null|    null|31.826|null|4.296|   0.0|null| 39.35| 0.7109|0.605|null| 26.441|null|11.556|  1.201|null| null|null|null|null|null|null|21.989|null|null|   0.0| 0.0|null|1.583|1.583| 0.0|1.257|  null|null|null| 0.0| 0.0| 0.0| null|  3.327|  4.584|null|0.163|  0.1|  0.1|  null|   null|  null| 0.0| 7.47|null| 0.0| 0.0|null|null|  null|  6.053|  null|  null|  null|null| 23.272|null|   null| 28.024| null| null|0.714| 5.255| 0.0|  null|  null|  1.75| 4.353|   0.0|null| null| null|null|null|null| 0.0|   0.0|  null|10.966|  null| 0.0| null|  null|12.909| 0.0| 0.0| 0.0|  3.621| null|    null|    null|  0.0|  0.0| null|null| null|  null| null|  3.327|  4.584| 0.05| null| null|   null| null| null|  null|   null| null|    null|    null|    null|    null|    null|  null|null|  3.841|  null|null|null| null| 7.47|  0.0|  0.0|  null|   0.0|1.169| null| null| null|   null|   null|  0.0|null|null|null|null|null|null| -11.77| 0.0|  0.0|  null|12.102| 0.554|-12.324| 45.261|null|null|null| null|null| 45.261|   null|   null|null|  null| 26.441| 0.0|null|    0.0| null|   0.0|  null|null|null|null|null| null|null|null|null| null|null|15.2|  null|null|  0.0|  0.0|  1.356|  0.0| null|  null|  null|  0.916|0.247| null|  0.0| 2.072|       null|       null|null|null|  20.86|  4.672|  5.752|null|6.363| 2.332|null|null|null| null|null|1.852|1.852| null|  0.2| null|   null| null| 40.677|  null|2.518|null|4.338|  1.4|null|18.688|null| null|  null|null|   14|USA|    0.0|  null| 1.625|   3.0|   1|   3|   1|  null|      D|511210|  null|  null|    02|7372|     185|     940|    B-|   0|   null|\n",
      "| 1988|ATVI.1|  ACTIVISION INC|   USD|  3|  0.0|9.221|   null|   null|   null|    null|    null|31.657|null|3.807| 0.442|null| 44.59| 7.6018|2.966|null| 31.114|null| 3.047| -8.509|null| null|null|null|null|null|null|33.963|null|null|   0.0| 0.0|null|1.206|1.206| 0.0|2.444|  null|null|null| 0.0| 0.0| 0.0| null|  1.521|  3.965|null|0.255| 0.27| 0.28|  null|   null|-0.103| 0.0|9.989|null| 0.0| 0.0|null|null| 1.871|   null| 6.211|  null|  null|null| 26.644|null|   null|  32.32| null| null| null| 6.211| 0.0|-0.215|  null| 2.668| 4.991|   0.0|null| null| null|null|null|null| 0.0|   0.0|-3.289|12.066|  null| 0.0| null|  null|13.476| 0.0| 0.0| 0.0|  1.087| null|    null|    null|  0.0| 2.25| null|null| null|-6.988|  6.4|  1.521|  3.965| 0.28| null| null|   null| null| null|  null|   null| null|    null|    null|    null|    null|    null|  null|null|  1.502|  null|null|null| null|9.989|  0.0|  0.0|  null|   0.0|3.256| null| null| null|   null|   null|  0.0|null|null|null|null|null|null|-11.222| 0.0|  0.0|-1.716|14.398| 0.015|-11.237| 60.607|null|null|null| null|null| 60.607|   null|   null|null|  null| 31.114| 0.0|null|    0.0|0.119|-0.037|  null|null|null|null|null| null|null|null|null| null|null|11.5|  null|null|  0.0|  0.0|  0.415|  0.0| null|  null|  null|  0.337|0.036|0.267|  0.0| 0.415|       null|       null|null|null| 19.591|   null|   null|null|5.539| 2.154|null|null|null| null|null|  0.0|  0.0| null|0.019| null|   null| null| 56.642|  null| 5.74|null|3.423|  1.4|null|22.679|null| null|  null|null|   14|USA|    0.0|  null|   7.0|20.625|   1|   3|   4|  null|      D|511210|  null|  null|    02|7372|     185|     940|    B-|   0|   null|\n",
      "| 1989|ATVI.1|  ACTIVISION INC|   USD|  3|  0.0|5.065|   null|   null|   null|    null|    null|25.964|null|5.335|   0.0|null|  33.5| 2.8666| 1.45|null|  12.16|null| 1.641| -1.406|null| null|null|null|null|null|null|33.705|null|null|   0.0| 0.0|null|6.634|6.634| 0.0|6.412|  null|null|null| 0.0| 0.0| 0.0| null| -5.173|  1.239|null|0.233|-4.71|-4.71|   0.0|    0.0|-0.031| 0.0|9.655|null| 0.0| 0.0|null|null|-0.337|   null| 2.552|  null|  null|null| 30.366|null|   null| 18.794| null| null| null| 2.552| 0.0|-0.209|  null|  1.26| 5.186|   0.0|null| null| null|null|null|null| 0.0|   0.0|-0.826|14.316|  null| 0.0| null|  null| 21.34| 0.0| 0.0| 0.0|-19.717| null|    null|    null|  0.0|2.495| null|null| null|-0.212|  3.7| -5.173|  1.239|-2.49| null| null|   null| null| null|  null|   null| null|    null|    null|    null|    null|    null|  null|null| -19.43|  0.24|null|null| null|9.655|  0.0|  0.0|  null|   0.0|2.905| null| null| null|   null|   null|  0.0|null|null|null|null|null|null|-31.087| 0.0|  0.0| 0.256|14.072|-0.133|-30.954| 64.071|null|null|null| null|null| 64.071|   null|   null|null|  null|  12.16| 0.0|null|-14.062|0.457|-0.121|  null|null|null|null|null| null|null|null|null| null|null|28.3|  null|null|  0.0|  0.0|  0.287|  0.0| null|  null|  null|    0.0|0.237|0.134|  0.0| 0.287|       null|       null|null|null| 11.648|   null|   null|null|5.337|  1.99|null|null|null| null|null|  0.0|  0.0| null|0.195| null|   null| null| 62.832|  null| 3.01|null|7.567|  2.1|null|29.127|null| null|  null|null|   14|USA|    0.0|  null| 5.125|   7.5|   1|   3|   4|  null|      D|511210|  null|  null|    02|7372|     185|     940|    B-|   0|   null|\n",
      "| 1990|ATVI.1|  ACTIVISION INC|   USD|  3|  0.0|0.034|   null|   null|   null|    null|    null| 3.967|null|3.579|   0.0|null| 4.817|-3.4667|0.742|null|-14.737|null| 1.581| -0.789|null| null| 0.0| 0.0| 0.0| 0.0|null|19.983|null|null|   0.0| 0.0|null|  0.0|  0.0| 0.0| 3.81|  null|null|null| 0.0| 0.0| 0.0| null|-16.531|-12.721|null| 0.05|-6.32|-6.32|   0.0|    0.0|-0.084| 0.0|6.815|null| 0.0| 0.0|null|null|-0.941|   null|   0.0|  null|  null|null|   8.78|null|   null|-14.737| null| null| null|   0.0| 0.0| 4.316|  null| 0.257| 0.695|   0.0|null| null| null|null|null|null| 0.0|   0.0| 3.539|19.433|  null| 0.0| null|  null|19.554| 0.0| 0.0| 0.0|-26.838| null|    null|    null|  0.0|9.382| null|null| null|-3.303| null|-16.531|-12.721|-4.93| null| null|   null| null| null|  null|   null| null|    null|    null|    null|    null|    null|  null|null|-26.635|-3.724|null|null| null|6.815|  0.0|  0.0|  null|   0.0|0.623| null| null| null|   null|   null|  0.0|null|null|null|null|null|null|-57.995| 0.0|  0.0|11.912| 1.657|-0.203|-57.792| 28.763|null|null|null| null|null| 28.763|   null|   null|null|  null|-14.737| 0.0|null| -8.931|0.491| 1.863|  null|null|null|null|null| null|null|null|null| null|null|59.8|  null|null|  0.0|  0.0|  0.203|  0.0| null|  null|  null|    0.0|0.157|0.196|  0.0| 0.203|       null|       null|null|null|-15.466|   null|   null|null|6.472| 2.135|null|null|null| null|null|  0.0|  0.0| null|1.173| null|   null| null| 41.484|  null|  0.0|null|5.343|  2.4|null|21.501|null| null|  null|null|   14|USA|    0.0|  null|0.5313| 5.375|   1|   3|   4|  null|      D|511210|  null|  null|    02|7372|     185|     940|    B-|   0|   null|\n",
      "| 1991|ATVI.1|  ACTIVISION INC|   USD|  3|  0.0|0.042|   null|   null|   null|    null|    null| 2.023|null|0.767| 0.125|null| 2.789| 9.0E-4|0.035|null|  0.088|null| 1.509|  0.278|null| null| 0.0| 0.0| 0.0| 0.0|null| 4.405|null|null|   0.0| 0.0|null|  0.0|  0.0| 0.0|0.201|  null|null|null| 0.0| 0.0| 0.0| null| -0.117|  0.084|null|0.066|-0.06|-0.06|   0.0|    0.0| 0.043| 0.0|0.286|null| 0.0| 0.0|null|null|-0.913|   null|   0.0|  null|  null|null|  4.763|null|   null|  0.088| null| null| null|   0.0| 0.0| 0.319|  null| 0.155| 0.376|   0.0|null| null| null|null|null|null| 0.0|   0.0| 0.175| 2.701|  null| 0.0| null|  null| 2.701| 0.0| 0.0| 0.0| -1.685| null|    null|    null|  0.0|  0.0| null|null| null| 0.973| null| -0.117|  0.084|-0.04| null| null|   null| null| null|  null|   null| null|    null|    null|    null|    null|    null|  null|null| -1.508| 0.163|null|null| null|0.286|  0.0|  0.0|  null|   0.0|0.232| null| null| null|   null|   null|  0.0|null|null|null|null|null|null|  0.088| 0.0|  0.0| 1.561| 0.096| 0.024|  0.064|  9.168|null|null|null| null|null|  9.168|   null|   null|null|  null|  0.088| 0.0|null| -0.868|0.224|   0.0|  null|null|null|null|null| null|null|null|null| null|null|51.9|  null|null|  0.0|  0.0|  0.177|  0.0| null|  null|  null|    0.0|0.177|0.177|  0.0| 0.177|       null|       null|null|null| -0.678|   null|   null|null|1.842|  null|null|null|null| null|null|  0.0|  0.0| null|0.523|  0.0|   null| null|  9.084|  null|  0.0| 0.0|1.323|0.335|null| 4.679|null| null|  null|null|   14|USA|    0.0|  null|  null|  null|   1|   3|   1|  null|      D|511210|  null|  null|    02|7372|     185|     940|    B-|   0|   null|\n",
      "| 1992|ATVI.1|  ACTIVISION INC|   USD|  3|  0.0|0.884|   null|   null|   null|    null|    null|10.437|null| 2.48|-0.635|null| 34.58| 0.0576|0.293|null|  3.811|null| 1.851|  0.721|null| null| 0.0| 0.0| 0.0| 0.0|null|11.084|null|null|   0.0| 0.0|null|  0.0|  0.0|-1.1|1.733|  null|null|null| 0.0| 0.0| 0.0| null| -0.208|  1.525|null|0.055|-0.44|-0.44|   0.0|    0.0| 0.061| 0.0|0.899|null| 0.0| 0.0|null|null| 0.292|   null|23.196|  null|  null|null|  9.985|null|   null| 29.011| null| null| null|23.196| 0.0| 0.628|  null| 0.226| 0.943|   0.0|null| null| null|null|null|null| 0.0|   0.0| 0.345| 5.176|  null| 0.0| null|  null| 5.569| 0.0| 0.0| 0.0| -1.379| null|    null|    null|  0.0|0.264| null|null| null| 0.023| null| -0.208|  1.525|-0.33| null| null|   null| null| null|  null|   null| null|    null|    null|    null|    null|    null|  null|null| -0.217|-0.445|null|null| null|0.899|  0.0|  0.0|  null|   0.0| 0.55| null| null| null|   null|   null|  0.0|null|null|null|null|null|null| -0.885| 0.0|0.345| 0.446| 6.759| 0.085| -1.315| 21.069|null|null|null| null|null| 21.069|   null|   null|null|  null| 29.011| 0.0|null|   null|0.003| 0.183|  null|null|null|null|null| null|null|null|null| null|null|36.2|  null|null|  0.0|  0.0|  0.062|  0.0| null|  null|  null|    0.0|0.062|0.109|  0.0| 0.062|       null|       null|null|null|  5.261|   null|   null|null|1.978| 0.486|null|null|null| null|null|  0.0| -1.1| null|0.009|  0.0|   null| null| 19.544|  null| 0.52| 0.0|2.592|0.675|null|  8.46|null| null|  null|null|   14|USA|    0.0|  null|   4.0|  5.25|   1|   3|   1|  null|      D|511210|  null|  null|    02|7372|     185|     940|    B-|   0|   null|\n",
      "| 1993|ATVI.1|  ACTIVISION INC|   USD|  3|  0.0|1.348|   null|   null|   null|    null|    null|45.389|null|1.929|   0.0|null|68.677| 4.6202|0.887|null| 63.985|null|39.593| 36.242|null| null| 0.0| 0.0| 0.0| 0.0|null|14.929|null|null|   0.0| 0.0|null|  0.0|  0.0| 0.0|1.665|  null|null|null| 0.0| 0.0| 0.0| null| -2.031| -0.366|null|0.079|-0.97|-0.97|   0.0|    0.0|-0.274| 0.0|1.714|null| 0.0| 0.0|null|null|41.971|   null|21.975|  null|  null|null| 11.675|null|   null| 63.985| null| null|0.178|21.975| 0.0| -1.58|  null| 0.125| 2.523|   0.0|null| null| null|null|null|null| 0.0|   0.0|-2.375| 4.171|  null| 0.0| null|  null| 4.692| 0.0| 0.0| 0.0| -1.987| null|    null|    null|  0.0|  0.0| null|null| null| -3.08| null| -2.031| -0.366|-0.97| null| null|   null| null| null|  null|   null| null|    null|    null|    null|    null|    null|  null|null| -1.853|-0.446|null|null| null|1.714|  0.0|  0.0|  null|   0.0|1.045| null| null| null|   null|   null|  0.0|null|null|null|null|null|null| -3.371| 0.0| 0.12|-0.166| 1.925|-0.189| -3.302| 26.604|null|null|null| null|null| 26.604|   null|   null|null|  null| 63.985| 0.0|null|    0.0|0.012|-0.002|  null|null|null|null|null| null|null|null|null| null|null|null|  null|null|  0.0|  0.0|  0.134|  0.0| null|  null|  null|    0.0|0.134|0.129|  0.0| 0.134|       null|       null|null|null| 41.218|   null|   null|null|2.242| 0.558|null|null|null| null|null|  0.0|  0.0| null| null|  0.0|   null| null|  26.97|  null| 0.88| 0.0| 4.38|0.497|null|12.041|null| null|  null|null|   14|USA|    0.0|  null| 8.625|  15.0|   1|   3|   1|  null|      D|511210|  null|  null|    02|7372|     185|     940|    B-|   0|   null|\n",
      "+-----+------+----------------+------+---+-----+-----+-------+-------+-------+--------+--------+------+----+-----+------+----+------+-------+-----+----+-------+----+------+-------+----+-----+----+----+----+----+----+------+----+----+------+----+----+-----+-----+----+-----+------+----+----+----+----+----+-----+-------+-------+----+-----+-----+-----+------+-------+------+----+-----+----+----+----+----+----+------+-------+------+------+------+----+-------+----+-------+-------+-----+-----+-----+------+----+------+------+------+------+------+----+-----+-----+----+----+----+----+------+------+------+------+----+-----+------+------+----+----+----+-------+-----+--------+--------+-----+-----+-----+----+-----+------+-----+-------+-------+-----+-----+-----+-------+-----+-----+------+-------+-----+--------+--------+--------+--------+--------+------+----+-------+------+----+----+-----+-----+-----+-----+------+------+-----+-----+-----+-----+-------+-------+-----+----+----+----+----+----+----+-------+----+-----+------+------+------+-------+-------+----+----+----+-----+----+-------+-------+-------+----+------+-------+----+----+-------+-----+------+------+----+----+----+----+-----+----+----+----+-----+----+----+------+----+-----+-----+-------+-----+-----+------+------+-------+-----+-----+-----+------+-----------+-----------+----+----+-------+-------+-------+----+-----+------+----+----+----+-----+----+-----+-----+-----+-----+-----+-------+-----+-------+------+-----+----+-----+-----+----+------+----+-----+------+----+-----+---+-------+------+------+------+----+----+----+------+-------+------+------+------+------+----+--------+--------+------+----+-------+\n",
      "only showing top 20 rows\n",
      "\n",
      "None\n"
     ]
    },
    {
     "name": "stdout",
     "output_type": "stream",
     "text": [
      "Number of records in Services-packaged software industrial category:  11543\n"
     ]
    }
   ],
   "source": [
    "# Using nullcounts to filter columns to keep\n",
    "nullcounts = annual_filtered.select([count(when(isnan(c) | col(c).isNull(), c)).alias(c) for c in annual_filtered.columns])\n",
    "nc = list(nullcounts.first())\n",
    "# Extracting out an industrial segment and modelling on it instead of the whole dataset\n",
    "\n",
    "# Services-packaged software category selection (from EDA)\n",
    "services_prepacked_software = annual_filtered.filter(annual_filtered.sic == '7372')\n",
    "print('Total records in integrated file: ', annual_filtered.count())\n",
    "print(services_prepacked_software.show())\n",
    "print('Number of records in Services-packaged software industrial category: ', services_prepacked_software.count())\n",
    "# Reusing preprocessing steps implemented by Vincent\n",
    "some_dict = {}\n",
    "for x in services_prepacked_software.columns:\n",
    "    some_dict[x] = 0\n",
    "nwdf = services_prepacked_software.fillna(some_dict)\n",
    "good_columns = []\n",
    "for i in range(0, len(nc)):\n",
    "    if nc[i] == 0:\n",
    "        good_columns.append(i)\n",
    "great_columns = [nwdf.columns[i] for i in good_columns]\n",
    "great_columns.append('rea')\n",
    "nwdf = nwdf.fillna(some_dict)\n",
    "non_string_columns = [k for (k,v) in nwdf.dtypes if v != 'string']\n",
    "nwdf_no_strings = nwdf.select(*non_string_columns)\n",
    "feature_columns = [item for item in nwdf_no_strings.columns if item not in ['rea', 'features']]"
   ]
  },
  {
   "cell_type": "code",
   "execution_count": 21,
   "metadata": {},
   "outputs": [
    {
     "name": "stdout",
     "output_type": "stream",
     "text": [
      "+-------------+-----+\n",
      "|boolean_label|count|\n",
      "+-------------+-----+\n",
      "|         true|  715|\n",
      "|        false|10828|\n",
      "+-------------+-----+\n",
      "\n",
      "Class distribution:  None\n",
      "+--------------------+-----+\n",
      "|            features|label|\n",
      "+--------------------+-----+\n",
      "|(246,[0,1,235,244...|  0.0|\n",
      "|(246,[0,1,235,244...|  0.0|\n",
      "|(246,[0,1,235,244...|  0.0|\n",
      "|(246,[0,1,3,9,11,...|  0.0|\n",
      "|(246,[0,1,3,9,11,...|  0.0|\n",
      "|(246,[0,1,3,9,11,...|  0.0|\n",
      "|(246,[0,1,3,9,11,...|  0.0|\n",
      "|(246,[0,1,3,9,11,...|  0.0|\n",
      "|(246,[0,1,3,9,11,...|  0.0|\n",
      "|(246,[0,1,3,9,11,...|  0.0|\n",
      "|(246,[0,1,3,9,11,...|  0.0|\n",
      "|(246,[0,1,3,9,11,...|  0.0|\n",
      "|(246,[0,1,3,9,11,...|  0.0|\n",
      "|(246,[0,1,3,9,11,...|  0.0|\n",
      "|(246,[0,1,3,9,11,...|  0.0|\n",
      "|(246,[0,1,3,9,11,...|  0.0|\n",
      "|(246,[0,1,3,9,11,...|  0.0|\n",
      "|(246,[0,1,3,9,11,...|  0.0|\n",
      "|(246,[0,1,3,9,11,...|  0.0|\n",
      "|(246,[0,1,3,9,11,...|  0.0|\n",
      "+--------------------+-----+\n",
      "only showing top 20 rows\n",
      "\n",
      "None\n"
     ]
    }
   ],
   "source": [
    "assembler = VectorAssembler(inputCols=feature_columns, outputCol=\"features\")\n",
    "final_df = assembler.transform(nwdf_no_strings)\n",
    "final_final_df = final_df.drop(*feature_columns)\n",
    "final_final_df = final_final_df.withColumn('boolean_label', final_final_df.rea != 0)\n",
    "print('Class distribution: ', final_final_df.groupBy('boolean_label').count().show())\n",
    "final_final_df = final_final_df.withColumn('label', final_final_df.boolean_label.cast('float'))\n",
    "final_final_df = final_final_df.drop('rea').drop('boolean_label')\n",
    "print(final_final_df.show())"
   ]
  },
  {
   "cell_type": "code",
   "execution_count": 22,
   "metadata": {},
   "outputs": [],
   "source": [
    "# Evaluators\n",
    "evaluator = MulticlassClassificationEvaluator(metricName = 'accuracy')\n",
    "eval = BinaryClassificationEvaluator()"
   ]
  },
  {
   "cell_type": "code",
   "execution_count": 27,
   "metadata": {},
   "outputs": [],
   "source": [
    "from pyspark.sql.functions import udf\n",
    "from pyspark.sql.types import FloatType"
   ]
  },
  {
   "cell_type": "code",
   "execution_count": 37,
   "metadata": {},
   "outputs": [
    {
     "name": "stdout",
     "output_type": "stream",
     "text": [
      "+--------------------+-----+---------+\n",
      "|            features|label|  weights|\n",
      "+--------------------+-----+---------+\n",
      "|(246,[0,1,235,244...|  0.0|0.0619423|\n",
      "|(246,[0,1,235,244...|  0.0|0.0619423|\n",
      "|(246,[0,1,235,244...|  0.0|0.0619423|\n",
      "|(246,[0,1,3,9,11,...|  0.0|0.0619423|\n",
      "|(246,[0,1,3,9,11,...|  0.0|0.0619423|\n",
      "|(246,[0,1,3,9,11,...|  0.0|0.0619423|\n",
      "|(246,[0,1,3,9,11,...|  0.0|0.0619423|\n",
      "|(246,[0,1,3,9,11,...|  0.0|0.0619423|\n",
      "|(246,[0,1,3,9,11,...|  0.0|0.0619423|\n",
      "|(246,[0,1,3,9,11,...|  0.0|0.0619423|\n",
      "|(246,[0,1,3,9,11,...|  0.0|0.0619423|\n",
      "|(246,[0,1,3,9,11,...|  0.0|0.0619423|\n",
      "|(246,[0,1,3,9,11,...|  0.0|0.0619423|\n",
      "|(246,[0,1,3,9,11,...|  0.0|0.0619423|\n",
      "|(246,[0,1,3,9,11,...|  0.0|0.0619423|\n",
      "|(246,[0,1,3,9,11,...|  0.0|0.0619423|\n",
      "|(246,[0,1,3,9,11,...|  0.0|0.0619423|\n",
      "|(246,[0,1,3,9,11,...|  0.0|0.0619423|\n",
      "|(246,[0,1,3,9,11,...|  0.0|0.0619423|\n",
      "|(246,[0,1,3,9,11,...|  0.0|0.0619423|\n",
      "+--------------------+-----+---------+\n",
      "only showing top 20 rows\n",
      "\n",
      "None\n"
     ]
    }
   ],
   "source": [
    "def balanceweights(df):\n",
    "    minoritynum=df.filter(df['label']==1).count()\n",
    "    datasetcount=df.count()\n",
    "    balancingratio=(datasetcount-minoritynum)/datasetcount\n",
    "    def weights(k):\n",
    "        if(k==1):\n",
    "            minweights=1.0*balancingratio\n",
    "            return minweights\n",
    "        else:\n",
    "            majorityweigths = (1.0*(1-balancingratio))\n",
    "            return majorityweigths\n",
    "    awesome = udf(weights, FloatType())\n",
    "    df = df.withColumn('weights', awesome(df['label']))\n",
    "    print(df.show())\n",
    "    return df\n",
    "    \n",
    "new_final_df = balanceweights(final_final_df)\n",
    "    \n",
    "    "
   ]
  },
  {
   "cell_type": "code",
   "execution_count": 39,
   "metadata": {},
   "outputs": [
    {
     "name": "stdout",
     "output_type": "stream",
     "text": [
      "+--------------------+-----+---------+\n",
      "|            features|label|  weights|\n",
      "+--------------------+-----+---------+\n",
      "|(246,[0,1,2,3,4,9...|  0.0|0.0619423|\n",
      "|(246,[0,1,2,3,9,1...|  0.0|0.0619423|\n",
      "|(246,[0,1,2,3,9,1...|  0.0|0.0619423|\n",
      "|(246,[0,1,3,4,6,7...|  0.0|0.0619423|\n",
      "|(246,[0,1,3,4,6,7...|  0.0|0.0619423|\n",
      "|(246,[0,1,3,4,9,1...|  0.0|0.0619423|\n",
      "|(246,[0,1,3,4,9,1...|  0.0|0.0619423|\n",
      "|(246,[0,1,3,4,9,1...|  0.0|0.0619423|\n",
      "|(246,[0,1,3,4,9,1...|  0.0|0.0619423|\n",
      "|(246,[0,1,3,4,9,1...|  0.0|0.0619423|\n",
      "|(246,[0,1,3,4,9,1...|  0.0|0.0619423|\n",
      "|(246,[0,1,3,4,9,1...|  0.0|0.0619423|\n",
      "|(246,[0,1,3,4,9,1...|  0.0|0.0619423|\n",
      "|(246,[0,1,3,4,9,1...|  1.0|0.9380577|\n",
      "|(246,[0,1,3,4,9,1...|  0.0|0.0619423|\n",
      "|(246,[0,1,3,4,9,1...|  0.0|0.0619423|\n",
      "|(246,[0,1,3,4,9,1...|  1.0|0.9380577|\n",
      "|(246,[0,1,3,4,9,1...|  0.0|0.0619423|\n",
      "|(246,[0,1,3,4,9,1...|  0.0|0.0619423|\n",
      "|(246,[0,1,3,4,9,1...|  0.0|0.0619423|\n",
      "+--------------------+-----+---------+\n",
      "only showing top 20 rows\n",
      "\n"
     ]
    }
   ],
   "source": [
    "train.show()"
   ]
  },
  {
   "cell_type": "code",
   "execution_count": 38,
   "metadata": {},
   "outputs": [],
   "source": [
    "train, test = new_final_df.randomSplit([0.7, 0.3], seed=12345)"
   ]
  },
  {
   "cell_type": "code",
   "execution_count": 33,
   "metadata": {},
   "outputs": [],
   "source": [
    "logistic = LogisticRegression(regParam=0.1, labelCol=\"label\", weightCol='weights')"
   ]
  },
  {
   "cell_type": "code",
   "execution_count": 40,
   "metadata": {},
   "outputs": [],
   "source": [
    "trained_model = logistic.fit(train)\n",
    "res = trained_model.transform(test)\n",
    "metrics = MulticlassMetrics(res.select(['label', 'prediction']).rdd)"
   ]
  },
  {
   "cell_type": "code",
   "execution_count": 41,
   "metadata": {},
   "outputs": [
    {
     "name": "stdout",
     "output_type": "stream",
     "text": [
      "Accuracy on test set:  0.7118985883030827\n",
      "Precision on test data:  0.7118985883030827\n",
      "Recall on test data:  0.7118985883030827\n",
      "F1 Score on test data:  0.7118985883030827\n",
      "Area under ROC curve:  0.7443683867547333\n"
     ]
    }
   ],
   "source": [
    "print('Accuracy on test set: ', evaluator.evaluate(res))\n",
    "print('Precision on test data: ', metrics.precision())\n",
    "print('Recall on test data: ', metrics.recall())\n",
    "print('F1 Score on test data: ', metrics.fMeasure())\n",
    "print('Area under ROC curve: ', eval.evaluate(res))"
   ]
  },
  {
   "cell_type": "code",
   "execution_count": null,
   "metadata": {},
   "outputs": [],
   "source": []
  }
 ],
 "metadata": {
  "kernelspec": {
   "display_name": "Python 3",
   "language": "python",
   "name": "python3"
  },
  "language_info": {
   "codemirror_mode": {
    "name": "ipython",
    "version": 3
   },
   "file_extension": ".py",
   "mimetype": "text/x-python",
   "name": "python",
   "nbconvert_exporter": "python",
   "pygments_lexer": "ipython3",
   "version": "3.5.2"
  }
 },
 "nbformat": 4,
 "nbformat_minor": 2
}
