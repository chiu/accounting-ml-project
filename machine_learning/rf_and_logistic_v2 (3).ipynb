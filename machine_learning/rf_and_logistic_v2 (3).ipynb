{
 "cells": [
  {
   "cell_type": "code",
   "execution_count": 1,
   "metadata": {
    "collapsed": true
   },
   "outputs": [],
   "source": [
    "import os\n",
    "os.environ['SPARK_HOME']='/home/envmodules/lib/spark-2.2.0-bin-hadoop2.7/'\n",
    "import findspark\n",
    "findspark.init()\n",
    "\n",
    "# Imports\n",
    "from pyspark.sql import SparkSession\n",
    "from pyspark.sql.functions import isnan, when, count, col\n",
    "\n",
    "from pyspark.ml.feature import VectorAssembler\n",
    "from pyspark.ml.feature import StringIndexer\n",
    "from pyspark.ml.classification import RandomForestClassifier, LogisticRegression\n",
    "from pyspark.ml.evaluation import MulticlassClassificationEvaluator, BinaryClassificationEvaluator\n",
    "from pyspark.mllib.evaluation import MulticlassMetrics\n",
    "\n",
    "spark = SparkSession.builder.appName('733').getOrCreate()\n",
    "\n",
    "# Using the integrated file to start working on\n",
    "integrated_df = spark.read.parquet('/user/vcs/annual_integrated_dataset_with_labels_ibes_fix_v2.parquet')\n",
    "#spark.read.parquet('/user/vcs/annual_integrated_dataset_v2.parquet')"
   ]
  },
  {
   "cell_type": "code",
   "execution_count": 2,
   "metadata": {},
   "outputs": [],
   "source": [
    "misstated_df = integrated_df.filter(integrated_df.label == 1.0)"
   ]
  },
  {
   "cell_type": "code",
   "execution_count": 3,
   "metadata": {},
   "outputs": [],
   "source": [
    "misstated_count = misstated_df.count()"
   ]
  },
  {
   "cell_type": "code",
   "execution_count": 4,
   "metadata": {
    "collapsed": true
   },
   "outputs": [],
   "source": [
    "non_misstated_df = integrated_df.filter(integrated_df.label == 0.0).limit(misstated_count)"
   ]
  },
  {
   "cell_type": "code",
   "execution_count": 5,
   "metadata": {},
   "outputs": [
    {
     "data": {
      "text/plain": [
       "1694"
      ]
     },
     "execution_count": 5,
     "metadata": {},
     "output_type": "execute_result"
    }
   ],
   "source": [
    "non_misstated_df.count()"
   ]
  },
  {
   "cell_type": "code",
   "execution_count": 6,
   "metadata": {
    "collapsed": true
   },
   "outputs": [],
   "source": [
    "integrated_df = misstated_df.union(non_misstated_df).cache()"
   ]
  },
  {
   "cell_type": "code",
   "execution_count": 7,
   "metadata": {},
   "outputs": [
    {
     "name": "stdout",
     "output_type": "stream",
     "text": [
      "Total records in integrated file:  3388\n",
      "+-----+------+--------------------+------+------+-------+-------+-------+-------+--------+--------+--------+----+--------+-------+-------+---------+-------+-------+----+--------+----+--------+-------+----+-----+-----+-----+-----+----+----+-------+------+-------+------+----+--------+-------+----+-------+------+------+-------+------+------+----+-----+-------+-------+----+-----+-----+-----+------+-------+-------+------+--------+-------+----+------+------+----+--------+----+-------+------+------+----+--------+----+-------+--------+-----+-----+-------+--------+-----+--------+------+------+-------+------+----+-----+-----+----+----+----+----+--------+--------+--------+--------+-----+-----+------+--------+-------+-------+------+-------+-------+--------+--------+-------+-------+------+------+-------+-------+-----+-------+-------+-----+-----+-----+-------+-----+-----+------+-------+-----+--------+--------+--------+--------+--------+------+------+-------+------+----+-----+------+--------+-----+-----+------+------+-------+------+-----+-----+-------+-------+-------+----+----+----+----+-------+----+--------+-------+-------+--------+--------+--------+--------+--------+----+----+--------+-----+-------+--------+-------+-------+----+------+--------+--------+-------+-------+-----+------+------+----+-------+-------+----+-----+----+--------+----+-----+----+------+------+----+-------+-----+-------+------+-----+-------+------+-------+-------+------+------+-------+-----------+-----------+----+----+--------+-----+------+-------+-------+-----+-------+-------+----+-----+----+------+------+-----+-------+-----+-------+--------+--------+------+------+-----+-------+------+----+-------+-------+-----+------+-------+-----+---+-------+-----------+-------+------+----+----+----+------+-------+------+------+------+------+----+--------+--------+------+----+--------+------------+-----+\n",
      "|fyear|   tic|                conm|curncd| acchg|    aco|acominc|acqcshi|acqgdwl|acqintan|acqlntal|     act|amgw|      ap|    aqc|    arc|       at| bkvlps|   capx|cdvc|     ceq| cga|     che|  chech|  ci|cimii| cld2| cld3| cld4|cld5| clt|   cshi|  dcom| dcpstk|  dcvt|depc|    dltt|     dm|  do|     dp|dpacls|   drc|   drlt|    dv|   dvc|dvpa|dvpdp|   ebit| ebitda|emol|  emp|epsfi|epspi|esopct|esopdlt|   exre|  fatb|    fate|   fatl|fatn|  fato|   fca| fel|   fincf|fopt|   gdwl|gdwlam|gdwlia| gla|      gp| gwo|hedgegl|   icapt|idiis|idilc|   idit|   intan| intc|   invch|invofs| invrm|   invt|invwip|iseq|iseqc|iseqm|isfi|isgr|isgu|itcb|    ivch|   ivncf|     lct|  lcuacu| lifr|llrci|llwoci|      lt|    mib|   mibt|   mii|     ni|  niint|niintpfc|niintpfp|  nopio|     np| npanl|  npat|  nrtxt|  oancf|   ob|  oiadp|  oibdp|opeps|opini|opiti|oprepsx|optca|optex|optexd|optfvgr|optgr|optprcca|optprcex|optprcey|optprcgr|optprcwa|optvol|   pcl|     pi|  pifo| pll| pnca| pncia|   ppegt|ppenb|ppenc|ppenls|ppennr|  ppent| ppevo|ppevr|prodv|prstkcc|prstkpc|  pstkc|pvcl| pvo|pvpl| pvt|    rca|rdip|      re|    rea|  reajo|   recch|    rect|   recta|   reuna|    revt| rll|rmum|    rpag|rvlrv|   rvti|    sale|salepfc|salepfp| sco|scstkc|     seq|     siv|   spce|    spi| sppe| sppiv|spstkc|sret|   ssnp|   stbo|stio|stkco| tdc|     teq|tfva|tfvce|tfvl|  tlcf|transa| tsa|  tstkc|tstkp|    txc|  txdb|txdba| txdbca|txdbcl|  txfed|   txfo|  txpd|   txr|    txt|txtubxintbs|txtubxintis|vpac| vpo|    wcap|wcapc|wcapch|    wda|   xacc|  xad|   xago|   xagt|xcom|  xdp|xeqo|    xi|  xido|xinst|   xint|xintd|xintopt|     xlr|    xopr|xoprar|   xpp|  xpr|    xrd| xrent|  xs|   xsga|   xstf|xstfo|xstfws|     xt|exchg|fic|dvpsp_f|     mkvalt| prcc_f|prch_f|rank|  au|auop|auopic|idbflag| naics|prican|prirow|priusa| sic|spcindcd|spcseccd|spcsrc|stko| ipodate|eps_avg_ibes|label|\n",
      "+-----+------+--------------------+------+------+-------+-------+-------+-------+--------+--------+--------+----+--------+-------+-------+---------+-------+-------+----+--------+----+--------+-------+----+-----+-----+-----+-----+----+----+-------+------+-------+------+----+--------+-------+----+-------+------+------+-------+------+------+----+-----+-------+-------+----+-----+-----+-----+------+-------+-------+------+--------+-------+----+------+------+----+--------+----+-------+------+------+----+--------+----+-------+--------+-----+-----+-------+--------+-----+--------+------+------+-------+------+----+-----+-----+----+----+----+----+--------+--------+--------+--------+-----+-----+------+--------+-------+-------+------+-------+-------+--------+--------+-------+-------+------+------+-------+-------+-----+-------+-------+-----+-----+-----+-------+-----+-----+------+-------+-----+--------+--------+--------+--------+--------+------+------+-------+------+----+-----+------+--------+-----+-----+------+------+-------+------+-----+-----+-------+-------+-------+----+----+----+----+-------+----+--------+-------+-------+--------+--------+--------+--------+--------+----+----+--------+-----+-------+--------+-------+-------+----+------+--------+--------+-------+-------+-----+------+------+----+-------+-------+----+-----+----+--------+----+-----+----+------+------+----+-------+-----+-------+------+-----+-------+------+-------+-------+------+------+-------+-----------+-----------+----+----+--------+-----+------+-------+-------+-----+-------+-------+----+-----+----+------+------+-----+-------+-----+-------+--------+--------+------+------+-----+-------+------+----+-------+-------+-----+------+-------+-----+---+-------+-----------+-------+------+----+----+----+------+-------+------+------+------+------+----+--------+--------+------+----+--------+------------+-----+\n",
      "| 1991|3HKMEE|KEITH GROUP COMPA...|   USD|   0.0|    0.0|   null|   null|   null|    null|    null|    null|null|   1.635|    0.0|   null|     35.3| 1.1331|  3.737|null|   3.499|null|   1.019|  0.011|null| null|  0.0|  0.0|  0.0| 0.0|null|   null|  null|    0.0|   0.0|null|   0.047|  0.047| 0.0|  0.367|  null|  null|   null|   0.0|   0.0| 0.0| null|  1.519|  1.886|null|0.054| 0.08| 0.08|   0.0|    0.0|    0.0|  null|    null|   null|null|  null|  null|null|   -0.65|null|    0.0|  null|  null|null|   4.737|null|   null|   3.546| null| null|   null|     0.0|1.264|   0.826|  null|  null|  0.152|  null|null| null| null|null|null|null| 0.0|     0.0|  -0.947|    null|    null|  0.0| null|  null|  31.801|    0.0|    0.0|   0.0|  0.218|   null|    null|    null|  1.265|    1.0|  null|  null|   null|  1.608| null|  1.519|  1.886| null| null| null|   null| null| null|  null|   null| null|    null|    null|    null|    null|    null|  null|  null|  0.314|  null|null| null|  null|  31.021| null| null|  null|  null| 30.046|   0.0|3.827| null|   null|   null|    0.0|null|null|null|null|   null|null|  -0.553|    0.0|    0.0|   0.057|   3.356|     0.0|  -0.553|   6.461|null|null|    null| null|   null|   6.461|   null|   null|null|  null|   3.499|     0.1|   null|    0.0|1.459|-1.426|  null|null|   null|   null|null| null|null|    null|null| null|null|   0.6|  null|null|  0.382|  0.0|    0.0|   0.0| null|   null|  null|    0.0|    0.0|  null|   0.0|  0.118|       null|       null|null|null|    null| null|  null|   null|   null|0.112|   null|   null|null|0.367|null| 0.022| 0.022| null|   2.47| null|   null|    null|   4.575|  null|  null|  0.0|   null| 0.018|null|  2.851|   null| null|  null|   null|   13|USA|    0.0|       null|  1.375|  2.25|   1|   5|   4|  null|      D|    53|  null|  null|    01|6510|     305|     976|  null|   0|19870109|        null|  1.0|\n",
      "| 1999| 3MAWI|      M & A WEST INC|   USD|   0.0|  0.251|   null|   null|   null|    null|    null|   2.662|null|   0.027|   null|   null|    4.039|-0.1403|  0.075|null|  -1.561|null|   2.411|   0.01|null| null|  0.0|  0.0|  0.0| 0.0|null| 11.198|  null|    0.0|   0.0|null|     0.0|    0.0| 0.0|  0.016|  null|  null|   null|   0.0|   0.0| 0.0| null|  0.599|  0.615|null|0.025|-0.39|-0.39|   0.0|    0.0|    0.0|   0.0|   0.099|    0.0| 0.0|   0.0|  null|null|   3.201|null|    0.0|  null|  null|null|   0.615|null|   null|  -1.561| null| null|   null|     0.0|  0.0|     0.0|  null|   0.0|    0.0|   0.0|null| null| null|null|null|null| 0.0|   3.322|  -2.642|     5.6|    null|  0.0| null|  null|     5.6|    0.0|    0.0|   0.0| -4.381|   null|    null|    null| -1.111|  1.394|  null|  null|   null| -0.549| null|  0.599|  0.615|-0.18| null| null|  -0.18| null| null|  null|   null| null|    null|    null|    null|    null|    null|  null|  null| -4.428|  null|null| null|  null|   0.099| null| null|  null|  null|  0.079|  null| null| null|   null|   null|    0.0|null|null|null|null|   null| 0.0|  -4.658|    0.0|    0.0|    null|     0.0|     0.0|   -4.19|   3.112|null|null|    null| null|   null|   3.112|   null|   null|null|  null|  -1.561|   0.755|   null| -3.672|  0.0| 0.661|  null|null|   null|   null|null| null|null|    null|null| null|null|  null|  null|null|  0.372|  0.0|   null|   0.0| null|   null|  null|   null|   null| 0.158|   0.0| -0.047|       null|       null|null|null|  -2.938| null|  null|   null|   null| null|   null|   null|null| null|null|   0.0|   0.0| null|  0.244|  0.0|   null|    null|   2.497|  null|   0.0| null|   null|  null|null|   null|   null| null|  null|   null|   19|USA|    0.0|    83.4225|    7.5| 27.75|   1|   9|   1|  null|      D|514191|  null|  null|    01|7370|     185|     940|  null|   3|19980414|        null|  1.0|\n",
      "| 1991| 3PNFN|  PNF INDUSTRIES INC|   USD|   0.0|  0.009|   null|   null|   null|    null|    null|   0.314|null|   0.448| -0.001|   null|     18.6| 5.1739|    0.0|null|  16.122|null|   0.019|   0.01|null| null|  0.0|  0.0|  0.0| 0.0|null|   null|  null|  0.004|   0.0|null|     0.6|    0.0| 0.0|  0.115|   0.0|  null|   null|   0.0|   0.0| 0.0| null| -1.102| -0.987|null|0.012|-2.48|-2.48|   0.0|    0.0|    0.0|   0.0|   0.074|    0.0| 0.0|   0.0|  null|null|   0.813|null|    0.0|  null|  null|null|   0.169|null|   null|  16.726| null| null|    0.0|  18.198|  0.0|  -0.004|  null|  null|  0.014|  null|null| null| null|null|null|null| 0.0|     0.0|   0.047|   0.852|    null|  0.0| null|  null|   2.474|    0.0|    0.0|   0.0| -1.136|   null|    null|    null|    0.0|  0.025|  null|  null|   null|  -0.85| null| -1.102| -0.987| null| null| null|   null| null| null|  null|   null| null|    null|    null|    null|    null|    null|  null|  null| -1.136|  null|null| null|  null|   0.074|  0.0|  0.0|   0.0|   0.0|   0.05|   0.0|0.052| null|   null|   null|  0.004|null|null|null|null|   null|null|  -1.874|  0.214|    0.0|  -0.246|   0.272|     0.0|  -1.874|   0.868|null|null|    null| null|   null|   0.868|   null|   null|null|  null|  16.126|     0.0|   null|    0.0|0.046|   0.0|  null|null|   null|   null|null| null|null|    null|null| null|null|  null|  null|null|    0.0|  0.0|    0.0|   0.0| null|   null|  null|    0.0|    0.0|  null|   0.0|    0.0|       null|       null|null|null|  -0.538| null|  null|   null|   null| null|   null|   null|null|0.013|null|   0.0|   0.0| null|  0.034| null|   null|    null|   1.855|  null|  null| null|   null| 0.023|null|  1.156|   null| null|  null|   null|   13|USA|    0.0|       null|   null|  null|   1|   9|   4|  null|      D|  5133|  null|  null|    01|4812|     462|     974|  null|   0|    null|        null|  1.0|\n",
      "| 2000|  ADRX|          ANDRX CORP|   USD|   0.0| 30.263|   null|   null|   null|    null|    null| 543.659|null|  69.551| 15.195|   null|  629.053| 7.5348| 40.707|null| 522.246|null| 320.108| 93.336|null| null|  0.0|  0.0|  0.0| 0.0|null| 69.311|  null|    0.0|   0.0|null|     0.0|    0.0| 0.0|  5.716|  null|  null|   null|   0.0|   0.0| 0.0| null|109.197|114.913|null| null|  1.1| 1.15|   0.0|    0.0|    0.0|  null|    null|   null|null|  null|  null|null| 222.552|null|   null|  null|  null|null| 223.483|null|   null| 522.246| null| null|  11.21|    null|  0.0| -18.286|  null| 8.238|101.219| 4.234|null| null| null|null|null|null| 0.0|     0.0|-200.088| 106.807|    null|  0.0| null|  null| 106.807|    0.0|    0.0|  null| 77.672|   null|    null|    null|    0.0|    0.0|  null|  null|   null| 70.872| null|109.197|114.913| 1.17| null| null|   1.12| null| null|  null|   null| null|    null|    null|   22.49|    null|    null|  null|  null|117.542|  null|null|  0.0|  null|    null| null| null|  null|  null| 71.433|  null| null| null|   null|   null|    0.0|null|null|null|null|   null| 0.0|    null|   null|    0.0| -15.098|  92.069|     0.0|    null| 514.985|null|null|    null| null|   null| 514.985|   null|   null|null|  null| 522.246|     0.0| 77.672| -2.098|  0.0|   0.0|  null|null|   null|   null|null| null|null|    null|null| null|null|  null|  null|null|    0.0|  0.0| 43.688|   0.0|  0.0| 18.968|   0.0| 41.326|    0.0| 32.44|   0.0|  39.87|       null|       null|null|null| 436.852| null|  null|   null| 33.312| null|   null|   null|null| null|null|   0.0|   0.0| null|  0.767|  0.0|   null|    null| 400.072|  null|  null| null| 46.669|  null|null| 108.57|   null| null|  null|   null|   14|USA|    0.0|  4011.3741| 57.875|95.875|   1|   0|   0|  null|      D|424210|  null|  null|    01|5122|     280|     905|    B-|   0|19960614|        null|  1.0|\n",
      "| 2002|  AIPC|AMER ITALIAN PAST...|   USD|   0.0| 13.702| -3.113|   null|   null|    null|    null| 118.132|null|   21.32|    0.0|   null|  640.609|16.4857| 72.773|null| 297.106|null|   8.247|  2.963|null| null|  0.0|  0.0|  0.0| 0.0|null| 19.677|  0.94|    0.0|   0.0|null| 258.193|    0.0| 0.0| 20.791|  null|   0.0|    0.0|   0.0|   0.0| 0.0| null| 64.385| 85.176|null|0.627| 2.21| 2.31|   0.0|    0.0| -0.466|  null|    null|   null|null|  null|  null|null|   24.65|null|   null|   0.0|  null|null|  144.99|null|   null| 555.299| null| null|   null|  119.36|1.898|   -5.71|  null|  null|  49.72|  null|null| null| null|null|null|null| 0.0|     0.0| -78.746|  38.543|    null|  0.0| null|  null| 343.503|    0.0|    0.0|   0.0| 41.299|   null|    null|    null|  1.898|    0.0|  null|  null|   null| 57.525| null| 64.385| 85.176| 2.22| null| null|   2.12| null| null|  null|   null| null|    null|    null|    null|    null|    null|  null|  null|  62.67|  null|null|  0.0|  null| 495.547| null| null|  null|  null| 395.94|  null| null| null|   null|   null|    0.0|null|null|null|null|   null| 0.0| 118.749|    0.0| -1.502|  -9.117|  46.463|  -1.611| 121.862| 373.199|null|null|    null| null|   null| 373.199|   null|   null|null|  null| 297.106|     0.0| 38.302|    7.6|  0.0|   0.0|  null|null|   null|   null|null| null|null|    null|null| null|null|  null|  null|null| 34.394|  0.0|   null|46.767| null|   null|  null|   null|   null| 0.789|   0.0| 21.371|       null|       null|null|null|  79.589| null|  null|   null| 11.359| null|   null|   null|null| null|null|   0.0|   0.0| null| 11.213| null|  2.997|    null| 288.023|  null|  null|0.577|   null|  null|null| 59.814|   null| null|  null|   null|   14|USA|    0.0|   643.2052|  35.69| 52.56|   1|   4|   1|  null|      D|311823|  null|  null|    01|2090|     250|     978|  null|   0|19971009|        null|  1.0|\n",
      "| 1992|  AQLA| AQUILA BIOPHARM INC|   USD|   0.0|  0.705|   null|   null|   null|    null|    null|  34.558|null|   8.007|  2.899|   null|   83.651| 2.6207|  6.387|null|  60.695|null|   4.024| -2.014|null| null| null| null| null|null|null|   null|  null|    0.0|   0.0|null|   5.302|  6.965| 0.0|  5.813|  3.66|  null|   null|   0.0|   0.0| 0.0| null| -7.741| -1.928|null|0.348|-0.61|-0.61|   0.0|    0.0|   0.28| 5.767|  17.031| 12.476| 0.0|   0.0|  null|null|   1.608|null|   null|  null|  null|null|  -1.928|null|   null|  66.676| null| null|   null|    null|  0.0|  -6.375|  null| 3.917| 17.195| 9.336|null| null| null|null|null|null| 0.0|   2.755|   7.312|  15.477|    null|  0.0| null|  null|  22.277|  0.679|  0.679| -0.01|-13.519|   null|    null|    null|   1.35|    0.0|  null|  null|   null|-11.214| null| -7.741| -1.928|-0.42| null| null|   null| null| null|  null|   null| null|    null|    null|    null|    null|    null|  null|  null|-13.404|-4.009|null| null|  null|  36.474|4.962| 0.04| 8.816|   0.0| 22.658|-0.268|2.029| null|   null|   null|    0.0|null|null|null|null|   null|null| -53.224|    0.0| -1.684|  -1.014|  12.634|  -0.061| -51.479|  36.138|null|null|    null| null|   null|  36.138|   null|   null|null|  null|  60.695|     0.0|   null|   -6.5| null|-0.309|  null|null|   null|   null|null| null|null|    null|null| null|null|  49.5|  null|null|    0.0|  0.0|  0.125|   0.0| null|   null|  null|    0.0|    0.0| 0.291|   0.0|  0.125|       null|       null|null|null|  19.081| null|  null|   null|   null|0.484|   null|   null|null|4.585|null|   0.0|   0.0| null|  0.513| null|   null|    null|  38.066|  null|  null|0.265|  9.222| 3.451|null|   null|   null| null|  null|   null|   14|USA|    0.0|       null|  7.125|12.625|   1|   5|   4|  null|      D|325414|  null|  null|    01|2836|     147|     905|  null|   0|    null|        null|  1.0|\n",
      "| 2004|  AZPN|ASPEN TECHNOLOGY INC|   USD|   0.0| 10.115|  0.805|   null|   null|    null|    null| 209.428|null|   7.689|    0.2|   null|  351.734|  0.131|  2.711|null|  28.363|null| 107.677|  56.11|null| null|  0.0|  0.0|  0.0| 0.0|null| 41.717|   0.0|106.761|   0.0|null|   1.952|  0.811| 0.0|   20.7|  null|51.513|  5.363| 0.296|   0.0| 0.0| null| 19.256| 39.956|null| 1.55|-0.69|-0.69|   0.0|    0.0|  0.613| 1.828|  22.787|  7.924| 0.0|30.756| 0.252|null|  22.191|null| 14.736|  null|  null|null| 231.666|null|   null| 137.076| null| null|  7.296|  52.465|  0.0|     0.0|  null|   0.0|    0.0|   0.0|null| null| null|null|null|null| 0.0|     0.0|   -7.63| 193.548|    null|  0.0| null|  null|  216.61|    0.0|    0.0|   0.0|-21.806|   null|    null|    null|  -2.47|    0.0|  null|  null|-14.625| 40.936| null| 19.256| 39.956|  0.0| null| null|    0.0|1.005|7.464| 1.322|   2.51|6.278|   16.55|    3.12|    7.52|    3.04|   10.48|  99.0|  null|  -1.91| 0.467|null|  0.0|  null|  63.295| null| null|  null|  null| 18.664|  null| null| null|   null|   null|106.761|null|null|null|null| -9.875| 0.0|-314.101| -9.132|    0.0|  42.718|  91.636|   0.805|-314.906| 332.996|null|null|    null| null|   null| 332.996|   null|   null|null|  null| 135.124|    null|-46.196|-21.052|1.096| -0.17|  null|null|   null|   null|null|  0.0|null| 135.124|null| null|null|  null|  null|null|  0.513|  0.0| 14.682|  4.22|2.492|  0.031| 0.325|    0.0| 13.934| 6.569|   0.0| 19.896|       null|       null|null|null|   15.88| null|  null| -0.629| 67.625|  4.0|   null|   null|null| null|null|   0.0|   0.0| null|   4.94| null| 15.246|    null|  293.04|  null|  null|  1.0| 58.955|  11.7|null| 191.71|   null| null|  null|   null|   14|USA|    0.0|   301.1666|   7.26| 12.32|   1|   5|   4|  null|      D|511210|  null|  null|    01|7372|     185|     940|    B-|   0|19941025|        null|  1.0|\n",
      "| 2003|   CAH| CARDINAL HEALTH INC|   USD|   0.0|  931.2|  -19.2|   null|   null|    null|    null| 13249.6|null|  5288.4|   26.8|   null|  18521.4|17.3017|  423.2|null|  7758.1|null|  1724.0|  342.0|null| null|  0.0|  0.0|  0.0| 0.0|null|  467.2|   0.0|    0.0|   0.0|null|  2471.9|   null|-6.1|  265.8|  null|   0.0|    0.0|  null|  44.8| 0.0| null| 2281.8| 2547.6|null| 50.0|  3.1| 3.15|   0.0|    0.0|    0.0|  null|  2536.5|    0.0| 0.0|   0.0|  null|null|  -712.3|null| 2264.7|  null|-6.565|null|  4775.8|null|   null| 10230.0| null| null|   null|  2332.3|  0.0|  -234.4|  null|  null| 7623.3|  null|null| null| null|null|null|null| 0.0|     0.0|  -343.7|  7314.4|    null| 56.2| null|  null| 10763.3|   null|   null|  null| 1405.8|   null|    null|    null| -115.3|    0.0|  null|  null|   null| 1398.0|  0.0| 2281.8| 2547.6| 3.24| null| null|   3.19| null| null|  null|   null| null|    null|    null|   50.92|    null|    null|  null|  null| 2126.6| 346.9|null|-2.73| -5.46|  3755.3| null| null|  null|  null| 2089.5|  null| null| null|   null|   null|    0.0|null|null|null|null|   null| 0.0|  6490.2|    0.0|  -23.0|  -307.0|  2971.1|    -4.6|  6517.3| 56737.0|null|null|    null| null|   null| 56737.0|   null|   null|null|  null|  7758.1|     0.0|1266.16|  -39.9| 57.7|   0.0|  null|null|   null|   null|null| null|null|  7758.1|null| null|null| 705.8|  null|null| 1135.8|  0.0|  499.5| 839.7|  0.0|    0.0| 204.3|  441.7|   28.3|  null|   0.0|  714.7|       null|       null|null|null|  5935.2| null|  null|  -6.37| 1733.0| null|   null|   null|null| null|null|   0.0|  -6.1| null|   null| null|   83.6|    null| 54189.4|  null|  null| 73.0|   56.9| 102.8|null| 2228.2|   null| null|  null|   null|   11|USA|    0.1|   28832.12|   64.3|  72.3|   1|   4|   4|  null|      D|424210|  null|  null|    01|5122|     217|     978|     B|   0|    null|        null|  1.0|\n",
      "| 1995|   CAR|AVIS BUDGET GROUP...|   USD|   0.0|199.878|   null|   null|   null|    null|    null| 767.707|null| 124.902| 60.603|   null| 1141.306| 3.8597| 30.242|null| 727.212|null| 269.987| 60.933|null| null|  0.0|  0.0|  0.0| 0.0|null|   null|  null|  14.41| 14.41|null|   14.41|    0.0| 0.0| 35.119|  null|  null|   null|   0.0|   0.0| 0.0| null|270.724|305.843|null| 11.0| 0.83| 0.84|   0.0|    0.0|    0.0| 3.758| 118.291| 12.967| 0.0|   0.0|  null|null|  27.759|null|238.104|  null|  null|null|1070.164|null|   null| 741.622| null| null|   null| 276.047|  0.0|     0.0|  null|   0.0|    0.0|   0.0|null| null| null|null|null|null| 0.0|     0.0| -90.845| 149.845|    null|  0.0| null|  null| 414.094|    0.0|    0.0|   0.0|163.374|   null|    null|    null|  0.866|    0.0|  null|  null|   null|124.019| null|270.724|305.843| 0.86| null| null|   null| null| null|  null|   null| null|    null|    null|    null|    null|    null|  null|  null|266.343|20.632|null| null|  null| 135.016| null| null|  null|  null| 61.441|  null| null| null|   null|   null|    0.0|null|null|null|null|   null|null| 432.588|    0.0|    0.0| -67.975| 297.842|  -1.819| 434.407|1414.964|null|null|    null| null|   null|1414.964|   null|   null|null|  null| 727.212|     0.0|   null| -5.247|  0.0|   0.0|  null|null|   null|   null|null| null|null|    null|null| null|null|   0.0|  null|null| 30.998|  0.0| 86.693|   0.0| null|   null|  null| 73.703|  6.399|  38.5|   0.0|102.969|       null|       null|null|null| 617.862| null|  null|   null|   null| null|   null|   null|null| null|null|   0.0|   0.0| null|   null| null|   null|    null|1109.121|  null|  null|  3.7|   null|  27.7|null|764.321|   null| null|  null|   null|   14|USA|    0.0|       null| 36.875| 39.25|   1|   4|   1|  null|      D|532111|  null|  null|    01|7510|     175|     976|    B-|   0|    null|        null|  1.0|\n",
      "| 2001|   ELN|       ELAN CORP PLC|   USD|   0.0|   34.0|  -39.9|   null|   null|    null|    null|  2555.2|null|    75.6|    9.5|   null|   9439.6|14.4481|  120.8|null|5054.496|null|  1964.4|  943.8|null| null| null| null| null|null|null|349.837|   0.0|  842.9| 842.9|null|  2407.1|   null| 0.0|  270.4|  null|   0.0|    0.0|   0.0|   0.0| 0.0| null|  128.1|  398.5|null|4.617|-2.64|-2.64|   0.0|    0.0|    0.0|  null|    null|   null|null|  null|   1.5|null|  1277.6|null| 1764.7|  null|  null|null|  1419.3|null|   null|  7466.8| null| null|   null|  4526.2|  0.0|   -37.6|  null|  29.9|  183.6|  48.1|null| null| null|null|null|null| 0.0|   624.3|  -808.1|  1331.7|    null|  0.0| null|  null|  4379.9|    5.2|    5.2|  null| -887.2|   null|    null|    null|  185.9|  324.9|  null|  null|   null|  474.3| null|  128.1|  398.5| 0.23| null| null|   0.22| null| null|  null|   null| null|    null|    null|    null|    null|    null|  null|  null| -869.8|-178.2|null| null|  null|   557.8| null| null|  null|  null|  401.1|  null| null| null|   null|   null|    0.0|null|null|null|null|-36.465| 0.0|  -351.8|    0.0|   18.6|    null|   373.2|   -39.9|  -330.5|  1512.9|null|null|    null| null|   null|  1512.9|   null|   null|null|  null|  5054.5|    76.2|   null| -964.6|  2.0|   0.0|  null|null|   null|   null|null| null|null|    null|null| null|null|  null|  null|null|    0.0|  0.0|   null|   0.0| null|   null|  null|   null|   15.9|  null|   0.0|   17.4|       null|       null|null|null|  1223.5| null|  null|-692.77|  248.2| null|   null|   null|null| null|null|   0.0|   0.0| null|  219.2| null|   null|   382.7|  1114.4|  null|  34.0| 12.7|  401.9|  26.9|null| 1020.8|   null| null|  null|   null|   11|IRL|    0.0|       null|  45.06|  65.0|   1|   6|   4|  null|      B|325412|  null|   02W|    90|2834|     285|     905|  null|   0|    null|        null|  1.0|\n",
      "| 1998| FEETQ|   JUST FOR FEET INC|   USD|   0.0| 18.302|   null|   null|   null|    null|    null|  449.49|null| 100.322|  0.199|   null|  689.396|10.4403| 78.984|null| 325.706|null|  12.412|-70.078|null| null|0.774| 0.17|0.061| 0.0|null| 31.197|  null|    0.0|   0.0|null| 216.203|216.203| 0.0| 16.129|  null|  null|   null|   0.0|   0.0| 0.0| null| 51.245| 67.374|null| 15.0| 0.84| 0.87|   0.0|    0.0|    0.0|18.157|   61.14| 95.965| 0.0|   0.0|  null|null|  91.175|null| 71.084|  null|  null|null| 337.889|null|   null| 541.909| null| null|  0.143|  71.084|  0.0|-170.169|  null|  null|399.901|  null|null| null| null|null|null|null| 0.0|     0.0| -79.183| 132.692|    null|  0.0| null|  null|  363.69|    0.0|    0.0|   0.0| 26.648|   null|    null|    null|    0.0|    0.0|  null|  null|   null| -82.07|  0.0| 51.245| 67.374| 0.87| null| null|   0.84| null| null|  null|   null| null|    null|    null|   14.01|    null|    null|  null|  null| 43.329|  null|null|  0.0|  null| 188.606| null| null|  null|  null|160.592|  null| null| null|   null|   null|    0.0|null|null|null|null|   null| 0.0|  76.113|    0.0|    0.0|  -2.795|  18.875|     0.0|  76.113| 776.162|null|null|    null| null|   null| 776.162|   null|   null|null|  null| 325.706|     0.0| 23.248|    0.0| null|   0.0|  null|null|   null|   null|null| null|null|    null|null| null|null|  null|  null|null|    0.0|  0.0|  2.963| 1.633| null|   null| 0.902|  2.391|    0.0|   6.3|   0.0| 16.681|       null|       null|null|null| 316.798| null|  null|   null| 24.829| 43.9|   null|   null|null| null|null|   0.0|   0.0| null|  8.059| null|    3.4|    null| 708.788|  null|   0.0|0.142|    0.0|47.029|null|270.515|   null| null|  null|   null|   19|USA|    0.0|    467.955|   15.0|29.125|   1|   5|   4|  null|      D|448210|  null|  null|    01|5661|     449|     976|  null|   3|19940308|        null|  1.0|\n",
      "| 2000|   GRB|GERBER SCIENTIFIC...|   USD|   0.0| 40.334|   null|   null|   null|    null|    null|   228.8|null|   48.52|    0.0|   null|  501.193|10.1498| 14.757|null| 223.743|null|  20.866| -2.088|null| null|  0.0|  0.0|  0.0| 0.0|null| 22.829|  null|    0.0|   0.0|null| 169.914|169.914| 0.0| 27.228|  null|  null|   null| 7.036| 7.036| 0.0| null| 12.565| 39.793|null|2.539|-1.07|-1.07|   0.0|    0.0|    0.0|25.665|  83.652|    0.0| 0.0|   0.0|-0.315|null| -32.652|null|183.451|  null|  null|null| 213.564|null|   null| 393.657| null| null|  1.034| 190.795|  0.0|   6.205|  null|42.576| 69.441|26.865|null| null| null|null|null|null| 0.0|     0.0|  -6.166| 107.536|    null|  0.0| null|  null|  277.45|    0.0|    0.0|   0.0|-23.631|   null|    null|    null| -1.426|    0.0|  null|  null|   null|  36.73| 40.5| 12.565| 39.793|-0.11| null| null|  -0.11| null| null|  null|   null| null|    null|    null|   15.92|    null|    null|  null|  null|-32.431|-2.128|null|-4.55|-3.438| 112.572| null| null|  null|  null|  59.55|  null| null| null|   null|   null|    0.0|null|null|null|null| -21.11| 0.0| 173.656|    0.0|    0.0|  22.319|  98.159|  -6.426| 180.082| 554.646|null|null|    null| null|   null| 554.646|   null|   null|null|  null| 223.743|     0.0|-30.881|-31.339| null|   0.0|  null|null|   null|   null|null| null|null|    null|null| null|null|  null|  null|null| 16.138|  0.0|    2.7|   0.0|0.793| 12.107|   0.0|    0.2|    2.4|-3.005|   0.0|   -8.8|       null|       null|null|null| 121.264| null|  null|   null| 44.325| null|   null|   null|null| null|null|   0.0|   0.0| null| 13.265| null|    2.7|    null| 514.853|  null|18.965|2.783| 29.272| 5.625|null|173.771|   null| null|  null|   null|   11|USA|   0.32|   153.2058|   6.95|14.625|   1|   6|   1|  null|      D|333319|  null|  null|    01|3559|     454|     940|     C|   0|    null|        null|  1.0|\n",
      "| 1999|   IPG|INTERPUBLIC GROUP...|   USD|   0.0|130.983|   null|   null|   null|    null|    null|5767.844|null|4541.669|250.404|   null| 8727.255| 5.6597|149.716|null|1628.071|null|1018.213| 220.94|null| null|  0.0|  0.0|  0.0| 0.0|null|297.137|  null| 518.49|518.49|null| 867.262|   null| 0.0|190.013|  null|  null|   null|90.424| 98.22| 0.0| null|601.447| 791.46|null| 38.6| 1.11| 1.15|   0.0|    0.0|-42.231|  null| 732.115|139.777| 0.0|   0.0|  -5.6|null|   52.21|null|   null|  null|  null|null|  791.46|null|   null|2573.976| null| null|   null|1657.488|  0.0|     0.0|  null|   0.0|    0.0|   0.0|null| null| null|null|null|null| 0.0|  12.567|-351.347|5636.929|    null|  0.0| null|  null|7020.541| 78.643| 78.643|33.426|321.921|   null|    null|    null|140.844|238.485|  null|  null|   null|562.308| null|601.447| 791.46| 1.34| null| null|   1.29| null| null|  null|   null| null|    null|    null|    23.0|    null|    null|  null|  null|591.686| 233.8|null|2.666|   0.0|1014.971| null| null|  null|  null|534.323|  null| null| null|   null|   null|    0.0|null|null|null|null|   null| 0.0|1248.902|-14.573|-18.647|-836.254|4618.648|-226.253|1325.306|4427.303|null|null|    null| null|   null|4427.303|   null|   null|null|  null|1628.071|     0.0|316.296|-84.183| null|-43.39|  null|null|   null|   null|null| null|null|    null|null| null|null|  null|  null|null|312.463|  0.0|225.625|41.429|  0.0|   null|  null| 87.599|117.305| 173.1|   0.0|236.339|       null|       null|null|null| 130.915| null|  null|   null|675.596| null|   null|   null|null| null|null|   0.0|   0.0| null| 66.422| null| 23.241|2503.273|3635.843|  null|  null|13.72|   null| 291.2|null|   null|   null| null|  null|   null|   11|USA|   0.33| 16594.2709|57.6875|58.375|   1|   7|   1|  null|      D|541810|  null|  null|    01|7311|     456|     976|     B|   0|    null|        null|  1.0|\n",
      "| 1999|  MEDQ|        MEDQUIST INC|   USD|   0.0|  5.748|   null|   null|   null|    null|    null|  143.76|null|   5.373| 48.405|   null|  302.183| 7.1455| 14.169|null| 256.536|null|  62.024| 46.088|null| null| null| null| null|null|null| 35.902|  null|    0.0|   0.0|null|   0.452|  0.175| 0.0| 17.333|  null|  null|   null| 0.219|   0.0| 0.0| null| 62.732| 80.065|null| null| 1.09| 1.14|   0.0|    0.0|    0.0|   0.0|    null|  2.377| 0.0|  null|  null|null|  48.121|null|   null|  null|  null|null|  91.828|null|   null| 256.988| null| null|  4.603| 123.317|  0.0|     0.0|  null|   0.0|    0.0|   0.0|null| null| null|null|null|null| 0.0|   0.472| -62.265|  44.406|    null|  0.0| null|  null|  45.647|    0.0|    0.0|   0.0| 40.205|   null|    null|    null|  0.309|    0.0|  null|  null|   null| 60.232| null| 62.732| 80.065|  1.1| null| null|   1.05| null| null|  null|   null| null|    null|    null|   13.54|    null|    null|  null|  null| 67.644|  null|null|  0.0|  null|  70.492| null| null|  null|  null| 31.715|  null| null| null|   null|   null|    0.0|null|null|null|null|   null| 0.0|  56.622|    0.0|    0.0| -15.685|  75.988|     0.0|  55.918| 330.008|null|null|    null| null|   null| 330.008|   null|   null|null|  null| 256.536|   0.781| 35.945|  2.648|  0.0|-0.309|  null|null|   null|   null|null| null|null|    null|null| null|null|  null|  null|null|    0.0|  0.0|  28.91|   0.0| 1.44|  5.551|   0.0| 24.654|    0.0|15.016|   0.0| 27.439|       null|       null|null|null|  99.354| null|  null|   null| 31.746|0.524|   null|   null|null| null|null|   0.0|   0.0| null|  2.648| null|   4.26|    null| 249.943|  null|  null|0.275|    0.0|  5.41|null| 11.763|   null| null|  null|   null|   19|USA|    0.0|   926.7204|25.8125| 45.75|   1|null|   1|  null|      D|518210|  null|  null|    01|7374|     453|     940|     B|   3|19920504|        null|  1.0|\n",
      "| 2001|MKTSQ.|ADVANCED MARKETIN...|   USD|   0.0| 10.681| -1.953|   null|   null|    null|    null| 320.388|null|  223.96| 31.067|   null|  402.852| 6.8651| 14.882|null| 132.324|null|  23.125| -8.659|null| null|  0.0|  0.0|  0.0| 0.0|null| 23.009| 0.609|    0.0|   0.0|null|     0.0|    0.0| 0.0|   4.57|  null|   0.0|    0.0| 0.772| 0.772| 0.0| null| 37.504| 42.074|null| 0.85| 1.16| 1.21|   0.0|    0.0| -1.009|  null|    null|   null|null|  null|  null|null|  26.798|null|   40.8|  null|  null|null|  123.35|null|   null| 132.324| null| null|   null|    40.8|  0.0| -11.949|  null|  null|123.904|  null|null| null| null|null|null|null| 0.0|   6.259| -47.184| 270.528|    null|  0.0| null|  null| 270.528|    0.0|    0.0|   0.0| 23.098|   null|    null|    null|   0.52|   25.0|  null|  null|   null| 12.736| null| 37.504| 42.074| 1.21| null| null|   1.16| null| null|  null|   null| null|    null|    null|    null|    null|    null|  null|  null| 38.024|  null|null|  0.0|  null|  46.851| null| null|  null|  null| 30.983|  null| null| null|   null|   null|    0.0|null|null|null|null|   null| 0.0|  111.55|    0.0|    0.0| -23.042| 162.678|  -1.931| 113.503| 756.122|null|null|    null| null|   null| 756.122|   null|   null|null|  null| 132.324|   5.024| 20.498|    0.0|  0.0|   0.0|  null|null|   null|   null|null|0.221|null|    null|null| null|null|   0.0|  null|null| 16.191|  0.0| 14.971|   0.0| null|   null|  null| 12.396|    0.0|14.227|   0.0| 14.926|       null|       null|null|null|   49.86| null|  null|   null| 20.046| null|   null|   null|null| null|null|   0.0|   0.0| null|   null|  0.0|    2.6|    null| 714.048|  null| 3.439|0.153|    0.0|   7.5|null| 81.276|   null| null|  null|   null|   19|USA|   0.04|      462.6|   24.0|  26.1|   1|   5|   1|  null|      D|424920|  null|  null|    01|5190|     175|     976|     D|   3|19870701|        null|  1.0|\n",
      "| 2002|  MXIM|MAXIM INTEGRATED ...|   USD|   0.0|147.981|  -0.92|   null|   null|    null|    null|1235.664|null|  45.284|    0.0|   null| 2010.812| 5.4401| 90.374|null|1741.151|null| 765.501| 80.011|null| null|  0.0|  0.0|  0.0| 0.0|null|320.061|   0.0|    0.0|   0.0|null|     0.0|    0.0| 0.0|   null|  null|27.183|    0.0|   0.0|   0.0| 0.0| null|345.352|   null|null|6.067| 0.73|  0.8|   0.0|    0.0|    0.0|354.43|1022.454|    0.0| 0.0|   0.0|  null|null|-754.719|null|    0.0|   0.0|  null|null| 712.881|null|   null|1741.151| null| null|   null|     0.0|  0.0|   23.45|  null|12.742|139.206| 95.46|null| null| null|null|null|null| 0.0|     0.0| 430.967| 229.027|    null|  0.0| null|  null| 269.661|    0.0|    0.0|   0.0|259.183|   null|    null|    null| 41.488|    0.0|  null|  null|   null|403.763|239.0|345.352|   null|  0.8| null| null|   0.73| null| null|  null|   null| null|    null|    null|   28.25|    null|    null|  null|  null| 386.84|  22.7|null|  0.0|  null|1432.184| null| null|  null|  null|746.161|  null| null| null|   null|   null|    0.0|null|null|null|null|   null| 0.0|1685.896|    0.0| -1.505|  22.676| 182.976|   -1.47|1686.816|1025.104|null|null|    null| null|   null|1025.104|   null|   null|null|  null|1741.151|     0.0| 84.685|    0.0| null|   0.0|  null|null|   null|   null|null| null|null|1741.151|null| null|null|  null|  null|null|    0.0|  0.0| 130.16|36.634|  0.0|144.717|   0.0|118.136|  5.292|-9.106|53.164|127.657|       null|       null|null|null|1006.637| null|  null|   null|145.927| 13.6|   null|   null|null| null|null|   0.0|   0.0| null|    0.0|  0.0|171.713|    null| 679.752|  null|   0.0|  2.6|275.547|   3.0|null|367.529|   null| null|  null|   null|   14|USA|    0.0| 12267.9381|  38.33| 62.67|   1|   4|   1|  null|      D|334413|  null|  null|    01|3674|     235|     940|     B|   0|19880229|        null|  1.0|\n",
      "| 1993| PBIO.|PERSEPTIVE BIOSYS...|   USD|   0.0|  1.327|   null|   null|   null|    null|    null|  27.864|null|   2.401|    0.0|   null|   57.098| 4.7027|  5.233|null|  52.868|null|  15.633|  2.311|null| null|0.116|0.004|  0.0| 0.0|null|   null|  null|    0.0|   0.0|null|   0.137|  0.137| 0.0|  1.574|  null|  null|   null|   0.0|   0.0| 0.0| null| -1.919| -0.345|null|0.228| -0.1| -0.1|   0.0|    0.0|    0.0|  null|    null|   null|null|  null|  null|null|  33.446|null|    0.0|  null|  null|null|   12.07|null|   null|  53.005| null| null|  1.319|    1.42|  0.0|  -2.041|  null|  1.29|  2.659| 0.832|null| null| null|null|null|null| 0.0|  20.931| -22.457|   4.093|    null|  0.0| null|  null|    4.23|    0.0|    0.0|   0.0| -1.009|   null|    null|    null| -0.016|    0.0|  null|  null|   null| -8.678| null| -1.919| -0.345|-0.07| null| null|   null| null| null|  null|   null| null|    null|    null|    null|    null|    null|  null|  null| -1.009|-0.583|null| null|  null|   7.728| null| null|  null|  null|  6.132|  null| null| null|   null|   null|    0.0|null|null|null|null|   null|null| -13.183|    0.0|  -0.28|  -6.621|   8.245|     0.0| -12.903|  18.654|null|null|    null| null|   null|  18.654|   null|   null|null|  null|  52.868|   3.059|   null| -0.333|  0.0|   0.0|  null|null|   null|   null|null| null|null|    null|null| null|null|  null|  null|null|    0.0|  0.0|    0.0|   0.0| null|   null|  null|    0.0|    0.0|  null|   0.0|    0.0|       null|       null|null|null|  23.771| null|  null|   null|  1.428| 0.79|   null|   null|null| null|null|   0.0|   0.0| null|   0.06| null|   null|    null|  18.999|  null|  null| null|  3.222| 0.602|null| 12.415|   null| null|  null|   null|   14|USA|    0.0|       null|   22.0|  25.5|   1|   7|   1|  null|      D|334516|  null|  null|    01|3826|     230|     940|  null|   0|19920529|        null|  1.0|\n",
      "| 2002|   RNR|RENAISSANCERE HOL...|   USD|-9.187|    0.0| 95.234|   null|   null|    null|    null|    null|null| 146.732| 23.495|   null| 3745.736|21.3912|    0.0|null|1492.035|null| 733.415|-52.648|null| null|  0.0|  0.0|  0.0| 0.0|null|  69.75|18.468|    0.0|   0.0|null|  359.63|    0.0| 0.0| 19.041|  null|  null|331.985|51.223|39.039| 0.0| null|457.934|476.975|null|0.112|  5.2|  5.4|   0.0|    0.0|    0.0|  null|    null|   null|null|  null| 3.861|null|  62.277|null|   null| 0.557|  null|null| 476.975|null|   null|2365.211| null| null|    0.0|    null|  0.0|     0.0|  null|   0.0|    0.0|   0.0|null| null| null|null|null|null| 0.0|6812.149|-893.351|    null|    null|  0.0| null|  null|1740.155|363.546|363.546|55.051|376.998|   null|    null|    null|  3.861|    0.0|  null|  null|   null|778.426| null|457.934|476.975| 5.54| null| null|   5.33| null| null|  null|   null| null|    null|    null|    null|    null|    null|  null|  null|441.121|  null|null|  0.0|  null|    null| null| null|  null|  null|   null|  null| null| null|   null|   null|    0.0|null|null|null|null|   null| 0.0|1189.567|    0.0|    0.0|    null| 498.175|     0.0|1094.333| 906.589|null|null|    null| null|   null| 906.589|   null|   null|null|  null|1642.035|5775.865| 354.24|    0.0|  0.0|-8.765|  null|null|   null|   null|null| null|null|    null|null| null|null|  65.9|  null|null|    0.0|  0.0|    0.0|   0.0| null|   null|  null|    0.0|    0.0|  null|   0.0| -0.115|       null|       null|null|null|    null| null|  null|   null|   null| null|   null|   null|null| null|null|-9.187|-9.187| null| 20.674| null| 14.064|    null| 429.614|  null|   0.0| null|   null|  null|null|   null|   null| null|  null|   null|   11|BMU| 0.5673|     2762.1|   39.6| 44.19|   1|   4|   4|  null|      B|524130|  null|  null|    01|6331|     835|     800|    B+|   0|19950726|        null|  1.0|\n",
      "| 1998| AHNCQ|ATCHISON CASTING ...|   USD|   0.0| 12.801|   null|   null|   null|    null|    null| 172.752|null|  37.259| 74.299|   null|  346.139|16.5565| 18.495|null| 135.614|null|   9.336|-10.483|null| null|  0.0|  0.0|  0.0| 0.0|null|   null|  null|    0.0|   0.0|null|  87.272|  8.293| 0.0| 11.764|  null|  null|   null|   0.0|   0.0| 0.0| null|  25.84| 37.604|null|  4.7| 1.55| 1.56|   0.0|    0.0| -0.253|29.298| 114.748|    0.0| 0.0|   0.0|  null|null|  64.683|null| 25.424|  null|  null|null|  66.402|null|   null| 225.946| null| null|    0.0|  25.424|  0.0|  -0.374|  null|16.822| 62.146|37.939|null| null| null|null|null|null| 0.0|     0.0| -90.775|   95.97|    null|0.314| null|  null| 207.465|   3.06|   3.06| 0.448| 12.765|   null|    null|    null|    0.0|    0.0|  null|  null|   null| 15.862|198.2|  25.84| 37.604| 1.56| null| null|   null| null| null|  null|   null| null|    null|    null|    null|    null|    null|  null|  null| 21.944|  null|null| null|  null| 172.557| null| null|  null|  null| 137.29|  null| null| null|   null|   null|    0.0|null|null|null|null|   null|null|  54.575|    0.0|    0.0|  13.071|  88.469|   -0.63|  55.205| 373.768|null|null|    null| null|   null| 373.768|   null|   null|null|  null| 135.614|     0.8|   null|    0.0|1.219| 0.176|  null|null|   null|   null|null| null|null|    null|null| null|null|58.001|  null|null|    0.0|  0.0|  6.621|12.608| null|   null|  null|  4.298|  0.913| 7.731|   0.0|  8.731|       null|       null|null|null|  76.782| null|  null|   null| 51.532| null|   null|   null|null| null|null|   0.0|   0.0| null|  3.896|3.896|   null|    null| 336.164|  null|   0.0|1.627|   null| 1.006|null| 28.798|   null| null|  null|   null|   19|USA|    0.0|   146.4141| 17.875| 22.25|   1|   5|   1|  null|      D|331513|  null|  null|    01|3320|     460|     970|     D|   3|19931004|        null|  1.0|\n",
      "| 2001|     C|       CITIGROUP INC|   USD|  null|   null|   null|   null|   null|    null|    null|    null| 0.0| 32891.0|   null|19660.0|1051450.0|   null|   null|null| 79722.0| 0.0|    null|   null|null| null| null| null| null|null|null|   null|  null|   null|  null|null|121631.0|   null| 0.0| 2417.0|  null|  null|   null|  null|3075.0|null|  0.0|   null|   null|null|272.0| null| null|  null|   null|   null|  null|    null|   null|null|  null|   0.0| 0.0|    null|null|    0.0|  null|  null|null|    null| 0.0|   null|210003.0| null| null|66565.0|     0.0|  0.0|    null|   0.0|  null|    0.0|  null|null| null| null|null|null|null|null|    null|    null|    null|381845.0| null|  0.0|   0.0|963078.0| 7125.0| 7125.0|  87.0|   null|34600.0|    null|    null|   null|   null|4234.0|5536.0|   null|   null| null|   null|   null| null| null| null|   null| null| null|  null|   null| null|    null|    null|    null|    null|    null|  null|6800.0|21897.0|  null|null| null|  null|    null| null| null|  null|  null|   null|  null| null|  0.0|   null|   null|   null| 0.0| 0.0| 0.0| 0.0|   null|null| 69803.0|   null|   null|    null|    null|    null|    null|112022.0|null|null|153511.0|  0.0|49294.0|    null|   null|   null| 0.0|  null| 81247.0|    null|   null|    0.0| null|  null|  null|null|51815.0|11765.0| 0.0| null|null|    null|null| null|null|  null|  null| 0.0|11099.0|  0.0| 6512.0|   0.0| null|   null|  null|   null| 2579.0|  null|  null| 7526.0|       null|       null|null| 0.0|    null| null|  null|   null|   null| null|16231.0|35680.0|null| null|null|-158.0|-158.0| null|31965.0| null|   null| 19449.0|    null|  null|   0.0|-39.0|   null|  null| 0.0|   null|19449.0| null|  null|90125.0|   11|USA|    0.6|259905.7702|  50.48|57.375|   1|   6|   4|  null|      B|522291|  null|  null|    01|6199|     850|     800|    B-|   0|    null|        null|  1.0|\n",
      "+-----+------+--------------------+------+------+-------+-------+-------+-------+--------+--------+--------+----+--------+-------+-------+---------+-------+-------+----+--------+----+--------+-------+----+-----+-----+-----+-----+----+----+-------+------+-------+------+----+--------+-------+----+-------+------+------+-------+------+------+----+-----+-------+-------+----+-----+-----+-----+------+-------+-------+------+--------+-------+----+------+------+----+--------+----+-------+------+------+----+--------+----+-------+--------+-----+-----+-------+--------+-----+--------+------+------+-------+------+----+-----+-----+----+----+----+----+--------+--------+--------+--------+-----+-----+------+--------+-------+-------+------+-------+-------+--------+--------+-------+-------+------+------+-------+-------+-----+-------+-------+-----+-----+-----+-------+-----+-----+------+-------+-----+--------+--------+--------+--------+--------+------+------+-------+------+----+-----+------+--------+-----+-----+------+------+-------+------+-----+-----+-------+-------+-------+----+----+----+----+-------+----+--------+-------+-------+--------+--------+--------+--------+--------+----+----+--------+-----+-------+--------+-------+-------+----+------+--------+--------+-------+-------+-----+------+------+----+-------+-------+----+-----+----+--------+----+-----+----+------+------+----+-------+-----+-------+------+-----+-------+------+-------+-------+------+------+-------+-----------+-----------+----+----+--------+-----+------+-------+-------+-----+-------+-------+----+-----+----+------+------+-----+-------+-----+-------+--------+--------+------+------+-----+-------+------+----+-------+-------+-----+------+-------+-----+---+-------+-----------+-------+------+----+----+----+------+-------+------+------+------+------+----+--------+--------+------+----+--------+------------+-----+\n",
      "only showing top 20 rows\n",
      "\n",
      "None\n"
     ]
    },
    {
     "name": "stdout",
     "output_type": "stream",
     "text": [
      "Number of records in Services-packaged software industrial category:  3388\n"
     ]
    }
   ],
   "source": [
    "# Using nullcounts to filter columns to keep\n",
    "nullcounts = integrated_df.select([count(when(isnan(c) | col(c).isNull(), c)).alias(c) for c in integrated_df.columns])\n",
    "nc = list(nullcounts.first())\n",
    "\n",
    "# Extracting out an industrial segment and modelling on it instead of the whole dataset\n",
    "# Services-packaged software category selection (from EDA)\n",
    "services_prepacked_software = integrated_df #.filter(integrated_df.sic == '7372')\n",
    "print('Total records in integrated file: ', integrated_df.count())\n",
    "print(services_prepacked_software.show())\n",
    "print('Number of records in Services-packaged software industrial category: ', services_prepacked_software.count())\n",
    "\n",
    "# Reusing preprocessing steps implemented by Vincent\n",
    "some_dict = {}\n",
    "for x in services_prepacked_software.columns:\n",
    "\tsome_dict[x] = 0\n",
    "\n",
    "nwdf = services_prepacked_software.fillna(some_dict)\n",
    "\n",
    "good_columns = []\n",
    "for i in range(0, len(nc)):\n",
    "\tif nc[i] == 0:\n",
    "\t\tgood_columns.append(i)\n",
    "\n",
    "great_columns = [nwdf.columns[i] for i in good_columns]\n",
    "great_columns.append('rea')\n",
    "nwdf = nwdf.fillna(some_dict)\n",
    "\n",
    "non_string_columns = [k for (k,v) in nwdf.dtypes if v != 'string']\n",
    "nwdf_no_strings = nwdf.select(*non_string_columns)\n",
    "feature_columns = [item for item in nwdf_no_strings.columns if item not in ['rea', 'features', 'label', 'rea_label']]\n",
    "\n",
    "assembler = VectorAssembler(inputCols=feature_columns, outputCol=\"features\")\n",
    "final_df = assembler.transform(nwdf_no_strings)\n",
    "final_final_df = final_df.drop(*feature_columns).cache()"
   ]
  },
  {
   "cell_type": "code",
   "execution_count": 8,
   "metadata": {},
   "outputs": [
    {
     "data": {
      "text/plain": [
       "['rea', 'label', 'features']"
      ]
     },
     "execution_count": 8,
     "metadata": {},
     "output_type": "execute_result"
    }
   ],
   "source": [
    "final_final_df.columns"
   ]
  },
  {
   "cell_type": "code",
   "execution_count": null,
   "metadata": {
    "collapsed": true
   },
   "outputs": [],
   "source": []
  },
  {
   "cell_type": "code",
   "execution_count": 9,
   "metadata": {},
   "outputs": [
    {
     "name": "stdout",
     "output_type": "stream",
     "text": [
      "Accuracy on training data:  0.9911452184179457\n",
      "Training RandomForest model on training set. \n",
      " Model parameters: {Param(parent='RandomForestClassifier_4484859be720c744bed3', name='seed', doc='random seed.'): 42, Param(parent='RandomForestClassifier_4484859be720c744bed3', name='maxDepth', doc='Maximum depth of the tree. (>= 0) E.g., depth 0 means 1 leaf node; depth 1 means 1 internal node + 2 leaf nodes.'): 16, Param(parent='RandomForestClassifier_4484859be720c744bed3', name='numTrees', doc='Number of trees to train (>= 1).'): 100, Param(parent='RandomForestClassifier_4484859be720c744bed3', name='labelCol', doc='label column name.'): 'label'}\n",
      "Accuracy on test set:  0.8181818181818182\n"
     ]
    },
    {
     "name": "stderr",
     "output_type": "stream",
     "text": [
      "/home/envmodules/lib/spark-2.2.0-bin-hadoop2.7/python/pyspark/mllib/evaluation.py:237: UserWarning: Deprecated in 2.0.0. Use accuracy.\n",
      "  warnings.warn(\"Deprecated in 2.0.0. Use accuracy.\")\n"
     ]
    },
    {
     "name": "stdout",
     "output_type": "stream",
     "text": [
      "Precision on test data:  0.8181818181818182\n",
      "Recall on test data:  0.8181818181818182\n",
      "F1 Score on test data:  0.8181818181818182\n"
     ]
    },
    {
     "name": "stderr",
     "output_type": "stream",
     "text": [
      "/home/envmodules/lib/spark-2.2.0-bin-hadoop2.7/python/pyspark/mllib/evaluation.py:249: UserWarning: Deprecated in 2.0.0. Use accuracy.\n",
      "  warnings.warn(\"Deprecated in 2.0.0. Use accuracy.\")\n",
      "/home/envmodules/lib/spark-2.2.0-bin-hadoop2.7/python/pyspark/mllib/evaluation.py:262: UserWarning: Deprecated in 2.0.0. Use accuracy.\n",
      "  warnings.warn(\"Deprecated in 2.0.0. Use accuracy.\")\n"
     ]
    },
    {
     "name": "stdout",
     "output_type": "stream",
     "text": [
      "Area under ROC curve:  0.910230196267877\n"
     ]
    }
   ],
   "source": [
    "# String indexing not required\n",
    "stringIndexer = StringIndexer(inputCol=\"label\", outputCol=\"indexed\")\n",
    "si_model = stringIndexer.fit(final_final_df)\n",
    "td = si_model.transform(final_final_df)\n",
    "\n",
    "# Evaluators\n",
    "evaluator = MulticlassClassificationEvaluator(metricName = 'accuracy')\n",
    "eval = BinaryClassificationEvaluator()\n",
    "\n",
    "# RandomForest classifier\n",
    "rf = RandomForestClassifier(numTrees=100, maxDepth=16, labelCol=\"indexed\", seed=42)\n",
    "model = rf.fit(td)\n",
    "result = model.transform(final_final_df)\n",
    "print('Accuracy on training data: ', evaluator.evaluate(result))\n",
    "\n",
    "# Train test split for model evaluation\n",
    "train, test = final_final_df.randomSplit([0.7, 0.3], seed=12345)\n",
    "\n",
    "rf = RandomForestClassifier(numTrees=100, maxDepth=16, labelCol=\"label\", seed=42)\n",
    "print('Training RandomForest model on training set. \\n Model parameters: {}'.format(rf._paramMap))\n",
    "trained_model = rf.fit(train)\n",
    "res = trained_model.transform(test)\n",
    "metrics = MulticlassMetrics(res.select(['label', 'prediction']).rdd)\n",
    "print('Accuracy on test set: ', evaluator.evaluate(res))\n",
    "print('Precision on test data: ', metrics.precision())\n",
    "print('Recall on test data: ', metrics.recall())\n",
    "print('F1 Score on test data: ', metrics.fMeasure())\n",
    "print('Area under ROC curve: ', eval.evaluate(res))"
   ]
  },
  {
   "cell_type": "code",
   "execution_count": 10,
   "metadata": {},
   "outputs": [
    {
     "name": "stdout",
     "output_type": "stream",
     "text": [
      "Training LogisticRegression model on training set.\n",
      "Accuracy on test set:  0.7272727272727273\n"
     ]
    },
    {
     "name": "stderr",
     "output_type": "stream",
     "text": [
      "/home/envmodules/lib/spark-2.2.0-bin-hadoop2.7/python/pyspark/mllib/evaluation.py:237: UserWarning: Deprecated in 2.0.0. Use accuracy.\n",
      "  warnings.warn(\"Deprecated in 2.0.0. Use accuracy.\")\n"
     ]
    },
    {
     "name": "stdout",
     "output_type": "stream",
     "text": [
      "Precision on test data:  0.7272727272727273\n",
      "Recall on test data:  0.7272727272727273\n",
      "F1 Score on test data:  0.7272727272727273\n"
     ]
    },
    {
     "name": "stderr",
     "output_type": "stream",
     "text": [
      "/home/envmodules/lib/spark-2.2.0-bin-hadoop2.7/python/pyspark/mllib/evaluation.py:249: UserWarning: Deprecated in 2.0.0. Use accuracy.\n",
      "  warnings.warn(\"Deprecated in 2.0.0. Use accuracy.\")\n",
      "/home/envmodules/lib/spark-2.2.0-bin-hadoop2.7/python/pyspark/mllib/evaluation.py:262: UserWarning: Deprecated in 2.0.0. Use accuracy.\n",
      "  warnings.warn(\"Deprecated in 2.0.0. Use accuracy.\")\n"
     ]
    },
    {
     "name": "stdout",
     "output_type": "stream",
     "text": [
      "Area under ROC curve:  0.7928720420322581\n",
      "objectiveHistory:\n",
      "0.693054780889867\n",
      "0.6927449570920323\n",
      "0.6865521824268418\n",
      "0.6573807051265931\n",
      "0.6458610500184775\n",
      "0.608905822853849\n",
      "0.5982274074795306\n",
      "0.5899200989638572\n",
      "0.5855751704514335\n",
      "0.5848942940464251\n",
      "0.5845607566022901\n",
      "0.5844575005804169\n",
      "0.5843962818977303\n",
      "0.5843542824925069\n",
      "0.5842710693776809\n",
      "0.5840686379667835\n",
      "0.5839878679688942\n",
      "0.5836606303329172\n",
      "0.5833755528413657\n",
      "0.5832948559603599\n",
      "0.5832747982269266\n",
      "0.5830823139698014\n",
      "0.582944344836495\n",
      "0.582922037350081\n",
      "0.582909445246052\n",
      "0.5828923915865181\n",
      "0.5828699972713551\n",
      "0.5828682818912709\n",
      "0.5828674201128912\n",
      "0.5828672682559426\n",
      "0.5828671129777523\n",
      "0.5828667465123549\n",
      "0.5828657161094727\n",
      "0.5828634775517001\n",
      "0.5828626967212738\n",
      "0.582862266598108\n",
      "0.5828603791362766\n",
      "0.5828599061634633\n",
      "0.5828598507413352\n",
      "0.5828598364081701\n",
      "0.5828597909002018\n",
      "0.5828596046338972\n",
      "0.5828593206590715\n",
      "0.5828587999828764\n",
      "0.5828581187817667\n",
      "0.5828578467373607\n",
      "0.582857134282419\n",
      "0.5828532979027322\n",
      "0.5828529634087118\n",
      "0.5828517425344878\n",
      "0.5828504226554184\n",
      "0.5828486716225815\n",
      "0.5828485332816534\n",
      "0.5828476623626021\n",
      "0.5828474147228448\n",
      "0.5828473695568284\n",
      "0.5828473513775378\n",
      "0.5828472981796735\n",
      "0.5828472721116648\n",
      "0.5828471796990818\n",
      "0.582847045227495\n",
      "0.5828469449744549\n",
      "0.5828468239384967\n",
      "0.5828466603188412\n",
      "0.5828463183460124\n",
      "0.5828461748509365\n",
      "0.582845841157453\n",
      "0.5828457786697909\n",
      "0.5828454747714745\n",
      "0.5828452838417852\n",
      "0.582845220580373\n",
      "0.5828450653309633\n",
      "0.5828445468170994\n",
      "0.5828440418475899\n",
      "0.5828434907836062\n",
      "0.5828411071682555\n",
      "0.5828407284717045\n",
      "0.5828392038366369\n",
      "0.582838497216426\n",
      "0.5828384529628199\n",
      "0.5828382912873306\n",
      "0.5828382771769153\n",
      "0.5828382582356503\n",
      "0.5828382224060541\n",
      "0.5828381546892973\n",
      "0.582838044862945\n",
      "0.5828379272026333\n",
      "0.5828379267360049\n",
      "0.5828378532475337\n",
      "0.5828378223446721\n",
      "0.5828378029489316\n",
      "0.5828377588526331\n",
      "0.5828376580313003\n",
      "0.5828374607887059\n",
      "0.5828374099860619\n",
      "0.5828371250285003\n",
      "0.582836778558469\n",
      "0.5828366694779548\n",
      "0.5828366594650665\n",
      "0.5828366358932792\n",
      "0.582836634609271\n",
      "+--------------------+--------------------+\n",
      "|                 FPR|                 TPR|\n",
      "+--------------------+--------------------+\n",
      "|                 0.0|                 0.0|\n",
      "|                 0.0|0.022632020117351215|\n",
      "|0.002583979328165375|0.041911148365465216|\n",
      "|0.002583979328165375| 0.06202849958088852|\n",
      "|0.002583979328165375| 0.08214585079631181|\n",
      "|0.002583979328165375| 0.10226320201173512|\n",
      "|0.003445305770887...| 0.12154233025984912|\n",
      "|0.006029285099052541| 0.13914501257334452|\n",
      "|0.006890611541774...|  0.1584241408214585|\n",
      "|0.008613264427217916|  0.1760268231349539|\n",
      "|0.012058570198105082| 0.19195305951383068|\n",
      "|0.014642549526270457| 0.21039396479463537|\n",
      "|0.017226528854435832|  0.2179379715004191|\n",
      "| 0.01808785529715762|  0.2363788767812238|\n",
      "|0.024117140396210164| 0.25230511316010057|\n",
      "| 0.02756244616709733| 0.26823134953897737|\n",
      "|0.028423772609819122|  0.2875104777870914|\n",
      "| 0.03186907838070629| 0.30427493713327747|\n",
      "| 0.03273040482342808| 0.32271584241408213|\n",
      "| 0.03789836347975883|  0.3369656328583403|\n",
      "+--------------------+--------------------+\n",
      "only showing top 20 rows\n",
      "\n",
      "areaUnderROC: 0.8073072682811664\n",
      "best threshold is:0.45423192180117355\n"
     ]
    }
   ],
   "source": [
    "# Logistic regression\n",
    "print('Training LogisticRegression model on training set.')\n",
    "logistic = LogisticRegression(regParam=0.1, labelCol=\"label\")#, thresholds = [0.2, 0.5])\n",
    "trained_model = logistic.fit(train)\n",
    "res = trained_model.transform(test)\n",
    "metrics = MulticlassMetrics(res.select(['label', 'prediction']).rdd)\n",
    "print('Accuracy on test set: ', evaluator.evaluate(res))\n",
    "print('Precision on test data: ', metrics.precision())\n",
    "print('Recall on test data: ', metrics.recall())\n",
    "print('F1 Score on test data: ', metrics.fMeasure())\n",
    "print('Area under ROC curve: ', eval.evaluate(res))\n",
    "\n",
    "\n",
    "from pyspark.ml.classification import LogisticRegression\n",
    "\n",
    "# Extract the summary from the returned LogisticRegressionModel instance trained\n",
    "# in the earlier example\n",
    "trainingSummary = trained_model.summary\n",
    "\n",
    "# Obtain the objective per iteration\n",
    "objectiveHistory = trainingSummary.objectiveHistory\n",
    "print(\"objectiveHistory:\")\n",
    "for objective in objectiveHistory:\n",
    "    print(objective)\n",
    "\n",
    "# Obtain the receiver-operating characteristic as a dataframe and areaUnderROC.\n",
    "trainingSummary.roc.show()\n",
    "print(\"areaUnderROC: \" + str(trainingSummary.areaUnderROC))\n",
    "\n",
    "# Set the model threshold to maximize F-Measure\n",
    "fMeasure = trainingSummary.fMeasureByThreshold\n",
    "maxFMeasure = fMeasure.groupBy().max('F-Measure').select('max(F-Measure)').head()\n",
    "bestThreshold = fMeasure.where(fMeasure['F-Measure'] == maxFMeasure['max(F-Measure)']) \\\n",
    "    .select('threshold').head()['threshold']\n",
    "logistic.setThreshold(bestThreshold)\n",
    "\n",
    "res = trained_model.transform(test)\n",
    "\n",
    "print('best threshold is:' + str(bestThreshold))"
   ]
  },
  {
   "cell_type": "code",
   "execution_count": 11,
   "metadata": {},
   "outputs": [
    {
     "name": "stdout",
     "output_type": "stream",
     "text": [
      "+-----+-----+\n",
      "|label|count|\n",
      "+-----+-----+\n",
      "|  0.0|  533|\n",
      "|  1.0|  501|\n",
      "+-----+-----+\n",
      "\n"
     ]
    }
   ],
   "source": [
    "test.groupby('label').count().show()"
   ]
  },
  {
   "cell_type": "code",
   "execution_count": 12,
   "metadata": {},
   "outputs": [
    {
     "name": "stdout",
     "output_type": "stream",
     "text": [
      "misstatement_precision is 0.689119170984456, misstatement recall is 0.7964071856287425\n",
      "non_misstatement_precision is 0.7758241758241758, non_misstatement recall is 0.6622889305816135\n"
     ]
    }
   ],
   "source": [
    "res = res.withColumn('correct', res.label == res.prediction)\n",
    "\n",
    "#positive class (misstatements)\n",
    "true_positives_df = res.filter(res.prediction == 1.0).filter(res.label == 1.0)\n",
    "ground_truth_positives_df = res.filter(res.label == 1.0)\n",
    "misstatement_recall = true_positives_df.count()/ground_truth_positives_df.count()\n",
    "\n",
    "new_all_predicted_positive_df = res.filter(res.prediction == 1.0)\n",
    "misstatement_precision = true_positives_df.count()/new_all_predicted_positive_df.count()\n",
    "\n",
    "#negative class (non misstatements)\n",
    "true_negative_df = res.filter(res.prediction == 0.0).filter(res.label == 0.0)\n",
    "ground_truth_negative_df = res.filter(res.label == 0.0)\n",
    "non_misstatement_recall = true_negative_df.count()/ground_truth_negative_df.count()\n",
    "\n",
    "new_all_predicted_negative_df = res.filter(res.prediction == 0.0)\n",
    "non_misstatement_precision = true_negative_df.count()/new_all_predicted_negative_df.count()\n",
    "\n",
    "print('misstatement_precision is {}, misstatement recall is {}'.format(misstatement_precision, misstatement_recall))\n",
    "print('non_misstatement_precision is {}, non_misstatement recall is {}'.format(non_misstatement_precision, non_misstatement_recall))\n"
   ]
  },
  {
   "cell_type": "code",
   "execution_count": 13,
   "metadata": {},
   "outputs": [
    {
     "data": {
      "text/plain": [
       "579"
      ]
     },
     "execution_count": 13,
     "metadata": {},
     "output_type": "execute_result"
    }
   ],
   "source": [
    "new_all_predicted_positive_df.count()"
   ]
  },
  {
   "cell_type": "code",
   "execution_count": 14,
   "metadata": {},
   "outputs": [
    {
     "data": {
      "text/plain": [
       "1034"
      ]
     },
     "execution_count": 14,
     "metadata": {},
     "output_type": "execute_result"
    }
   ],
   "source": [
    "res.count()"
   ]
  },
  {
   "cell_type": "code",
   "execution_count": 15,
   "metadata": {
    "collapsed": true
   },
   "outputs": [],
   "source": [
    "true_positives_df = res.filter(res.prediction == 1.0).filter(res.label == 1.0)"
   ]
  },
  {
   "cell_type": "code",
   "execution_count": 16,
   "metadata": {},
   "outputs": [
    {
     "data": {
      "text/plain": [
       "399"
      ]
     },
     "execution_count": 16,
     "metadata": {},
     "output_type": "execute_result"
    }
   ],
   "source": [
    "true_positives_df.count()"
   ]
  },
  {
   "cell_type": "code",
   "execution_count": 17,
   "metadata": {},
   "outputs": [
    {
     "name": "stdout",
     "output_type": "stream",
     "text": [
      "+----------+-----+\n",
      "|prediction|count|\n",
      "+----------+-----+\n",
      "|       0.0|  455|\n",
      "|       1.0|  579|\n",
      "+----------+-----+\n",
      "\n"
     ]
    }
   ],
   "source": [
    "res.groupBy('prediction').count().show()"
   ]
  },
  {
   "cell_type": "code",
   "execution_count": 18,
   "metadata": {},
   "outputs": [
    {
     "name": "stdout",
     "output_type": "stream",
     "text": [
      "+-----+-----+\n",
      "|label|count|\n",
      "+-----+-----+\n",
      "|  0.0|  533|\n",
      "|  1.0|  501|\n",
      "+-----+-----+\n",
      "\n"
     ]
    }
   ],
   "source": [
    "res.groupBy('label').count().show()"
   ]
  },
  {
   "cell_type": "code",
   "execution_count": null,
   "metadata": {
    "collapsed": true
   },
   "outputs": [],
   "source": []
  },
  {
   "cell_type": "code",
   "execution_count": null,
   "metadata": {
    "collapsed": true
   },
   "outputs": [],
   "source": []
  },
  {
   "cell_type": "code",
   "execution_count": null,
   "metadata": {
    "collapsed": true
   },
   "outputs": [],
   "source": []
  }
 ],
 "metadata": {
  "kernelspec": {
   "display_name": "Python 3",
   "language": "python",
   "name": "python3"
  },
  "language_info": {
   "codemirror_mode": {
    "name": "ipython",
    "version": 3
   },
   "file_extension": ".py",
   "mimetype": "text/x-python",
   "name": "python",
   "nbconvert_exporter": "python",
   "pygments_lexer": "ipython3",
   "version": "3.5.2"
  }
 },
 "nbformat": 4,
 "nbformat_minor": 2
}
