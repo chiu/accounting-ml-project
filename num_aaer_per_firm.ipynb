{
 "cells": [
  {
   "cell_type": "code",
   "execution_count": 1,
   "metadata": {
    "collapsed": true
   },
   "outputs": [],
   "source": [
    "from pyspark.sql import SparkSession\n",
    "from pyspark.sql.functions import isnan, when, count, col\n",
    "spark = SparkSession.builder.appName('733').getOrCreate()\n",
    "sc = spark.sparkContext\n",
    "\n",
    "dgls = spark.read.csv('dgls_integrated.csv', header=True, inferSchema=True)"
   ]
  },
  {
   "cell_type": "code",
   "execution_count": 2,
   "metadata": {},
   "outputs": [
    {
     "data": {
      "text/plain": [
       "2133"
      ]
     },
     "execution_count": 2,
     "metadata": {},
     "output_type": "execute_result"
    }
   ],
   "source": [
    "dgls.count()"
   ]
  },
  {
   "cell_type": "code",
   "execution_count": 3,
   "metadata": {},
   "outputs": [
    {
     "name": "stdout",
     "output_type": "stream",
     "text": [
      "+----------+\n",
      "|min(YEARA)|\n",
      "+----------+\n",
      "|       0.0|\n",
      "+----------+\n",
      "\n"
     ]
    }
   ],
   "source": [
    "dgls.agg({\"YEARA\": \"min\"}).show()"
   ]
  },
  {
   "cell_type": "code",
   "execution_count": 4,
   "metadata": {},
   "outputs": [
    {
     "data": {
      "text/plain": [
       "862"
      ]
     },
     "execution_count": 4,
     "metadata": {},
     "output_type": "execute_result"
    }
   ],
   "source": [
    "dgls.select('ID').distinct().count()"
   ]
  },
  {
   "cell_type": "code",
   "execution_count": 5,
   "metadata": {
    "collapsed": true
   },
   "outputs": [],
   "source": [
    "num_aaer_per_firm = dgls.groupBy('ID').count().withColumnRenamed(\"count\", \"num_aaer_per_firm\")"
   ]
  },
  {
   "cell_type": "code",
   "execution_count": 6,
   "metadata": {},
   "outputs": [
    {
     "name": "stdout",
     "output_type": "stream",
     "text": [
      "+----+-----------------+\n",
      "|  ID|num_aaer_per_firm|\n",
      "+----+-----------------+\n",
      "|  34|               24|\n",
      "| 305|               15|\n",
      "|1166|               14|\n",
      "|1168|               14|\n",
      "|1229|               14|\n",
      "| 178|               13|\n",
      "| 0.0|               13|\n",
      "|1192|               13|\n",
      "|1268|               12|\n",
      "|1243|               10|\n",
      "| 389|               10|\n",
      "|1493|               10|\n",
      "|1312|               10|\n",
      "|1303|               10|\n",
      "|1445|                9|\n",
      "| 774|                9|\n",
      "| 806|                9|\n",
      "| 555|                9|\n",
      "| 621|                9|\n",
      "|1376|                8|\n",
      "+----+-----------------+\n",
      "only showing top 20 rows\n",
      "\n"
     ]
    }
   ],
   "source": [
    "num_aaer_per_firm.orderBy('num_aaer_per_firm', ascending=False).show()"
   ]
  },
  {
   "cell_type": "code",
   "execution_count": 7,
   "metadata": {},
   "outputs": [],
   "source": [
    "num_aaer_per_firm_count = num_aaer_per_firm.groupBy('num_aaer_per_firm').count().orderBy('num_aaer_per_firm').withColumnRenamed(\"count\", \"num_of_firms\")"
   ]
  },
  {
   "cell_type": "code",
   "execution_count": 8,
   "metadata": {},
   "outputs": [
    {
     "name": "stdout",
     "output_type": "stream",
     "text": [
      "+-----------------+------------+\n",
      "|num_aaer_per_firm|num_of_firms|\n",
      "+-----------------+------------+\n",
      "|                1|         379|\n",
      "|                2|         191|\n",
      "|                3|         112|\n",
      "|                4|          75|\n",
      "|                5|          37|\n",
      "|                6|          29|\n",
      "|                7|          10|\n",
      "|                8|          10|\n",
      "|                9|           5|\n",
      "|               10|           5|\n",
      "|               12|           1|\n",
      "|               13|           3|\n",
      "|               14|           3|\n",
      "|               15|           1|\n",
      "|               24|           1|\n",
      "+-----------------+------------+\n",
      "\n"
     ]
    }
   ],
   "source": [
    "num_aaer_per_firm_count.show()"
   ]
  },
  {
   "cell_type": "code",
   "execution_count": 9,
   "metadata": {
    "collapsed": true
   },
   "outputs": [],
   "source": [
    "total_firms = dgls.select('ID').distinct().count()"
   ]
  },
  {
   "cell_type": "code",
   "execution_count": 10,
   "metadata": {},
   "outputs": [],
   "source": [
    "num_aaer_per_firm_count = num_aaer_per_firm_count.withColumn('percentage_firms', \\\n",
    "                                   num_aaer_per_firm_count.num_of_firms/total_firms)"
   ]
  },
  {
   "cell_type": "code",
   "execution_count": 11,
   "metadata": {},
   "outputs": [],
   "source": [
    "num_aaer_per_firm_count = num_aaer_per_firm_count.withColumn('total_aaers', \\\n",
    "                                   num_aaer_per_firm_count.num_aaer_per_firm*num_aaer_per_firm_count.num_of_firms)"
   ]
  },
  {
   "cell_type": "code",
   "execution_count": 15,
   "metadata": {},
   "outputs": [
    {
     "name": "stdout",
     "output_type": "stream",
     "text": [
      "+-----------------+------------+--------------------+-----------+\n",
      "|num_aaer_per_firm|num_of_firms|    percentage_firms|total_aaers|\n",
      "+-----------------+------------+--------------------+-----------+\n",
      "|                1|         379|  0.4396751740139211|        379|\n",
      "|                2|         191| 0.22157772621809746|        382|\n",
      "|                3|         112| 0.12993039443155452|        336|\n",
      "|                4|          75| 0.08700696055684455|        300|\n",
      "|                5|          37|0.042923433874709975|        185|\n",
      "|                6|          29|0.033642691415313224|        174|\n",
      "|                7|          10| 0.01160092807424594|         70|\n",
      "|                8|          10| 0.01160092807424594|         80|\n",
      "|                9|           5| 0.00580046403712297|         45|\n",
      "|               10|           5| 0.00580046403712297|         50|\n",
      "|               12|           1|0.001160092807424594|         12|\n",
      "|               13|           3|0.003480278422273...|         39|\n",
      "|               14|           3|0.003480278422273...|         42|\n",
      "|               15|           1|0.001160092807424594|         15|\n",
      "|               24|           1|0.001160092807424594|         24|\n",
      "+-----------------+------------+--------------------+-----------+\n",
      "\n"
     ]
    }
   ],
   "source": [
    "num_aaer_per_firm_count.show()"
   ]
  },
  {
   "cell_type": "code",
   "execution_count": null,
   "metadata": {
    "collapsed": true
   },
   "outputs": [],
   "source": []
  }
 ],
 "metadata": {
  "kernelspec": {
   "display_name": "Python 3",
   "language": "python",
   "name": "python3"
  },
  "language_info": {
   "codemirror_mode": {
    "name": "ipython",
    "version": 3
   },
   "file_extension": ".py",
   "mimetype": "text/x-python",
   "name": "python",
   "nbconvert_exporter": "python",
   "pygments_lexer": "ipython3",
   "version": "3.6.1"
  }
 },
 "nbformat": 4,
 "nbformat_minor": 2
}
