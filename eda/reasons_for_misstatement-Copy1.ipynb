{
 "cells": [
  {
   "cell_type": "code",
   "execution_count": 1,
   "metadata": {
    "collapsed": true
   },
   "outputs": [],
   "source": [
    "from pyspark.sql import SparkSession\n",
    "from pyspark.sql.functions import isnan, when, count, col\n",
    "spark = SparkSession.builder.appName('733').getOrCreate()\n",
    "sc = spark.sparkContext\n",
    "\n",
    "# aaer = spark.read.csv('../data/dgls_integrated.csv', header=True, inferSchema=True)"
   ]
  },
  {
   "cell_type": "code",
   "execution_count": 2,
   "metadata": {
    "collapsed": true
   },
   "outputs": [],
   "source": [
    "import pandas as pd\n",
    "pd_aaer = pd.read_csv('../data/dgls_integrated.csv')"
   ]
  },
  {
   "cell_type": "code",
   "execution_count": 8,
   "metadata": {},
   "outputs": [],
   "source": [
    "reasons = [\"EXPLANATION\",\"AUDIT\",\"BRIBES\",\"DISCLOSURE\",\"NODATES\",\"OTHER\",\"REV\",\"REC\",\"COGS\",\"INV\",\"RES\",\"DEBT\",\"MKT_SEC\",\"INC_EXP_SE\",\"ASSET\",\"PAY\",\"LIAB\",\"FIGURE\"]"
   ]
  },
  {
   "cell_type": "code",
   "execution_count": 9,
   "metadata": {
    "collapsed": true
   },
   "outputs": [],
   "source": [
    "pd_simple = pd_aaer.loc[:, reasons]"
   ]
  },
  {
   "cell_type": "code",
   "execution_count": 14,
   "metadata": {
    "collapsed": true
   },
   "outputs": [],
   "source": [
    "some_df = spark.createDataFrame(pd_simple)"
   ]
  },
  {
   "cell_type": "code",
   "execution_count": 21,
   "metadata": {},
   "outputs": [],
   "source": [
    "from operator import add\n",
    "from functools import reduce\n",
    "import pyspark.sql.functions as F\n",
    "numeric_col_list = [k for (k,v) in some_df.dtypes if v == 'double']\n",
    "sums = some_df.select([F.sum(c).alias('num_'+c) for c in numeric_col_list])"
   ]
  },
  {
   "cell_type": "code",
   "execution_count": 25,
   "metadata": {},
   "outputs": [],
   "source": [
    "sums_list = list(sums.collect())"
   ]
  },
  {
   "cell_type": "code",
   "execution_count": 51,
   "metadata": {},
   "outputs": [],
   "source": [
    "new_dict = sums.toPandas().to_dict(orient='list')"
   ]
  },
  {
   "cell_type": "code",
   "execution_count": 107,
   "metadata": {},
   "outputs": [
    {
     "data": {
      "text/plain": [
       "{'asset': 595.0,\n",
       " 'audit': 5.0,\n",
       " 'bribes': 14.0,\n",
       " 'cogs': 212.0,\n",
       " 'debt': 59.0,\n",
       " 'disclosure': 29.0,\n",
       " 'inc': 962.0,\n",
       " 'inv': 263.0,\n",
       " 'liab': 191.0,\n",
       " 'mkt': 68.0,\n",
       " 'nodates': 0.0,\n",
       " 'other': 24.0,\n",
       " 'pay': 53.0,\n",
       " 'rec': 348.0,\n",
       " 'res': 223.0,\n",
       " 'rev': 933.0}"
      ]
     },
     "execution_count": 107,
     "metadata": {},
     "output_type": "execute_result"
    }
   ],
   "source": [
    "\n",
    "ult_dict = {}\n",
    "ult_dict = {k.split('_')[1].lower():v[0] for (k,v) in new_dict.items()}\n",
    "ult_dict"
   ]
  },
  {
   "cell_type": "code",
   "execution_count": 108,
   "metadata": {},
   "outputs": [],
   "source": [
    "ult_list = sorted(ult_dict.items(), key=lambda x: -x[1])"
   ]
  },
  {
   "cell_type": "code",
   "execution_count": 109,
   "metadata": {},
   "outputs": [
    {
     "data": {
      "text/plain": [
       "{'asset': 595.0,\n",
       " 'audit': 5.0,\n",
       " 'bribes': 14.0,\n",
       " 'cogs': 212.0,\n",
       " 'debt': 59.0,\n",
       " 'disclosure': 29.0,\n",
       " 'inc': 962.0,\n",
       " 'inv': 263.0,\n",
       " 'liab': 191.0,\n",
       " 'mkt': 68.0,\n",
       " 'nodates': 0.0,\n",
       " 'other': 24.0,\n",
       " 'pay': 53.0,\n",
       " 'rec': 348.0,\n",
       " 'res': 223.0,\n",
       " 'rev': 933.0}"
      ]
     },
     "execution_count": 109,
     "metadata": {},
     "output_type": "execute_result"
    }
   ],
   "source": [
    "super_dict = {k:v for (k,v) in ult_list}\n",
    "super_dict"
   ]
  },
  {
   "cell_type": "code",
   "execution_count": 112,
   "metadata": {},
   "outputs": [
    {
     "data": {
      "image/png": "[encoded data removed]",
      "text/plain": [
       "<matplotlib.figure.Figure at 0x10fef6240>"
      ]
     },
     "metadata": {},
     "output_type": "display_data"
    }
   ],
   "source": [
    "import matplotlib.pyplot as plt\n",
    "\n",
    "D = {u'Label1':26, u'Label2': 17, u'Label3':30}\n",
    "D = super_dict\n",
    "plt.bar(range(len(D)), list(D.values()), align='center')\n",
    "plt.xticks(range(len(D)), list(D.keys()), rotation = 90)\n",
    "# # for python 2.x:\n",
    "# plt.bar(range(len(D)), D.values(), align='center')  # python 2.x\n",
    "# plt.xticks(range(len(D)), D.keys())  # in python 2.x\n",
    "plt.xlabel('reason')\n",
    "plt.ylabel('num aaer')\n",
    "plt.title('num aaer vs reason for that aaer')\n",
    "plt.show()"
   ]
  },
  {
   "cell_type": "code",
   "execution_count": null,
   "metadata": {
    "collapsed": true
   },
   "outputs": [],
   "source": []
  },
  {
   "cell_type": "code",
   "execution_count": null,
   "metadata": {
    "collapsed": true
   },
   "outputs": [],
   "source": []
  }
 ],
 "metadata": {
  "kernelspec": {
   "display_name": "Python 3",
   "language": "python",
   "name": "python3"
  },
  "language_info": {
   "codemirror_mode": {
    "name": "ipython",
    "version": 3
   },
   "file_extension": ".py",
   "mimetype": "text/x-python",
   "name": "python",
   "nbconvert_exporter": "python",
   "pygments_lexer": "ipython3",
   "version": "3.6.1"
  }
 },
 "nbformat": 4,
 "nbformat_minor": 2
}
