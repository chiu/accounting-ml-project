{
 "cells": [
  {
   "cell_type": "code",
   "execution_count": 1,
   "metadata": {
    "collapsed": true
   },
   "outputs": [],
   "source": [
    "from pyspark.sql import SparkSession\n",
    "from pyspark.ml.feature import PCA"
   ]
  },
  {
   "cell_type": "code",
   "execution_count": 2,
   "metadata": {
    "collapsed": true
   },
   "outputs": [],
   "source": [
    "spark = SparkSession.builder.appName('733').getOrCreate()"
   ]
  },
  {
   "cell_type": "code",
   "execution_count": 3,
   "metadata": {
    "collapsed": true
   },
   "outputs": [],
   "source": [
    "clusters = spark.read.parquet('/user/vcs/clustering_output_parquet')"
   ]
  },
  {
   "cell_type": "code",
   "execution_count": 4,
   "metadata": {
    "collapsed": true
   },
   "outputs": [],
   "source": [
    "pca = PCA(k=2, inputCol=\"features\", outputCol=\"pcaFeatures\")"
   ]
  },
  {
   "cell_type": "code",
   "execution_count": 5,
   "metadata": {
    "collapsed": true
   },
   "outputs": [],
   "source": [
    "model = pca.fit(clusters)"
   ]
  },
  {
   "cell_type": "code",
   "execution_count": 6,
   "metadata": {},
   "outputs": [
    {
     "data": {
      "text/plain": [
       "['__class__',\n",
       " '__del__',\n",
       " '__delattr__',\n",
       " '__dict__',\n",
       " '__dir__',\n",
       " '__doc__',\n",
       " '__eq__',\n",
       " '__format__',\n",
       " '__ge__',\n",
       " '__getattribute__',\n",
       " '__gt__',\n",
       " '__hash__',\n",
       " '__init__',\n",
       " '__le__',\n",
       " '__lt__',\n",
       " '__metaclass__',\n",
       " '__module__',\n",
       " '__ne__',\n",
       " '__new__',\n",
       " '__reduce__',\n",
       " '__reduce_ex__',\n",
       " '__repr__',\n",
       " '__setattr__',\n",
       " '__sizeof__',\n",
       " '__str__',\n",
       " '__subclasshook__',\n",
       " '__weakref__',\n",
       " '_call_java',\n",
       " '_clear',\n",
       " '_copyValues',\n",
       " '_copy_params',\n",
       " '_create_from_java_class',\n",
       " '_defaultParamMap',\n",
       " '_dummy',\n",
       " '_empty_java_param_map',\n",
       " '_from_java',\n",
       " '_java_obj',\n",
       " '_make_java_param_pair',\n",
       " '_new_java_array',\n",
       " '_new_java_obj',\n",
       " '_paramMap',\n",
       " '_params',\n",
       " '_randomUID',\n",
       " '_resetUid',\n",
       " '_resolveParam',\n",
       " '_set',\n",
       " '_setDefault',\n",
       " '_shouldOwn',\n",
       " '_to_java',\n",
       " '_transfer_param_map_from_java',\n",
       " '_transfer_param_map_to_java',\n",
       " '_transfer_params_from_java',\n",
       " '_transfer_params_to_java',\n",
       " '_transform',\n",
       " 'copy',\n",
       " 'explainParam',\n",
       " 'explainParams',\n",
       " 'explainedVariance',\n",
       " 'extractParamMap',\n",
       " 'getOrDefault',\n",
       " 'getParam',\n",
       " 'hasDefault',\n",
       " 'hasParam',\n",
       " 'isDefined',\n",
       " 'isSet',\n",
       " 'load',\n",
       " 'params',\n",
       " 'pc',\n",
       " 'read',\n",
       " 'save',\n",
       " 'transform',\n",
       " 'uid',\n",
       " 'write']"
      ]
     },
     "execution_count": 6,
     "metadata": {},
     "output_type": "execute_result"
    }
   ],
   "source": [
    "dir(model)"
   ]
  },
  {
   "cell_type": "code",
   "execution_count": 7,
   "metadata": {
    "collapsed": true
   },
   "outputs": [],
   "source": [
    "pc = model.pc"
   ]
  },
  {
   "cell_type": "code",
   "execution_count": 8,
   "metadata": {},
   "outputs": [
    {
     "data": {
      "text/plain": [
       "DenseMatrix(245, 2, [-0.0, 0.0001, -0.0113, -0.0031, 0.0, -0.0033, -0.0018, 0.0, ..., 0.0, 0.0001, -0.0, -0.0, -0.0, 0.0, 0.0001, 0.0003], 0)"
      ]
     },
     "execution_count": 8,
     "metadata": {},
     "output_type": "execute_result"
    }
   ],
   "source": [
    "pc"
   ]
  },
  {
   "cell_type": "code",
   "execution_count": 9,
   "metadata": {
    "collapsed": true
   },
   "outputs": [],
   "source": [
    "result = model.transform(clusters)"
   ]
  },
  {
   "cell_type": "code",
   "execution_count": 10,
   "metadata": {},
   "outputs": [
    {
     "name": "stdout",
     "output_type": "stream",
     "text": [
      "+-----+--------------------+----------+--------------------+\n",
      "|label|            features|prediction|         pcaFeatures|\n",
      "+-----+--------------------+----------+--------------------+\n",
      "|    0|(245,[0,234,237,2...|         0|[-0.0313078572406...|\n",
      "|    0|(245,[0,2,8,10,13...|         0|[-24.127432334469...|\n",
      "|    0|(245,[0,2,8,10,13...|         0|[-112.00154535192...|\n",
      "|    0|(245,[0,2,8,10,13...|         0|[-97.008145750419...|\n",
      "|    0|(245,[0,2,8,10,13...|         0|[-64.244729566622...|\n",
      "|    0|(245,[0,2,8,10,13...|         0|[-36.373281200291...|\n",
      "|    0|(245,[0,234],[200...|         0|[-0.0310326133544...|\n",
      "|    0|(245,[0,234],[200...|         0|[-0.0310326133544...|\n",
      "|    0|(245,[0,234],[200...|         0|[-0.0310326133544...|\n",
      "|    0|(245,[0,234],[200...|         0|[-0.0310326133544...|\n",
      "|    0|(245,[0,234],[200...|         0|[-0.0310326133544...|\n",
      "|    0|(245,[0,234],[200...|         0|[-0.0310326133544...|\n",
      "|    0|(245,[0,234],[200...|         0|[-0.0310326133544...|\n",
      "|    0|(245,[0,234],[200...|         0|[-0.0310326133544...|\n",
      "|    0|(245,[0,234],[200...|         0|[-0.0310326133544...|\n",
      "|    0|(245,[0,234],[200...|         0|[-0.0310326133544...|\n",
      "|    0|(245,[0,234],[200...|         0|[-0.0310326133544...|\n",
      "|    0|(245,[0,234],[200...|         0|[-0.0310326133544...|\n",
      "|    0|(245,[0,234],[200...|         0|[-0.0310326133544...|\n",
      "|    0|(245,[0,234],[200...|         0|[-0.0310326133544...|\n",
      "+-----+--------------------+----------+--------------------+\n",
      "only showing top 20 rows\n",
      "\n"
     ]
    }
   ],
   "source": [
    "result.show()"
   ]
  },
  {
   "cell_type": "code",
   "execution_count": 11,
   "metadata": {},
   "outputs": [
    {
     "data": {
      "text/plain": [
       "['__UDT__',\n",
       " '__class__',\n",
       " '__delattr__',\n",
       " '__dict__',\n",
       " '__dir__',\n",
       " '__doc__',\n",
       " '__eq__',\n",
       " '__format__',\n",
       " '__ge__',\n",
       " '__getattribute__',\n",
       " '__getitem__',\n",
       " '__gt__',\n",
       " '__hash__',\n",
       " '__init__',\n",
       " '__le__',\n",
       " '__lt__',\n",
       " '__module__',\n",
       " '__ne__',\n",
       " '__new__',\n",
       " '__reduce__',\n",
       " '__reduce_ex__',\n",
       " '__repr__',\n",
       " '__setattr__',\n",
       " '__sizeof__',\n",
       " '__str__',\n",
       " '__subclasshook__',\n",
       " '__weakref__',\n",
       " '_convert_to_array',\n",
       " 'isTransposed',\n",
       " 'numCols',\n",
       " 'numRows',\n",
       " 'toArray',\n",
       " 'toSparse',\n",
       " 'values']"
      ]
     },
     "execution_count": 11,
     "metadata": {},
     "output_type": "execute_result"
    }
   ],
   "source": [
    "dir(pc)"
   ]
  },
  {
   "cell_type": "code",
   "execution_count": 12,
   "metadata": {
    "collapsed": true
   },
   "outputs": [],
   "source": [
    "import numpy as np"
   ]
  },
  {
   "cell_type": "code",
   "execution_count": 13,
   "metadata": {},
   "outputs": [
    {
     "name": "stdout",
     "output_type": "stream",
     "text": [
      "+--------------------------------------------+\n",
      "|pcaFeatures                                 |\n",
      "+--------------------------------------------+\n",
      "|[-0.03130785724061607,-0.015756733117158892]|\n",
      "|[-24.127432334469546,-0.21460458546828312]  |\n",
      "|[-112.00154535192081,-0.9320203461504103]   |\n",
      "|[-97.00814575041966,-0.8511680336508113]    |\n",
      "|[-64.24472956662254,-0.5932902544143281]    |\n",
      "|[-36.37328120029114,-0.3694719726120976]    |\n",
      "|[-0.031032613354489834,-0.01599398558145479]|\n",
      "|[-0.031032613354489834,-0.01599398558145479]|\n",
      "|[-0.031032613354489834,-0.01599398558145479]|\n",
      "|[-0.031032613354489834,-0.01599398558145479]|\n",
      "|[-0.031032613354489834,-0.01599398558145479]|\n",
      "|[-0.031032613354489834,-0.01599398558145479]|\n",
      "|[-0.031032613354489834,-0.01599398558145479]|\n",
      "|[-0.031032613354489834,-0.01599398558145479]|\n",
      "|[-0.031032613354489834,-0.01599398558145479]|\n",
      "|[-0.031032613354489834,-0.01599398558145479]|\n",
      "|[-0.031032613354489834,-0.01599398558145479]|\n",
      "|[-0.031032613354489834,-0.01599398558145479]|\n",
      "|[-0.031032613354489834,-0.01599398558145479]|\n",
      "|[-0.031032613354489834,-0.01599398558145479]|\n",
      "+--------------------------------------------+\n",
      "only showing top 20 rows\n",
      "\n"
     ]
    }
   ],
   "source": [
    "result.select(result.pcaFeatures).show(truncate=False)"
   ]
  },
  {
   "cell_type": "code",
   "execution_count": 14,
   "metadata": {},
   "outputs": [
    {
     "data": {
      "text/plain": [
       "['__add__',\n",
       " '__and__',\n",
       " '__bool__',\n",
       " '__class__',\n",
       " '__contains__',\n",
       " '__delattr__',\n",
       " '__dict__',\n",
       " '__dir__',\n",
       " '__div__',\n",
       " '__doc__',\n",
       " '__eq__',\n",
       " '__format__',\n",
       " '__ge__',\n",
       " '__getattr__',\n",
       " '__getattribute__',\n",
       " '__getitem__',\n",
       " '__gt__',\n",
       " '__hash__',\n",
       " '__init__',\n",
       " '__invert__',\n",
       " '__iter__',\n",
       " '__le__',\n",
       " '__lt__',\n",
       " '__mod__',\n",
       " '__module__',\n",
       " '__mul__',\n",
       " '__ne__',\n",
       " '__neg__',\n",
       " '__new__',\n",
       " '__nonzero__',\n",
       " '__or__',\n",
       " '__pow__',\n",
       " '__radd__',\n",
       " '__rand__',\n",
       " '__rdiv__',\n",
       " '__reduce__',\n",
       " '__reduce_ex__',\n",
       " '__repr__',\n",
       " '__rmod__',\n",
       " '__rmul__',\n",
       " '__ror__',\n",
       " '__rpow__',\n",
       " '__rsub__',\n",
       " '__rtruediv__',\n",
       " '__setattr__',\n",
       " '__sizeof__',\n",
       " '__str__',\n",
       " '__sub__',\n",
       " '__subclasshook__',\n",
       " '__truediv__',\n",
       " '__weakref__',\n",
       " '_endswith_doc',\n",
       " '_isNotNull_doc',\n",
       " '_isNull_doc',\n",
       " '_jc',\n",
       " '_like_doc',\n",
       " '_rlike_doc',\n",
       " '_startswith_doc',\n",
       " 'alias',\n",
       " 'asc',\n",
       " 'astype',\n",
       " 'between',\n",
       " 'bitwiseAND',\n",
       " 'bitwiseOR',\n",
       " 'bitwiseXOR',\n",
       " 'cast',\n",
       " 'contains',\n",
       " 'desc',\n",
       " 'endswith',\n",
       " 'getField',\n",
       " 'getItem',\n",
       " 'isNotNull',\n",
       " 'isNull',\n",
       " 'isin',\n",
       " 'like',\n",
       " 'name',\n",
       " 'otherwise',\n",
       " 'over',\n",
       " 'rlike',\n",
       " 'startswith',\n",
       " 'substr',\n",
       " 'when']"
      ]
     },
     "execution_count": 14,
     "metadata": {},
     "output_type": "execute_result"
    }
   ],
   "source": [
    "dir(result.pcaFeatures[0])"
   ]
  },
  {
   "cell_type": "code",
   "execution_count": null,
   "metadata": {
    "collapsed": true
   },
   "outputs": [],
   "source": []
  },
  {
   "cell_type": "code",
   "execution_count": 15,
   "metadata": {},
   "outputs": [
    {
     "name": "stdout",
     "output_type": "stream",
     "text": [
      "<class 'float'>\n"
     ]
    }
   ],
   "source": [
    "string = str([-0.03130785724061607, -0.015756733117158892])\n",
    "removeBraces = string[1:-1]\n",
    "new = removeBraces.split(',')\n",
    "new = [float(i) for i in new]\n",
    "print(type(new[0]))"
   ]
  },
  {
   "cell_type": "code",
   "execution_count": 16,
   "metadata": {
    "collapsed": true
   },
   "outputs": [],
   "source": [
    "from pyspark.sql.functions import udf\n",
    "from pyspark.sql.types import *\n",
    "\n",
    "def breakArray(x):\n",
    "    string = str(x)\n",
    "    removeBraces = string[1:-1]\n",
    "    new = removeBraces.split(',')\n",
    "    new = [float(i) for i in new]\n",
    "    return new\n",
    "\n",
    "udftoapply = udf(breakArray, ArrayType(DoubleType()))"
   ]
  },
  {
   "cell_type": "code",
   "execution_count": 17,
   "metadata": {
    "collapsed": true
   },
   "outputs": [],
   "source": [
    "appliedUDF = result.withColumn('op', udftoapply(result.pcaFeatures))"
   ]
  },
  {
   "cell_type": "code",
   "execution_count": 18,
   "metadata": {},
   "outputs": [
    {
     "name": "stdout",
     "output_type": "stream",
     "text": [
      "+---------------------------------------------+\n",
      "|op                                           |\n",
      "+---------------------------------------------+\n",
      "|[-0.03130785724061607, -0.015756733117158892]|\n",
      "|[-24.127432334469546, -0.21460458546828312]  |\n",
      "|[-112.00154535192081, -0.9320203461504103]   |\n",
      "|[-97.00814575041966, -0.8511680336508113]    |\n",
      "|[-64.24472956662254, -0.5932902544143281]    |\n",
      "|[-36.37328120029114, -0.3694719726120976]    |\n",
      "|[-0.031032613354489834, -0.01599398558145479]|\n",
      "|[-0.031032613354489834, -0.01599398558145479]|\n",
      "|[-0.031032613354489834, -0.01599398558145479]|\n",
      "|[-0.031032613354489834, -0.01599398558145479]|\n",
      "|[-0.031032613354489834, -0.01599398558145479]|\n",
      "|[-0.031032613354489834, -0.01599398558145479]|\n",
      "|[-0.031032613354489834, -0.01599398558145479]|\n",
      "|[-0.031032613354489834, -0.01599398558145479]|\n",
      "|[-0.031032613354489834, -0.01599398558145479]|\n",
      "|[-0.031032613354489834, -0.01599398558145479]|\n",
      "|[-0.031032613354489834, -0.01599398558145479]|\n",
      "|[-0.031032613354489834, -0.01599398558145479]|\n",
      "|[-0.031032613354489834, -0.01599398558145479]|\n",
      "|[-0.031032613354489834, -0.01599398558145479]|\n",
      "+---------------------------------------------+\n",
      "only showing top 20 rows\n",
      "\n"
     ]
    }
   ],
   "source": [
    "appliedUDF.select('op').show(truncate=False)"
   ]
  },
  {
   "cell_type": "code",
   "execution_count": 19,
   "metadata": {},
   "outputs": [
    {
     "data": {
      "text/plain": [
       "[('op', 'array<double>')]"
      ]
     },
     "execution_count": 19,
     "metadata": {},
     "output_type": "execute_result"
    }
   ],
   "source": [
    "appliedUDF.select('op').dtypes"
   ]
  },
  {
   "cell_type": "code",
   "execution_count": 20,
   "metadata": {
    "collapsed": true
   },
   "outputs": [],
   "source": [
    "pcaoutputs = np.array(appliedUDF.select('op').collect())"
   ]
  },
  {
   "cell_type": "code",
   "execution_count": 21,
   "metadata": {},
   "outputs": [
    {
     "data": {
      "text/plain": [
       "(605815, 1, 2)"
      ]
     },
     "execution_count": 21,
     "metadata": {},
     "output_type": "execute_result"
    }
   ],
   "source": [
    "pcaoutputs.shape"
   ]
  },
  {
   "cell_type": "code",
   "execution_count": 22,
   "metadata": {
    "collapsed": true
   },
   "outputs": [],
   "source": [
    "pc1 = np.array([i[0][0] for i in pcaoutputs])\n",
    "pc2 = np.array([i[0][1] for i in pcaoutputs])"
   ]
  },
  {
   "cell_type": "code",
   "execution_count": 23,
   "metadata": {},
   "outputs": [
    {
     "data": {
      "text/plain": [
       "array([-3.13078572e-02, -2.41274323e+01, -1.12001545e+02, ...,\n",
       "       -4.91708002e-01, -5.44803494e+01, -2.22394243e+01])"
      ]
     },
     "execution_count": 23,
     "metadata": {},
     "output_type": "execute_result"
    }
   ],
   "source": [
    "pc1"
   ]
  },
  {
   "cell_type": "code",
   "execution_count": 24,
   "metadata": {},
   "outputs": [
    {
     "data": {
      "text/plain": [
       "array([-0.01575673, -0.21460459, -0.93202035, ...,  0.33201475,\n",
       "       -0.44483002, -0.19924204])"
      ]
     },
     "execution_count": 24,
     "metadata": {},
     "output_type": "execute_result"
    }
   ],
   "source": [
    "pc2"
   ]
  },
  {
   "cell_type": "code",
   "execution_count": 25,
   "metadata": {},
   "outputs": [
    {
     "data": {
      "text/plain": [
       "605815"
      ]
     },
     "execution_count": 25,
     "metadata": {},
     "output_type": "execute_result"
    }
   ],
   "source": [
    "len(pc1)"
   ]
  },
  {
   "cell_type": "code",
   "execution_count": 26,
   "metadata": {},
   "outputs": [
    {
     "data": {
      "text/plain": [
       "605815"
      ]
     },
     "execution_count": 26,
     "metadata": {},
     "output_type": "execute_result"
    }
   ],
   "source": [
    "len(pc2)"
   ]
  },
  {
   "cell_type": "code",
   "execution_count": 27,
   "metadata": {},
   "outputs": [
    {
     "name": "stdout",
     "output_type": "stream",
     "text": [
      "+-----+--------------------+----------+--------------------+--------------------+\n",
      "|label|            features|prediction|         pcaFeatures|                  op|\n",
      "+-----+--------------------+----------+--------------------+--------------------+\n",
      "|    0|(245,[0,234,237,2...|         0|[-0.0313078572406...|[-0.0313078572406...|\n",
      "|    0|(245,[0,2,8,10,13...|         0|[-24.127432334469...|[-24.127432334469...|\n",
      "|    0|(245,[0,2,8,10,13...|         0|[-112.00154535192...|[-112.00154535192...|\n",
      "|    0|(245,[0,2,8,10,13...|         0|[-97.008145750419...|[-97.008145750419...|\n",
      "|    0|(245,[0,2,8,10,13...|         0|[-64.244729566622...|[-64.244729566622...|\n",
      "|    0|(245,[0,2,8,10,13...|         0|[-36.373281200291...|[-36.373281200291...|\n",
      "|    0|(245,[0,234],[200...|         0|[-0.0310326133544...|[-0.0310326133544...|\n",
      "|    0|(245,[0,234],[200...|         0|[-0.0310326133544...|[-0.0310326133544...|\n",
      "|    0|(245,[0,234],[200...|         0|[-0.0310326133544...|[-0.0310326133544...|\n",
      "|    0|(245,[0,234],[200...|         0|[-0.0310326133544...|[-0.0310326133544...|\n",
      "|    0|(245,[0,234],[200...|         0|[-0.0310326133544...|[-0.0310326133544...|\n",
      "|    0|(245,[0,234],[200...|         0|[-0.0310326133544...|[-0.0310326133544...|\n",
      "|    0|(245,[0,234],[200...|         0|[-0.0310326133544...|[-0.0310326133544...|\n",
      "|    0|(245,[0,234],[200...|         0|[-0.0310326133544...|[-0.0310326133544...|\n",
      "|    0|(245,[0,234],[200...|         0|[-0.0310326133544...|[-0.0310326133544...|\n",
      "|    0|(245,[0,234],[200...|         0|[-0.0310326133544...|[-0.0310326133544...|\n",
      "|    0|(245,[0,234],[200...|         0|[-0.0310326133544...|[-0.0310326133544...|\n",
      "|    0|(245,[0,234],[200...|         0|[-0.0310326133544...|[-0.0310326133544...|\n",
      "|    0|(245,[0,234],[200...|         0|[-0.0310326133544...|[-0.0310326133544...|\n",
      "|    0|(245,[0,234],[200...|         0|[-0.0310326133544...|[-0.0310326133544...|\n",
      "+-----+--------------------+----------+--------------------+--------------------+\n",
      "only showing top 20 rows\n",
      "\n"
     ]
    }
   ],
   "source": [
    "appliedUDF.show()"
   ]
  },
  {
   "cell_type": "code",
   "execution_count": 28,
   "metadata": {
    "collapsed": true
   },
   "outputs": [],
   "source": [
    "actualLabels = np.array(appliedUDF.select(appliedUDF.label).collect())\n",
    "predictedClusterLabels = np.array(appliedUDF.select(appliedUDF.prediction).collect())"
   ]
  },
  {
   "cell_type": "code",
   "execution_count": 29,
   "metadata": {},
   "outputs": [],
   "source": [
    "actualLabels = [i[0] for i in actualLabels]"
   ]
  },
  {
   "cell_type": "code",
   "execution_count": 30,
   "metadata": {},
   "outputs": [
    {
     "data": {
      "text/plain": [
       "605815"
      ]
     },
     "execution_count": 30,
     "metadata": {},
     "output_type": "execute_result"
    }
   ],
   "source": [
    "len(actualLabels)"
   ]
  },
  {
   "cell_type": "code",
   "execution_count": 31,
   "metadata": {},
   "outputs": [
    {
     "data": {
      "text/plain": [
       "605815"
      ]
     },
     "execution_count": 31,
     "metadata": {},
     "output_type": "execute_result"
    }
   ],
   "source": [
    "len(predictedClusterLabels)"
   ]
  },
  {
   "cell_type": "code",
   "execution_count": 32,
   "metadata": {},
   "outputs": [
    {
     "data": {
      "text/html": [
       "\n",
       "    <div class=\"bk-root\">\n",
       "        <a href=\"https://bokeh.pydata.org\" target=\"_blank\" class=\"bk-logo bk-logo-small bk-logo-notebook\"></a>\n",
       "        <span id=\"e76a3e51-e1f6-4eaa-a499-ed61bacd7dc1\">Loading BokehJS ...</span>\n",
       "    </div>"
      ]
     },
     "metadata": {},
     "output_type": "display_data"
    },
    {
     "data": {
      "application/javascript": [
       "\n",
       "(function(root) {\n",
       "  function now() {\n",
       "    return new Date();\n",
       "  }\n",
       "\n",
       "  var force = true;\n",
       "\n",
       "  if (typeof (root._bokeh_onload_callbacks) === \"undefined\" || force === true) {\n",
       "    root._bokeh_onload_callbacks = [];\n",
       "    root._bokeh_is_loading = undefined;\n",
       "  }\n",
       "\n",
       "\n",
       "  \n",
       "  if (typeof (root._bokeh_timeout) === \"undefined\" || force === true) {\n",
       "    root._bokeh_timeout = Date.now() + 5000;\n",
       "    root._bokeh_failed_load = false;\n",
       "  }\n",
       "\n",
       "  var NB_LOAD_WARNING = {'data': {'text/html':\n",
       "     \"<div style='background-color: #fdd'>\\n\"+\n",
       "     \"<p>\\n\"+\n",
       "     \"BokehJS does not appear to have successfully loaded. If loading BokehJS from CDN, this \\n\"+\n",
       "     \"may be due to a slow or bad network connection. Possible fixes:\\n\"+\n",
       "     \"</p>\\n\"+\n",
       "     \"<ul>\\n\"+\n",
       "     \"<li>re-rerun `output_notebook()` to attempt to load from CDN again, or</li>\\n\"+\n",
       "     \"<li>use INLINE resources instead, as so:</li>\\n\"+\n",
       "     \"</ul>\\n\"+\n",
       "     \"<code>\\n\"+\n",
       "     \"from bokeh.resources import INLINE\\n\"+\n",
       "     \"output_notebook(resources=INLINE)\\n\"+\n",
       "     \"</code>\\n\"+\n",
       "     \"</div>\"}};\n",
       "\n",
       "  function display_loaded() {\n",
       "    if (root.Bokeh !== undefined) {\n",
       "      var el = document.getElementById(\"e76a3e51-e1f6-4eaa-a499-ed61bacd7dc1\");\n",
       "      if (el != null) {\n",
       "        el.textContent = \"BokehJS \" + Bokeh.version + \" successfully loaded.\";\n",
       "      }\n",
       "    } else if (Date.now() < root._bokeh_timeout) {\n",
       "      setTimeout(display_loaded, 100)\n",
       "    }\n",
       "  }\n",
       "\n",
       "\n",
       "  function run_callbacks() {\n",
       "    try {\n",
       "      root._bokeh_onload_callbacks.forEach(function(callback) { callback() });\n",
       "    }\n",
       "    finally {\n",
       "      delete root._bokeh_onload_callbacks\n",
       "    }\n",
       "    console.info(\"Bokeh: all callbacks have finished\");\n",
       "  }\n",
       "\n",
       "  function load_libs(js_urls, callback) {\n",
       "    root._bokeh_onload_callbacks.push(callback);\n",
       "    if (root._bokeh_is_loading > 0) {\n",
       "      console.log(\"Bokeh: BokehJS is being loaded, scheduling callback at\", now());\n",
       "      return null;\n",
       "    }\n",
       "    if (js_urls == null || js_urls.length === 0) {\n",
       "      run_callbacks();\n",
       "      return null;\n",
       "    }\n",
       "    console.log(\"Bokeh: BokehJS not loaded, scheduling load and callback at\", now());\n",
       "    root._bokeh_is_loading = js_urls.length;\n",
       "    for (var i = 0; i < js_urls.length; i++) {\n",
       "      var url = js_urls[i];\n",
       "      var s = document.createElement('script');\n",
       "      s.src = url;\n",
       "      s.async = false;\n",
       "      s.onreadystatechange = s.onload = function() {\n",
       "        root._bokeh_is_loading--;\n",
       "        if (root._bokeh_is_loading === 0) {\n",
       "          console.log(\"Bokeh: all BokehJS libraries loaded\");\n",
       "          run_callbacks()\n",
       "        }\n",
       "      };\n",
       "      s.onerror = function() {\n",
       "        console.warn(\"failed to load library \" + url);\n",
       "      };\n",
       "      console.log(\"Bokeh: injecting script tag for BokehJS library: \", url);\n",
       "      document.getElementsByTagName(\"head\")[0].appendChild(s);\n",
       "    }\n",
       "  };var element = document.getElementById(\"e76a3e51-e1f6-4eaa-a499-ed61bacd7dc1\");\n",
       "  if (element == null) {\n",
       "    console.log(\"Bokeh: ERROR: autoload.js configured with elementid 'e76a3e51-e1f6-4eaa-a499-ed61bacd7dc1' but no matching script tag was found. \")\n",
       "    return false;\n",
       "  }\n",
       "\n",
       "  var js_urls = [\"https://cdn.pydata.org/bokeh/release/bokeh-0.12.7.min.js\", \"https://cdn.pydata.org/bokeh/release/bokeh-widgets-0.12.7.min.js\", \"https://cdn.pydata.org/bokeh/release/bokeh-tables-0.12.7.min.js\", \"https://cdn.pydata.org/bokeh/release/bokeh-gl-0.12.7.min.js\"];\n",
       "\n",
       "  var inline_js = [\n",
       "    function(Bokeh) {\n",
       "      Bokeh.set_log_level(\"info\");\n",
       "    },\n",
       "    \n",
       "    function(Bokeh) {\n",
       "      \n",
       "    },\n",
       "    \n",
       "    function(Bokeh) {\n",
       "      \n",
       "      document.getElementById(\"e76a3e51-e1f6-4eaa-a499-ed61bacd7dc1\").textContent = \"BokehJS is loading...\";\n",
       "    },\n",
       "    function(Bokeh) {\n",
       "      console.log(\"Bokeh: injecting CSS: https://cdn.pydata.org/bokeh/release/bokeh-0.12.7.min.css\");\n",
       "      Bokeh.embed.inject_css(\"https://cdn.pydata.org/bokeh/release/bokeh-0.12.7.min.css\");\n",
       "      console.log(\"Bokeh: injecting CSS: https://cdn.pydata.org/bokeh/release/bokeh-widgets-0.12.7.min.css\");\n",
       "      Bokeh.embed.inject_css(\"https://cdn.pydata.org/bokeh/release/bokeh-widgets-0.12.7.min.css\");\n",
       "      console.log(\"Bokeh: injecting CSS: https://cdn.pydata.org/bokeh/release/bokeh-tables-0.12.7.min.css\");\n",
       "      Bokeh.embed.inject_css(\"https://cdn.pydata.org/bokeh/release/bokeh-tables-0.12.7.min.css\");\n",
       "    }\n",
       "  ];\n",
       "\n",
       "  function run_inline_js() {\n",
       "    \n",
       "    if ((root.Bokeh !== undefined) || (force === true)) {\n",
       "      for (var i = 0; i < inline_js.length; i++) {\n",
       "        inline_js[i].call(root, root.Bokeh);\n",
       "      }if (force === true) {\n",
       "        display_loaded();\n",
       "      }} else if (Date.now() < root._bokeh_timeout) {\n",
       "      setTimeout(run_inline_js, 100);\n",
       "    } else if (!root._bokeh_failed_load) {\n",
       "      console.log(\"Bokeh: BokehJS failed to load within specified timeout.\");\n",
       "      root._bokeh_failed_load = true;\n",
       "    } else if (force !== true) {\n",
       "      var cell = $(document.getElementById(\"e76a3e51-e1f6-4eaa-a499-ed61bacd7dc1\")).parents('.cell').data().cell;\n",
       "      cell.output_area.append_execute_result(NB_LOAD_WARNING)\n",
       "    }\n",
       "\n",
       "  }\n",
       "\n",
       "  if (root._bokeh_is_loading === 0) {\n",
       "    console.log(\"Bokeh: BokehJS loaded, going straight to plotting\");\n",
       "    run_inline_js();\n",
       "  } else {\n",
       "    load_libs(js_urls, function() {\n",
       "      console.log(\"Bokeh: BokehJS plotting callback run at\", now());\n",
       "      run_inline_js();\n",
       "    });\n",
       "  }\n",
       "}(window));"
      ]
     },
     "metadata": {},
     "output_type": "display_data"
    }
   ],
   "source": [
    "from bokeh.plotting import figure, show, output_file, save\n",
    "from bokeh.io import output_notebook\n",
    "from bokeh.models import ColumnDataSource\n",
    "\n",
    "output_notebook()"
   ]
  },
  {
   "cell_type": "code",
   "execution_count": 33,
   "metadata": {
    "collapsed": true
   },
   "outputs": [],
   "source": [
    "p = figure(title=\"Biplot of principal components 1 and 2 by actual (aaer) labels\", y_axis_type='log', x_axis_type='log', x_axis_label = 'PC1', y_axis_label = 'PC2')\n",
    "q = figure(title=\"Biplot of principal components 1 and 2 by k-means clustering predicted labels\", y_axis_type='log', x_axis_type='log', x_axis_label = 'PC1', y_axis_label = 'PC2')"
   ]
  },
  {
   "cell_type": "code",
   "execution_count": 34,
   "metadata": {
    "collapsed": true
   },
   "outputs": [],
   "source": [
    "p.title.align = 'center'\n",
    "# p.xaxis.axis_label = 'Principal Component 1'\n",
    "# p.yaxis.axis_label = 'Principal Component 2'\n",
    "# p.axis.axis_label_text_align = 'center'\n",
    "# p.axis.axis_label_text_align = 'center'\n",
    "\n",
    "q.title.align = 'center'\n",
    "# q.xaxis.axis_label = 'Principal Component 1'\n",
    "# q.yaxis.axis_label = 'Principal Component 2'\n",
    "# q.axis.axis_label_text_align = 'center'\n",
    "# q.axis.axis_label_text_align = 'center'"
   ]
  },
  {
   "cell_type": "code",
   "execution_count": 35,
   "metadata": {
    "collapsed": true
   },
   "outputs": [],
   "source": [
    "d = {0 : 'olive', 1 : 'firebrick'}"
   ]
  },
  {
   "cell_type": "code",
   "execution_count": 36,
   "metadata": {
    "collapsed": true
   },
   "outputs": [],
   "source": [
    "d1 = {0: 'nonmisstated', 1 : 'misstated'}"
   ]
  },
  {
   "cell_type": "code",
   "execution_count": 37,
   "metadata": {
    "collapsed": true
   },
   "outputs": [],
   "source": [
    "d2 = {0: 'cluster1', 1 : 'cluster2'}"
   ]
  },
  {
   "cell_type": "code",
   "execution_count": 38,
   "metadata": {},
   "outputs": [
    {
     "data": {
      "text/plain": [
       "{0, 1}"
      ]
     },
     "execution_count": 38,
     "metadata": {},
     "output_type": "execute_result"
    }
   ],
   "source": [
    "set(actualLabels)"
   ]
  },
  {
   "cell_type": "code",
   "execution_count": 39,
   "metadata": {},
   "outputs": [],
   "source": [
    "cmap = [i for i in map(lambda x: d[x], actualLabels)]\n",
    "labels = [i for i in map(lambda x: d1[x], actualLabels)]"
   ]
  },
  {
   "cell_type": "code",
   "execution_count": 40,
   "metadata": {
    "collapsed": true
   },
   "outputs": [],
   "source": [
    "predictedClusterLabels = [i[0] for i in predictedClusterLabels]\n",
    "cmap2 = [i for i in map(lambda x: d[x], predictedClusterLabels)]\n",
    "labels2 = [i for i in map(lambda x: d2[x], predictedClusterLabels)]"
   ]
  },
  {
   "cell_type": "code",
   "execution_count": 41,
   "metadata": {},
   "outputs": [
    {
     "data": {
      "text/plain": [
       "591290"
      ]
     },
     "execution_count": 41,
     "metadata": {},
     "output_type": "execute_result"
    }
   ],
   "source": [
    "actualLabels.count(0)"
   ]
  },
  {
   "cell_type": "code",
   "execution_count": 42,
   "metadata": {},
   "outputs": [
    {
     "data": {
      "text/plain": [
       "1"
      ]
     },
     "execution_count": 42,
     "metadata": {},
     "output_type": "execute_result"
    }
   ],
   "source": [
    "actualLabels[15200]"
   ]
  },
  {
   "cell_type": "code",
   "execution_count": 43,
   "metadata": {},
   "outputs": [
    {
     "data": {
      "text/plain": [
       "-95.12533619481594"
      ]
     },
     "execution_count": 43,
     "metadata": {},
     "output_type": "execute_result"
    }
   ],
   "source": [
    "pc2[15200]"
   ]
  },
  {
   "cell_type": "markdown",
   "metadata": {},
   "source": [
    "Since some principal components are having negative values and we are plotting on logscale, log for negative values cant be calculated. Thus, taking absolute values while plotting on logscale."
   ]
  },
  {
   "cell_type": "code",
   "execution_count": 44,
   "metadata": {
    "collapsed": true
   },
   "outputs": [],
   "source": [
    "source = ColumnDataSource(dict(\n",
    "    x=abs(pc1),\n",
    "    y=abs(pc2),\n",
    "    color=cmap,\n",
    "    label=labels\n",
    "))"
   ]
  },
  {
   "cell_type": "code",
   "execution_count": 45,
   "metadata": {},
   "outputs": [
    {
     "data": {
      "text/plain": [
       "'/home/vshukla/pca1.html'"
      ]
     },
     "execution_count": 45,
     "metadata": {},
     "output_type": "execute_result"
    }
   ],
   "source": [
    "r = p.circle(x='x', y='y', color='color', legend ='label', source=source, size=3)\n",
    "glyph = r.glyph\n",
    "glyph.fill_alpha = 0.3\n",
    "glyph.line_color = None\n",
    "output_file('pca1.html')\n",
    "save(p)"
   ]
  },
  {
   "cell_type": "code",
   "execution_count": 46,
   "metadata": {},
   "outputs": [
    {
     "data": {
      "text/plain": [
       "'/home/vshukla/pca2.html'"
      ]
     },
     "execution_count": 46,
     "metadata": {},
     "output_type": "execute_result"
    }
   ],
   "source": [
    "source2 = ColumnDataSource(dict(\n",
    "    x=abs(pc1),\n",
    "    y=abs(pc2),\n",
    "    color=cmap2,\n",
    "    label=labels2\n",
    "))\n",
    "s = q.scatter(x='x', y='y', color='color', legend ='label', source=source2, size=3)\n",
    "glyph = s.glyph\n",
    "glyph.fill_alpha = 0.3\n",
    "glyph.line_color = None\n",
    "output_file('pca2.html')\n",
    "save(q)"
   ]
  },
  {
   "cell_type": "code",
   "execution_count": 47,
   "metadata": {},
   "outputs": [],
   "source": [
    "# p.scatter(pc1, pc2, color=cmap)\n",
    "# output_file('pca1.html')\n",
    "# save(p)"
   ]
  },
  {
   "cell_type": "code",
   "execution_count": 48,
   "metadata": {},
   "outputs": [],
   "source": [
    "# p.scatter(pc1, pc2)\n",
    "# output_file('pca1.html')\n",
    "# save(p)"
   ]
  },
  {
   "cell_type": "code",
   "execution_count": null,
   "metadata": {
    "collapsed": true
   },
   "outputs": [],
   "source": []
  }
 ],
 "metadata": {
  "kernelspec": {
   "display_name": "Python 3",
   "language": "python",
   "name": "python3"
  },
  "language_info": {
   "codemirror_mode": {
    "name": "ipython",
    "version": 3
   },
   "file_extension": ".py",
   "mimetype": "text/x-python",
   "name": "python",
   "nbconvert_exporter": "python",
   "pygments_lexer": "ipython3",
   "version": "3.5.2"
  }
 },
 "nbformat": 4,
 "nbformat_minor": 2
}
