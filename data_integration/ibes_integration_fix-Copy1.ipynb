{
 "cells": [
  {
   "cell_type": "code",
   "execution_count": 1,
   "metadata": {
    "collapsed": true
   },
   "outputs": [],
   "source": [
    "import os\n",
    "os.environ['SPARK_HOME']='/home/envmodules/lib/spark-2.2.0-bin-hadoop2.7/'\n",
    "import findspark\n",
    "findspark.init()\n",
    "\n",
    "from pyspark.sql import SparkSession\n",
    "from pyspark.sql.functions import udf\n",
    "from pyspark.sql.types import DoubleType\n",
    "\n",
    "spark = SparkSession.builder.appName('aaerLabelCreation').getOrCreate()\n",
    "\n",
    "annual_compustat = spark.read.csv('/user/vcs/annual_compustat.csv', header=True, inferSchema=True)\n",
    "dgls = spark.read.csv('/user/vcs/dgls_integrated.csv', header=True, inferSchema=True)\n",
    "ibes_complete = spark.read.csv('/user/vcs/ibes.csv', header=True, inferSchema=True)\n",
    "\n",
    "ls = ['CONM', 'ACCHG', 'ACO', 'ACOMINC', 'ACQCSHI', 'ACQGDWL', 'ACQINTAN', 'ACQLNTAL', 'ACT', 'AMGW','AQ','AP','AQC','ARC','AT','AU','AUOP','AUOPIC','BKVLPS','CAPX','CDVC','CEQ','CGA','CHE','CHECH','CI','CIMII','CLD2','CLD3','CLD4','CLD5','CLT','COGS','CSHI','CURNCD','DCOM','DCPSTK','DCVT','DEPC','DLTT','DM','DO','DP','DPACLS','DRC','DRLT','DV','DVC','DVPA','DVPDP','DVPSP_F','EBIT','EBITDA','EMOL','EMP','EPSFI','EPSPI','ESOPCT','ESOPDLT','EXCHG','EXRE','FATB','FATE','FATN','FATL','FATO','FCA','FEL','FIC','FINCF','FOPT','FYEAR','FYR','GDWL','GDWLAM','GDWLIA','GLA','GP','GWO','HEDGEGL','ICAPT','IDBFLAG','IDIIS','IDILC','IDIT','INTAN','INTC','INVCH','INCFG','INVOFS','INVRM','INVT','INVWIP','IPODATE','ISEQ','ISEQC','ISEQM','ISFI','ISGR','ISGU','ITCB','IVCH','IVNCF','LCT','LCUACU','LIFR','LLRCI','LLWOCI','LT','MIB','MIBT','MII','MKVALT','NAICS','NI','NIINT','NIINTPFC','NIINTPFP','NOPIO','NP','NPANL','NPAT','NRTXT','OANCF','OB','OIADP','OIBDP','OPEPS','OPINI','OPITI','OPREPSX','OPTCA','OPTEX','OPTEXD','OPTFVGR','OPTGR','OPTPRCCA','OPTPRCEX','OPTPRCEY','OPTPRCGR','OPTPRCWA','OPTVOL','PCL','PI','PIFO','PLL','PNCA','PNCIA','PPEGT','PPENB','PPENC','PPENLS','PPENNR','PPENT','PPEVO','PPEVR','PRCC_F','PRCH_F','PRICAN','PRIROW','PRIUSA','PRODV','PRSTKCC','PRSTKPC','PSTKC','PVCL','PVO','PVPL','PVT','RANK','RCA','RDIP','RE','REA','REAJO','RECCH','RECT','RECTA','REUNA','REVT','RLL','RMUM','RPAG','RVLRV','RVTI','SALE','SALEPFC','SALEPFP','SCO','SCSTKC','SEQ','SIC','SIV','SPCE','SPCINDCD','SPCSECCD','SPCSRC','SPI','SPPE','SPPIV','SPSTKC','SRET','SSNP','STBO','STIO','STKCO','STKO','TDC','TEQ','TFVA','TFVCE','TFVL','TIC','TLCF','TRANSA','TSA','TSTKC','TSTKP','TXC','TXDB','TXDBA','TXDBCA','TXDBCL','TXFED','TXFO','TXPD','TXR','TXT','TXTUBXINTBS','TXTUBXINTIS','VPAC','VPO','WCAP','WCAPC','WCAPCH','WDA','XACC','XAD','XAGO','XAGT','XCOM','XDP','XEQO','XI','XIDO','XINST','XINT','XINTD','XINTOPT','XLR','XOPR','XOPRAR','XPP','XPR','XRD','XRENT','XS','XSGA','XSTF','XSTFO','XSTFWS','XT']\n",
    "\n",
    "ls = [x.lower() for x in ls]\n",
    "\n",
    "ls.append('eps_avg_ibes')\n",
    "\n",
    "annual_filtered = annual_compustat.select([c for c in annual_compustat.columns if c in ls])\n",
    "\n",
    "cond = [dgls['YEARA'] == annual_filtered['fyear'], dgls['COMPUSTAT IDENTIFIER'] == annual_filtered['conm']]\n",
    "\n",
    "annual_joined = annual_filtered.join(dgls, cond,'left')"
   ]
  },
  {
   "cell_type": "code",
   "execution_count": 2,
   "metadata": {},
   "outputs": [
    {
     "data": {
      "text/plain": [
       "505781"
      ]
     },
     "execution_count": 2,
     "metadata": {},
     "output_type": "execute_result"
    }
   ],
   "source": [
    "annual_compustat.count()"
   ]
  },
  {
   "cell_type": "code",
   "execution_count": null,
   "metadata": {
    "collapsed": true
   },
   "outputs": [],
   "source": []
  },
  {
   "cell_type": "code",
   "execution_count": 3,
   "metadata": {},
   "outputs": [
    {
     "data": {
      "text/plain": [
       "505848"
      ]
     },
     "execution_count": 3,
     "metadata": {},
     "output_type": "execute_result"
    }
   ],
   "source": [
    "annual_joined.count()"
   ]
  },
  {
   "cell_type": "code",
   "execution_count": 4,
   "metadata": {
    "collapsed": true
   },
   "outputs": [],
   "source": [
    "ibes_complete = ibes_complete.withColumn('ibes_filing_month_day', ibes_complete.FPEDATS[5:8])"
   ]
  },
  {
   "cell_type": "code",
   "execution_count": 5,
   "metadata": {},
   "outputs": [
    {
     "data": {
      "text/plain": [
       "1163195"
      ]
     },
     "execution_count": 5,
     "metadata": {},
     "output_type": "execute_result"
    }
   ],
   "source": [
    "ibes_complete.filter(ibes_complete.ibes_filing_month_day == '1231').count()"
   ]
  },
  {
   "cell_type": "code",
   "execution_count": 6,
   "metadata": {},
   "outputs": [
    {
     "name": "stdout",
     "output_type": "stream",
     "text": [
      "+------+-----+--------+---------+---+-------+-----+--------+--------+--------+-----------+-----------+---------------------+\n",
      "|TICKER|OFTIC| ACTDATS|ESTIMATOR|FPI|MEASURE|VALUE| FPEDATS| ACTTIMS| ANNDATS|ANNDATS_ACT|ANNTIMS_ACT|ibes_filing_month_day|\n",
      "+------+-----+--------+---------+---+-------+-----+--------+--------+--------+-----------+-----------+---------------------+\n",
      "|  0000| TLMR|20140311|      149|  1|    EPS| 0.73|20141231|15:17:12|20140309|   20150130|   16:30:00|                 1231|\n",
      "|  0000| TLMR|20140311|      873|  1|    EPS|  0.8|20141231|17:10:50|20140310|   20150130|   16:30:00|                 1231|\n",
      "|  0000| TLMR|20140311|      228|  1|    EPS| 0.83|20141231|15:49:22|20140310|   20150130|   16:30:00|                 1231|\n",
      "|  0000| TLMR|20140311|      952|  1|    EPS| 0.66|20141231|15:22:08|20140310|   20150130|   16:30:00|                 1231|\n",
      "|  0000| TLMR|20140317|     1267|  1|    EPS| 0.86|20141231|20:13:35|20140317|   20150130|   16:30:00|                 1231|\n",
      "|  0000| TLMR|20140318|      228|  1|    EPS| 1.05|20141231| 8:06:54|20140317|   20150130|   16:30:00|                 1231|\n",
      "|  0000| TLMR|20140406|      952|  1|    EPS|  0.5|20141231|23:28:29|20140404|   20150130|   16:30:00|                 1231|\n",
      "|  0000| TLMR|20140407|      228|  1|    EPS| 0.56|20141231|14:08:06|20140407|   20150130|   16:30:00|                 1231|\n",
      "|  0000| TLMR|20140408|      873|  1|    EPS| 0.51|20141231| 8:55:38|20140407|   20150130|   16:30:00|                 1231|\n",
      "|  0000| TLMR|20140414|      149|  1|    EPS|  0.5|20141231|11:00:40|20140409|   20150130|   16:30:00|                 1231|\n",
      "|  0000| TLMR|20140507|      228|  1|    EPS| 0.58|20141231|19:56:01|20140507|   20150130|   16:30:00|                 1231|\n",
      "|  0000| TLMR|20140508|      873|  1|    EPS| 0.58|20141231|13:05:13|20140508|   20150130|   16:30:00|                 1231|\n",
      "|  0000| TLMR|20140509|      149|  1|    EPS| 0.58|20141231| 8:02:40|20140507|   20150130|   16:30:00|                 1231|\n",
      "|  0000| TLMR|20140512|     1267|  1|    EPS| 1.02|20141231|12:12:49|20140507|   20150130|   16:30:00|                 1231|\n",
      "|  0000| TLMR|20140603|      228|  1|    EPS| 0.59|20141231| 3:26:52|20140603|   20150130|   16:30:00|                 1231|\n",
      "|  0000| TLMR|20140716|      873|  1|    EPS| 0.57|20141231|15:35:07|20140709|   20150130|   16:30:00|                 1231|\n",
      "|  0000| TLMR|20140807|      952|  1|    EPS| 0.56|20141231|16:59:59|20140807|   20150130|   16:30:00|                 1231|\n",
      "|  0000| TLMR|20140808|     1267|  1|    EPS| 1.24|20141231|11:20:08|20140807|   20150130|   16:30:00|                 1231|\n",
      "|  0000| TLMR|20140808|      149|  1|    EPS| 1.17|20141231|11:01:17|20140807|   20150130|   16:30:00|                 1231|\n",
      "|  0000| TLMR|20140808|      952|  1|    EPS| 1.17|20141231|11:46:19|20140807|   20150130|   16:30:00|                 1231|\n",
      "+------+-----+--------+---------+---+-------+-----+--------+--------+--------+-----------+-----------+---------------------+\n",
      "only showing top 20 rows\n",
      "\n"
     ]
    }
   ],
   "source": [
    "ibes_complete.show()"
   ]
  },
  {
   "cell_type": "code",
   "execution_count": 7,
   "metadata": {
    "collapsed": true
   },
   "outputs": [],
   "source": [
    "test = annual_joined.join(ibes_complete, ibes_complete['OFTIC'] == annual_joined['tic'], how='left')"
   ]
  },
  {
   "cell_type": "code",
   "execution_count": 8,
   "metadata": {},
   "outputs": [
    {
     "data": {
      "text/plain": [
       "38679346"
      ]
     },
     "execution_count": 8,
     "metadata": {},
     "output_type": "execute_result"
    }
   ],
   "source": [
    "test.count()"
   ]
  },
  {
   "cell_type": "code",
   "execution_count": 9,
   "metadata": {},
   "outputs": [
    {
     "data": {
      "text/plain": [
       "1455831"
      ]
     },
     "execution_count": 9,
     "metadata": {},
     "output_type": "execute_result"
    }
   ],
   "source": [
    "ibes_complete.count()"
   ]
  },
  {
   "cell_type": "code",
   "execution_count": 10,
   "metadata": {
    "collapsed": true
   },
   "outputs": [],
   "source": [
    "ibes_complete = ibes_complete.withColumn('ibes_filing_year', ibes_complete.FPEDATS[1:4])"
   ]
  },
  {
   "cell_type": "code",
   "execution_count": null,
   "metadata": {
    "collapsed": true
   },
   "outputs": [],
   "source": []
  },
  {
   "cell_type": "code",
   "execution_count": 11,
   "metadata": {},
   "outputs": [
    {
     "data": {
      "text/plain": [
       "Row(TICKER='0000', OFTIC='TLMR', ACTDATS=20140311, ESTIMATOR=149, FPI=1, MEASURE='EPS', VALUE=0.73, FPEDATS=20141231, ACTTIMS='15:17:12', ANNDATS=20140309, ANNDATS_ACT=20150130, ANNTIMS_ACT='16:30:00', ibes_filing_month_day='1231', ibes_filing_year='2014')"
      ]
     },
     "execution_count": 11,
     "metadata": {},
     "output_type": "execute_result"
    }
   ],
   "source": [
    "ibes_complete.first()"
   ]
  },
  {
   "cell_type": "code",
   "execution_count": 12,
   "metadata": {},
   "outputs": [],
   "source": [
    "ibes_complete = ibes_complete.filter(ibes_complete.MEASURE=='EPS')"
   ]
  },
  {
   "cell_type": "code",
   "execution_count": 13,
   "metadata": {},
   "outputs": [
    {
     "name": "stdout",
     "output_type": "stream",
     "text": [
      "+-----+----------------+--------------------+\n",
      "|OFTIC|ibes_filing_year|        eps_avg_ibes|\n",
      "+-----+----------------+--------------------+\n",
      "| PAYC|            2016|  0.7163043478260869|\n",
      "| PARN|            2016| -1.6555399999999998|\n",
      "| CHRS|            2016| -4.6560476190476185|\n",
      "| VTGN|            2017| -1.8016666666666667|\n",
      "| TIER|            2016|               -0.63|\n",
      "| MTCH|            2016|  0.7208450704225354|\n",
      "|  FBK|            2016|  2.1169230769230767|\n",
      "| BMRA|            2016|-0.04999999999999...|\n",
      "| BSTC|            2017|              1.6575|\n",
      "| AMED|            2015|  1.3168372093023253|\n",
      "| AAON|            2015|  0.8535714285714286|\n",
      "|ASBFY|            2012|                1.39|\n",
      "| NGNM|            2012|0.009999999999999998|\n",
      "|  ACO|            2011|  1.9080769230769237|\n",
      "| ATEC|            2011|0.013846153846153854|\n",
      "|ACXIF|            2016|   5.400448979591838|\n",
      "|  ADC|            2016|              1.6712|\n",
      "| ADNC|            2014| -0.6402000000000001|\n",
      "|  AEG|            2017|  0.7076916666666667|\n",
      "|  PAL|            2010|            -48.3481|\n",
      "+-----+----------------+--------------------+\n",
      "only showing top 20 rows\n",
      "\n"
     ]
    }
   ],
   "source": [
    "ibes_complete.createOrReplaceTempView(\"ibes\")\n",
    "sqlDF = spark.sql(\"SELECT OFTIC, ibes_filing_year, AVG(VALUE) as eps_avg_ibes FROM ibes GROUP BY OFTIC, ibes_filing_year\") #GROUP BY OFTIC ORDER BY FPEDATS DESC LIMIT 1\")\n",
    "sqlDF.show()\n",
    "ibes_complete = sqlDF"
   ]
  },
  {
   "cell_type": "code",
   "execution_count": 14,
   "metadata": {
    "collapsed": true
   },
   "outputs": [],
   "source": [
    "final_joined = annual_joined.join(ibes_complete, on = [ibes_complete['OFTIC'] == annual_joined['tic'], ibes_complete['ibes_filing_year'] == annual_joined['fyear']], how = 'left_outer')"
   ]
  },
  {
   "cell_type": "code",
   "execution_count": 15,
   "metadata": {},
   "outputs": [
    {
     "data": {
      "text/plain": [
       "['fyear',\n",
       " 'tic',\n",
       " 'conm',\n",
       " 'curncd',\n",
       " 'fyr',\n",
       " 'acchg',\n",
       " 'aco',\n",
       " 'acominc',\n",
       " 'acqcshi',\n",
       " 'acqgdwl',\n",
       " 'acqintan',\n",
       " 'acqlntal',\n",
       " 'act',\n",
       " 'amgw',\n",
       " 'ap',\n",
       " 'aqc',\n",
       " 'arc',\n",
       " 'at',\n",
       " 'bkvlps',\n",
       " 'capx',\n",
       " 'cdvc',\n",
       " 'ceq',\n",
       " 'cga',\n",
       " 'che',\n",
       " 'chech',\n",
       " 'ci',\n",
       " 'cimii',\n",
       " 'cld2',\n",
       " 'cld3',\n",
       " 'cld4',\n",
       " 'cld5',\n",
       " 'clt',\n",
       " 'cogs',\n",
       " 'cshi',\n",
       " 'dcom',\n",
       " 'dcpstk',\n",
       " 'dcvt',\n",
       " 'depc',\n",
       " 'dltt',\n",
       " 'dm',\n",
       " 'do',\n",
       " 'dp',\n",
       " 'dpacls',\n",
       " 'drc',\n",
       " 'drlt',\n",
       " 'dv',\n",
       " 'dvc',\n",
       " 'dvpa',\n",
       " 'dvpdp',\n",
       " 'ebit',\n",
       " 'ebitda',\n",
       " 'emol',\n",
       " 'emp',\n",
       " 'epsfi',\n",
       " 'epspi',\n",
       " 'esopct',\n",
       " 'esopdlt',\n",
       " 'exre',\n",
       " 'fatb',\n",
       " 'fate',\n",
       " 'fatl',\n",
       " 'fatn',\n",
       " 'fato',\n",
       " 'fca',\n",
       " 'fel',\n",
       " 'fincf',\n",
       " 'fopt',\n",
       " 'gdwl',\n",
       " 'gdwlam',\n",
       " 'gdwlia',\n",
       " 'gla',\n",
       " 'gp',\n",
       " 'gwo',\n",
       " 'hedgegl',\n",
       " 'icapt',\n",
       " 'idiis',\n",
       " 'idilc',\n",
       " 'idit',\n",
       " 'intan',\n",
       " 'intc',\n",
       " 'invch',\n",
       " 'invofs',\n",
       " 'invrm',\n",
       " 'invt',\n",
       " 'invwip',\n",
       " 'iseq',\n",
       " 'iseqc',\n",
       " 'iseqm',\n",
       " 'isfi',\n",
       " 'isgr',\n",
       " 'isgu',\n",
       " 'itcb',\n",
       " 'ivch',\n",
       " 'ivncf',\n",
       " 'lct',\n",
       " 'lcuacu',\n",
       " 'lifr',\n",
       " 'llrci',\n",
       " 'llwoci',\n",
       " 'lt',\n",
       " 'mib',\n",
       " 'mibt',\n",
       " 'mii',\n",
       " 'ni',\n",
       " 'niint',\n",
       " 'niintpfc',\n",
       " 'niintpfp',\n",
       " 'nopio',\n",
       " 'np',\n",
       " 'npanl',\n",
       " 'npat',\n",
       " 'nrtxt',\n",
       " 'oancf',\n",
       " 'ob',\n",
       " 'oiadp',\n",
       " 'oibdp',\n",
       " 'opeps',\n",
       " 'opini',\n",
       " 'opiti',\n",
       " 'oprepsx',\n",
       " 'optca',\n",
       " 'optex',\n",
       " 'optexd',\n",
       " 'optfvgr',\n",
       " 'optgr',\n",
       " 'optprcca',\n",
       " 'optprcex',\n",
       " 'optprcey',\n",
       " 'optprcgr',\n",
       " 'optprcwa',\n",
       " 'optvol',\n",
       " 'pcl',\n",
       " 'pi',\n",
       " 'pifo',\n",
       " 'pll',\n",
       " 'pnca',\n",
       " 'pncia',\n",
       " 'ppegt',\n",
       " 'ppenb',\n",
       " 'ppenc',\n",
       " 'ppenls',\n",
       " 'ppennr',\n",
       " 'ppent',\n",
       " 'ppevo',\n",
       " 'ppevr',\n",
       " 'prodv',\n",
       " 'prstkcc',\n",
       " 'prstkpc',\n",
       " 'pstkc',\n",
       " 'pvcl',\n",
       " 'pvo',\n",
       " 'pvpl',\n",
       " 'pvt',\n",
       " 'rca',\n",
       " 'rdip',\n",
       " 're',\n",
       " 'rea',\n",
       " 'reajo',\n",
       " 'recch',\n",
       " 'rect',\n",
       " 'recta',\n",
       " 'reuna',\n",
       " 'revt',\n",
       " 'rll',\n",
       " 'rmum',\n",
       " 'rpag',\n",
       " 'rvlrv',\n",
       " 'rvti',\n",
       " 'sale',\n",
       " 'salepfc',\n",
       " 'salepfp',\n",
       " 'sco',\n",
       " 'scstkc',\n",
       " 'seq',\n",
       " 'siv',\n",
       " 'spce',\n",
       " 'spi',\n",
       " 'sppe',\n",
       " 'sppiv',\n",
       " 'spstkc',\n",
       " 'sret',\n",
       " 'ssnp',\n",
       " 'stbo',\n",
       " 'stio',\n",
       " 'stkco',\n",
       " 'tdc',\n",
       " 'teq',\n",
       " 'tfva',\n",
       " 'tfvce',\n",
       " 'tfvl',\n",
       " 'tlcf',\n",
       " 'transa',\n",
       " 'tsa',\n",
       " 'tstkc',\n",
       " 'tstkp',\n",
       " 'txc',\n",
       " 'txdb',\n",
       " 'txdba',\n",
       " 'txdbca',\n",
       " 'txdbcl',\n",
       " 'txfed',\n",
       " 'txfo',\n",
       " 'txpd',\n",
       " 'txr',\n",
       " 'txt',\n",
       " 'txtubxintbs',\n",
       " 'txtubxintis',\n",
       " 'vpac',\n",
       " 'vpo',\n",
       " 'wcap',\n",
       " 'wcapc',\n",
       " 'wcapch',\n",
       " 'wda',\n",
       " 'xacc',\n",
       " 'xad',\n",
       " 'xago',\n",
       " 'xagt',\n",
       " 'xcom',\n",
       " 'xdp',\n",
       " 'xeqo',\n",
       " 'xi',\n",
       " 'xido',\n",
       " 'xinst',\n",
       " 'xint',\n",
       " 'xintd',\n",
       " 'xintopt',\n",
       " 'xlr',\n",
       " 'xopr',\n",
       " 'xoprar',\n",
       " 'xpp',\n",
       " 'xpr',\n",
       " 'xrd',\n",
       " 'xrent',\n",
       " 'xs',\n",
       " 'xsga',\n",
       " 'xstf',\n",
       " 'xstfo',\n",
       " 'xstfws',\n",
       " 'xt',\n",
       " 'exchg',\n",
       " 'fic',\n",
       " 'dvpsp_f',\n",
       " 'mkvalt',\n",
       " 'prcc_f',\n",
       " 'prch_f',\n",
       " 'rank',\n",
       " 'au',\n",
       " 'auop',\n",
       " 'auopic',\n",
       " 'idbflag',\n",
       " 'naics',\n",
       " 'prican',\n",
       " 'prirow',\n",
       " 'priusa',\n",
       " 'sic',\n",
       " 'spcindcd',\n",
       " 'spcseccd',\n",
       " 'spcsrc',\n",
       " 'stko',\n",
       " 'ipodate',\n",
       " 'AAER DATABASE IDENTIFIER',\n",
       " 'COMPUSTAT IDENTIFIER',\n",
       " 'ID',\n",
       " 'CONAME_x',\n",
       " 'CIK_x',\n",
       " 'YEARA',\n",
       " 'FYR',\n",
       " 'DATE',\n",
       " 'P_AAER_x',\n",
       " 'UNDERSTATEMENT',\n",
       " 'YEAR',\n",
       " 'CONAME_y',\n",
       " 'CIK_y',\n",
       " 'QUARTER',\n",
       " 'ANNUAL',\n",
       " 'REASON',\n",
       " 'EXPLANATION',\n",
       " 'AUDIT',\n",
       " 'BRIBES',\n",
       " 'DISCLOSURE',\n",
       " 'NODATES',\n",
       " 'OTHER',\n",
       " 'REV',\n",
       " 'REC',\n",
       " 'COGS',\n",
       " 'INV',\n",
       " 'RES',\n",
       " 'DEBT',\n",
       " 'MKT_SEC',\n",
       " 'INC_EXP_SE',\n",
       " 'ASSET',\n",
       " 'PAY',\n",
       " 'LIAB',\n",
       " 'FIGURE',\n",
       " 'P_AAER_y',\n",
       " 'AAER1',\n",
       " 'AAER2',\n",
       " 'AAER3',\n",
       " 'AAER4',\n",
       " 'AAER5',\n",
       " 'AAER6',\n",
       " 'AAER7',\n",
       " 'AAER8',\n",
       " 'AAER9',\n",
       " 'AAER10',\n",
       " 'AAER11',\n",
       " 'AAER12',\n",
       " 'AAER13',\n",
       " 'AAER14',\n",
       " 'AAER15',\n",
       " 'AAER16',\n",
       " 'AAER17',\n",
       " 'AAER18',\n",
       " 'AAER19',\n",
       " 'AAER20',\n",
       " 'AAER21',\n",
       " 'AAER22',\n",
       " 'AAER23',\n",
       " 'AAER24',\n",
       " 'AAER25',\n",
       " 'AAER26',\n",
       " 'AAER27',\n",
       " 'AAER28',\n",
       " 'AAER29',\n",
       " 'AAER30',\n",
       " 'AAER31',\n",
       " 'AAER32',\n",
       " 'AAER33',\n",
       " 'AAER34',\n",
       " 'AAER35',\n",
       " 'AAER36',\n",
       " 'AAER37',\n",
       " 'AAER38',\n",
       " 'AAER39',\n",
       " 'AAER40',\n",
       " 'AAER41',\n",
       " 'AAER42',\n",
       " 'AAER43',\n",
       " 'AAER44',\n",
       " 'AAER45',\n",
       " 'AAER46',\n",
       " 'AAER47',\n",
       " 'AAER48',\n",
       " 'AAER49',\n",
       " 'TotalAAER',\n",
       " 'OFTIC',\n",
       " 'ibes_filing_year',\n",
       " 'eps_avg_ibes']"
      ]
     },
     "execution_count": 15,
     "metadata": {},
     "output_type": "execute_result"
    }
   ],
   "source": [
    "final_joined.columns"
   ]
  },
  {
   "cell_type": "code",
   "execution_count": 16,
   "metadata": {},
   "outputs": [
    {
     "name": "stdout",
     "output_type": "stream",
     "text": [
      "+-----+-----+--------------------+------+---+-----+------+-------+-------+-------+--------+--------+-------+----+--------+-----+----+--------+-------+-------+-------+--------+----+------+------+------+-----+------+------+------+------+----+--------+-------+----+------+------+-------+--------+--------+----+-------+------+----+----+-------+-------+----+-----+-------+-------+----+------+-----+-----+------+-------+------+-----+------+-----+----+----+------+----+--------+-------+------+------+------+----+-------+----+-------+--------+-----+-----+------+------+-----+------+------+-----+-------+-------+----+-----+-----+----+----+----+-------+------+--------+-------+--------+----+-----+------+--------+-----+-----+----+-------+------+--------+--------+------+-----+-----+-----+-----+-------+------+-------+-------+-----+-----+-----+-------+-----+------+------+-------+-----+--------+--------+--------+--------+--------+------+----+-------+-----+----+----+-----+--------+-----+-------+------+------+--------+-------+------+-----+-------+-------+-----+----+----+----+----+----+----+-------+----+------+-------+--------+------+-------+--------+-----+----+----+-----+----+--------+-------+-------+----+------+--------+------+------+------+------+-------+------+----+----+----+------+-----+------+------+-----+-----+----+-----+------+----+------+-----+------+-------+------+------+------+------+----+-------+----+-------+-----------+-----------+----+----+-------+------+------+------+------+-----+-----+------+----+-----+-----+-----+-----+-----+------+------+-------+-------+--------+------+------+------+-----+------+------+------+-----+------+------+-------+-----+---+-------+--------+------+-------+----+----+----+------+-------+------+------+------+------+----+--------+--------+------+----+--------+------------------------+--------------------+----+--------+-----+-----+----+----+--------+--------------+----+--------+-----+-------+------+------+-----------+-----+------+----------+-------+-----+----+----+----+----+----+----+-------+----------+-----+----+----+------+--------+-----+-----+-----+-----+-----+-----+-----+-----+-----+------+------+------+------+------+------+------+------+------+------+------+------+------+------+------+------+------+------+------+------+------+------+------+------+------+------+------+------+------+------+------+------+------+------+------+------+------+------+------+------+---------+-----+----------------+------------+\n",
      "|fyear|  tic|                conm|curncd|fyr|acchg|   aco|acominc|acqcshi|acqgdwl|acqintan|acqlntal|    act|amgw|      ap|  aqc| arc|      at| bkvlps|   capx|   cdvc|     ceq| cga|   che| chech|    ci|cimii|  cld2|  cld3|  cld4|  cld5| clt|    cogs|   cshi|dcom|dcpstk|  dcvt|   depc|    dltt|      dm|  do|     dp|dpacls| drc|drlt|     dv|    dvc|dvpa|dvpdp|   ebit| ebitda|emol|   emp|epsfi|epspi|esopct|esopdlt|  exre| fatb|  fate| fatl|fatn|fato|   fca| fel|   fincf|   fopt|  gdwl|gdwlam|gdwlia| gla|     gp| gwo|hedgegl|   icapt|idiis|idilc|  idit| intan| intc| invch|invofs|invrm|   invt| invwip|iseq|iseqc|iseqm|isfi|isgr|isgu|   itcb|  ivch|   ivncf|    lct|  lcuacu|lifr|llrci|llwoci|      lt|  mib| mibt| mii|     ni| niint|niintpfc|niintpfp| nopio|   np|npanl| npat|nrtxt|  oancf|    ob|  oiadp|  oibdp|opeps|opini|opiti|oprepsx|optca| optex|optexd|optfvgr|optgr|optprcca|optprcex|optprcey|optprcgr|optprcwa|optvol| pcl|     pi| pifo| pll|pnca|pncia|   ppegt|ppenb|  ppenc|ppenls|ppennr|   ppent|  ppevo| ppevr|prodv|prstkcc|prstkpc|pstkc|pvcl| pvo|pvpl| pvt| rca|rdip|     re| rea| reajo|  recch|    rect| recta|  reuna|    revt|  rll|rmum|rpag|rvlrv|rvti|    sale|salepfc|salepfp| sco|scstkc|     seq|   siv|  spce|   spi|  sppe|  sppiv|spstkc|sret|ssnp|stbo|  stio|stkco|   tdc|   teq| tfva|tfvce|tfvl| tlcf|transa| tsa| tstkc|tstkp|   txc|   txdb| txdba|txdbca|txdbcl| txfed|txfo|   txpd| txr|    txt|txtubxintbs|txtubxintis|vpac| vpo|   wcap| wcapc|wcapch|   wda|  xacc|  xad| xago|  xagt|xcom|  xdp| xeqo|   xi| xido|xinst|  xint| xintd|xintopt|    xlr|    xopr|xoprar|   xpp|   xpr|  xrd| xrent|    xs|  xsga| xstf| xstfo|xstfws|     xt|exchg|fic|dvpsp_f|  mkvalt|prcc_f| prch_f|rank|  au|auop|auopic|idbflag| naics|prican|prirow|priusa| sic|spcindcd|spcseccd|spcsrc|stko| ipodate|AAER DATABASE IDENTIFIER|COMPUSTAT IDENTIFIER|  ID|CONAME_x|CIK_x|YEARA| FYR|DATE|P_AAER_x|UNDERSTATEMENT|YEAR|CONAME_y|CIK_y|QUARTER|ANNUAL|REASON|EXPLANATION|AUDIT|BRIBES|DISCLOSURE|NODATES|OTHER| REV| REC|COGS| INV| RES|DEBT|MKT_SEC|INC_EXP_SE|ASSET| PAY|LIAB|FIGURE|P_AAER_y|AAER1|AAER2|AAER3|AAER4|AAER5|AAER6|AAER7|AAER8|AAER9|AAER10|AAER11|AAER12|AAER13|AAER14|AAER15|AAER16|AAER17|AAER18|AAER19|AAER20|AAER21|AAER22|AAER23|AAER24|AAER25|AAER26|AAER27|AAER28|AAER29|AAER30|AAER31|AAER32|AAER33|AAER34|AAER35|AAER36|AAER37|AAER38|AAER39|AAER40|AAER41|AAER42|AAER43|AAER44|AAER45|AAER46|AAER47|AAER48|AAER49|TotalAAER|OFTIC|ibes_filing_year|eps_avg_ibes|\n",
      "+-----+-----+--------------------+------+---+-----+------+-------+-------+-------+--------+--------+-------+----+--------+-----+----+--------+-------+-------+-------+--------+----+------+------+------+-----+------+------+------+------+----+--------+-------+----+------+------+-------+--------+--------+----+-------+------+----+----+-------+-------+----+-----+-------+-------+----+------+-----+-----+------+-------+------+-----+------+-----+----+----+------+----+--------+-------+------+------+------+----+-------+----+-------+--------+-----+-----+------+------+-----+------+------+-----+-------+-------+----+-----+-----+----+----+----+-------+------+--------+-------+--------+----+-----+------+--------+-----+-----+----+-------+------+--------+--------+------+-----+-----+-----+-----+-------+------+-------+-------+-----+-----+-----+-------+-----+------+------+-------+-----+--------+--------+--------+--------+--------+------+----+-------+-----+----+----+-----+--------+-----+-------+------+------+--------+-------+------+-----+-------+-------+-----+----+----+----+----+----+----+-------+----+------+-------+--------+------+-------+--------+-----+----+----+-----+----+--------+-------+-------+----+------+--------+------+------+------+------+-------+------+----+----+----+------+-----+------+------+-----+-----+----+-----+------+----+------+-----+------+-------+------+------+------+------+----+-------+----+-------+-----------+-----------+----+----+-------+------+------+------+------+-----+-----+------+----+-----+-----+-----+-----+-----+------+------+-------+-------+--------+------+------+------+-----+------+------+------+-----+------+------+-------+-----+---+-------+--------+------+-------+----+----+----+------+-------+------+------+------+------+----+--------+--------+------+----+--------+------------------------+--------------------+----+--------+-----+-----+----+----+--------+--------------+----+--------+-----+-------+------+------+-----------+-----+------+----------+-------+-----+----+----+----+----+----+----+-------+----------+-----+----+----+------+--------+-----+-----+-----+-----+-----+-----+-----+-----+-----+------+------+------+------+------+------+------+------+------+------+------+------+------+------+------+------+------+------+------+------+------+------+------+------+------+------+------+------+------+------+------+------+------+------+------+------+------+------+------+------+---------+-----+----------------+------------+\n",
      "| 1994|IVO.1|INNOVA LIFESCIENC...|   CAD| 12| null|  null|   null|   null|   null|    null|    null|   null|null|    null| null|null|    null|   null|   null|   null|    null|null|  null|  null|  null| null|  null|  null|  null|  null|null|    null|   null|null|  null|  null|   null|    null|    null|null|   null|  null|null|null|   null|   null|null| null|   null|   null|null|  null| null| null|  null|   null|  null| null|  null| null|null|null|  null|null|    null|   null|  null|  null|  null|null|   null|null|   null|    null| null| null|  null|  null| null|  null|  null| null|   null|   null|null| null| null|null|null|null|   null|  null|    null|   null|    null|null| null|  null|    null| null| null|null|   null|  null|    null|    null|  null| null| null| null| null|   null|  null|   null|   null| null| null| null|   null| null|  null|  null|   null| null|    null|    null|    null|    null|    null|  null|null|   null| null|null|null| null|    null| null|   null|  null|  null|    null|   null|  null| null|   null|   null| null|null|null|null|null|null|null|   null|null|  null|   null|    null|  null|   null|    null| null|null|null| null|null|    null|   null|   null|null|  null|    null|  null|  null|  null|  null|   null|  null|null|null|null|  null| null|  null|  null| null| null|null| null|  null|null|  null| null|  null|   null|  null|  null|  null|  null|null|   null|null|   null|       null|       null|null|null|   null|  null|  null|  null|  null| null| null|  null|null| null| null| null| null| null|  null|  null|   null|   null|    null|  null|  null|  null| null|  null|  null|  null| null|  null|  null|   null|    7|CAN|    0.0|    null| 0.297|  0.375|null|null|null|  null|      D|339114|   01C|  null|  null|3843|     300|     905|  null|   0|    null|                    null|                null|null|    null| null| null|null|null|    null|          null|null|    null| null|   null|  null|  null|       null| null|  null|      null|   null| null|null|null|null|null|null|null|   null|      null| null|null|null|  null|    null| null| null| null| null| null| null| null| null| null|  null|  null|  null|  null|  null|  null|  null|  null|  null|  null|  null|  null|  null|  null|  null|  null|  null|  null|  null|  null|  null|  null|  null|  null|  null|  null|  null|  null|  null|  null|  null|  null|  null|  null|  null|  null|  null|  null|  null|  null|     null| null|            null|        null|\n",
      "| 1999|IVO.1|INNOVA LIFESCIENC...|   CAD| 12|  0.0| 0.092|   null|   null|   null|    null|    null|  6.566|null|   0.962|  0.0|null|  10.759| 0.1363|  0.109|   null|   3.721|null| 2.472|-0.165|  null| null|   0.0|   0.0|   0.0|   0.0|null|   4.015| 27.293|null| 1.926| 1.926|   null|   1.926|     0.0| 0.0|  0.152|  null|null|null|    0.0|    0.0| 0.0| null| -0.729| -0.577|null|  null|-0.05|-0.05|   0.0|    0.0|-0.061|  0.0| 1.008| 0.22| 0.0| 0.0|-0.177|null|   1.621|   null| 0.982|  null|  null|null|  7.396|null|   null|   5.647| null| null|  null| 0.982|  0.0| 0.138|  null| null|  2.007|   null|null| null| null|null|null|null|    0.0|   0.0|  -1.259|  5.112|    null| 0.0| null|  null|   7.038|  0.0|  0.0| 0.0| -1.445|  null|    null|    null|-0.177| 0.15| null| null| null| -0.466|  null| -0.729| -0.577|-0.04| null| null|   null| null|  null|  null|   null| null|    null|    null|    null|    null|    null|  null|null| -1.445| null|null|null| null|   1.228| null|   null|  null|  null|   0.625|   null|  null| null|   null|   null|  0.0|null|null|null|null|null|null| -8.965| 0.0|   0.0| -0.296|   1.995|-0.061| -8.904|  11.411| null|null|null| null|null|  11.411|   null|   null|null|  null|   3.721|   0.0|  null|-0.274|   0.0|    0.0|  null|null|null|null|  null| null|  null|  null| null| null|null|  0.0|  null|null|   0.0|  0.0|   0.0|    0.0|  null|  null|  null|   0.0| 0.0|   null| 0.0|    0.0|       null|       null|null|null|  1.454|  null|  null|  null|  null| null| null|  null|null| null| null|  0.0|  0.0| null| 0.265|  null|   null|   null|  11.988|  null| 0.092|  null| null|  null|  null| 7.973| null|  null|  null|   null|    7|CAN|    0.0| 24.0178|  0.88|   0.99|   1|   6|   4|  null|      D|339114|   01C|  null|  null|3843|     300|     905|  null|   0|    null|                    null|                null|null|    null| null| null|null|null|    null|          null|null|    null| null|   null|  null|  null|       null| null|  null|      null|   null| null|null|null|null|null|null|null|   null|      null| null|null|null|  null|    null| null| null| null| null| null| null| null| null| null|  null|  null|  null|  null|  null|  null|  null|  null|  null|  null|  null|  null|  null|  null|  null|  null|  null|  null|  null|  null|  null|  null|  null|  null|  null|  null|  null|  null|  null|  null|  null|  null|  null|  null|  null|  null|  null|  null|  null|  null|     null| null|            null|        null|\n",
      "| 1998| WTEC|WESTECH CAPITAL CORP|   USD| 12| null|  null|   null|   null|   null|    null|    null|   null|null|    null| null|null|    null|   null|   null|   null|    null|null|  null|  null|  null| null|  null|  null|  null|  null|null|    null|   null|null|  null|  null|   null|    null|    null|null|   null|  null|null|null|   null|   null|null| null|   null|   null|null|  null| null| null|  null|   null|  null| null|  null| null|null|null|  null|null|    null|   null|  null|  null|  null|null|   null|null|   null|    null| null| null|  null|  null| null|  null|  null| null|   null|   null|null| null| null|null|null|null|   null|  null|    null|   null|    null|null| null|  null|    null| null| null|null|   null|  null|    null|    null|  null| null| null| null| null|   null|  null|   null|   null| null| null| null|   null| null|  null|  null|   null| null|    null|    null|    null|    null|    null|  null|null|   null| null|null|null| null|    null| null|   null|  null|  null|    null|   null|  null| null|   null|   null| null|null|null|null|null|null|null|   null|null|  null|   null|    null|  null|   null|    null| null|null|null| null|null|    null|   null|   null|null|  null|    null|  null|  null|  null|  null|   null|  null|null|null|null|  null| null|  null|  null| null| null|null| null|  null|null|  null| null|  null|   null|  null|  null|  null|  null|null|   null|null|   null|       null|       null|null|null|   null|  null|  null|  null|  null| null| null|  null|null| null| null| null| null| null|  null|  null|   null|   null|    null|  null|  null|  null| null|  null|  null|  null| null|  null|  null|   null|   19|USA|   null|    null|  null|   null|null|null|null|  null|      D|523120|  null|  null|    01|6211|     822|     800|  null|   3|19991216|                    null|                null|null|    null| null| null|null|null|    null|          null|null|    null| null|   null|  null|  null|       null| null|  null|      null|   null| null|null|null|null|null|null|null|   null|      null| null|null|null|  null|    null| null| null| null| null| null| null| null| null| null|  null|  null|  null|  null|  null|  null|  null|  null|  null|  null|  null|  null|  null|  null|  null|  null|  null|  null|  null|  null|  null|  null|  null|  null|  null|  null|  null|  null|  null|  null|  null|  null|  null|  null|  null|  null|  null|  null|  null|  null|     null| null|            null|        null|\n",
      "| 1963| AE.2|A & E PLASTIK PAK...|   USD| 12| null|  null|   null|   null|   null|    null|    null|  0.408|null|   0.096| null|null|    null| 2.9731|   null|   null|   0.553|null|  null|  null|  null| null|  null|  null|  null|  null|null|   1.065|   null|null|   0.0|  null|   null|   0.015|    null| 0.0|  0.046|  null|null|null|   null|    0.0|null| null|    0.0|  0.046|null|  null| null| 0.01|  null|   null|  null| null|  null| null|null|null|  null|null|    null|   null|  null|  null|  null|null|  0.392|null|   null|   0.568| null| null|  null|   0.0| null|  null|  null| null|  0.133|   null|null| null| null|null|null|null|    0.0|  null|    null|  0.322|    null|null| null|  null|   0.345|  0.0|  0.0| 0.0|  0.003|  null|    null|    null| 0.024| null| null| null| null|   null|  null|    0.0|  0.046| null| null| null|   null| null|  null|  null|   null| null|    null|    null|    null|    null|    null|  null|null|  0.004| null|null|null| null|   0.557| null|   null|  null|  null|   0.431|   null|  null| null|   null|   null| null|null|null|null|null|null|null|  0.052|null|  null|   null|    0.25|  null|   null|   1.457| null|null|null| null|null|   1.457|   null|   null|null|  null|   0.553|  null|  null|   0.0|  null|   null|  null|null|null|null|  null| null|  null|  null| null| null|null|  0.0|  null|null|  null| null|  null|  0.008|  null|  null|  null|  null|null|   null|null|  0.001|       null|       null|null|null|  0.086|  null|  null|  null|  null| null| null|  null|null| null| null|  0.0|  0.0| null|  0.02|  null|   null|   null|   1.411|  null|  null|  null| null|  null|  null| 0.346| null|  null|  null|   null|   12|USA|   null|    null|  null|   null|null|null|null|  null|      D|  null|  null|  null|    01|3089|     325|     978|  null|   0|    null|                    null|                null|null|    null| null| null|null|null|    null|          null|null|    null| null|   null|  null|  null|       null| null|  null|      null|   null| null|null|null|null|null|null|null|   null|      null| null|null|null|  null|    null| null| null| null| null| null| null| null| null| null|  null|  null|  null|  null|  null|  null|  null|  null|  null|  null|  null|  null|  null|  null|  null|  null|  null|  null|  null|  null|  null|  null|  null|  null|  null|  null|  null|  null|  null|  null|  null|  null|  null|  null|  null|  null|  null|  null|  null|  null|     null| null|            null|        null|\n",
      "| 1988|  WEC|WEC ENERGY GROUP INC|   USD| 12|  0.0|72.824|   null|   null|   null|    null|    null|505.577|null|  110.71|  0.0|null|3114.741|18.2639|  178.0|101.489|1230.223|null| 95.21|54.034|  null| null|  null|  null|  null|  null|null|1051.529|   null|null|   0.0|   0.0|129.789|1044.273|    null| 0.0|129.789|  null|null|null|101.489|101.489|null| null|359.394|489.183|null| 5.629| 2.73| 2.73|  null|   null|   0.0| null|  null| null|null|null|  null|null|-115.011|   null|  null|  null|  null|null|489.183|null|   null|2374.946| null| null|15.772|   0.0|5.419|-3.582|  null| null|132.648|   null|null| null| null|null|null|null|124.387|14.555|  -223.7|241.712|    null|null| null|  null|1784.067|  0.0|  0.0| 0.0|189.114|  null|    null|    null| 0.602|39.78| null| null| null|392.745|  null|359.394|489.183| 2.73| null| null|   null| null|  null|  null|   null| null|    null|    null|    null|    null|    null|  null|null|288.488| null|null|null| null|3679.105| null| 51.765|  null|  null|2290.857|   null|67.619| null|    0.0|    0.0|  0.0|null|null|null|null|null|null| 779.77|null|  null|-13.371| 204.895|  null|   null|1540.712| null|null|null| null|null|1540.712|   null|   null|null|20.086|1330.673| 0.926|  null|   0.0|   0.0|    0.0|   0.0|null|null|null|  null| null|15.787|  null| null| null|null| null|  null|null|   0.0|  0.0|89.786|311.569|  null|  null|  null|71.568|null|117.326|null| 99.374|       null|       null|null|null|263.865|  null|  null|  null|43.297| null| null|  null|null| null| null|  0.0|  0.0| null| 87.28|81.941|   null|   null|1051.529|  null|59.613|  5.22| null| 2.609|  null|  null| null|  null|  null|   null|   11|USA|  1.515|    null|  27.0| 27.875|   1|   7|   1|  null|      D|  2211|  null|  null|    01|4931|     705|     700|     A|   0|    null|                    null|                null|null|    null| null| null|null|null|    null|          null|null|    null| null|   null|  null|  null|       null| null|  null|      null|   null| null|null|null|null|null|null|null|   null|      null| null|null|null|  null|    null| null| null| null| null| null| null| null| null| null|  null|  null|  null|  null|  null|  null|  null|  null|  null|  null|  null|  null|  null|  null|  null|  null|  null|  null|  null|  null|  null|  null|  null|  null|  null|  null|  null|  null|  null|  null|  null|  null|  null|  null|  null|  null|  null|  null|  null|  null|     null| null|            null|        null|\n",
      "| 1964| AE.2|A & E PLASTIK PAK...|   USD| 12| null| 0.015|   null|   null|   null|    null|    null|  0.718|null|   0.146| null|null|   1.416| 3.0969|   null|   null|   0.607|null| 0.269|  null|  null| null|  null|  null|  null|  null|null|   1.474|   null|null|  null|  null|   null|   0.522|    null|null|  0.053|  null|null|null|   null|    0.0|null| null|  0.074|  0.127|null|  null| null| 0.26|  null|   null|  null| null|  null| null|null|null|  null|null|    null|   null|  null|  null|  null|null|  0.558|null|   null|   1.129| null| null|  null|   0.0| null|  null|  null| null|  0.204|   null|null| null| null|null|null|null|    0.0|  null|    null|  0.267|    null|null| null|  null|   0.809|  0.0|  0.0| 0.0|  0.052|  null|    null|    null| 0.018|  0.0| null| null| null|   null|  null|  0.074|  0.127| null| null| null|   null| null|  null|  null|   null| null|    null|    null|    null|    null|    null|  null|null|  0.059| null|null|null| null|   0.727| null|   null|  null|  null|   0.563|   null|  null| null|   null|   null| null|null|null|null|null|null|null|  0.001|null|  null|   null|    0.23|  null|   null|   2.032| null|null|null| null|null|   2.032|   null|   null|null|  null|   0.607|  null|  null|   0.0|  null|   null|  null|null|null|null|  null| null|  null|  null| null| null|null|  0.0|  null|null|  null| null|  null|   0.02|  null|  null|  null|  null|null|   null|null|   0.02|       null|       null|null|null|  0.451|  null|  null|  null|  null| null| null|  null|null| null| null|0.013|0.013| null| 0.033|  null|   null|   null|   1.905|  null|  null|  null| null|  null|  null| 0.431| null|  null|  null|   null|   12|USA|   null|    null|  null|   null|null|null|null|  null|      D|  null|  null|  null|    01|3089|     325|     978|  null|   0|    null|                    null|                null|null|    null| null| null|null|null|    null|          null|null|    null| null|   null|  null|  null|       null| null|  null|      null|   null| null|null|null|null|null|null|null|   null|      null| null|null|null|  null|    null| null| null| null| null| null| null| null| null| null|  null|  null|  null|  null|  null|  null|  null|  null|  null|  null|  null|  null|  null|  null|  null|  null|  null|  null|  null|  null|  null|  null|  null|  null|  null|  null|  null|  null|  null|  null|  null|  null|  null|  null|  null|  null|  null|  null|  null|  null|     null| null|            null|        null|\n",
      "| 1976| AE.2|A & E PLASTIK PAK...|   USD| 12| null| 0.431|   null|   null|   null|    null|    null| 21.647|null|   3.937|5.443|null|  38.586| 7.1024|  7.023|   null|  14.106|null|  2.09|  null|  null| null|  null|  null|  null|  null|null|  45.277|   null|null|  2.25|  2.25|   null|  13.583|    null| 0.0|  1.598|  null|null|null|  0.094|    0.0|null| null|  7.143|  8.741|null|  1.46| 1.38| 1.47|  null|   null|  null| null|  null| null|null|null|  null|null|    null|   5.31|  null|  null|  null|null| 21.137|null|   null|  30.827| null| null|  null|   0.0| null|  null|  null|3.849|  9.919|  1.991|null| null| null|null|null|null|    0.0|   0.0|    null|  7.907|    null|null| null|  null|  22.911|  0.0|  0.0| 0.0|  3.434|  null|    null|    null| 0.016|  0.0| null| null| null|   null|  10.8|  7.143|  8.741| null| null| null|   null| null|  null|  null|   null| null|    null|    null|    null|    null|    null|  null|null|  6.174| null|null|null| null|  23.003|3.314|  0.049| 1.232|   0.0|   16.44| -0.023| 0.843| null|   null|   null|  0.0|null|null|null|null|null|null| 10.771| 0.0|  null|   null|   9.207|  null|   null|  66.414| null|null|null| null|null|  66.414|   null|   null|null|  null|  15.675|   0.0|  null|   0.0|  null|   null|  null|null|null|null|  null| null|  null|  null| null| null|null|  0.0|  null|null|  null| null| 2.503|  1.421|  null|  null|  null| 2.009| 0.0|   null| 0.0|   2.74|       null|       null|null|null|  13.74| 3.598| 3.598|  null| 2.134| null| null|  null|null|1.598| null|  0.0|  0.0| null| 0.985|  null|   null|   null|  57.673|  null| 0.431| 0.057| null|  1.13|  null|12.396| null|  null|  null|   null|   12|USA|    0.0|    null|  5.75|    8.5|   1|   1|   1|  null|      D|  null|  null|  null|    01|3089|     325|     978|  null|   0|    null|                    null|                null|null|    null| null| null|null|null|    null|          null|null|    null| null|   null|  null|  null|       null| null|  null|      null|   null| null|null|null|null|null|null|null|   null|      null| null|null|null|  null|    null| null| null| null| null| null| null| null| null| null|  null|  null|  null|  null|  null|  null|  null|  null|  null|  null|  null|  null|  null|  null|  null|  null|  null|  null|  null|  null|  null|  null|  null|  null|  null|  null|  null|  null|  null|  null|  null|  null|  null|  null|  null|  null|  null|  null|  null|  null|     null| null|            null|        null|\n",
      "| 1977|  FA2|FAIRCHILD INDUSTR...|   USD| 12| null| 0.161|   null|   null|   null|    null|    null|145.441|null|  37.545|  0.0|null| 207.425|15.8422| 13.486|   null|  73.603|null|10.182|  null|  null| null|  null|  null|  null|  null|null| 340.518|   null|null|25.552|25.552|   null|  30.105|    null| 0.0|  6.617|  null|null|null|  1.734|  1.734| 0.0| null| 18.826| 25.443|null| 9.548| 1.77| 2.05|  null|   null|  null| null|  null| null|null|null|  null|null|    null| 17.424|  null|  null|  null|null| 58.823|null|   null| 103.888| null| null|  null| 6.537|  0.0|  null|  null| null|111.326|111.326|null| null| null|null|null|null|    0.0|   0.0|    null| 98.906|    null|null| null|  null| 133.642| 0.18| 0.18|0.18|  9.572|  null|    null|    null| 2.988|  0.0| null| null| null|   null|1018.0| 18.826| 25.443| null| null| null|   null| null|  null|  null|   null| null|    null|    null|    null|    null|    null|  null|null| 18.362| null|null|null| null|  77.226| null|   null|  null|  null|  50.482|  -1.45| 1.005| null|   null|   null|  0.0|null|null|null|null|null|null| 43.486| 0.0|  null|   null|  23.772|  null|   null| 399.341| null|null|null| null|null| 399.341|   null|   null|null|  null|  73.603|   0.0|  null|   0.0|  null|   null|  null|null|null|null|  null| null|  null|  null| null| null|null|  0.0|  null|null|  null| null|10.019|  2.451|  null|  null|  null| 8.625| 0.0|   null| 0.0|   8.61|       null|       null|null|null| 46.535| 2.242| 2.242|  null|  null| null| null|  null|null|6.617| null|  0.0|  0.0| null| 3.452| 1.791|   null|   null| 373.898|  null| 0.161|13.333|2.914|13.051|  null| 33.38| null|  null|  null|   null|    0|USA|  0.375|    null|  16.5| 16.875|   1|   8|   1|  null|      D|332722|  null|  null|    01|3452|     355|     925|  null|   1|    null|                    null|                null|null|    null| null| null|null|null|    null|          null|null|    null| null|   null|  null|  null|       null| null|  null|      null|   null| null|null|null|null|null|null|null|   null|      null| null|null|null|  null|    null| null| null| null| null| null| null| null| null| null|  null|  null|  null|  null|  null|  null|  null|  null|  null|  null|  null|  null|  null|  null|  null|  null|  null|  null|  null|  null|  null|  null|  null|  null|  null|  null|  null|  null|  null|  null|  null|  null|  null|  null|  null|  null|  null|  null|  null|  null|     null| null|            null|        null|\n",
      "| 1991|  SPN|SUPERIOR ENERGY S...|   USD|  8|  0.0| 0.856|   null|   null|   null|    null|    null|  2.025|null|   0.282|  0.0|null|   8.004| 6.8017|  1.028|   null|   4.081|null| 0.098| -0.01|  null| null|   0.0|   0.0|   0.0|   0.0|null|   3.113|   null|null|   0.0|   0.0|   null|   1.365|    null| 0.0|  0.338|  null|null|null|    0.0|    0.0| 0.0| null|   1.23|  1.568|null|  null| 1.29| 1.29|   0.0|    0.0|   0.0| null|  null| null|null|null|  null|null|   0.052|   null|   0.0|  null|  null|null|  1.827|null|   null|   5.446| null| null|   0.0|   0.0|  0.0|  null|  null| null|   0.13|   null|null| null| null|null|null|null|    0.0| 0.126|  -1.169|  1.772|    null| 0.0| null|  null|   3.923|  0.0|  0.0| 0.0|  0.774|  null|    null|    null| 0.047|0.479| null| null| null|  1.107|   0.0|   1.23|  1.568| 1.22| null| null|   null| null|  null|  null|   null| null|    null|    null|    null|    null|    null|  null|null|  1.033| null|null|null| null|   9.254| null|   null|  null|  null|   5.591|   null|  null| null|   null|   null|  0.0|null|null|null|null|null|null|  3.102|null|   0.0|   null|   0.941|   0.0|  3.102|    4.94| null|null|null| null|null|    4.94|   null|   null|null|  null|   4.081|   0.0|  null|   0.0| 0.116| -0.028|  null|null|null|null|  null| null|  null|  null| null| null|null|0.399|  null|null|   0.0|  0.0| 0.052|  0.765|  null|  null|  null| 0.035| 0.0|    0.0| 0.0|  0.301|       null|       null|null|null|  0.253|  null|  null|  null|  null| null| null|  null|null| null| null|0.042|0.042| null| 0.244|  null|   null|   null|   3.372|  null|   0.0|  null| null| 0.005|  null| 0.259| null|  null|  null|   null|   11|USA|    0.0|    null|  null|   null|   1|   3|   1|  null|      D|213112|  null|  null|    01|1389|     395|     935|    B-|   0|19920707|                    null|                null|null|    null| null| null|null|null|    null|          null|null|    null| null|   null|  null|  null|       null| null|  null|      null|   null| null|null|null|null|null|null|null|   null|      null| null|null|null|  null|    null| null| null| null| null| null| null| null| null| null|  null|  null|  null|  null|  null|  null|  null|  null|  null|  null|  null|  null|  null|  null|  null|  null|  null|  null|  null|  null|  null|  null|  null|  null|  null|  null|  null|  null|  null|  null|  null|  null|  null|  null|  null|  null|  null|  null|  null|  null|     null| null|            null|        null|\n",
      "| 2012|ASWRF|GUNGNIR RESOURCES...|   CAD| 12|  0.0| 0.005|    0.0|   null|   null|    null|    null|  0.712|null|   0.198|  0.0|null|  12.764| 0.0681|  0.618|   null|  12.566|null|   0.5| -0.72|-1.119|  0.0|   0.0|   0.0|   0.0|   0.0|null|   0.469|184.657| 0.0|   0.0|   0.0|   null|     0.0|     0.0| 0.0|  0.064|  null| 0.0| 0.0|    0.0|    0.0| 0.0| null| -1.331| -1.267|null|  null|-0.01|-0.01|   0.0|   null|   0.0| null|  null| null|null|null|   0.0|null|   0.287|   null|   0.0|  null|  null|null| -0.469|null|   null|  12.566| null| null|  null|   0.0|  0.0|   0.0|  null|  0.0|    0.0|    0.0|null| null| null|null|null|null|    0.0|   0.0|  -0.333|  0.198|    null| 0.0| null|  null|   0.198|  0.0|  0.0| 0.0| -1.119|  null|    null|    null| 0.011|  0.0| null| null| null| -0.674|  null| -1.331| -1.267|-0.01| null| null|  -0.01|3.894|18.741|   0.0|   0.04| 7.15|    0.12|    null|    0.17|     0.1|    0.17|90.305|null| -1.324| null|null| 0.0| null|  12.451| null|   null|  null|  null|  11.995|   null|  null| null|   null|   null|  0.0|null|null|null|null|null| 0.0|-23.313| 0.0| 0.208| -0.063|   0.207|   0.0|-23.521|     0.0| null|null|null| null|null|     0.0|   null|   null|null|  null|  12.566|   0.0|-1.119|   0.0|   0.0|    0.0|  null|null|null|null|  null|0.253|  null|12.566|0.556| null| 0.0|6.712|  null|null|   0.0|  0.0|   0.0|    0.0|   0.0|   0.0|   0.0|   0.0| 0.0|   null| 0.0| -0.205|       null|       null|null|null|  0.514|  null|  null|  null|  null| null| null|  null|null| null| null|  0.0|  0.0| null| 0.004|   0.0|    0.0|   null|   1.267|  null| 0.005|  null| null|  null|  null| 0.798| null|  null|  null|   null|   19|CAN|    0.0|  3.6931|  0.02|   0.08|   1|   9|   4|     0|      D|212221|   01C|  null|    01|1040|     265|     970|  null|   0|    null|                    null|                null|null|    null| null| null|null|null|    null|          null|null|    null| null|   null|  null|  null|       null| null|  null|      null|   null| null|null|null|null|null|null|null|   null|      null| null|null|null|  null|    null| null| null| null| null| null| null| null| null| null|  null|  null|  null|  null|  null|  null|  null|  null|  null|  null|  null|  null|  null|  null|  null|  null|  null|  null|  null|  null|  null|  null|  null|  null|  null|  null|  null|  null|  null|  null|  null|  null|  null|  null|  null|  null|  null|  null|  null|  null|     null| null|            null|        null|\n",
      "| 1982|JPC.1|    JOHNSON PRODUCTS|   USD|  8| null| 0.544|   null|   null|   null|    null|    null| 20.082|null|   4.556|  0.0|null|  29.659|  5.047|  1.076|   null|  20.062|null| 1.324|  null|  null| null|  null|  null|  null|  null|null|  17.257|   null|null|   0.0|   0.0|   null|     0.0|     0.0| 0.0|  0.934|  null|null|null|    0.0|    0.0| 0.0| null| -2.333| -1.399|null| 0.541|-0.91|-0.91|  null|   null|  null| null|  null| null|null|null|  null|null|    null|  -0.82|  null|  null|  null|null|  25.19|null|   null|  20.062| null| null|  null| 0.061|  0.0|  null|  null|2.652|   6.85|  0.649|null| null| null|null|null|null|    0.0| 0.593|    null|  9.022|    null| 0.0| null|  null|   9.597|  0.0|  0.0| 0.0| -3.623|  null|    null|    null|-1.802|  3.5| null| null| null|   null|  null| -2.333| -1.399| null| null| null|   null| null|  null|  null|   null| null|    null|    null|    null|    null|    null|  null|null| -4.549| null|null|null| null|  16.603|4.409|    0.0| 0.326|   0.0|   9.133|    0.0| 0.014| null|   null|   null|  0.0|null|null|null|null|null|null| 17.784| 0.0|   0.0|   null|  11.364|   0.0| 17.784|  42.447| null|null|null| null|null|  42.447|   null|   null|null|  null|  20.062|   0.0|  null|   0.0|  null|   null|  null|null|null|null|  null| null|  null|  null| null| null|null|  0.0|  null|null| 0.419|  0.0|-0.977|  0.575|  null|  null|  null| -0.87| 0.0|   null|1.17| -0.926|       null|       null|null|null|  11.06|-2.369|-2.369|  null| 0.784|7.467| null|  null|null|0.934| null|  0.0|  0.0| null| 0.414|   0.0|   null|   null|  43.846|  null| 0.544|  null|0.868|  null|  null|26.589| null|  null|  null|   null|   12|USA|    0.0|    null|  2.25|    4.5|   1|   1|   1|  null|      D|325611|  null|  null|    02|2844|     215|     978|  null|   0|19870101|                    null|                null|null|    null| null| null|null|null|    null|          null|null|    null| null|   null|  null|  null|       null| null|  null|      null|   null| null|null|null|null|null|null|null|   null|      null| null|null|null|  null|    null| null| null| null| null| null| null| null| null| null|  null|  null|  null|  null|  null|  null|  null|  null|  null|  null|  null|  null|  null|  null|  null|  null|  null|  null|  null|  null|  null|  null|  null|  null|  null|  null|  null|  null|  null|  null|  null|  null|  null|  null|  null|  null|  null|  null|  null|  null|     null| null|            null|        null|\n",
      "| 1986|  SKB|SMITHKLINE BECKMA...|   USD| 12| null| 159.3|   null|   null|   null|    null|    null| 1892.8|null|   201.7| 28.7|null|  4222.0| 20.379|  203.4|   null|  1296.0|null| 433.5|-338.5|  null| null|  null|  null|  null|  null|null|  1157.3|   null|null|   0.0|   0.0|   null|    71.4|    14.4| 0.0|  157.9|  null|null|null|  231.3|  231.3| 0.0| null|  764.2|  922.1|null|33.747| 6.78| 6.78|  null|   null|  null|961.2|1034.6| null| 0.0| 0.0|   5.1|null|    null|  672.7|  null|  null|  null|null| 2588.1|null|   null|  1477.6| null| null|  65.1| 330.6|  6.5|  null|  null| 97.1|  533.1|  197.1|null| null| null|null|null|null|    0.0|   0.0|    null| 1355.3|    null| 0.0| null|  null|  2815.8|110.2|110.2|null|  521.1|  null|    null|    null|   8.3|273.1| null| null| null|   null|  null|  764.2|  922.1| null| null| null|   null| null|  null|  null|   null| null|    null|    null|    null|    null|    null|  null|null|  722.3|242.0|null|null| null|  2061.3|781.4|    0.0|  null|   0.0|  1410.8|   37.5|  71.3| null|   null|   null|  0.0|null|null|null|null|null|null| 2728.4| 0.0|   0.0|   null|   766.9|  -1.3| 2729.7|  3745.4| null|null|null| null|null|  3745.4|   null|   null|null|  null|  1296.0|   0.0|  null| -57.8|  null|   null|  null|null|null|null|  null| null|  null|  null| null| null|null|  0.0|  null|null|1696.4|  0.0|  null|   65.8|  null|  null|  null|  null|61.8|   null| 0.0|  201.2|       null|       null|null|null|  537.5|  null|  null|  null| 426.8|236.5| null|  null|null|131.6| null|  0.0|  0.0| null|  57.5|  null|   null|   null|  2823.3|  null|   0.0|  29.9|376.9|  70.3|  null|1666.0| null|  null|  null|   null|   11|USA|    3.0|    null|95.125|105.375|   1|   6|   1|  null|      D|325412|  null|  null|    01|2834|     285|     905|  null|   0|    null|                    null|                null|null|    null| null| null|null|null|    null|          null|null|    null| null|   null|  null|  null|       null| null|  null|      null|   null| null|null|null|null|null|null|null|   null|      null| null|null|null|  null|    null| null| null| null| null| null| null| null| null| null|  null|  null|  null|  null|  null|  null|  null|  null|  null|  null|  null|  null|  null|  null|  null|  null|  null|  null|  null|  null|  null|  null|  null|  null|  null|  null|  null|  null|  null|  null|  null|  null|  null|  null|  null|  null|  null|  null|  null|  null|     null| null|            null|        null|\n",
      "| 1974| CSX4|CAROLINA CLINCHFI...|   USD| 12| null|   0.0|   null|   null|   null|    null|    null|  0.327|null|     0.0| null|null|  78.105|171.972|   null|   null|  42.993|null| 0.015|  null|  null| null|  null|  null|  null|  null|null|     0.0|   null|null|   0.0|   0.0|   null|  12.078|    null| 0.0|   null|  null|null|null|   null|   1.25|null| null|  1.797|   null|null|  null| 5.84| 5.84|  null|   null|  null| null|  null| null|null|null|   0.0|null|    null|   null|  null|  null|  null|null|  1.836|null|   null|  55.071| null| null|  null|   0.0| null|  null|  null|  0.0|    0.0|    0.0|null| null| null|null|null|null|    0.0|  null|    null|  0.933|    null|null| null|  null|  35.112|  0.0|  0.0| 0.0|  1.459|  null|    null|    null| 0.232|  0.0| null| null| null|   null|  null|  1.797|   null| null| null| null|   null| null|  null|  null|   null| null|    null|    null|    null|    null|    null|  null|null|  1.459| null|null|null| null|   76.03| null|   null|  null|  null|  76.026|   null|  null| null|   null|   null|  0.0|null|null|null|null|null|null|  1.303|null|  null|   null|   0.312|  null|   null|   1.836| null|null|null| null|null|   1.836|   null|   null|null|  null|  42.993|  null|  null|   0.0|  null|   null|  null|null|null|null|  null| null|  null|  null| null| null|null|  0.0|  null|null|  null| null|   0.0|    0.0|  null|  null|  null|   0.0| 0.0|   null| 0.0|    0.0|       null|       null|null|null| -0.606|  null|  null|  null|   0.0| null| null|  null|null| null| null|  0.0|  0.0| null|  0.57|  null|   null|   null|   0.039|  null|   0.0|  null| null|  null|  null| 0.039| null|  null|  null|   null|    0|USA|    5.0|    null|53.625|   67.0|   1|   0|   0|  null|      D|531190|  null|  null|    01|6519|     305|     976|  null|   1|    null|                    null|                null|null|    null| null| null|null|null|    null|          null|null|    null| null|   null|  null|  null|       null| null|  null|      null|   null| null|null|null|null|null|null|null|   null|      null| null|null|null|  null|    null| null| null| null| null| null| null| null| null| null|  null|  null|  null|  null|  null|  null|  null|  null|  null|  null|  null|  null|  null|  null|  null|  null|  null|  null|  null|  null|  null|  null|  null|  null|  null|  null|  null|  null|  null|  null|  null|  null|  null|  null|  null|  null|  null|  null|  null|  null|     null| null|            null|        null|\n",
      "| 1965| NSTS|NORTHWESTERN STS ...|   USD| 11| null|  null|   null|   null|   null|    null|    null|   null|null|    null| null|null|    null|   null|   null|   null|    null|null|  null|  null|  null| null|  null|  null|  null|  null|null|    null|   null|null|  null|  null|   null|     5.3|    null|null|   0.85|  null|null|null|   null|   0.64|null| null|   null|   null|null|  null| null| null|  null|   null|  null| null|  null| null|null|null|  null|null|    null|   null|  null|  null|  null|null|   null|null|   null|    null| null| null|  null|   0.0| null|  null|  null| null|   null|   null|null| null| null|null|null|null|    0.0|  null|    null|   null|    null|null| null|  null|    null|  0.0|  0.0| 0.0|   null|  null|    null|    null|  null| null| null| null| null|   null|  null|   null|   null| null| null| null|   null| null|  null|  null|   null| null|    null|    null|    null|    null|    null|  null|null|   3.37| null|null|null| null|    null| null|   null|  null|  null|    null|   null|  null| null|   null|   null| null|null|null|null|null|null|null|   null|null|  null|   null|    null|  null|   null|    13.8| null|null|null| null|null|    13.8|   null|   null|null|  null|    null|  null|  null|  null|  null|   null|  null|null|null|null|  null| null|  null|  null| null| null|null| null|  null|null|  null| null|  null|    0.0|  null|  null|  null|  null|null|   null|null|   0.94|       null|       null|null|null|   null|  null|  null|  null|  null| null| null|  null|null| null| null| null| null| null|  0.35|  null|   null|   null|    null|  null|  null|  null| null|  null|  null|  null| null|  null|  null|   null|   14|USA|   null|    null|  null|   null|null|null|null|  null|      D|327310|  null|  null|    01|3241|     202|     970|  null|   0|    null|                    null|                null|null|    null| null| null|null|null|    null|          null|null|    null| null|   null|  null|  null|       null| null|  null|      null|   null| null|null|null|null|null|null|null|   null|      null| null|null|null|  null|    null| null| null| null| null| null| null| null| null| null|  null|  null|  null|  null|  null|  null|  null|  null|  null|  null|  null|  null|  null|  null|  null|  null|  null|  null|  null|  null|  null|  null|  null|  null|  null|  null|  null|  null|  null|  null|  null|  null|  null|  null|  null|  null|  null|  null|  null|  null|     null| null|            null|        null|\n",
      "| 1982|  WEC|WEC ENERGY GROUP INC|   USD| 12| null| 4.927|   null|   null|   null|    null|    null|329.531|null|   93.39| null|null|2319.349|23.3373|162.206| 61.434| 775.173|null|16.153|  null|  null| null|  null|  null|  null|  null|null| 905.367|   null|null|   0.0|   0.0|  85.01|  737.72|    null| 0.0|  85.01|  null|null|null| 76.521| 61.434|null| null|   null|397.543|null| 6.166|  3.6|  3.6|  null|   null|  null| null|  null| null|null|null|  null|null|    null|260.415|  null|  null|  null|null|397.543|null|   null|1698.344| null| null| 9.305|   0.0|  7.4|  null|  null| null|147.073|   null|null| null| null|null|null|null|122.281|  null|    null| 220.54|    null|null| null|  null|1358.725|  0.0|  0.0| 0.0|131.645|  null|    null|    null| 5.204|4.999| null| null| null|   null|  null|312.533|397.543| null| null| null|   null| null|  null|  null|   null| null|    null|    null|    null|    null|    null|  null|null|248.116| null|null|null| null|2737.685| null|331.976|  null|  null|1959.083|-29.419|20.565| null|    0.0|    0.0|  0.0|null|null|null|null|null|null|363.097|null|  null|   null| 161.378|  null|   null| 1302.91| null|null|null| null|null| 1302.91|   null|   null|null|30.152| 960.624|  null|  null|  -5.0|  null|   null|   0.0|null|null|null|  null| null|17.027|  null| null| null|null| null|  null|null|   0.0|  0.0|88.887|223.265|  null|  null|  null|73.483|null|   null|null|116.471|       null|       null|null|null|108.991| 6.539|21.522|  null|40.375| null| null|  null|null| null| null|  0.0|  0.0|2.413|73.926|64.341|   null|197.562| 905.367|  null|  null|15.113| null|39.895|  null|  null| null|28.165|  null|   null|   11|USA| 1.9017|    null| 22.75|  25.75|   1|   7|   1|  null|      D|  2211|  null|  null|    01|4931|     705|     700|     A|   0|    null|                    null|                null|null|    null| null| null|null|null|    null|          null|null|    null| null|   null|  null|  null|       null| null|  null|      null|   null| null|null|null|null|null|null|null|   null|      null| null|null|null|  null|    null| null| null| null| null| null| null| null| null| null|  null|  null|  null|  null|  null|  null|  null|  null|  null|  null|  null|  null|  null|  null|  null|  null|  null|  null|  null|  null|  null|  null|  null|  null|  null|  null|  null|  null|  null|  null|  null|  null|  null|  null|  null|  null|  null|  null|  null|  null|     null| null|            null|        null|\n",
      "| 1999| ABCL|ALLIANCE BANCORP INC|   USD| 12| null|  null|-17.019|   null|   null|    null|    null|   null|null|1242.198| null|null|1962.308|15.0998|   null|   null| 153.671|null| 60.52|  null|  null| null|  null|  null|  null|  null|null|  79.556|   11.7|null|  null|  null|   null|   459.2|    null| 0.0|  2.677|  null|null|null|   null|    6.0|null| null|   38.6| 41.277|null| 0.552| 1.59| 1.66|  null|   null|  null| null|  null| null|null|null|   0.0|null|    null|   null|   0.0|  null|  null|null| 75.141|null|   null| 612.871| null| null|  null|   0.0| null|  null|  null| null|  0.241|   null|null| null| null|null|null|null|   null|  null|    null|   null|    null|null| null|  null|1808.637|  0.0|  0.0| 0.0| 18.118|  null|    null|    null|  null|  0.0| null| null| null|   null|  null|   38.6| 41.277| 1.66| null| null|   1.59| null|  null|  null|   null| null|    null|    null|    null|    null|    null|  null|null| 26.389| null| 0.2|null| null|    null| null|   null|  null|  null|  12.528|   null|  null| null|   null|   null| null|null|null|null|null|null|null| 75.318|null|   0.0|   null|1363.266|   0.0| 92.337| 154.697|6.031|null|null| null|null| 154.697|   null|   null|null|  null| 153.671|  null|  null|   0.0|  null|   null|  null|null|null|null|  null| null|  null|  null| null| null|null| null|  null|null|29.857|  0.0|  null|   null|13.682|  null|  null|  null|null|   null|null|  8.271|       null|       null|null|null|   null|  null|  null|  null|  null|1.395| null|  null|null| null| null|  0.0|  0.0| null|  null|  null|   null|  26.52|  113.42|  null|   0.0|  null| null|  null|  null|33.864| null|  null|  null|   null|   14|USA|   0.56|188.2745|  18.5| 25.625|null|null|null|  null|      D|522120|  null|  null|    01|6035|     840|     800|  null|   0|    null|                    null|                null|null|    null| null| null|null|null|    null|          null|null|    null| null|   null|  null|  null|       null| null|  null|      null|   null| null|null|null|null|null|null|null|   null|      null| null|null|null|  null|    null| null| null| null| null| null| null| null| null| null|  null|  null|  null|  null|  null|  null|  null|  null|  null|  null|  null|  null|  null|  null|  null|  null|  null|  null|  null|  null|  null|  null|  null|  null|  null|  null|  null|  null|  null|  null|  null|  null|  null|  null|  null|  null|  null|  null|  null|  null|     null| null|            null|        null|\n",
      "| 1999| ABCL|ALLIANCE BANCORP INC|   USD| 12| null|  null|   null|   null|   null|    null|    null|   null| 0.0|    null| null|null|1962.308|   null|   null|   null| 153.671|null|  null|  null|  null| null|  null|  null|  null|  null|null|    null|   null|null|  null|  null|   null|   459.2|    null| 0.0|  2.677|  null|null|null|   null|    6.0|null| null|   null|   null|null| 0.552| null| null|  null|   null|  null| null|  null| null|null|null|   0.0|null|    null|   null|   0.0|  null|  null|null|   null|null|   null| 612.871| null| null|132.66|   0.0| null|  null|  null| null|   null|   null|null| null| null|null|null|null|   null|  null|    null|   null|1363.266|null| null|  null|1808.637|  0.0|  0.0| 0.0|   null|53.304|    null|    null|  null| null| null|4.782| null|   null|  null|   null|   null| null| null| null|   null| null|  null|  null|   null| null|    null|    null|    null|    null|    null|  null| 0.2| 26.389| null|null|null| null|    null| null|   null|  null|  null|  12.528|   null|  null| null|   null|   null| null|null|null|null|null|null|null| 75.318|null|  null|   null|    null|  null|   null| 154.697| null|null| 0.0| null|null|    null|   null|   null|null|  null| 153.671|  null|  null|   0.0|  null|   null|  null|null|null| 0.0|11.598| null|  null|  null| null| null|null| null|   0.0|null|29.857|  0.0|  null|   null|  null|  null|  null|  null|null|   null|null|  8.271|       null|       null|null| 0.0|   null|  null|  null|  null|  null| null|3.451|37.315|null| null|7.344|  0.0|  0.0| null|79.356|  null|   null|  26.52|    null|  null|   0.0|  null| null|  null|11.437|  null|26.52|  null|  null|128.308|   14|USA|   0.56|188.2745|  18.5| 25.625|null|null|null|  null|      D|522120|  null|  null|    01|6035|     840|     800|  null|   0|    null|                    null|                null|null|    null| null| null|null|null|    null|          null|null|    null| null|   null|  null|  null|       null| null|  null|      null|   null| null|null|null|null|null|null|null|   null|      null| null|null|null|  null|    null| null| null| null| null| null| null| null| null| null|  null|  null|  null|  null|  null|  null|  null|  null|  null|  null|  null|  null|  null|  null|  null|  null|  null|  null|  null|  null|  null|  null|  null|  null|  null|  null|  null|  null|  null|  null|  null|  null|  null|  null|  null|  null|  null|  null|  null|  null|     null| null|            null|        null|\n",
      "| 2001|IVO.1|INNOVA LIFESCIENC...|   CAD| 12|  0.0| 0.297|  0.069|   null|   null|    null|    null|  9.555|null|   0.809|  0.0|null|  14.833| 0.3336|  0.177|   null|  14.024|null| 2.136|-0.724|  null| null|   0.0|   0.0|   0.0|   0.0|null|   5.194| 42.044| 0.0|   0.0|   0.0|   null|     0.0|     0.0| 0.0|  0.174|  null| 0.0| 0.0|    0.0|    0.0| 0.0| null|   0.97|  1.144|null|  null| 0.02| 0.02|   0.0|    0.0| 0.087|  0.0| 1.378|0.227| 0.0| 0.0|-0.024|null|   1.301|   null| 0.921|  null|  null|null| 10.378|null|   null|  14.024| null| null| 0.038| 0.921|  0.0|-0.977|  null| null|  3.519|   null|null| null| null|null|null|null|    0.0|   0.0|    -1.0|  0.809|    null| 0.0| null|  null|   0.809|  0.0|  0.0| 0.0|  0.984|  null|    null|    null|-0.024|  0.0| null| null| null| -1.112|  null|   0.97|  1.144| 0.02| null| null|   0.02| null|  null|  null|   null| null|    null|    null|    null|    null|    null|  null|null|  0.984| null|null| 0.0| null|   1.605| null|   null|  null|  null|   0.664|   null|  null| null|   null|   null|  0.0|null|null|null|null|null| 0.0| -8.414| 0.0|   0.0| -0.652|   3.603| 0.069| -8.483|  15.572| null|null|null| null|null|  15.572|   null|   null|null|  null|  14.024|   0.0| 0.984|   0.0|   0.0|    0.0|  null|null|null|null|  null| null|  null|  null| null| null|null| null|  null|null|   0.0|  0.0|   0.0|    0.0|  null|  null|  null|   0.0| 0.0|   null| 0.0|    0.0|       null|       null|null|null|  8.746|  null|  null|  null|  null| null| null|  null|null| null| null|  0.0|  0.0| null|  null|   0.0|   null|   null|  14.428|  null| 0.297| 0.063| null|  null|  null| 9.234| null|  null|  null|   null|    7|CAN|    0.0| 27.3286|  0.65|   0.75|   1|   9|   1|  null|      D|339114|   01C|  null|  null|3843|     300|     905|  null|   0|    null|                    null|                null|null|    null| null| null|null|null|    null|          null|null|    null| null|   null|  null|  null|       null| null|  null|      null|   null| null|null|null|null|null|null|null|   null|      null| null|null|null|  null|    null| null| null| null| null| null| null| null| null| null|  null|  null|  null|  null|  null|  null|  null|  null|  null|  null|  null|  null|  null|  null|  null|  null|  null|  null|  null|  null|  null|  null|  null|  null|  null|  null|  null|  null|  null|  null|  null|  null|  null|  null|  null|  null|  null|  null|  null|  null|     null| null|            null|        null|\n",
      "| 2010|  TAL|TAL INTERNATIONAL...|   USD| 12|  0.0|   0.0| -9.958|   null|   null|    null|    null|   null|null|  59.329|  0.0|null|2517.215|13.9488|838.827|   null|  428.41|null|85.612| 2.704| 47.75|  0.0|18.933|17.049|20.659|36.349|null|  53.303| 33.725| 0.0|   0.0|   0.0|   null|1770.332|1680.332| 0.0|115.927|  null| 0.0| 0.0| 39.578| 39.924| 0.0| null|156.689|272.616|null| 0.172| 1.88|  1.9|   0.0|    0.0|   0.0| null|  null| null|null|null|  null|null| 549.208|   null|71.898|  null|  null|null|313.497|null|   null|2198.742| null| null|  null|72.698|  0.0|   0.0|  null|  0.0|    0.0|    0.0|null| null| null|null|null|null|    0.0| 5.387|-709.666|   null|    null| 0.0| null|  null|2088.805|  0.0|  0.0| 0.0| 57.724|  null|    null|    null|12.736|  0.0| null| null| null|163.162|  null|156.689|272.616| 1.91| null| null|   1.89|0.005| 0.587| 0.005|   null|  0.0|   24.44|    18.0|   18.11|    null|   18.11|  null|null| 89.646| null|null| 0.0| null|2092.394| null|   null|  null|  null|2087.094|   null|  null| null|   null|   null|  0.0|null|null|null|null|null| 0.0| 66.095| 0.0|-8.773|-15.624| 219.728|-1.185| 76.053|   366.8| null|null|null| null|null|   366.8|   null|   null|null|  null|  428.41|35.484|40.977|-0.675|99.275|-25.765|  null|null|null|null|  null| 1.71|  null|428.41|  2.0| null|61.6|235.0|  null|null|37.535|  0.0|   0.0|139.741|   0.0|   0.0|   0.0|   0.0| 0.0| -0.059| 0.0| 31.922|        0.0|        0.0|null|null|   null|  null|  null|-0.435|  null| null| null|  null|null| null| null|  0.0|  0.0| null|79.104|  null|    0.0|   null|  94.184|  null|   0.0|   0.3| null|   2.2|  null|40.881| null|  null|  null|   null|   11|USA|    1.3|948.1103| 30.87|  31.71|   1|   4|   1|     1|      D|532411|  null|  null|    01|7359|    null|    null|    B+|   0|20051012|                    null|                null|null|    null| null| null|null|null|    null|          null|null|    null| null|   null|  null|  null|       null| null|  null|      null|   null| null|null|null|null|null|null|null|   null|      null| null|null|null|  null|    null| null| null| null| null| null| null| null| null| null|  null|  null|  null|  null|  null|  null|  null|  null|  null|  null|  null|  null|  null|  null|  null|  null|  null|  null|  null|  null|  null|  null|  null|  null|  null|  null|  null|  null|  null|  null|  null|  null|  null|  null|  null|  null|  null|  null|  null|  null|     null|  TAL|            2010|        2.03|\n",
      "| 1961| NSTS|NORTHWESTERN STS ...|   USD| 11| null|  null|   null|   null|   null|    null|    null|   null|null|    null| null|null|    null|29.7542|   null|   null|    null|null|  null|  null|  null| null|  null|  null|  null|  null|null|    null|   null|null|  null|  null|   null|     0.1|    null|null|   0.69|  null|null|null|   null|   0.78|null| null|   null|   null|null|  null| null| null|  null|   null|  null| null|  null| null|null|null|  null|null|    null|   null|  null|  null|  null|null|   null|null|   null|  15.954| null| null|  null|   0.0| null|  null|  null| null|   null|   null|null| null| null|null|null|null|    0.0|  null|    null|   null|    null|null| null|  null|    null|  0.0|  0.0| 0.0|   null|  null|    null|    null|  null| null| null| null| null|   null|  null|   null|   null| null| null| null|   null| null|  null|  null|   null| null|    null|    null|    null|    null|    null|  null|null|   4.34| null|null|null| null|    null| null|   null|  null|  null|    null|   null|  null| null|   null|   null| null|null|null|null|null|null|null|   null|null|  null|   null|    null|  null|   null|    12.2| null|null|null| null|null|    12.2|   null|   null|null|  null|    null|  null|  null|  null|  null|   null|  null|null|null|null|  null| null|  null|  null| null| null|null| null|  null|null|  null| null|  null|    0.0|  null|  null|  null|  null|null|   null|null|   1.93|       null|       null|null|null|   null|  null|  null|  null|  null| null| null|  null|null| null| null| null| null| null|  0.11|  null|   null|   null|    null|  null|  null|  null| null|  null|  null|  null| null|  null|  null|   null|   14|USA|   null|    null|  null|   null|null|null|null|  null|      D|327310|  null|  null|    01|3241|     202|     970|  null|   0|    null|                    null|                null|null|    null| null| null|null|null|    null|          null|null|    null| null|   null|  null|  null|       null| null|  null|      null|   null| null|null|null|null|null|null|null|   null|      null| null|null|null|  null|    null| null| null| null| null| null| null| null| null| null|  null|  null|  null|  null|  null|  null|  null|  null|  null|  null|  null|  null|  null|  null|  null|  null|  null|  null|  null|  null|  null|  null|  null|  null|  null|  null|  null|  null|  null|  null|  null|  null|  null|  null|  null|  null|  null|  null|  null|  null|     null| null|            null|        null|\n",
      "+-----+-----+--------------------+------+---+-----+------+-------+-------+-------+--------+--------+-------+----+--------+-----+----+--------+-------+-------+-------+--------+----+------+------+------+-----+------+------+------+------+----+--------+-------+----+------+------+-------+--------+--------+----+-------+------+----+----+-------+-------+----+-----+-------+-------+----+------+-----+-----+------+-------+------+-----+------+-----+----+----+------+----+--------+-------+------+------+------+----+-------+----+-------+--------+-----+-----+------+------+-----+------+------+-----+-------+-------+----+-----+-----+----+----+----+-------+------+--------+-------+--------+----+-----+------+--------+-----+-----+----+-------+------+--------+--------+------+-----+-----+-----+-----+-------+------+-------+-------+-----+-----+-----+-------+-----+------+------+-------+-----+--------+--------+--------+--------+--------+------+----+-------+-----+----+----+-----+--------+-----+-------+------+------+--------+-------+------+-----+-------+-------+-----+----+----+----+----+----+----+-------+----+------+-------+--------+------+-------+--------+-----+----+----+-----+----+--------+-------+-------+----+------+--------+------+------+------+------+-------+------+----+----+----+------+-----+------+------+-----+-----+----+-----+------+----+------+-----+------+-------+------+------+------+------+----+-------+----+-------+-----------+-----------+----+----+-------+------+------+------+------+-----+-----+------+----+-----+-----+-----+-----+-----+------+------+-------+-------+--------+------+------+------+-----+------+------+------+-----+------+------+-------+-----+---+-------+--------+------+-------+----+----+----+------+-------+------+------+------+------+----+--------+--------+------+----+--------+------------------------+--------------------+----+--------+-----+-----+----+----+--------+--------------+----+--------+-----+-------+------+------+-----------+-----+------+----------+-------+-----+----+----+----+----+----+----+-------+----------+-----+----+----+------+--------+-----+-----+-----+-----+-----+-----+-----+-----+-----+------+------+------+------+------+------+------+------+------+------+------+------+------+------+------+------+------+------+------+------+------+------+------+------+------+------+------+------+------+------+------+------+------+------+------+------+------+------+------+------+---------+-----+----------------+------------+\n",
      "only showing top 20 rows\n",
      "\n"
     ]
    }
   ],
   "source": [
    "final_joined.show()"
   ]
  },
  {
   "cell_type": "code",
   "execution_count": 17,
   "metadata": {
    "collapsed": true
   },
   "outputs": [],
   "source": [
    "def createFlag(yeara):\n",
    "\tif yeara is None:\n",
    "\t\treturn 0.0\n",
    "\telse:\n",
    "\t\treturn 1.0\n",
    "\n",
    "createLabelFlag = udf(createFlag, DoubleType())\n",
    "\n",
    "# Creating a flag field which is equal to 1.0 when there is matching record in DGLS otherwise 0.0\n",
    "final_joined = final_joined.withColumn('label', createLabelFlag(final_joined.YEARA))\n",
    "\n",
    "ls.append('label')\n",
    "final_joined = final_joined.drop('FYR').drop('COGS')\n",
    "final_to_keep = final_joined.select([c for c in final_joined.columns if c in ls]).cache()\n",
    "\n",
    "\n",
    "# Writing the joinned csv / parquet to hdfs\n",
    "# try:\n",
    "#     final_to_keep.coalesce(1).write.csv('/user/vcs/integrated_dataset_with_labels')\n",
    "# except:\n",
    "#     pass\n",
    "\n",
    "# try:\n",
    "#     final_to_keep.write.parquet('annual_integrated_dataset_with_labels.parquet')\n",
    "# except:\n",
    "#     pass"
   ]
  },
  {
   "cell_type": "code",
   "execution_count": 18,
   "metadata": {},
   "outputs": [
    {
     "name": "stdout",
     "output_type": "stream",
     "text": [
      "+-----+-----+--------------------+------+-------+-----+-------+-------+-------+--------+--------+------+----+-------+-----+----+---------+--------+------+----+--------+----+--------+-------+----+-----+-----+----+----+----+----+-------+----+------+-----+----+-------+-------+------+------+------+----+----+-----+------+-----+-----+-------+-------+----+-----+-----+-----+------+-------+-----+-----+-------+------+----+----+-----+----+--------+------+------+------+------+----+-------+----+-------+--------+-----+-------+-------+-------+----+------+------+------+------+------+----+-----+-----+----+----+----+----+-----+-------+------+---------+-----+-----+------+---------+-----+-----+------+-------+-----+--------+--------+------+--------+-----+----+-----+-------+------+-------+-------+-----+-----+-----+-------+-----+-----+------+-------+-----+--------+--------+--------+--------+--------+------+----+-------+-----+----+------+-----+-------+------+-----+------+------+-------+------+-----+-----+-------+-------+-----+----+----+----+----+------+----+--------+------+------+------+---------+------+--------+-------+-------+----+----+-----+----+-------+-------+-------+----+------+--------+------+-------+-------+-----+------+------+----+----+----+-------+-----+----+--------+----+-----+----+-------+------+----+-----+-----+------+-----+-----+------+------+------+-----+------+-----+-------+-----------+-----------+----+----+------+------+------+----+------+-----+----+-------+----+-----+------+-------+-------+------+-------+-----+-------+-------+-------+------+-----+-----+-----+------+----+-------+-------+-----+------+------+-----+---+-------+------+------+------+----+----+----+------+-------+------+------+------+------+----+--------+--------+------+----+--------+------------+-----+\n",
      "|fyear|  tic|                conm|curncd|  acchg|  aco|acominc|acqcshi|acqgdwl|acqintan|acqlntal|   act|amgw|     ap|  aqc| arc|       at|  bkvlps|  capx|cdvc|     ceq| cga|     che|  chech|  ci|cimii| cld2|cld3|cld4|cld5| clt|   cshi|dcom|dcpstk| dcvt|depc|   dltt|     dm|    do|    dp|dpacls| drc|drlt|   dv|   dvc| dvpa|dvpdp|   ebit| ebitda|emol|  emp|epsfi|epspi|esopct|esopdlt| exre| fatb|   fate|  fatl|fatn|fato|  fca| fel|   fincf|  fopt|  gdwl|gdwlam|gdwlia| gla|     gp| gwo|hedgegl|   icapt|idiis|  idilc|   idit|  intan|intc| invch|invofs| invrm|  invt|invwip|iseq|iseqc|iseqm|isfi|isgr|isgu|itcb| ivch|  ivncf|   lct|   lcuacu| lifr|llrci|llwoci|       lt|  mib| mibt|   mii|     ni|niint|niintpfc|niintpfp| nopio|      np|npanl|npat|nrtxt|  oancf|    ob|  oiadp|  oibdp|opeps|opini|opiti|oprepsx|optca|optex|optexd|optfvgr|optgr|optprcca|optprcex|optprcey|optprcgr|optprcwa|optvol| pcl|     pi| pifo| pll|  pnca|pncia|  ppegt| ppenb|ppenc|ppenls|ppennr|  ppent| ppevo|ppevr|prodv|prstkcc|prstkpc|pstkc|pvcl| pvo|pvpl| pvt|   rca|rdip|      re|   rea| reajo| recch|     rect| recta|   reuna|   revt|    rll|rmum|rpag|rvlrv|rvti|   sale|salepfc|salepfp| sco|scstkc|     seq|   siv|   spce|    spi| sppe| sppiv|spstkc|sret|ssnp|stbo|   stio|stkco| tdc|     teq|tfva|tfvce|tfvl|   tlcf|transa| tsa|tstkc|tstkp|   txc| txdb|txdba|txdbca|txdbcl| txfed| txfo|  txpd|  txr|    txt|txtubxintbs|txtubxintis|vpac| vpo|  wcap| wcapc|wcapch| wda|  xacc|  xad|xago|   xagt|xcom|  xdp|  xeqo|     xi|   xido| xinst|   xint|xintd|xintopt|    xlr|   xopr|xoprar|  xpp|  xpr|  xrd| xrent|  xs|   xsga|   xstf|xstfo|xstfws|    xt|exchg|fic|dvpsp_f|mkvalt|prcc_f|prch_f|rank|  au|auop|auopic|idbflag| naics|prican|prirow|priusa| sic|spcindcd|spcseccd|spcsrc|stko| ipodate|eps_avg_ibes|label|\n",
      "+-----+-----+--------------------+------+-------+-----+-------+-------+-------+--------+--------+------+----+-------+-----+----+---------+--------+------+----+--------+----+--------+-------+----+-----+-----+----+----+----+----+-------+----+------+-----+----+-------+-------+------+------+------+----+----+-----+------+-----+-----+-------+-------+----+-----+-----+-----+------+-------+-----+-----+-------+------+----+----+-----+----+--------+------+------+------+------+----+-------+----+-------+--------+-----+-------+-------+-------+----+------+------+------+------+------+----+-----+-----+----+----+----+----+-----+-------+------+---------+-----+-----+------+---------+-----+-----+------+-------+-----+--------+--------+------+--------+-----+----+-----+-------+------+-------+-------+-----+-----+-----+-------+-----+-----+------+-------+-----+--------+--------+--------+--------+--------+------+----+-------+-----+----+------+-----+-------+------+-----+------+------+-------+------+-----+-----+-------+-------+-----+----+----+----+----+------+----+--------+------+------+------+---------+------+--------+-------+-------+----+----+-----+----+-------+-------+-------+----+------+--------+------+-------+-------+-----+------+------+----+----+----+-------+-----+----+--------+----+-----+----+-------+------+----+-----+-----+------+-----+-----+------+------+------+-----+------+-----+-------+-----------+-----------+----+----+------+------+------+----+------+-----+----+-------+----+-----+------+-------+-------+------+-------+-----+-------+-------+-------+------+-----+-----+-----+------+----+-------+-------+-----+------+------+-----+---+-------+------+------+------+----+----+----+------+-------+------+------+------+------+----+--------+--------+------+----+--------+------------+-----+\n",
      "| 1952|0033A|ENERGY FUTURE HOL...|   USD|   null| null|   null|   null|   null|    null|    null|  null|null|   null| null|null|    394.8|    null|  null|null|    null|null|    null|   null|null| null| null|null|null|null|null|   null|null|   0.0|  0.0|null|  173.2|   null|  null|  7.37|  null|null|null| null|  9.23| null| null|   null|   null|null| null| null| null|  null|   null| null| null|   null|  null|null|null| null|null|    null|  null|  null|  null|  null|null|   null|null|   null|    null| null|   null|   null|   null|0.58|  null|  null|  null|  null|  null|null| null| null|null|null|null|null| null|   null|  null|     null| null| null|  null|     null| null| null|  null|   null| null|    null|    null|  null|    null| null|null| null|   null|  null|   null|   null| null| null| null|   null| null| null|  null|   null| null|    null|    null|    null|    null|    null|  null|null|  38.24| null|null|  null| null|  367.7|  null| null|  null|  null|   null|  null|  5.5| null|   null|   null| null|null|null|null|null|  null|null|    null|  null|  null|  null|     null|  null|    null|  93.64|   null|null|null| null|null|  93.64|   null|   null|null|  null|    null|  null|   null|   null| null|  null|  null|null|null|null|   null| null|null|    null|null| null|null|   null|  null|null| null|  0.0| 21.76|  0.0| null|  null|  null| 21.76| null|  null| null|  21.76|       null|       null|null|null|  null|  null|  null|null|  null| null|null|   null|null| null|  null|   null|   null|  null|   5.07| null|   null|   null|   null|  null| null| null| null|  null|null|   null|   null| null|  null|  null|    0|USA|   null|  null|  null|  null|null|null|null|  null|      D|  2211|  null|  null|    09|4911|     705|     700|     B|   2|    null|        null|  0.0|\n",
      "| 2003|0061A|DECRANE AIRCRAFT ...|   USD|-13.764|1.082| -0.268|   null|   null|    null|    null|72.454|null| 15.462|0.606|null|  303.876|    null| 4.797|null| -45.181|null|   6.936| -5.485|null| null| null|null|null|null|null|   null| 0.0|   0.0|  0.0|null|268.208|169.406|-6.621| 9.781|  null| 0.0| 0.0|  0.0|   0.0|6.286| null|  4.055| 13.836|null|1.296| null| null|   0.0|    0.0|  0.0| null|   null| 6.926| 0.0|null| null|null|-118.169|  null|162.43|  null| -22.1|null| 48.613|null|   null| 263.862| null|   null|   null|187.885| 0.0|-0.518|  null|30.414|42.981|10.874|null| null| null|null|null|null| 0.0|  0.0|130.028| 34.55|     null|  0.0| null|  null|  308.222| null| null|  null|-73.323| null|    null|    null|-0.945|     0.0| null|null| null|-17.344|58.002|  4.055| 13.836| null| null| null|   null| null| null|  null|   null| null|    null|    null|    null|    null|    null|  null|null|-66.434| null|null|   0.0| null| 55.382|  null| null|  null|  null|   30.9|  null| null| null|   null|   null|  0.0|null|null|null|null|-5.126| 0.0|  -156.9|   0.0|-0.268| 4.899|   21.455|   0.0|-156.632|170.109|   null|null|null| null|null|170.109|   null|   null|null|  null|  -4.346|   0.0|-37.916|-43.325|3.208|   0.0|  null|null|null|null|   null| null|null|    null|null| null|null|   null|  null|null|  0.0|  0.0|  null|  0.0| null|  null|  null|  null| null|-0.225|  0.0|-13.496|       null|       null|null|null|37.904|  null|  null|null| 17.89| null|null|   null|null| null|  null|-13.764|-20.385|  null| 26.219| null|  0.324|   null|156.273|  null| null|  0.0|10.44| 2.911|null| 34.777|   null| null|  null|  null|    0|USA|   null|  null|  null|  null|   1|   7|   4|  null|      D|336413|  null|  null|    02|3728|     110|     925|  null|   2|19970416|        null|  0.0|\n",
      "| 2004|0070A|ALLIANCE LAUNDRY ...|   USD|    0.0|1.088|  -2.49|   null|   null|    null|    null| 64.41|null| 11.618|  0.0|null|  184.016|    null| 4.166|null|-135.097|null|  11.471|  3.534|null| null|  0.0| 0.0| 0.0| 0.0|null|   null| 0.0|   0.0|  0.0|null|257.523|118.218|   0.0|   7.6|  null| 0.0| 0.0|  0.0|   0.0|  0.0| null|  42.14|  49.74|null|1.312| null| null|   0.0|    0.0|  0.0|30.11|148.403|  null| 0.0| 0.0| null|null| -27.245|  null|55.414|  null|  null|null| 89.577|null|   null| 128.426| null|   null|   null| 55.826| 0.0|-0.546|  null| 9.899|26.761| 3.713|null| null| null|null|null|null| 0.0|  0.0| -4.101|48.372|     null|  0.0| null|  null|  313.113|  0.0|  0.0|   0.0| 11.765| null|    null|    null|-0.042|     0.0| null|null| null|  34.88|  null|  42.14|  49.74| null| null| null|   null| null| null|  null|   null| null|    null|    null|    null|    null|    null|  null|null| 11.836| null|null|-0.313|  0.0|181.374|  null| null|  null|  null| 30.481|  null| null| null|   null|   null|  0.0|null|null|null|null|  null| 0.0|-185.742|   0.0|-3.819| 3.546|    25.09|   0.0|-181.923|280.987|   null|null|null| null|null|280.987|   null|   null|null|  null|-129.097|   0.0| 11.519| -4.823|0.065| 0.042|  null|null|null|null|   null|5.579|null|-129.097|null| null|null|    0.0|  null|null|  0.0|  0.0|  null|  0.0|  0.0|   0.0|   0.0|  null| null|  null|  0.0|  0.071|       null|       null|null|null|16.038|  null|  null|null| 12.86|  3.0|null|   null|null| null|  null|    0.0|    0.0|  null| 25.439| null|   null|   null|231.247|  null| null|2.243|  7.2|   1.3|null| 39.837|   null| null|  null|  null|    0|USA|    0.0|  null|  null|  null|   1|   7|   4|     0|      D|333318|  null|  null|    01|3580|     345|     925|  null|   2|    null|        null|  0.0|\n",
      "| 1982|0138A|REMINGTON ARMS CO...|   USD|   null| null|   null|   null|   null|    null|    null|  null|null|   null| null|null|     null|    null|  null|null|    null|null|    null|   null|null| null| null|null|null|null|null|   null|null|  null| null|null|   null|   null|  null|  null|  null|null|null| null|  null| null| null|   null|   null|null| null| null| null|  null|   null| null| null|   null|  null|null|null| null|null|    null|  null|  null|  null|  null|null|   null|null|   null|    null| null|   null|   null|   null|null|  null|  null|  null|  null|  null|null| null| null|null|null|null|null| null|   null|  null|     null| null| null|  null|     null| null| null|  null|   null| null|    null|    null|  null|    null| null|null| null|   null|  null|   null|   null| null| null| null|   null| null| null|  null|   null| null|    null|    null|    null|    null|    null|  null|null|   null| null|null|  null| null|   null|  null| null|  null|  null|   null|  null| null| null|   null|   null| null|null|null|null|null|  null|null|    null|  null|  null|  null|     null|  null|    null|   null|   null|null|null| null|null|   null|   null|   null|null|  null|    null|  null|   null|   null| null|  null|  null|null|null|null|   null| null|null|    null|null| null|null|   null|  null|null| null| null|  null| null| null|  null|  null|  null| null|  null| null|   null|       null|       null|null|null|  null|  null|  null|null|  null| null|null|   null|null| null|  null|   null|   null|  null|   null| null|   null|   null|   null|  null| null| null| null|  null|null|   null|   null| null|  null|  null|    0|USA|   null|  null|  null|  null|null|null|null|  null|      D|332994|  null|  null|    01|3480|     355|     925|  null|   2|    null|        null|  0.0|\n",
      "| 1988|0176A|MUFG AMERICAS HOL...|   USD|    0.0| null|   null|   null|   null|    null|    null|  null|null|11911.0| null|null|15010.297| 21.9807|  null|null| 669.773|null|2350.209|   null|null| null| null|null|null|null|null|   null|null|  null| null|null|227.439|   null|  null|  null|  null|null|null| null|19.305| null| null|177.172|177.172|null|7.764| 3.51| 3.51|  null|   null| null| null|   null|  null|null|null|3.657|null|    null|  null|  null|  null|  null|null|368.985|null|   null|1047.212| null|   null|   null|   null|null|  null|  null|  null|20.417|  null|null| null| null|null|null|null|null| null|   null|  null|     null| null| null|  null|14190.439|  0.0|  0.0|   0.0| 60.226| null|    null|    null|  null|1618.459| null|null| null|   null|  null|177.172|177.172| null| null| null|   null| null| null|  null|   null| null|    null|    null|    null|    null|    null|  null|null| 96.221| null|89.5|  null| null|   null|  null| null|  null|  null|242.405|  null| null| null|   null|   null| null|null|null|null|null|  null|null| 110.517|  null|   0.0|  null|10746.645|   0.0| 110.517|787.371|282.343|null|null| null|null|787.371|   null|   null|null|  null| 819.773|  null|   null|   null| null|  null|  null|null|null|null|   null| null|null|    null|null| null|null|   null|  null|null|  0.0|  0.0|  null| null| null|  null|  null|  null| null|  null| null| 35.995|       null|       null|null|null|  null|  null|  null|null|  null| null|null|   null|null| null|  null|   null|    0.0|  null|   null| null|   null|150.077|610.199|  null| null| null| null|33.755|null|191.813|   null| null|  null|  null|    0|USA|   1.08|  null|  25.5|  34.0|null|null|null|  null|      D|522110|  null|  null|    04|6020|     817|     800|     A|   2|    null|        null|  0.0|\n",
      "| 1988|0176A|MUFG AMERICAS HOL...|   USD|   null| null|   null|   null|   null|    null|    null|  null|null|   null| null|null|15010.297|    null|  null|null| 669.773|null|    null|   null|null| null| null|null|null|null|null|   null|null|  null| null|null|227.439|   null|  null|  null|  null|null|null| null|19.305| null| null|   null|   null|null|7.764| null| null|  null|   null| null| null|   null|  null|null|null|3.657|null|    null|  null|  null|  null|  null|null|   null|null|   null|1047.212| null|601.962|692.512|   null|null|  null|  null|  null|  null|  null|null| null| null|null|null|null|null| null|   null|  null|10634.609| null| null|  null|14190.439|  0.0|  0.0|   0.0|   null| null|    null|    null|  null|    null| null|null| null|   null|  null|   null|   null| null| null| null|   null| null| null|  null|   null| null|    null|    null|    null|    null|    null|  null|89.5| 96.221| null|null|  null| null|   null|  null| null|  null|  null|242.405|  null| null| null|   null|   null| null|null|null|null|null|  null|null| 110.517|  null|  null|  null|     null|  null|    null|783.714|   null|null|null| null|null|   null|   null|   null|null|  null| 819.773|  null|   null|   null| null|  null|  null|null|null|null|492.558| null|null|    null|null| null|null|   null|   0.0|null|  0.0|  0.0|  null| null| null|  null|  null|  null| null|  null| null| 35.995|       null|       null|null|null|  null|  null|  null|null|  null| null|null|272.764|null| null|41.736|    0.0|    0.0|10.105|328.886|6.833|   null|150.077|   null|  null| null| null| null|  null|null|   null|150.077| null|  null|691.15|    0|USA|   1.08|  null|  25.5|  34.0|null|null|null|  null|      D|522110|  null|  null|    04|6020|     817|     800|     A|   2|    null|        null|  0.0|\n",
      "| 2005|0282B|PORTOLA PACKAGING...|   USD|    0.0|6.245| -0.931|   null|   null|    null|    null|61.233|null| 18.368|  0.0|null|  179.969| -4.8578|12.493|null| -57.754|null|   1.963|-10.386|null| null| null|null|null|null|null| 11.889| 0.0|   0.0|  0.0|null|203.933| 23.855|   0.0|15.738|  null| 0.0| 0.0|  0.0|   0.0|  0.0| null| 10.893| 26.631|null|1.321| null| null|   0.0|    0.0|0.251| null|173.044|10.835| 0.0| 0.0|1.523|null|   3.551|  null|20.076|  null|  null|null| 58.719|null|   null| 146.179| null|   null|  0.043| 29.764| 0.0|-1.261|  null| 9.872|19.243| 0.656|null| null| null|null|null|null| 0.0|  0.0|-12.992|29.942|     null|  0.0| null|  null|  237.723| null| null|-0.003|-11.553| null|    null|    null| 1.756|     0.0| null|null| null| -1.196|  null| 10.893| 26.631| null| null| null|   null|0.998|1.227|  null|   4.92|0.062|    4.92|    null|    5.08|     5.8|    5.06|  null|null| -7.827|6.818|null|   0.0| null|197.754|  null| null|  null|  null| 77.133|  null| null| null|   null|   null|  0.0|null|null|null|null|-1.606| 0.0| -64.253|-0.414|   0.0|-2.673|   33.782|-0.931| -63.322|264.964|   null|null|null| null|null|264.964|   null|   null|null|  null| -57.754|   0.0|-11.779| -2.471|0.033| 0.039|  null|null|null|null|   null|  0.0|null|    null|null| null|null| 55.078|  null|null|  0.0|  0.0| 2.827|3.206|  0.0| 2.559|   0.0|-0.222|3.107| 2.248|  0.0|  3.729|       null|       null|null|null|31.291|  null|  null|null| 11.53| null|null|   null|null| null|  null|    0.0|    0.0|  null| 18.048| null|  0.251|   null|238.333|  null|  0.0| 0.23|3.836| 4.436|null| 32.088|   null| null|  null|  null|    1|USA|    0.0|  null|  null|  null|   1|   7|   1|     0|      D|326199|  null|  null|    01|3089|     325|     978|  null|   3|    null|        null|  0.0|\n",
      "| 2006|0552B|   MQ ASSOCIATES INC|   USD|    0.0|3.056|    0.0|   null|   null|    null|    null|34.564|null|    8.8|  0.0|null|  175.434| -2.7934| 28.29|null|-281.305|null|   4.601| -7.003|null| null|0.505| 0.0| 0.0| 0.0|null|100.705| 0.0|  70.0|  0.0|null|340.445|229.779|   0.0|34.108|  null| 0.0| 0.0|  0.0|   0.0|  0.0| null| 18.326| 52.434|null|1.604| null| null|   0.0|    0.0|  0.0| null|189.139|45.346| 0.0| 0.0| null|null|  -8.668|  null|34.528|  null|  null|null|148.106|null|   null|  129.14| null|   null|  0.207| 50.677| 0.0|   0.0|  null|   0.0|   0.0|   0.0|null| null| null|null|null|null| 0.0|  0.0|-23.446| 35.69|     null|  0.0| null|  null|  386.739|  0.0|  0.0|   0.0|-23.039| null|    null|    null| 0.329|     0.0| null|null| null| 25.111|  null| 18.326| 52.434| null| null| null|   null|1.567|2.876|   0.0|   null|  0.0|    1.59|    null|    0.85|    null|     1.1|  null|null|-20.353| null|null|   0.0| null|244.628|  null| null|  null|  null| 77.432|  null| null| null|   null|   null| 70.0|null|null|null|null|  null| 0.0|-281.443|   0.0|   0.0|-11.54|   26.907|   0.0|-281.443|273.514|   null|null|null| null|null|273.514|   null|   null|null|  null|-211.305|   0.0|-23.112|    1.0|5.269|-0.112|  null|null|null|null|   null|0.037|null|    null|null| null|null|244.678|  null|null|  0.0|  0.0| 1.328|6.427|  0.0| 0.408|   0.0|   0.0|  0.0| 0.921|  0.0|  2.686|       null|       null|null|null|-1.126|  null|  null|null|23.473|2.432|null|   null|null| null|  null|    0.0|    0.0|  null| 40.215| null|    0.0|   null| 221.08|  null| null|0.256| null|12.796|null| 95.672|   null| null|  null|  null|    1|USA|    0.0|  null|  null|  null|   1|   7|   1|     0|      D|621512|  null|  null|    01|8071|    null|    null|  null|   3|    null|        null|  0.0|\n",
      "| 1973|1041B|AMERICAN BEVERAGE...|   USD|   null|0.164|   null|   null|   null|    null|    null| 7.047|null|  4.996|  0.0|null|   12.929| -3.1685| 0.523|null|  -1.447|null|   0.293|   null|null| null| null|null|null|null|null|   null|null|   0.0|  0.0|null|  5.488|   null|   0.0| 0.848|  null|null|null|  0.0|   0.0| null| null| -1.428|  -0.58|null| 0.36|-5.14|-5.14|  null|   null| null| null|   null|  null|null|null| null|null|    null|-1.095|  null|  null|  null|null|  5.313|null|   null|    4.04| null|   null|    0.0|  0.747|null|  null|  null| 1.573| 2.567|   0.0|null| null| null|null|null|null| 0.0|0.065|   null| 8.888|     null| null| null|  null|   14.376|  0.0|  0.0|   0.0| -2.297| null|    null|    null|-0.053|   1.462| null|null| null|   null|  null| -1.428|  -0.58| null| null| null|   null| null| null|  null|   null| null|    null|    null|    null|    null|    null|  null|null| -2.297| null|null|  null| null|  9.173|  1.57|  0.0| 0.059|   0.0|  4.375|-0.014|  0.0| null|   null|   null|  0.0|null|null|null|null|  null|null|    -2.3|  null|  null|  null|    4.023|  null|    null| 33.499|   null|null|null| null|null| 33.499|   null|   null|null|  null|  -1.448|-0.025|   null|    0.0|  0.0|  null|  null|null|null|null|   null| null|null|    null|null| null|null|    2.9|  null|null| null| null|   0.0|  0.0| null|  null|  null|   0.0|  0.0|  null|0.377|    0.0|       null|       null|null|null|-1.841|-0.586|-0.586|null| 1.455| null|null|   null|null|0.745|  null|    0.0|    0.0|  null|  0.816| null|   null|   null| 34.079|  null|0.164|0.266| null|  0.68|null|  5.893|   null| null|  null|  null|    1|USA|    0.0|  null|  null|  null|null|null|null|  null|      D|  null|  null|  null|    01|2086|     145|     978|  null|   3|    null|        null|  0.0|\n",
      "| 1976|1102B|CENTENNIAL VILLAS...|   USD|   null| 0.09|   null|   null|   null|    null|    null| 1.511|null|   0.35|  0.0|null|    6.622|  0.7892| 0.207|null|   2.288|null|   0.412|   null|null| null| null|null|null|null|null|   null|null|   0.0|  0.0|null|  2.656|   null|   0.0| 0.408|  null|null|null|  0.0|   0.0| null| null|  0.268|  0.676|null| 1.25| 0.04| 0.04|  null|   null| null| null|   null|  null|null|null| null|null|    null|   0.6|  null|  null|  null|null|  2.311|null|   null|   4.944| null|   null|   null|    0.0|null|  null|  null|  null| 0.097|  null|null| null| null|null|null|null| 0.0|  0.0|   null| 1.422|     null| null| null|  null|    4.334|  0.0|  0.0|   0.0|  0.122| null|    null|    null| 0.214|     0.0| null|null| null|   null|   0.0|  0.268|  0.676| null| null| null|   null| null| null|  null|   null| null|    null|    null|    null|    null|    null|  null|null|  0.203| null|null|  null| null|  6.394| 2.878|  0.0|  null|   0.0|  3.916| 0.056|  0.0| null|   null|   null|  0.0|null|null|null|null|  null|null|   0.634|   0.0|  null|  null|    0.912|  null|    null| 10.558|   null|null|null| null|null| 10.558|   null|   null|null|  null|   2.288| 0.133|   null|    0.0|  0.0|  null|  null|null|null|null|   null| null|null|    null|null| null|null|    0.0|  null|null| null| null| 0.066|0.256| null|  null|  null| 0.064|  0.0|  null|0.042|  0.081|       null|       null|null|null| 0.089| 0.378| 0.378|null| 0.651| null|null|   null|null|0.408|  null|    0.0|    0.0|  null|  0.279| null|   null|   null|  9.882|  null| 0.09| null|  0.0| 0.929|null|  1.635|   null| null|  null|  null|    1|USA|    0.0|  null|  null|  null|   1|   3|   1|  null|      D|  null|  null|  null|    01|8050|     289|     905|  null|   3|    null|        null|  0.0|\n",
      "| 1982|1113B|           VERNON CO|   USD|   null| 2.02|   null|   null|   null|    null|    null|17.196|null|  1.474|  0.0|null|   19.524| 27.0227| 0.307|null|  10.701|null|    5.19|   null|null| null| null|null|null|null|null|   null|null|   0.0|  0.0|null|  4.176|    0.0|   0.0| 0.295|  null|null|null| 0.27|  0.27|  0.0| null|  1.839|  2.134|null|  1.0| 3.45| 3.45|  null|   null| null| null|   null|  null|null|null| null|null|    null| 1.713|  null|  null|  null|null| 20.826|null|   null|  14.877| null|   null|  0.492|    0.0| 0.0|  null|  null|  1.24| 1.616|  null|null| null| null|null|null|null| 0.0|  0.0|   null| 4.509|     null|1.071| null|  null|    8.823|  0.0|  0.0|   0.0|  1.366| null|    null|    null| 0.739|     0.0| null|null| null|   null|  null|  1.839|  2.134| null| null| null|   null| null| null|  null|   null| null|    null|    null|    null|    null|    null|  null|null|  2.466| null|null|  null| null|  3.765|  null| null|  null|  null|  1.731|  null| null| null|   null|   null|  0.0|null|null|null|null|  null|null|   9.215|   0.0|   0.0|  null|     8.37|   0.0|   9.216| 49.944|   null|null|null| null|null| 49.944|   null|   null|null|  null|  10.701|   0.0|   null|    0.0| null|  null|  null|null|null|null|   null| null|null|    null|null| null|null|    0.0|  null|null|  0.0|  0.0|  null|  0.0| null|  null|  null|  null| null|  null|  0.0|    1.1|       null|       null|null|null|12.687| 0.509| 0.509|null| 2.186| null|null|   null|null| null|  null|    0.0|    0.0|  null|  0.604|0.604|   null|   null|  47.81|  null| 2.02|0.508| null|  null|null| 18.692|   null| null|  null|  null|    1|USA|   0.68|  null|15.125|15.125|   1|   4|   1|  null|      D| 32311|  null|  null|    01|2750|     458|     978|  null|   3|    null|        null|  0.0|\n",
      "| 1975|1125B| PUTNAM GELLMAN CORP|   USD|   null|0.027|   null|   null|   null|    null|    null| 3.348|null|  0.885|  0.0|null|    9.228|  3.0606| 0.418|null|   4.897|null|   0.399|   null|null| null| null|null|null|null|null|   null|null|   0.0|  0.0|null|  1.362|   null|   0.0| 0.273|  null|null|null|  0.0|   0.0| null| null|  0.783|  1.056|null| 0.35| null|-0.32|  null|   null| null| null|   null|  null|null|null| null|null|    null| 0.768|  null|  null|  null|null|  2.456|null|   null|   6.259| null|   null|    0.0|  4.021|null|  null|  null| 1.077| 1.151| 0.065|null| null| null|null|null|null| 0.0|0.697|   null| 2.951|     null| null| null|  null|    4.331|  0.0|  0.0|   0.0| -0.519| null|    null|    null| 0.056|     0.4| null|null| null|   null|  0.23|  0.783|  1.056| null| null| null|   null| null| null|  null|   null| null|    null|    null|    null|    null|    null|  null|null| -0.378| null|null|  null| null|   5.04| 0.274|  0.0| 0.016|   0.0|  1.583|   0.0|0.017| null|   null|   null|  0.0|null|null|null|null|  null|null|   1.463|   0.0|  null|  null|    1.771|  null|    null| 10.766|   null|null|null| null|null| 10.766|   null|   null|null|  null|   4.897|   0.0|   null| -1.014|0.004|  null|  null|null|null|null|   null| null|null|    null|null| null|null|  4.712|  null|null| null| null| 0.141|0.018| null|  null|  null| 0.082|  0.0|  null|  0.0|  0.141|       null|       null|null|null| 0.397|-0.404|-0.404|null| 0.611| null|null|   null|null|0.265|  null|    0.0|    0.0|  null|  0.203| null|   null|   null|   9.71|  null|  0.0|0.035| null| 0.165|null|    1.4|   null| null|  null|  null|    1|USA|    0.0|  null|  null|  null|   1|   1|   1|  null|      D|  null|  null|  null|    01|2200|     468|     976|  null|   3|    null|        null|  0.0|\n",
      "| 1973|1134B|SCIENCE APPLCTNS ...|   USD|   null|0.123|   null|   null|   null|    null|    null| 6.575|null|  0.676|  0.0|null|    7.344|  2.3023| 0.557|null|   2.148|null|   0.533|   null|null| null| null|null|null|null|null|   null|null|   0.0|  0.0|null|    0.0|   null|   0.0| 0.114|  null|null|null|  0.0|   0.0| null| null|  1.451|  1.565|null|0.709| 0.58| 0.58|  null|   null| null| null|   null|  null|null|null| null|null|    null| 0.809|  null|  null|  null|null|  3.474|null|   null|   2.148| null|   null|    0.0|    0.0|null|  null|  null|  null| 0.041|  null|null| null| null|null|null|null| 0.0|  0.0|   null| 5.196|     null| null| null|  null|    5.196|  0.0|  0.0|   0.0|  0.695| null|    null|    null| 0.001|   2.265| null|null| null|   null|10.054|  1.451|  1.565| null| null| null|   null| null| null|  null|   null| null|    null|    null|    null|    null|    null|  null|null|  1.279| null|null|  null| null|  0.839|   0.0|  0.0| 0.064|   0.0|  0.669|   0.0|0.016| null|   null|   null|  0.0|null|null|null|null|  null|null|   1.188|  null|  null|  null|    5.878|  null|    null| 21.092|   null|null|null| null|null| 21.092|   null|   null|null|  null|   2.148|   0.0|   null|    0.0|  0.0|  null|  null|null|null|null|   null| null|null|    null|null| null|null|    0.0|  null|null| null| null| 0.596|  0.0| null|  null|  null| 0.506|  0.0|  null|  0.0|  0.584|       null|       null|null|null| 1.379| 0.358| 0.358|null| 1.982| null|null|   null|null|0.114|  null|    0.0|    0.0|  null|  0.173| null|   null|   null| 19.527|  null|0.123| null| null|   1.0|null|  1.909|   null| null|  null|  null|    1|USA|   null|  null|  null|  null|null|null|null|  null|      D|541690|  null|  null|    01|8700|     456|     976|  null|   3|    null|        null|  0.0|\n",
      "| 1977|1163B|KING LOUIE INTERN...|   USD|   null|0.131|   null|   null|   null|    null|    null| 4.435|null|  0.689|  0.0|null|    9.855| 31.3579| 1.403|null|   5.958|null|   1.946|   null|null| null| null|null|null|null|null|   null|null|   0.0|  0.0|null|   2.05|   null|   0.0| 0.484|  null|null|null|  0.0|   0.0|  0.0| null|  2.709|  3.193|null|0.595| 5.44| 5.73|  null|   null| null| null|   null|  null|null|null| null|null|    null| 1.732|  null|  null|  null|null|  4.811|null|   null|   8.008| null|   null|    0.0|  0.002| 0.0|  null|  null|  0.54| 1.523| 0.054|null| null| null|null|null|null|null|  0.0|   null| 1.627|     null|  0.0| null|  null|    3.897|  0.0|  0.0|   0.0|  1.248| null|    null|    null|   0.0|     0.0| null|null| null|   null|  null|  2.709|  3.193| null| null| null|   null| null| null|  null|   null| null|    null|    null|    null|    null|    null|  null|null|  2.537| null|null|  null| null|  9.838| 2.315|  0.0| 0.012|   0.0|  5.014|   0.0|0.261| null|   null|   null|  0.0|null|null|null|null|  null|null|   5.768|   0.0|  null|  null|    0.835|  null|    null| 14.146|   null|null|null| null|null| 14.146|   null|   null|null|  null|   5.958|   0.0|   null|    0.0|  0.0|  null|  null|null|null|null|   null| null|null|    null|null| null|null|    0.0|  null|null| null| null| 1.276| 0.22| null|  null|  null| 1.167|  0.0|  null|  0.0|  1.289|       null|       null|null|null| 2.808|  1.16|  1.16|null| 0.167|0.279|null|   null|null|0.484|  null|    0.0|    0.0|  null|  0.172| null|   null|   null| 10.953|  null|0.131|0.063| null| 0.263|null|  1.618|   null| null|  null|  null|    1|USA|    0.0|  null|  null|  null|   1|   9|   1|  null|      D|  null|  null|  null|    01|2300|     465|     976|  null|   3|    null|        null|  0.0|\n",
      "| 1982|1233C|MANISCHEWITZ (B.) CO|   USD|   null|  0.0|   null|   null|   null|    null|    null|10.411|null|  1.421|  0.0|null|   14.415|201.9434| 0.323|null|  10.703|null|   3.538|   null|null| null| null|null|null|null|null|   null|null|   0.0|  0.0|null|  1.535|  1.535|   0.0| 0.316|  null|null|null|0.849| 0.849|  0.0| null|  3.884|    4.2|null|0.268|35.36|35.36|  null|   null| null| null|   null|  null|null|null| null|null|    null| 2.192|  null|  null|  null|null|  8.108|null|   null|  12.238| null|   null|   null|    0.0| 0.0|  null|  null|  1.15| 3.852|   0.0|null| null| null|null|null|null| 0.0|  0.0|   null| 2.177|     null|0.439| null|  null|    3.712|  0.0|  0.0|   0.0|  1.877| null|    null|    null| 0.132|     0.0| null|null| null|   null|  null|  3.884|    4.2| null| null| null|   null| null| null|  null|   null| null|    null|    null|    null|    null|    null|  null|null|  3.827| null|null|  null| null|  8.028| 0.707|  0.0| 1.799|   0.0|  3.863|   0.0|0.047| null|   null|   null|  0.0|null|null|null|null|  null|null|  10.331|   0.0|   0.0|  null|    3.021|   0.0|  10.331| 24.144|   null|null|null| null|null| 24.144|   null|   null|null|  null|  10.703|   0.0|   null|   null| null|  null|  null|null|null|null|   null| null|null|    null|null| null|null|    0.0|  null|null|  0.0|  0.0|  null|  0.0| null|  null|  null|  null| null|  null|  0.0|   1.95|       null|       null|null|null| 8.234|   0.9|   0.9|null|  null| null|null|   null|null|0.316|  null|    0.0|    0.0|  null|  0.189| null|   null|   null| 19.944|  null|  0.0|0.263| null| 0.139|null|  3.908|   null| null|  null|  null|    3|USA|   16.0|  null| 175.0| 175.0|   1|   4|   1|  null|      D|311821|  null|  null|    01|2052|     250|     978|  null|   4|19870101|        null|  0.0|\n",
      "| 1973|1246B|  FORT ATLANTIC CORP|   USD|   null|0.194|   null|   null|   null|    null|    null| 1.113|null|  0.465|  0.0|null|    6.037|  1.6402| 0.342|null|   3.205|null|   0.494|   null|null| null| null|null|null|null|null|   null|null|   0.0|  0.0|null|  1.717|   null|   0.0| 0.489|  null|null|null|0.293| 0.293| null| null|   0.71|  1.199|null|0.325| null| 0.32|  null|   null| null| null|   null|  null|null|null|  0.0|null|    null| 0.971|  null|  null|  null|null|  2.398|null|   null|   4.922| null|   null|   null|  0.484|null|  null|  null|  null| 0.165|  null|null| null| null|null|null|null| 0.0|  0.0|   null| 1.095|     null| null| null|  null|    2.832|  0.0|  0.0|   0.0|  0.627| null|    null|    null| 0.344|     0.0| null|null| null|   null|  null|   0.71|  1.199| null| null| null|   null| null| null|  null|   null| null|    null|    null|    null|    null|    null|  null|null|  0.794| null|null|  null| null|  5.893| 2.016|  0.0|   0.0|   0.0|  4.259|   0.0|0.026| null|   null|   null|  0.0|null|null|null|null|  null|null|  -0.333|  null|  null|  null|     0.26|  null|    null| 11.801|   null|null|null| null|null| 11.801|   null|   null|null|  null|   3.205| 0.184|   null|    0.0| 0.02|  null|  null|null|null|null|   null| null|null|    null|null| null|null|    0.0|  null|null| null| null| 0.167|  0.0| null|  null|  null| 0.129|  0.0|  null|  0.0|  0.375|       null|       null|null|null| 0.018| 0.098| 0.098|null|  null|0.042|null|   null|null|0.456|  null|  0.208|  0.208|  null|   0.26| null|   null|   null| 10.602|  null|0.194| null|  0.0| 0.166|null|  1.199|   null| null|  null|  null|    1|USA|   0.15|  null|  null|  null|null|null|null|  null|      D|  null|  null|  null|    01|5500|     449|     976|  null|   3|    null|        null|  0.0|\n",
      "| 1980|1262B|      MONARK BOAT CO|   USD|   null|0.153|   null|   null|   null|    null|    null| 6.009|null|  1.506|  0.0|null|    6.901|  1.2334| 0.239|null|   1.205|null|   1.505|   null|null| null| null|null|null|null|null|   null|null| 0.143|0.143|null|  3.407|   null|   0.0| 0.237|  null|null|null|  0.0|   0.0|  0.0| null|  0.021|  0.258|null| null|-0.14|-0.14|  null|   null| null| null|   null|  null|null|null| null|null|    null| 0.103|  null|  null|  null|null|  3.094|null|   null|   4.615| null|   null|  0.117|    0.0| 0.0|  null|  null| 1.379|  2.27| 0.407|null| null| null|null|null|null| 0.0|  0.0|   null| 2.286|     null|0.509| null|  null|    5.693|0.003|0.003|-0.002|  -0.14| null|    null|    null| 0.003|     0.0| null|null| null|   null|  null|  0.021|  0.258| null| null| null|   null| null| null|  null|   null| null|    null|    null|    null|    null|    null|  null|null|  -0.26| null|null|  null| null|  1.675|  null| null|  null|  null|  0.838|  null| null| null|   null|   null|  0.0|null|null|null|null|  null|null|    0.81|   0.0|  null|  null|    2.081|  null|    null| 11.658|   null|null|null| null|null| 11.658|   null|   null|null|  null|   1.205|   0.0|   null|    0.0|0.002|  null|  null|null|null|null|   null| null|null|    null|null| null|null|    0.0|  null|null| null| null|-0.118|  0.0| null|  null|  null|-0.118|  0.0|  null|0.118| -0.118|       null|       null|null|null| 3.723|-0.309|-0.309|null| 0.219| null|null|   null|null| null|  null|    0.0|    0.0|  null|  0.401| null|   null|   null|   11.4|  null|0.153| null| null| 0.194|null|  2.836|   null| null|  null|  null|    1|USA|    0.0|  null|  null|  null|   1|   6|   1|  null|      D|  null|  null|  null|    01|3730|     620|     600|  null|   3|    null|        null|  0.0|\n",
      "| 1979|1324B|HALSTEAD INDUSTRI...|   USD|   null|0.309|   null|   null|   null|    null|    null|52.999|null|  9.505|  0.0|null|  105.393|  5.0262| 3.824|null|  53.097|null|   4.414|   null|null| null| null|null|null|null|null|   null|null|   0.0|  0.0|null| 28.682|   null|   0.0|   3.7|  null|null|null|2.074| 2.074|  0.0| null|  15.45|  19.15|null|  2.2|  0.6|  0.6|  null|   null| null| null|   null|  null|null|null| null|null|    null|10.609|  null|  null|  null|null| 28.848|null|   null|  81.779| null|   null|   null|    0.0| 0.0|  null|  null| 6.416| 22.99| 6.854|null| null| null|null|null|null| 0.0|  0.0|   null|17.652|     null|  0.0| null|  null|   52.296|  0.0|  0.0|   0.0|  6.379| null|    null|    null| 0.185|     5.0| null|null| null|   null|  null|  15.45|  19.15| null| null| null|   null| null| null|  null|   null| null|    null|    null|    null|    null|    null|  null|null| 11.165| null|null|  null| null| 81.013|20.059|0.108|   0.0|   0.0| 51.855|   0.0| 0.12| null|   null|   null|  0.0|null|null|null|null|  null|null|   0.279|   0.0|  null|  null|   25.286|  null|    null|217.606|   null|null|null| null|null|217.606|   null|   null|null|  null|  53.097| 0.017|   null|    0.0| null|  null|  null|null|null|null|   null| null|null|    null|null| null|null|    0.0|  null|null| null| null| 4.256|3.962| null|  null|  null|  3.65|  0.0|  null|  0.0|  4.786|       null|       null|null|null|35.347|15.473|15.473|null| 1.405| null|null|   null|null|  3.7|  null|    0.0|    0.0|  null|   4.47| null|   null|   null|198.456|  null|0.309|0.493| null|  null|null|  9.698|   null| null|  null|  null|    1|USA|    0.0|  null|  null|  null|   1|   3|   1|  null|      D|  null|  null|  null|    01|3350|     358|     925|  null|   3|    null|        null|  0.0|\n",
      "| 1975|1332B|BROSS UTILITIES S...|   USD|   null|0.207|   null|   null|   null|    null|    null| 1.851|null|  0.369|  0.0|null|     5.23|  2.9259| 0.162|null|   2.487|null|   0.063|   null|null| null| null|null|null|null|null|   null|null|   0.0|  0.0|null|    1.0|   null|   0.0| 0.553|  null|null|null|  0.0|   0.0| null| null| -1.206| -0.653|null|0.213|-0.84|-0.84|  null|   null| null| null|   null|  null|null|null| null|null|    null|-0.163|  null|  null|  null|null|  0.328|null|   null|   3.487| null|   null|   null|  0.001|null|  null|  null|  null| 0.272|  null|null| null| null|null|null|null| 0.0|  0.0|   null| 1.318|     null| null| null|  null|    2.744|  0.0|  0.0|   0.0| -0.717| null|    null|    null|  0.09|     0.0| null|null| null|   null|22.133| -1.206| -0.653| null| null| null|   null| null| null|  null|   null| null|    null|    null|    null|    null|    null|  null|null| -1.317| null|null|  null| null|  6.259| 0.114|  0.0| 0.051|   0.0|  2.576|   0.0|1.534| null|   null|   null|  0.0|null|null|null|null|  null|null|   0.205|   0.0|  null|  null|    1.309|  null|    null|  9.346|   null|null|null| null|null|  9.346|   null|   null|null|  null|   2.487|   0.0|   null|    0.0| null|  null|  null|null|null|null|   null| null|null|    null|null| null|null|    0.0|  null|null| null| null|  null|0.426| null|  null|  null|  null| null|  null|  0.0|   -0.6|       null|       null|null|null| 0.533|-0.459|-0.459|null| 0.455|0.011|null|   null|null|0.553|  null|    0.0|    0.0|  null|  0.201| null|   null|   null|  9.999|  null|0.193| null|0.038| 0.076|null|  0.981|   null| null|  null|  null|    1|USA|    0.0|  null|  null|  null|   1|   9|   1|  null|      D|  null|  null|  null|    01|1600|     240|     925|  null|   3|    null|        null|  0.0|\n",
      "| 1980|1352B|APRIL INDUSTRIES INC|   USD|   null|  0.0|   null|   null|   null|    null|    null|  null|null|  0.971|  0.0|null|   28.321|  5.8197| 0.064|null|   5.744|null|   2.732|  0.054|null| null| null|null|null|null|null|   null|null|   0.0|  0.0|null| 16.952|   null|   0.0| 0.031|  null|null|null|  0.0|   0.0|  0.0| null|   0.84|  0.871|null| 0.06| 0.07| 0.07|  null|   null| null| null|   null|  null|null|null|  0.0|null|    null| 0.581|  null|  null|  null|null|  2.556|null|   null|  22.696| null|   null|  0.207|    0.0| 1.7|  null|  null|  null|22.145|  null|null| null| null|null|null|null| 0.0|  0.0|   null|  null|     null|  0.0| null|  null|   22.577|  0.0|  0.0|   0.0|  0.075| null|    null|    null|  1.53|     0.0| null|null| null|   null|  null|   0.84|  0.871| null| null| null|   null| null| null|  null|   null| null|    null|    null|    null|    null|    null|  null|null|  0.545| null|null|  null| null|  0.775|  null| null|  null|  null|  0.636|  null| null| null|   null|   null|  0.0|null|null|null|null|  null|null|   2.901|   0.0|  null|  null|     null|  null|    null| 19.466|   null|null|null| null|null| 19.466|   null|   null|null|  null|   5.744| 1.385|   null|    0.0|  0.0|  null|  null|null|null|null|   null| null|null|    null|null| null|null|    6.3|  null|null| null| null|  null|0.607| null|  null|  null|  null| null|  null|  0.0|   0.47|       null|       null|null|null|  null|  null|  null|null| 1.471| null|null|   null|null| null|  null|    0.0|    0.0|  null|  2.032| null|   null|   null| 18.595|  null|  0.0| null|  0.0|  null|null|  1.685|   null| null|  null|  null|    1|USA|    0.0|  null|  null|  null|   1|   9|   2|  null|      D|233210|  null|  null|    02|1531|     305|     976|  null|   3|    null|        null|  0.0|\n",
      "+-----+-----+--------------------+------+-------+-----+-------+-------+-------+--------+--------+------+----+-------+-----+----+---------+--------+------+----+--------+----+--------+-------+----+-----+-----+----+----+----+----+-------+----+------+-----+----+-------+-------+------+------+------+----+----+-----+------+-----+-----+-------+-------+----+-----+-----+-----+------+-------+-----+-----+-------+------+----+----+-----+----+--------+------+------+------+------+----+-------+----+-------+--------+-----+-------+-------+-------+----+------+------+------+------+------+----+-----+-----+----+----+----+----+-----+-------+------+---------+-----+-----+------+---------+-----+-----+------+-------+-----+--------+--------+------+--------+-----+----+-----+-------+------+-------+-------+-----+-----+-----+-------+-----+-----+------+-------+-----+--------+--------+--------+--------+--------+------+----+-------+-----+----+------+-----+-------+------+-----+------+------+-------+------+-----+-----+-------+-------+-----+----+----+----+----+------+----+--------+------+------+------+---------+------+--------+-------+-------+----+----+-----+----+-------+-------+-------+----+------+--------+------+-------+-------+-----+------+------+----+----+----+-------+-----+----+--------+----+-----+----+-------+------+----+-----+-----+------+-----+-----+------+------+------+-----+------+-----+-------+-----------+-----------+----+----+------+------+------+----+------+-----+----+-------+----+-----+------+-------+-------+------+-------+-----+-------+-------+-------+------+-----+-----+-----+------+----+-------+-------+-----+------+------+-----+---+-------+------+------+------+----+----+----+------+-------+------+------+------+------+----+--------+--------+------+----+--------+------------+-----+\n",
      "only showing top 20 rows\n",
      "\n"
     ]
    }
   ],
   "source": [
    "final_to_keep.show()"
   ]
  },
  {
   "cell_type": "code",
   "execution_count": 19,
   "metadata": {},
   "outputs": [
    {
     "data": {
      "text/plain": [
       "505781"
      ]
     },
     "execution_count": 19,
     "metadata": {},
     "output_type": "execute_result"
    }
   ],
   "source": [
    "annual_compustat.count()"
   ]
  },
  {
   "cell_type": "code",
   "execution_count": 20,
   "metadata": {},
   "outputs": [
    {
     "data": {
      "text/plain": [
       "505848"
      ]
     },
     "execution_count": 20,
     "metadata": {},
     "output_type": "execute_result"
    }
   ],
   "source": [
    "final_to_keep.count()"
   ]
  },
  {
   "cell_type": "code",
   "execution_count": 21,
   "metadata": {},
   "outputs": [
    {
     "data": {
      "text/plain": [
       "DataFrame[fyear: int, eps_avg_ibes: double]"
      ]
     },
     "execution_count": 21,
     "metadata": {},
     "output_type": "execute_result"
    }
   ],
   "source": [
    "final_to_keep.select('fyear', 'eps_avg_ibes')"
   ]
  },
  {
   "cell_type": "code",
   "execution_count": 22,
   "metadata": {
    "collapsed": true
   },
   "outputs": [],
   "source": [
    "test_df = spark.read.parquet('/user/vcs/annual_integrated_dataset_v2.parquet')"
   ]
  },
  {
   "cell_type": "code",
   "execution_count": 23,
   "metadata": {},
   "outputs": [
    {
     "data": {
      "text/plain": [
       "46045046"
      ]
     },
     "execution_count": 23,
     "metadata": {},
     "output_type": "execute_result"
    }
   ],
   "source": [
    "test_df.count()"
   ]
  },
  {
   "cell_type": "code",
   "execution_count": null,
   "metadata": {
    "collapsed": true
   },
   "outputs": [],
   "source": [
    "# Writing the joinned csv / parquet to hdfs\n",
    "try:\n",
    "    final_to_keep.coalesce(1).write.csv('/user/vcs/integrated_dataset_with_labels_ibes_fix_v2')\n",
    "except:\n",
    "    pass"
   ]
  },
  {
   "cell_type": "code",
   "execution_count": null,
   "metadata": {},
   "outputs": [],
   "source": [
    "try:\n",
    "    final_to_keep.write.parquet('/user/vcs/annual_integrated_dataset_with_labels_ibes_fix_v2.parquet')\n",
    "except:\n",
    "    pass"
   ]
  },
  {
   "cell_type": "code",
   "execution_count": null,
   "metadata": {
    "collapsed": true
   },
   "outputs": [],
   "source": []
  }
 ],
 "metadata": {
  "kernelspec": {
   "display_name": "Python 3",
   "language": "python",
   "name": "python3"
  },
  "language_info": {
   "codemirror_mode": {
    "name": "ipython",
    "version": 3
   },
   "file_extension": ".py",
   "mimetype": "text/x-python",
   "name": "python",
   "nbconvert_exporter": "python",
   "pygments_lexer": "ipython3",
   "version": "3.5.2"
  }
 },
 "nbformat": 4,
 "nbformat_minor": 2
}
