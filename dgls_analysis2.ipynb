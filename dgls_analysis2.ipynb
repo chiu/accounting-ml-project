{
 "cells": [
  {
   "cell_type": "code",
   "execution_count": 57,
   "metadata": {
    "collapsed": true
   },
   "outputs": [],
   "source": [
    "from pyspark.sql import SparkSession\n",
    "from pyspark.sql.functions import isnan, when, count, col\n",
    "spark = SparkSession.builder.appName('733').getOrCreate()\n",
    "sc = spark.sparkContext\n",
    "\n",
    "dgls = spark.read.csv('dgls_integrated.csv', header=True, inferSchema=True)"
   ]
  },
  {
   "cell_type": "code",
   "execution_count": 58,
   "metadata": {},
   "outputs": [
    {
     "data": {
      "text/plain": [
       "2133"
      ]
     },
     "execution_count": 58,
     "metadata": {},
     "output_type": "execute_result"
    }
   ],
   "source": [
    "dgls.count()"
   ]
  },
  {
   "cell_type": "code",
   "execution_count": 68,
   "metadata": {},
   "outputs": [
    {
     "name": "stdout",
     "output_type": "stream",
     "text": [
      "+----------+\n",
      "|min(YEARA)|\n",
      "+----------+\n",
      "|       0.0|\n",
      "+----------+\n",
      "\n"
     ]
    }
   ],
   "source": [
    "dgls.agg({\"YEARA\": \"min\"}).show()"
   ]
  },
  {
   "cell_type": "code",
   "execution_count": 62,
   "metadata": {},
   "outputs": [
    {
     "data": {
      "text/plain": [
       "686"
      ]
     },
     "execution_count": 62,
     "metadata": {},
     "output_type": "execute_result"
    }
   ],
   "source": [
    "dgls.select('AAER DATABASE IDENTIFIER').distinct().count()"
   ]
  },
  {
   "cell_type": "code",
   "execution_count": 88,
   "metadata": {},
   "outputs": [],
   "source": [
    "num_aaer_per_firm = dgls.groupBy('ID').count().withColumnRenamed(\"count\", \"num_aaer\")"
   ]
  },
  {
   "cell_type": "code",
   "execution_count": 89,
   "metadata": {},
   "outputs": [
    {
     "name": "stdout",
     "output_type": "stream",
     "text": [
      "+----+--------+\n",
      "|  ID|num_aaer|\n",
      "+----+--------+\n",
      "|  34|      24|\n",
      "| 305|      15|\n",
      "|1168|      14|\n",
      "|1166|      14|\n",
      "|1229|      14|\n",
      "| 178|      13|\n",
      "|1192|      13|\n",
      "| 0.0|      13|\n",
      "|1268|      12|\n",
      "| 389|      10|\n",
      "|1312|      10|\n",
      "|1243|      10|\n",
      "|1493|      10|\n",
      "|1303|      10|\n",
      "| 806|       9|\n",
      "| 555|       9|\n",
      "| 774|       9|\n",
      "|1445|       9|\n",
      "| 621|       9|\n",
      "|1376|       8|\n",
      "+----+--------+\n",
      "only showing top 20 rows\n",
      "\n"
     ]
    }
   ],
   "source": [
    "num_aaer_per_firm.orderBy('num_aaer', ascending=False).show()"
   ]
  },
  {
   "cell_type": "code",
   "execution_count": 90,
   "metadata": {},
   "outputs": [
    {
     "name": "stdout",
     "output_type": "stream",
     "text": [
      "+--------+-----+\n",
      "|num_aaer|count|\n",
      "+--------+-----+\n",
      "|       1|  379|\n",
      "|       2|  191|\n",
      "|       3|  112|\n",
      "|       4|   75|\n",
      "|       5|   37|\n",
      "|       6|   29|\n",
      "|       7|   10|\n",
      "|       8|   10|\n",
      "|       9|    5|\n",
      "|      10|    5|\n",
      "|      12|    1|\n",
      "|      13|    3|\n",
      "|      14|    3|\n",
      "|      15|    1|\n",
      "|      24|    1|\n",
      "+--------+-----+\n",
      "\n"
     ]
    }
   ],
   "source": [
    "num_aaer_per_firm.groupBy('num_aaer').count().orderBy('num_aaer').show()"
   ]
  },
  {
   "cell_type": "code",
   "execution_count": null,
   "metadata": {
    "collapsed": true
   },
   "outputs": [],
   "source": []
  },
  {
   "cell_type": "code",
   "execution_count": 91,
   "metadata": {},
   "outputs": [],
   "source": [
    "import pandas as pd\n",
    "pd_read = pd.read_csv('dgls_integrated.csv', header=0)"
   ]
  },
  {
   "cell_type": "code",
   "execution_count": 92,
   "metadata": {},
   "outputs": [
    {
     "data": {
      "text/html": [
       "<div>\n",
       "<style>\n",
       "    .dataframe thead tr:only-child th {\n",
       "        text-align: right;\n",
       "    }\n",
       "\n",
       "    .dataframe thead th {\n",
       "        text-align: left;\n",
       "    }\n",
       "\n",
       "    .dataframe tbody tr th {\n",
       "        vertical-align: top;\n",
       "    }\n",
       "</style>\n",
       "<table border=\"1\" class=\"dataframe\">\n",
       "  <thead>\n",
       "    <tr style=\"text-align: right;\">\n",
       "      <th></th>\n",
       "      <th>ID</th>\n",
       "      <th>CIK_x</th>\n",
       "      <th>YEARA</th>\n",
       "      <th>FYR</th>\n",
       "      <th>P_AAER_x</th>\n",
       "      <th>UNDERSTATEMENT</th>\n",
       "      <th>YEAR</th>\n",
       "      <th>CIK_y</th>\n",
       "      <th>QUARTER</th>\n",
       "      <th>ANNUAL</th>\n",
       "      <th>...</th>\n",
       "      <th>AAER41</th>\n",
       "      <th>AAER42</th>\n",
       "      <th>AAER43</th>\n",
       "      <th>AAER44</th>\n",
       "      <th>AAER45</th>\n",
       "      <th>AAER46</th>\n",
       "      <th>AAER47</th>\n",
       "      <th>AAER48</th>\n",
       "      <th>AAER49</th>\n",
       "      <th>TotalAAER</th>\n",
       "    </tr>\n",
       "  </thead>\n",
       "  <tbody>\n",
       "    <tr>\n",
       "      <th>count</th>\n",
       "      <td>2102.000000</td>\n",
       "      <td>1.742000e+03</td>\n",
       "      <td>2098.000000</td>\n",
       "      <td>2035.000000</td>\n",
       "      <td>2102.000000</td>\n",
       "      <td>2101.00000</td>\n",
       "      <td>2095.000000</td>\n",
       "      <td>1.727000e+03</td>\n",
       "      <td>2102.000000</td>\n",
       "      <td>2102.000000</td>\n",
       "      <td>...</td>\n",
       "      <td>6.0</td>\n",
       "      <td>6.0</td>\n",
       "      <td>6.0</td>\n",
       "      <td>6.0</td>\n",
       "      <td>6.0</td>\n",
       "      <td>6.0</td>\n",
       "      <td>6.0</td>\n",
       "      <td>6.0</td>\n",
       "      <td>6.0</td>\n",
       "      <td>2102.000000</td>\n",
       "    </tr>\n",
       "    <tr>\n",
       "      <th>mean</th>\n",
       "      <td>737.441009</td>\n",
       "      <td>7.495865e+05</td>\n",
       "      <td>1997.473308</td>\n",
       "      <td>9.472727</td>\n",
       "      <td>1975.853949</td>\n",
       "      <td>0.02475</td>\n",
       "      <td>1997.642959</td>\n",
       "      <td>7.497462e+05</td>\n",
       "      <td>0.974786</td>\n",
       "      <td>0.971931</td>\n",
       "      <td>...</td>\n",
       "      <td>2777.0</td>\n",
       "      <td>2776.0</td>\n",
       "      <td>2775.0</td>\n",
       "      <td>2774.0</td>\n",
       "      <td>3094.0</td>\n",
       "      <td>3133.0</td>\n",
       "      <td>3434.0</td>\n",
       "      <td>3441.0</td>\n",
       "      <td>3720.0</td>\n",
       "      <td>3.174596</td>\n",
       "    </tr>\n",
       "    <tr>\n",
       "      <th>std</th>\n",
       "      <td>426.174218</td>\n",
       "      <td>4.118668e+05</td>\n",
       "      <td>7.908484</td>\n",
       "      <td>3.523013</td>\n",
       "      <td>1140.580879</td>\n",
       "      <td>0.15540</td>\n",
       "      <td>7.905753</td>\n",
       "      <td>4.106260e+05</td>\n",
       "      <td>0.156812</td>\n",
       "      <td>0.165208</td>\n",
       "      <td>...</td>\n",
       "      <td>0.0</td>\n",
       "      <td>0.0</td>\n",
       "      <td>0.0</td>\n",
       "      <td>0.0</td>\n",
       "      <td>0.0</td>\n",
       "      <td>0.0</td>\n",
       "      <td>0.0</td>\n",
       "      <td>0.0</td>\n",
       "      <td>0.0</td>\n",
       "      <td>3.800656</td>\n",
       "    </tr>\n",
       "    <tr>\n",
       "      <th>min</th>\n",
       "      <td>2.000000</td>\n",
       "      <td>2.135000e+03</td>\n",
       "      <td>1971.000000</td>\n",
       "      <td>1.000000</td>\n",
       "      <td>2.000000</td>\n",
       "      <td>0.00000</td>\n",
       "      <td>1971.000000</td>\n",
       "      <td>2.135000e+03</td>\n",
       "      <td>0.000000</td>\n",
       "      <td>0.000000</td>\n",
       "      <td>...</td>\n",
       "      <td>2777.0</td>\n",
       "      <td>2776.0</td>\n",
       "      <td>2775.0</td>\n",
       "      <td>2774.0</td>\n",
       "      <td>3094.0</td>\n",
       "      <td>3133.0</td>\n",
       "      <td>3434.0</td>\n",
       "      <td>3441.0</td>\n",
       "      <td>3720.0</td>\n",
       "      <td>1.000000</td>\n",
       "    </tr>\n",
       "    <tr>\n",
       "      <th>25%</th>\n",
       "      <td>367.500000</td>\n",
       "      <td>7.017532e+05</td>\n",
       "      <td>1992.000000</td>\n",
       "      <td>6.000000</td>\n",
       "      <td>938.250000</td>\n",
       "      <td>0.00000</td>\n",
       "      <td>1992.000000</td>\n",
       "      <td>7.031710e+05</td>\n",
       "      <td>1.000000</td>\n",
       "      <td>1.000000</td>\n",
       "      <td>...</td>\n",
       "      <td>2777.0</td>\n",
       "      <td>2776.0</td>\n",
       "      <td>2775.0</td>\n",
       "      <td>2774.0</td>\n",
       "      <td>3094.0</td>\n",
       "      <td>3133.0</td>\n",
       "      <td>3434.0</td>\n",
       "      <td>3441.0</td>\n",
       "      <td>3720.0</td>\n",
       "      <td>1.000000</td>\n",
       "    </tr>\n",
       "    <tr>\n",
       "      <th>50%</th>\n",
       "      <td>752.000000</td>\n",
       "      <td>8.547010e+05</td>\n",
       "      <td>1999.000000</td>\n",
       "      <td>12.000000</td>\n",
       "      <td>2183.000000</td>\n",
       "      <td>0.00000</td>\n",
       "      <td>1999.000000</td>\n",
       "      <td>8.547010e+05</td>\n",
       "      <td>1.000000</td>\n",
       "      <td>1.000000</td>\n",
       "      <td>...</td>\n",
       "      <td>2777.0</td>\n",
       "      <td>2776.0</td>\n",
       "      <td>2775.0</td>\n",
       "      <td>2774.0</td>\n",
       "      <td>3094.0</td>\n",
       "      <td>3133.0</td>\n",
       "      <td>3434.0</td>\n",
       "      <td>3441.0</td>\n",
       "      <td>3720.0</td>\n",
       "      <td>2.000000</td>\n",
       "    </tr>\n",
       "    <tr>\n",
       "      <th>75%</th>\n",
       "      <td>1129.000000</td>\n",
       "      <td>1.024401e+06</td>\n",
       "      <td>2003.000000</td>\n",
       "      <td>12.000000</td>\n",
       "      <td>2953.000000</td>\n",
       "      <td>0.00000</td>\n",
       "      <td>2003.000000</td>\n",
       "      <td>1.023516e+06</td>\n",
       "      <td>1.000000</td>\n",
       "      <td>1.000000</td>\n",
       "      <td>...</td>\n",
       "      <td>2777.0</td>\n",
       "      <td>2776.0</td>\n",
       "      <td>2775.0</td>\n",
       "      <td>2774.0</td>\n",
       "      <td>3094.0</td>\n",
       "      <td>3133.0</td>\n",
       "      <td>3434.0</td>\n",
       "      <td>3441.0</td>\n",
       "      <td>3720.0</td>\n",
       "      <td>4.000000</td>\n",
       "    </tr>\n",
       "    <tr>\n",
       "      <th>max</th>\n",
       "      <td>1511.000000</td>\n",
       "      <td>1.603923e+06</td>\n",
       "      <td>2013.000000</td>\n",
       "      <td>12.000000</td>\n",
       "      <td>3807.000000</td>\n",
       "      <td>1.00000</td>\n",
       "      <td>2019.000000</td>\n",
       "      <td>1.603923e+06</td>\n",
       "      <td>1.000000</td>\n",
       "      <td>1.000000</td>\n",
       "      <td>...</td>\n",
       "      <td>2777.0</td>\n",
       "      <td>2776.0</td>\n",
       "      <td>2775.0</td>\n",
       "      <td>2774.0</td>\n",
       "      <td>3094.0</td>\n",
       "      <td>3133.0</td>\n",
       "      <td>3434.0</td>\n",
       "      <td>3441.0</td>\n",
       "      <td>3720.0</td>\n",
       "      <td>49.000000</td>\n",
       "    </tr>\n",
       "  </tbody>\n",
       "</table>\n",
       "<p>8 rows × 78 columns</p>\n",
       "</div>"
      ],
      "text/plain": [
       "                ID         CIK_x        YEARA          FYR     P_AAER_x  \\\n",
       "count  2102.000000  1.742000e+03  2098.000000  2035.000000  2102.000000   \n",
       "mean    737.441009  7.495865e+05  1997.473308     9.472727  1975.853949   \n",
       "std     426.174218  4.118668e+05     7.908484     3.523013  1140.580879   \n",
       "min       2.000000  2.135000e+03  1971.000000     1.000000     2.000000   \n",
       "25%     367.500000  7.017532e+05  1992.000000     6.000000   938.250000   \n",
       "50%     752.000000  8.547010e+05  1999.000000    12.000000  2183.000000   \n",
       "75%    1129.000000  1.024401e+06  2003.000000    12.000000  2953.000000   \n",
       "max    1511.000000  1.603923e+06  2013.000000    12.000000  3807.000000   \n",
       "\n",
       "       UNDERSTATEMENT         YEAR         CIK_y      QUARTER       ANNUAL  \\\n",
       "count      2101.00000  2095.000000  1.727000e+03  2102.000000  2102.000000   \n",
       "mean          0.02475  1997.642959  7.497462e+05     0.974786     0.971931   \n",
       "std           0.15540     7.905753  4.106260e+05     0.156812     0.165208   \n",
       "min           0.00000  1971.000000  2.135000e+03     0.000000     0.000000   \n",
       "25%           0.00000  1992.000000  7.031710e+05     1.000000     1.000000   \n",
       "50%           0.00000  1999.000000  8.547010e+05     1.000000     1.000000   \n",
       "75%           0.00000  2003.000000  1.023516e+06     1.000000     1.000000   \n",
       "max           1.00000  2019.000000  1.603923e+06     1.000000     1.000000   \n",
       "\n",
       "          ...       AAER41  AAER42  AAER43  AAER44  AAER45  AAER46  AAER47  \\\n",
       "count     ...          6.0     6.0     6.0     6.0     6.0     6.0     6.0   \n",
       "mean      ...       2777.0  2776.0  2775.0  2774.0  3094.0  3133.0  3434.0   \n",
       "std       ...          0.0     0.0     0.0     0.0     0.0     0.0     0.0   \n",
       "min       ...       2777.0  2776.0  2775.0  2774.0  3094.0  3133.0  3434.0   \n",
       "25%       ...       2777.0  2776.0  2775.0  2774.0  3094.0  3133.0  3434.0   \n",
       "50%       ...       2777.0  2776.0  2775.0  2774.0  3094.0  3133.0  3434.0   \n",
       "75%       ...       2777.0  2776.0  2775.0  2774.0  3094.0  3133.0  3434.0   \n",
       "max       ...       2777.0  2776.0  2775.0  2774.0  3094.0  3133.0  3434.0   \n",
       "\n",
       "       AAER48  AAER49    TotalAAER  \n",
       "count     6.0     6.0  2102.000000  \n",
       "mean   3441.0  3720.0     3.174596  \n",
       "std       0.0     0.0     3.800656  \n",
       "min    3441.0  3720.0     1.000000  \n",
       "25%    3441.0  3720.0     1.000000  \n",
       "50%    3441.0  3720.0     2.000000  \n",
       "75%    3441.0  3720.0     4.000000  \n",
       "max    3441.0  3720.0    49.000000  \n",
       "\n",
       "[8 rows x 78 columns]"
      ]
     },
     "execution_count": 92,
     "metadata": {},
     "output_type": "execute_result"
    }
   ],
   "source": [
    "pd_read.describe()"
   ]
  },
  {
   "cell_type": "code",
   "execution_count": 73,
   "metadata": {},
   "outputs": [
    {
     "data": {
      "text/plain": [
       "Row(AAER DATABASE IDENTIFIER='disclosure', COMPUSTAT IDENTIFIER=' the payment of vendor invoices', ID='  improperly adjusting reserve accounts etc.\"', CONAME_x='0.0', CIK_x='0.0', YEARA=0.0, FYR=0.0, DATE='0.0', P_AAER_x=1.0, UNDERSTATEMENT=0.0, YEAR=0.0, CONAME_y='1.0', CIK_y=1.0, QUARTER=0.0, ANNUAL=0.0, REASON='1.0', EXPLANATION='0.0', AUDIT='0.0', BRIBES='0.0', DISCLOSURE='1', NODATES='2654.0', OTHER=2654.0, REV=2977.0, REC=2986.0, COGS=2987.0, INV=2988.0, RES=None, DEBT=None, MKT_SEC=None, INC_EXP_SE=None, ASSET=None, PAY=None, LIAB=None, FIGURE=None, P_AAER_y=None, AAER1=None, AAER2=None, AAER3=None, AAER4=None, AAER5=None, AAER6=None, AAER7=None, AAER8=None, AAER9=None, AAER10=None, AAER11=None, AAER12=None, AAER13=None, AAER14=None, AAER15=None, AAER16=None, AAER17=None, AAER18=None, AAER19=None, AAER20=None, AAER21=None, AAER22=None, AAER23=None, AAER24=None, AAER25=None, AAER26=None, AAER27=None, AAER28=None, AAER29=None, AAER30=None, AAER31=None, AAER32=None, AAER33=None, AAER34=None, AAER35=None, AAER36=5.0, AAER37=None, AAER38=None, AAER39=None, AAER40=None, AAER41=None, AAER42=None, AAER43=None, AAER44=None, AAER45=None, AAER46=None, AAER47=None, AAER48=None, AAER49=None, TotalAAER=None)"
      ]
     },
     "execution_count": 73,
     "metadata": {},
     "output_type": "execute_result"
    }
   ],
   "source": [
    "dgls.where(dgls.YEAR == 0).head()"
   ]
  },
  {
   "cell_type": "code",
   "execution_count": 74,
   "metadata": {},
   "outputs": [
    {
     "data": {
      "text/plain": [
       "Row(AAER DATABASE IDENTIFIER='ABS Industries, Inc.', COMPUSTAT IDENTIFIER='ABS INDUSTRIES INC', ID='17', CONAME_x='ABS Industries, Inc.', CIK_x='313368.0', YEARA=1994.0, FYR=10.0, DATE='10/31/94', P_AAER_x=1240.0, UNDERSTATEMENT=0.0, YEAR=1994.0, CONAME_y='ABS Industries, Inc.', CIK_y=313368.0, QUARTER=1.0, ANNUAL=1.0, REASON=None, EXPLANATION='premature recording of bill and hold sales', AUDIT='0.0', BRIBES='0.0', DISCLOSURE='0.0', NODATES='0.0', OTHER=0.0, REV=1.0, REC=0.0, COGS=0.0, INV=0.0, RES=0.0, DEBT=0.0, MKT_SEC=0.0, INC_EXP_SE=0.0, ASSET=0.0, PAY=0.0, LIAB=0.0, FIGURE=1.0, P_AAER_y=1240.0, AAER1=1298.0, AAER2=1240.0, AAER3=1197.0, AAER4=None, AAER5=None, AAER6=None, AAER7=None, AAER8=None, AAER9=None, AAER10=None, AAER11=None, AAER12=None, AAER13=None, AAER14=None, AAER15=None, AAER16=None, AAER17=None, AAER18=None, AAER19=None, AAER20=None, AAER21=None, AAER22=None, AAER23=None, AAER24=None, AAER25=None, AAER26=None, AAER27=None, AAER28=None, AAER29=None, AAER30=None, AAER31=None, AAER32=None, AAER33=None, AAER34=None, AAER35=None, AAER36=None, AAER37=None, AAER38=None, AAER39=None, AAER40=None, AAER41=None, AAER42=None, AAER43=None, AAER44=None, AAER45=None, AAER46=None, AAER47=None, AAER48=None, AAER49=None, TotalAAER=3.0)"
      ]
     },
     "execution_count": 74,
     "metadata": {},
     "output_type": "execute_result"
    }
   ],
   "source": [
    "dgls.head()"
   ]
  },
  {
   "cell_type": "code",
   "execution_count": null,
   "metadata": {
    "collapsed": true
   },
   "outputs": [],
   "source": []
  }
 ],
 "metadata": {
  "kernelspec": {
   "display_name": "Python 3",
   "language": "python",
   "name": "python3"
  },
  "language_info": {
   "codemirror_mode": {
    "name": "ipython",
    "version": 3
   },
   "file_extension": ".py",
   "mimetype": "text/x-python",
   "name": "python",
   "nbconvert_exporter": "python",
   "pygments_lexer": "ipython3",
   "version": "3.6.1"
  }
 },
 "nbformat": 4,
 "nbformat_minor": 2
}
