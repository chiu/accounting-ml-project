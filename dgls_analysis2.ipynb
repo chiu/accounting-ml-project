{
 "cells": [
  {
   "cell_type": "code",
   "execution_count": 2,
   "metadata": {
    "collapsed": true
   },
   "outputs": [],
   "source": [
    "from pyspark.sql import SparkSession\n",
    "from pyspark.sql.functions import isnan, when, count, col\n",
    "spark = SparkSession.builder.appName('733').getOrCreate()\n",
    "sc = spark.sparkContext\n",
    "\n",
    "dgls = spark.read.csv('dgls_integrated.csv', header=True, inferSchema=True).limit(1000).cache()"
   ]
  },
  {
   "cell_type": "code",
   "execution_count": 3,
   "metadata": {},
   "outputs": [
    {
     "name": "stdout",
     "output_type": "stream",
     "text": [
      "+------------------------+--------------------+----+--------------------+---------+------+----+--------+--------+--------------+------+--------------------+---------+-------+------+------+--------------------+--------------------+------+----------+-------+-----+---+---+----+---+---+----+-------+----------+-----+---+----+------+--------+------+------+------+------+------+------+------+------+------+------+------+------+------+------+------+------+------+------+------+------+------+------+------+------+------+------+------+------+------+------+------+------+------+------+------+------+------+------+------+------+------+------+------+------+------+------+------+------+------+---------+\n",
      "|AAER DATABASE IDENTIFIER|COMPUSTAT IDENTIFIER|  ID|            CONAME_x|    CIK_x| YEARA| FYR|    DATE|P_AAER_x|UNDERSTATEMENT|  YEAR|            CONAME_y|    CIK_y|QUARTER|ANNUAL|REASON|         EXPLANATION|               AUDIT|BRIBES|DISCLOSURE|NODATES|OTHER|REV|REC|COGS|INV|RES|DEBT|MKT_SEC|INC_EXP_SE|ASSET|PAY|LIAB|FIGURE|P_AAER_y| AAER1| AAER2| AAER3| AAER4| AAER5| AAER6| AAER7| AAER8| AAER9|AAER10|AAER11|AAER12|AAER13|AAER14|AAER15|AAER16|AAER17|AAER18|AAER19|AAER20|AAER21|AAER22|AAER23|AAER24|AAER25|AAER26|AAER27|AAER28|AAER29|AAER30|AAER31|AAER32|AAER33|AAER34|AAER35|AAER36|AAER37|AAER38|AAER39|AAER40|AAER41|AAER42|AAER43|AAER44|AAER45|AAER46|AAER47|AAER48|AAER49|TotalAAER|\n",
      "+------------------------+--------------------+----+--------------------+---------+------+----+--------+--------+--------------+------+--------------------+---------+-------+------+------+--------------------+--------------------+------+----------+-------+-----+---+---+----+---+---+----+-------+----------+-----+---+----+------+--------+------+------+------+------+------+------+------+------+------+------+------+------+------+------+------+------+------+------+------+------+------+------+------+------+------+------+------+------+------+------+------+------+------+------+------+------+------+------+------+------+------+------+------+------+------+------+------+------+------+---------+\n",
      "|    ABS Industries, Inc.|  ABS INDUSTRIES INC|  17|ABS Industries, Inc.| 313368.0|1994.0|10.0|10/31/94|  1240.0|           0.0|1994.0|ABS Industries, Inc.| 313368.0|    1.0|   1.0|  null|premature recordi...|                 0.0|   0.0|       0.0|    0.0|  0.0|1.0|0.0| 0.0|0.0|0.0| 0.0|    0.0|       0.0|  0.0|0.0| 0.0|   1.0|  1240.0|1298.0|1240.0|1197.0|  null|  null|  null|  null|  null|  null|  null|  null|  null|  null|  null|  null|  null|  null|  null|  null|  null|  null|  null|  null|  null|  null|  null|  null|  null|  null|  null|  null|  null|  null|  null|  null|  null|  null|  null|  null|  null|  null|  null|  null|  null|  null|  null|  null|  null|  null|      3.0|\n",
      "|    Advanced Chemical...|ADVANCED CHEMICAL...|  26|Advanced Chemical...|   2463.0|1980.0|12.0|12/31/80|    60.0|           0.0|1980.0|Advanced Chemical...|   2463.0|    1.0|   1.0|  null|Auditor GAAS viol...|                 0.0|   0.0|       0.0|    0.0|  0.0|0.0|0.0| 0.0|0.0|0.0| 0.0|    0.0|       0.0|  1.0|0.0| 0.0|   0.0|    60.0|  60.0|  null|  null|  null|  null|  null|  null|  null|  null|  null|  null|  null|  null|  null|  null|  null|  null|  null|  null|  null|  null|  null|  null|  null|  null|  null|  null|  null|  null|  null|  null|  null|  null|  null|  null|  null|  null|  null|  null|  null|  null|  null|  null|  null|  null|  null|  null|  null|  null|      1.0|\n",
      "|    WorldCom, Inc. (n...|             MCI INC|1338|WorldCom, Inc. (n...| 723527.0|1999.0|12.0|12/31/99|  1977.0|           0.0|1999.0|WorldCom, Inc. (n...| 723527.0|    1.0|   1.0|  null|Improperly reduce...|                 0.0|   0.0|       0.0|    0.0|  0.0|1.0|0.0| 0.0|0.0|1.0| 0.0|    0.0|       1.0|  1.0|0.0| 0.0|   0.0|  1977.0|2491.0|2467.0|2277.0|2059.0|1977.0|1966.0|1909.0|1834.0|1811.0|1810.0|1785.0|1686.0|1685.0|1684.0|1683.0|1678.0|1665.0|1658.0|1650.0|1642.0|1635.0|1586.0|1585.0|2809.0|2808.0|  null|  null|  null|  null|  null|  null|  null|  null|  null|  null|  null|  null|  null|  null|  null|  null|  null|  null|  null|  null|  null|  null|  null|  null|     25.0|\n",
      "|    WorldCom, Inc. (n...|             MCI INC|1338|WorldCom, Inc. (n...| 723527.0|2000.0|12.0|12/31/00|  1977.0|           0.0|2000.0|WorldCom, Inc. (n...| 723527.0|    1.0|   1.0|  null|Improperly reduce...|                 0.0|   0.0|       0.0|    0.0|  0.0|1.0|0.0| 0.0|0.0|1.0| 0.0|    0.0|       1.0|  1.0|0.0| 0.0|   0.0|  1977.0|2491.0|2467.0|2277.0|2059.0|1977.0|1966.0|1909.0|1834.0|1811.0|1810.0|1785.0|1686.0|1685.0|1684.0|1683.0|1678.0|1665.0|1658.0|1650.0|1642.0|1635.0|1586.0|1585.0|2809.0|2808.0|  null|  null|  null|  null|  null|  null|  null|  null|  null|  null|  null|  null|  null|  null|  null|  null|  null|  null|  null|  null|  null|  null|  null|  null|     25.0|\n",
      "|    WorldCom, Inc. (n...|             MCI INC|1338|WorldCom, Inc. (n...| 723527.0|2001.0|12.0|12/31/01|  1977.0|           0.0|2001.0|WorldCom, Inc. (n...| 723527.0|    1.0|   1.0|  null|Improperly reduce...|                 0.0|   0.0|       0.0|    0.0|  0.0|1.0|0.0| 0.0|0.0|1.0| 0.0|    0.0|       1.0|  1.0|0.0| 0.0|   0.0|  1977.0|2491.0|2467.0|2277.0|2059.0|1977.0|1966.0|1909.0|1834.0|1811.0|1810.0|1785.0|1686.0|1685.0|1684.0|1683.0|1678.0|1665.0|1658.0|1650.0|1642.0|1635.0|1586.0|1585.0|2809.0|2808.0|  null|  null|  null|  null|  null|  null|  null|  null|  null|  null|  null|  null|  null|  null|  null|  null|  null|  null|  null|  null|  null|  null|  null|  null|     25.0|\n",
      "|    Aerosonic Corpora...|      AEROSONIC CORP|  32|Aerosonic Corpora...| 109471.0|1999.0| 1.0| 1/31/00|  2126.0|           0.0|2000.0|Aerosonic Corpora...| 109471.0|    1.0|   1.0|  null|inflated earnings...|                 0.0|   0.0|       0.0|    0.0|  0.0|1.0|1.0| 1.0|1.0|0.0| 0.0|    0.0|       0.0|  0.0|0.0| 0.0|   1.0|  2126.0|2126.0|2392.0|2375.0|3013.0|  null|  null|  null|  null|  null|  null|  null|  null|  null|  null|  null|  null|  null|  null|  null|  null|  null|  null|  null|  null|  null|  null|  null|  null|  null|  null|  null|  null|  null|  null|  null|  null|  null|  null|  null|  null|  null|  null|  null|  null|  null|  null|  null|  null|  null|      4.0|\n",
      "|    Aerosonic Corpora...|      AEROSONIC CORP|  32|Aerosonic Corpora...| 109471.0|2000.0| 1.0| 1/31/01|  2126.0|           0.0|2001.0|Aerosonic Corpora...| 109471.0|    1.0|   1.0|  null|inflated earnings...|                 0.0|   0.0|       0.0|    0.0|  0.0|1.0|1.0| 1.0|1.0|0.0| 0.0|    0.0|       0.0|  0.0|0.0| 0.0|   1.0|  2126.0|2126.0|2392.0|2375.0|3013.0|  null|  null|  null|  null|  null|  null|  null|  null|  null|  null|  null|  null|  null|  null|  null|  null|  null|  null|  null|  null|  null|  null|  null|  null|  null|  null|  null|  null|  null|  null|  null|  null|  null|  null|  null|  null|  null|  null|  null|  null|  null|  null|  null|  null|  null|      4.0|\n",
      "|    Aerosonic Corpora...|      AEROSONIC CORP|  32|Aerosonic Corpora...| 109471.0|2001.0| 1.0| 1/31/02|  2126.0|           0.0|2002.0|Aerosonic Corpora...| 109471.0|    1.0|   1.0|  null|inflated earnings...|                 0.0|   0.0|       0.0|    0.0|  0.0|1.0|1.0| 1.0|1.0|0.0| 0.0|    0.0|       0.0|  0.0|0.0| 0.0|   1.0|  2126.0|2126.0|2392.0|2375.0|3013.0|  null|  null|  null|  null|  null|  null|  null|  null|  null|  null|  null|  null|  null|  null|  null|  null|  null|  null|  null|  null|  null|  null|  null|  null|  null|  null|  null|  null|  null|  null|  null|  null|  null|  null|  null|  null|  null|  null|  null|  null|  null|  null|  null|  null|  null|      4.0|\n",
      "|    Aerosonic Corpora...|      AEROSONIC CORP|  32|Aerosonic Corpora...| 109471.0|2002.0| 1.0| 1/31/03|  2126.0|           0.0|2003.0|Aerosonic Corpora...| 109471.0|    1.0|   1.0|  null|inflated earnings...|                 0.0|   0.0|       0.0|    0.0|  0.0|1.0|1.0| 1.0|1.0|0.0| 0.0|    0.0|       0.0|  0.0|0.0| 0.0|   1.0|  2126.0|2126.0|2392.0|2375.0|3013.0|  null|  null|  null|  null|  null|  null|  null|  null|  null|  null|  null|  null|  null|  null|  null|  null|  null|  null|  null|  null|  null|  null|  null|  null|  null|  null|  null|  null|  null|  null|  null|  null|  null|  null|  null|  null|  null|  null|  null|  null|  null|  null|  null|  null|  null|      4.0|\n",
      "|    Aetna Life and Ca...|           AETNA INC|  33|Aetna Life and Ca...|1122304.0|1982.0|12.0|12/31/82|    10.0|           0.0|1982.0|Aetna Life and Ca...|1122304.0|    1.0|   1.0|  null|recognized antici...|                 0.0|   0.0|       0.0|    0.0|  0.0|0.0|0.0| 0.0|0.0|0.0| 0.0|    0.0|       1.0|  1.0|0.0| 0.0|   1.0|    10.0|  10.0|  null|  null|  null|  null|  null|  null|  null|  null|  null|  null|  null|  null|  null|  null|  null|  null|  null|  null|  null|  null|  null|  null|  null|  null|  null|  null|  null|  null|  null|  null|  null|  null|  null|  null|  null|  null|  null|  null|  null|  null|  null|  null|  null|  null|  null|  null|  null|  null|      1.0|\n",
      "|    Alexander & Alexa...|ALEXANDER & ALEXA...|  43|Alexander & Alexa...|   3449.0|1994.0|12.0|12/31/94|  1331.0|           0.0|1994.0|Alexander & Alexa...|   3449.0|    1.0|   1.0|  null|overstated income...|                 0.0|   0.0|       0.0|    0.0|  0.0|0.0|0.0| 0.0|0.0|0.0| 0.0|    0.0|       1.0|  1.0|0.0| 1.0|   1.0|  1331.0|1331.0|  null|  null|  null|  null|  null|  null|  null|  null|  null|  null|  null|  null|  null|  null|  null|  null|  null|  null|  null|  null|  null|  null|  null|  null|  null|  null|  null|  null|  null|  null|  null|  null|  null|  null|  null|  null|  null|  null|  null|  null|  null|  null|  null|  null|  null|  null|  null|  null|      1.0|\n",
      "|    Alexander & Alexa...|ALEXANDER & ALEXA...|  43|Alexander & Alexa...|   3449.0|1995.0|12.0|12/31/95|  1331.0|           0.0|1995.0|Alexander & Alexa...|   3449.0|    1.0|   1.0|  null|overstated income...|                 0.0|   0.0|       0.0|    0.0|  0.0|0.0|0.0| 0.0|0.0|0.0| 0.0|    0.0|       1.0|  1.0|0.0| 1.0|   1.0|  1331.0|1331.0|  null|  null|  null|  null|  null|  null|  null|  null|  null|  null|  null|  null|  null|  null|  null|  null|  null|  null|  null|  null|  null|  null|  null|  null|  null|  null|  null|  null|  null|  null|  null|  null|  null|  null|  null|  null|  null|  null|  null|  null|  null|  null|  null|  null|  null|  null|  null|  null|      1.0|\n",
      "|     Sunbeam Corporation| SUNBEAM CORPORATION|1130| Sunbeam Corporation|   3662.0|1996.0|12.0|12/31/96|  1393.0|           1.0|1996.0| Sunbeam Corporation|   3662.0|    1.0|   1.0|  null|\"Created and used...| \"\"channel stuffi...|   0.0|       0.0|    0.0|  0.0|0.0|1.0| 0.0|0.0|0.0| 1.0|    0.0|       0.0|  0.0|0.0| 0.0|   0.0|     1.0|1393.0|1707.0|1706.0|1705.0|1663.0|1623.0|1395.0|1394.0|1393.0|  null|  null|  null|  null|  null|  null|  null|  null|  null|  null|  null|  null|  null|  null|  null|  null|  null|  null|  null|  null|  null|  null|  null|  null|  null|  null|  null|  null|  null|  null|  null|  null|  null|  null|  null|  null|  null|  null|  null|  null|     null|\n",
      "|     Sunbeam Corporation| SUNBEAM CORPORATION|1130| Sunbeam Corporation|   3662.0|1997.0|12.0|12/31/97|  1393.0|           0.0|1997.0| Sunbeam Corporation|   3662.0|    1.0|   1.0|  null|\"Created and used...| \"\"channel stuffi...|   0.0|       0.0|    0.0|  0.0|0.0|1.0| 0.0|0.0|0.0| 1.0|    0.0|       0.0|  0.0|0.0| 0.0|   0.0|     1.0|1393.0|1707.0|1706.0|1705.0|1663.0|1623.0|1395.0|1394.0|1393.0|  null|  null|  null|  null|  null|  null|  null|  null|  null|  null|  null|  null|  null|  null|  null|  null|  null|  null|  null|  null|  null|  null|  null|  null|  null|  null|  null|  null|  null|  null|  null|  null|  null|  null|  null|  null|  null|  null|  null|  null|     null|\n",
      "|               ANW, Inc.|ALLIANCE NORTHWES...|  98|           ANW, Inc.| 745452.0|1990.0|12.0|12/31/90|   789.0|           0.0|1990.0|           ANW, Inc.| 745452.0|    1.0|   1.0|  null|failed to file fo...|                 0.0|   0.0|       0.0|    0.0|  0.0|0.0|0.0| 0.0|0.0|0.0| 0.0|    0.0|       0.0|  1.0|0.0| 0.0|   1.0|   789.0| 831.0| 789.0| 755.0| 691.0|  null|  null|  null|  null|  null|  null|  null|  null|  null|  null|  null|  null|  null|  null|  null|  null|  null|  null|  null|  null|  null|  null|  null|  null|  null|  null|  null|  null|  null|  null|  null|  null|  null|  null|  null|  null|  null|  null|  null|  null|  null|  null|  null|  null|  null|      4.0|\n",
      "|               ANW, Inc.|ALLIANCE NORTHWES...|  98|           ANW, Inc.| 745452.0|1991.0|12.0|12/31/91|   789.0|           0.0|1991.0|           ANW, Inc.| 745452.0|    1.0|   1.0|  null|failed to file fo...|                 0.0|   0.0|       0.0|    0.0|  0.0|0.0|0.0| 0.0|0.0|0.0| 0.0|    0.0|       0.0|  1.0|0.0| 0.0|   1.0|   789.0| 831.0| 789.0| 755.0| 691.0|  null|  null|  null|  null|  null|  null|  null|  null|  null|  null|  null|  null|  null|  null|  null|  null|  null|  null|  null|  null|  null|  null|  null|  null|  null|  null|  null|  null|  null|  null|  null|  null|  null|  null|  null|  null|  null|  null|  null|  null|  null|  null|  null|  null|  null|      4.0|\n",
      "|               ANW, Inc.|ALLIANCE NORTHWES...|  98|           ANW, Inc.| 745452.0|1992.0|12.0|12/31/92|   789.0|           0.0|1992.0|           ANW, Inc.| 745452.0|    1.0|   1.0|  null|failed to file fo...|                 0.0|   0.0|       0.0|    0.0|  0.0|0.0|0.0| 0.0|0.0|0.0| 0.0|    0.0|       0.0|  1.0|0.0| 0.0|   1.0|   789.0| 831.0| 789.0| 755.0| 691.0|  null|  null|  null|  null|  null|  null|  null|  null|  null|  null|  null|  null|  null|  null|  null|  null|  null|  null|  null|  null|  null|  null|  null|  null|  null|  null|  null|  null|  null|  null|  null|  null|  null|  null|  null|  null|  null|  null|  null|  null|  null|  null|  null|  null|  null|      4.0|\n",
      "|               ANW, Inc.|ALLIANCE NORTHWES...|  98|           ANW, Inc.| 745452.0|1993.0|12.0|12/31/93|   789.0|           0.0|1993.0|           ANW, Inc.| 745452.0|    1.0|   1.0|  null|failed to file fo...|                 0.0|   0.0|       0.0|    0.0|  0.0|0.0|0.0| 0.0|0.0|0.0| 0.0|    0.0|       0.0|  1.0|0.0| 0.0|   1.0|   789.0| 831.0| 789.0| 755.0| 691.0|  null|  null|  null|  null|  null|  null|  null|  null|  null|  null|  null|  null|  null|  null|  null|  null|  null|  null|  null|  null|  null|  null|  null|  null|  null|  null|  null|  null|  null|  null|  null|  null|  null|  null|  null|  null|  null|  null|  null|  null|  null|  null|  null|  null|  null|      4.0|\n",
      "|               ANW, Inc.|ALLIANCE NORTHWES...|  98|           ANW, Inc.| 745452.0|1994.0|12.0|12/31/94|   789.0|           0.0|1994.0|           ANW, Inc.| 745452.0|    1.0|   1.0|  null|failed to file fo...|                 0.0|   0.0|       0.0|    0.0|  0.0|0.0|0.0| 0.0|0.0|0.0| 0.0|    0.0|       0.0|  1.0|0.0| 0.0|   1.0|   789.0| 831.0| 789.0| 755.0| 691.0|  null|  null|  null|  null|  null|  null|  null|  null|  null|  null|  null|  null|  null|  null|  null|  null|  null|  null|  null|  null|  null|  null|  null|  null|  null|  null|  null|  null|  null|  null|  null|  null|  null|  null|  null|  null|  null|  null|  null|  null|  null|  null|  null|  null|  null|      4.0|\n",
      "|    Alpex Computer Corp.| ALPEX COMPUTER CORP|  53|Alpex Computer Corp.|   4107.0|1981.0|12.0|12/31/81|    27.0|           0.0|1981.0|Alpex Computer Corp.|   4107.0|    1.0|   1.0|  null|recorded gains fr...|                 0.0|   0.0|       0.0|    0.0|  0.0|1.0|1.0| 1.0|1.0|0.0| 0.0|    0.0|       0.0|  1.0|0.0| 0.0|   1.0|    27.0|  27.0|  null|  null|  null|  null|  null|  null|  null|  null|  null|  null|  null|  null|  null|  null|  null|  null|  null|  null|  null|  null|  null|  null|  null|  null|  null|  null|  null|  null|  null|  null|  null|  null|  null|  null|  null|  null|  null|  null|  null|  null|  null|  null|  null|  null|  null|  null|  null|  null|      1.0|\n",
      "+------------------------+--------------------+----+--------------------+---------+------+----+--------+--------+--------------+------+--------------------+---------+-------+------+------+--------------------+--------------------+------+----------+-------+-----+---+---+----+---+---+----+-------+----------+-----+---+----+------+--------+------+------+------+------+------+------+------+------+------+------+------+------+------+------+------+------+------+------+------+------+------+------+------+------+------+------+------+------+------+------+------+------+------+------+------+------+------+------+------+------+------+------+------+------+------+------+------+------+------+---------+\n",
      "only showing top 20 rows\n",
      "\n"
     ]
    }
   ],
   "source": [
    "dgls.show()"
   ]
  },
  {
   "cell_type": "code",
   "execution_count": 5,
   "metadata": {},
   "outputs": [
    {
     "ename": "TypeError",
     "evalue": "_api() takes 1 positional argument but 2 were given",
     "output_type": "error",
     "traceback": [
      "\u001b[0;31m---------------------------------------------------------------------------\u001b[0m",
      "\u001b[0;31mTypeError\u001b[0m                                 Traceback (most recent call last)",
      "\u001b[0;32m<ipython-input-5-a8b1fd751a85>\u001b[0m in \u001b[0;36m<module>\u001b[0;34m()\u001b[0m\n\u001b[0;32m----> 1\u001b[0;31m \u001b[0mdgls\u001b[0m\u001b[0;34m.\u001b[0m\u001b[0mgroupby\u001b[0m\u001b[0;34m(\u001b[0m\u001b[0;34m'COMPUSTAT IDENTIFIER'\u001b[0m\u001b[0;34m)\u001b[0m\u001b[0;34m.\u001b[0m\u001b[0mcount\u001b[0m\u001b[0;34m(\u001b[0m\u001b[0;34m'*'\u001b[0m\u001b[0;34m)\u001b[0m\u001b[0;34m\u001b[0m\u001b[0m\n\u001b[0m",
      "\u001b[0;31mTypeError\u001b[0m: _api() takes 1 positional argument but 2 were given"
     ]
    }
   ],
   "source": [
    "dgls.groupby('COMPUSTAT IDENTIFIER').count('*')"
   ]
  },
  {
   "cell_type": "code",
   "execution_count": null,
   "metadata": {
    "collapsed": true
   },
   "outputs": [],
   "source": []
  }
 ],
 "metadata": {
  "kernelspec": {
   "display_name": "Python 3",
   "language": "python",
   "name": "python3"
  },
  "language_info": {
   "codemirror_mode": {
    "name": "ipython",
    "version": 3
   },
   "file_extension": ".py",
   "mimetype": "text/x-python",
   "name": "python",
   "nbconvert_exporter": "python",
   "pygments_lexer": "ipython3",
   "version": "3.6.1"
  }
 },
 "nbformat": 4,
 "nbformat_minor": 2
}
